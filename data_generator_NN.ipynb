{
 "cells": [
  {
   "cell_type": "code",
   "execution_count": 3,
   "metadata": {},
   "outputs": [],
   "source": [
    "import numpy as np\n",
    "from matplotlib import pyplot as plt\n",
    "from rbergomi.rbergomi import rBergomi\n",
    "import os\n",
    "import datetime\n",
    "import numpy as np\n",
    "import pandas as pd\n",
    "import matplotlib.pyplot as plt\n",
    "%matplotlib inline\n",
    "\n",
    "from tqdm import tqdm\n",
    "tqdm.pandas()\n",
    "\n",
    "import QuantLib as ql\n",
    "\n",
    "from py_vollib.black_scholes.implied_volatility import implied_volatility\n",
    "from py_lets_be_rational.exceptions import BelowIntrinsicException\n",
    "import sklearn.utils\n",
    "import logging\n",
    "\n",
    "from scipy.signal import savgol_filter\n",
    "\n",
    "logging.basicConfig(format=\"%(asctime)s - %(levelname)s - %(message)s\", level=logging.INFO)\n",
    "\n",
    "%matplotlib inline"
   ]
  },
  {
   "cell_type": "code",
   "execution_count": 6,
   "metadata": {},
   "outputs": [],
   "source": [
    "import helpers"
   ]
  },
  {
   "cell_type": "code",
   "execution_count": 3,
   "metadata": {},
   "outputs": [
    {
     "ename": "FileNotFoundError",
     "evalue": "[Errno 2] No such file or directory: 'labeled_data_all.csv'",
     "output_type": "error",
     "traceback": [
      "\u001b[1;31m---------------------------------------------------------------------------\u001b[0m",
      "\u001b[1;31mFileNotFoundError\u001b[0m                         Traceback (most recent call last)",
      "Cell \u001b[1;32mIn[3], line 2\u001b[0m\n\u001b[0;32m      1\u001b[0m \u001b[39m#load any aribitrary set\u001b[39;00m\n\u001b[1;32m----> 2\u001b[0m K_T \u001b[39m=\u001b[39m pd\u001b[39m.\u001b[39;49mread_csv(\u001b[39m'\u001b[39;49m\u001b[39mlabeled_data_all.csv\u001b[39;49m\u001b[39m'\u001b[39;49m)\n",
      "File \u001b[1;32mc:\\Users\\caspa\\AppData\\Local\\Programs\\Python\\Python311\\Lib\\site-packages\\pandas\\util\\_decorators.py:211\u001b[0m, in \u001b[0;36mdeprecate_kwarg.<locals>._deprecate_kwarg.<locals>.wrapper\u001b[1;34m(*args, **kwargs)\u001b[0m\n\u001b[0;32m    209\u001b[0m     \u001b[39melse\u001b[39;00m:\n\u001b[0;32m    210\u001b[0m         kwargs[new_arg_name] \u001b[39m=\u001b[39m new_arg_value\n\u001b[1;32m--> 211\u001b[0m \u001b[39mreturn\u001b[39;00m func(\u001b[39m*\u001b[39;49margs, \u001b[39m*\u001b[39;49m\u001b[39m*\u001b[39;49mkwargs)\n",
      "File \u001b[1;32mc:\\Users\\caspa\\AppData\\Local\\Programs\\Python\\Python311\\Lib\\site-packages\\pandas\\util\\_decorators.py:331\u001b[0m, in \u001b[0;36mdeprecate_nonkeyword_arguments.<locals>.decorate.<locals>.wrapper\u001b[1;34m(*args, **kwargs)\u001b[0m\n\u001b[0;32m    325\u001b[0m \u001b[39mif\u001b[39;00m \u001b[39mlen\u001b[39m(args) \u001b[39m>\u001b[39m num_allow_args:\n\u001b[0;32m    326\u001b[0m     warnings\u001b[39m.\u001b[39mwarn(\n\u001b[0;32m    327\u001b[0m         msg\u001b[39m.\u001b[39mformat(arguments\u001b[39m=\u001b[39m_format_argument_list(allow_args)),\n\u001b[0;32m    328\u001b[0m         \u001b[39mFutureWarning\u001b[39;00m,\n\u001b[0;32m    329\u001b[0m         stacklevel\u001b[39m=\u001b[39mfind_stack_level(),\n\u001b[0;32m    330\u001b[0m     )\n\u001b[1;32m--> 331\u001b[0m \u001b[39mreturn\u001b[39;00m func(\u001b[39m*\u001b[39;49margs, \u001b[39m*\u001b[39;49m\u001b[39m*\u001b[39;49mkwargs)\n",
      "File \u001b[1;32mc:\\Users\\caspa\\AppData\\Local\\Programs\\Python\\Python311\\Lib\\site-packages\\pandas\\io\\parsers\\readers.py:950\u001b[0m, in \u001b[0;36mread_csv\u001b[1;34m(filepath_or_buffer, sep, delimiter, header, names, index_col, usecols, squeeze, prefix, mangle_dupe_cols, dtype, engine, converters, true_values, false_values, skipinitialspace, skiprows, skipfooter, nrows, na_values, keep_default_na, na_filter, verbose, skip_blank_lines, parse_dates, infer_datetime_format, keep_date_col, date_parser, dayfirst, cache_dates, iterator, chunksize, compression, thousands, decimal, lineterminator, quotechar, quoting, doublequote, escapechar, comment, encoding, encoding_errors, dialect, error_bad_lines, warn_bad_lines, on_bad_lines, delim_whitespace, low_memory, memory_map, float_precision, storage_options)\u001b[0m\n\u001b[0;32m    935\u001b[0m kwds_defaults \u001b[39m=\u001b[39m _refine_defaults_read(\n\u001b[0;32m    936\u001b[0m     dialect,\n\u001b[0;32m    937\u001b[0m     delimiter,\n\u001b[1;32m   (...)\u001b[0m\n\u001b[0;32m    946\u001b[0m     defaults\u001b[39m=\u001b[39m{\u001b[39m\"\u001b[39m\u001b[39mdelimiter\u001b[39m\u001b[39m\"\u001b[39m: \u001b[39m\"\u001b[39m\u001b[39m,\u001b[39m\u001b[39m\"\u001b[39m},\n\u001b[0;32m    947\u001b[0m )\n\u001b[0;32m    948\u001b[0m kwds\u001b[39m.\u001b[39mupdate(kwds_defaults)\n\u001b[1;32m--> 950\u001b[0m \u001b[39mreturn\u001b[39;00m _read(filepath_or_buffer, kwds)\n",
      "File \u001b[1;32mc:\\Users\\caspa\\AppData\\Local\\Programs\\Python\\Python311\\Lib\\site-packages\\pandas\\io\\parsers\\readers.py:605\u001b[0m, in \u001b[0;36m_read\u001b[1;34m(filepath_or_buffer, kwds)\u001b[0m\n\u001b[0;32m    602\u001b[0m _validate_names(kwds\u001b[39m.\u001b[39mget(\u001b[39m\"\u001b[39m\u001b[39mnames\u001b[39m\u001b[39m\"\u001b[39m, \u001b[39mNone\u001b[39;00m))\n\u001b[0;32m    604\u001b[0m \u001b[39m# Create the parser.\u001b[39;00m\n\u001b[1;32m--> 605\u001b[0m parser \u001b[39m=\u001b[39m TextFileReader(filepath_or_buffer, \u001b[39m*\u001b[39;49m\u001b[39m*\u001b[39;49mkwds)\n\u001b[0;32m    607\u001b[0m \u001b[39mif\u001b[39;00m chunksize \u001b[39mor\u001b[39;00m iterator:\n\u001b[0;32m    608\u001b[0m     \u001b[39mreturn\u001b[39;00m parser\n",
      "File \u001b[1;32mc:\\Users\\caspa\\AppData\\Local\\Programs\\Python\\Python311\\Lib\\site-packages\\pandas\\io\\parsers\\readers.py:1442\u001b[0m, in \u001b[0;36mTextFileReader.__init__\u001b[1;34m(self, f, engine, **kwds)\u001b[0m\n\u001b[0;32m   1439\u001b[0m     \u001b[39mself\u001b[39m\u001b[39m.\u001b[39moptions[\u001b[39m\"\u001b[39m\u001b[39mhas_index_names\u001b[39m\u001b[39m\"\u001b[39m] \u001b[39m=\u001b[39m kwds[\u001b[39m\"\u001b[39m\u001b[39mhas_index_names\u001b[39m\u001b[39m\"\u001b[39m]\n\u001b[0;32m   1441\u001b[0m \u001b[39mself\u001b[39m\u001b[39m.\u001b[39mhandles: IOHandles \u001b[39m|\u001b[39m \u001b[39mNone\u001b[39;00m \u001b[39m=\u001b[39m \u001b[39mNone\u001b[39;00m\n\u001b[1;32m-> 1442\u001b[0m \u001b[39mself\u001b[39m\u001b[39m.\u001b[39m_engine \u001b[39m=\u001b[39m \u001b[39mself\u001b[39;49m\u001b[39m.\u001b[39;49m_make_engine(f, \u001b[39mself\u001b[39;49m\u001b[39m.\u001b[39;49mengine)\n",
      "File \u001b[1;32mc:\\Users\\caspa\\AppData\\Local\\Programs\\Python\\Python311\\Lib\\site-packages\\pandas\\io\\parsers\\readers.py:1735\u001b[0m, in \u001b[0;36mTextFileReader._make_engine\u001b[1;34m(self, f, engine)\u001b[0m\n\u001b[0;32m   1733\u001b[0m     \u001b[39mif\u001b[39;00m \u001b[39m\"\u001b[39m\u001b[39mb\u001b[39m\u001b[39m\"\u001b[39m \u001b[39mnot\u001b[39;00m \u001b[39min\u001b[39;00m mode:\n\u001b[0;32m   1734\u001b[0m         mode \u001b[39m+\u001b[39m\u001b[39m=\u001b[39m \u001b[39m\"\u001b[39m\u001b[39mb\u001b[39m\u001b[39m\"\u001b[39m\n\u001b[1;32m-> 1735\u001b[0m \u001b[39mself\u001b[39m\u001b[39m.\u001b[39mhandles \u001b[39m=\u001b[39m get_handle(\n\u001b[0;32m   1736\u001b[0m     f,\n\u001b[0;32m   1737\u001b[0m     mode,\n\u001b[0;32m   1738\u001b[0m     encoding\u001b[39m=\u001b[39;49m\u001b[39mself\u001b[39;49m\u001b[39m.\u001b[39;49moptions\u001b[39m.\u001b[39;49mget(\u001b[39m\"\u001b[39;49m\u001b[39mencoding\u001b[39;49m\u001b[39m\"\u001b[39;49m, \u001b[39mNone\u001b[39;49;00m),\n\u001b[0;32m   1739\u001b[0m     compression\u001b[39m=\u001b[39;49m\u001b[39mself\u001b[39;49m\u001b[39m.\u001b[39;49moptions\u001b[39m.\u001b[39;49mget(\u001b[39m\"\u001b[39;49m\u001b[39mcompression\u001b[39;49m\u001b[39m\"\u001b[39;49m, \u001b[39mNone\u001b[39;49;00m),\n\u001b[0;32m   1740\u001b[0m     memory_map\u001b[39m=\u001b[39;49m\u001b[39mself\u001b[39;49m\u001b[39m.\u001b[39;49moptions\u001b[39m.\u001b[39;49mget(\u001b[39m\"\u001b[39;49m\u001b[39mmemory_map\u001b[39;49m\u001b[39m\"\u001b[39;49m, \u001b[39mFalse\u001b[39;49;00m),\n\u001b[0;32m   1741\u001b[0m     is_text\u001b[39m=\u001b[39;49mis_text,\n\u001b[0;32m   1742\u001b[0m     errors\u001b[39m=\u001b[39;49m\u001b[39mself\u001b[39;49m\u001b[39m.\u001b[39;49moptions\u001b[39m.\u001b[39;49mget(\u001b[39m\"\u001b[39;49m\u001b[39mencoding_errors\u001b[39;49m\u001b[39m\"\u001b[39;49m, \u001b[39m\"\u001b[39;49m\u001b[39mstrict\u001b[39;49m\u001b[39m\"\u001b[39;49m),\n\u001b[0;32m   1743\u001b[0m     storage_options\u001b[39m=\u001b[39;49m\u001b[39mself\u001b[39;49m\u001b[39m.\u001b[39;49moptions\u001b[39m.\u001b[39;49mget(\u001b[39m\"\u001b[39;49m\u001b[39mstorage_options\u001b[39;49m\u001b[39m\"\u001b[39;49m, \u001b[39mNone\u001b[39;49;00m),\n\u001b[0;32m   1744\u001b[0m )\n\u001b[0;32m   1745\u001b[0m \u001b[39massert\u001b[39;00m \u001b[39mself\u001b[39m\u001b[39m.\u001b[39mhandles \u001b[39mis\u001b[39;00m \u001b[39mnot\u001b[39;00m \u001b[39mNone\u001b[39;00m\n\u001b[0;32m   1746\u001b[0m f \u001b[39m=\u001b[39m \u001b[39mself\u001b[39m\u001b[39m.\u001b[39mhandles\u001b[39m.\u001b[39mhandle\n",
      "File \u001b[1;32mc:\\Users\\caspa\\AppData\\Local\\Programs\\Python\\Python311\\Lib\\site-packages\\pandas\\io\\common.py:856\u001b[0m, in \u001b[0;36mget_handle\u001b[1;34m(path_or_buf, mode, encoding, compression, memory_map, is_text, errors, storage_options)\u001b[0m\n\u001b[0;32m    851\u001b[0m \u001b[39melif\u001b[39;00m \u001b[39misinstance\u001b[39m(handle, \u001b[39mstr\u001b[39m):\n\u001b[0;32m    852\u001b[0m     \u001b[39m# Check whether the filename is to be opened in binary mode.\u001b[39;00m\n\u001b[0;32m    853\u001b[0m     \u001b[39m# Binary mode does not support 'encoding' and 'newline'.\u001b[39;00m\n\u001b[0;32m    854\u001b[0m     \u001b[39mif\u001b[39;00m ioargs\u001b[39m.\u001b[39mencoding \u001b[39mand\u001b[39;00m \u001b[39m\"\u001b[39m\u001b[39mb\u001b[39m\u001b[39m\"\u001b[39m \u001b[39mnot\u001b[39;00m \u001b[39min\u001b[39;00m ioargs\u001b[39m.\u001b[39mmode:\n\u001b[0;32m    855\u001b[0m         \u001b[39m# Encoding\u001b[39;00m\n\u001b[1;32m--> 856\u001b[0m         handle \u001b[39m=\u001b[39m \u001b[39mopen\u001b[39;49m(\n\u001b[0;32m    857\u001b[0m             handle,\n\u001b[0;32m    858\u001b[0m             ioargs\u001b[39m.\u001b[39;49mmode,\n\u001b[0;32m    859\u001b[0m             encoding\u001b[39m=\u001b[39;49mioargs\u001b[39m.\u001b[39;49mencoding,\n\u001b[0;32m    860\u001b[0m             errors\u001b[39m=\u001b[39;49merrors,\n\u001b[0;32m    861\u001b[0m             newline\u001b[39m=\u001b[39;49m\u001b[39m\"\u001b[39;49m\u001b[39m\"\u001b[39;49m,\n\u001b[0;32m    862\u001b[0m         )\n\u001b[0;32m    863\u001b[0m     \u001b[39melse\u001b[39;00m:\n\u001b[0;32m    864\u001b[0m         \u001b[39m# Binary mode\u001b[39;00m\n\u001b[0;32m    865\u001b[0m         handle \u001b[39m=\u001b[39m \u001b[39mopen\u001b[39m(handle, ioargs\u001b[39m.\u001b[39mmode)\n",
      "\u001b[1;31mFileNotFoundError\u001b[0m: [Errno 2] No such file or directory: 'labeled_data_all.csv'"
     ]
    }
   ],
   "source": [
    "#load any aribitrary set\n",
    "K_T = pd.read_csv('labeled_data_all.csv')"
   ]
  },
  {
   "cell_type": "code",
   "execution_count": 31,
   "metadata": {},
   "outputs": [],
   "source": [
    "#or us real data, the data is pre-processed and only liquid quotes are contained\n",
    "df1 = helpers.load_month(2023,1,'SPX')\n",
    "df2 = helpers.load_month(2023,2,'SPX')\n",
    "df3 = helpers.load_month(2023,3,'SPX')\n",
    "df5 = helpers.load_year(2022,'SPX')\n",
    "\n",
    "df6 = helpers.load_year(2021,'SPX')\n",
    "df6 = helpers.load_year(2020,'SPX')\n",
    "df7 = helpers.load_year(2019,'SPX')"
   ]
  },
  {
   "cell_type": "code",
   "execution_count": 32,
   "metadata": {},
   "outputs": [],
   "source": [
    "#if no data loaded  via csv, merge the loaded data\n",
    "K_T_all = pd.concat([df1,df2,df3,df5,df6,df7])"
   ]
  },
  {
   "cell_type": "code",
   "execution_count": 33,
   "metadata": {},
   "outputs": [
    {
     "data": {
      "text/html": [
       "<div>\n",
       "<style scoped>\n",
       "    .dataframe tbody tr th:only-of-type {\n",
       "        vertical-align: middle;\n",
       "    }\n",
       "\n",
       "    .dataframe tbody tr th {\n",
       "        vertical-align: top;\n",
       "    }\n",
       "\n",
       "    .dataframe thead th {\n",
       "        text-align: right;\n",
       "    }\n",
       "</style>\n",
       "<table border=\"1\" class=\"dataframe\">\n",
       "  <thead>\n",
       "    <tr style=\"text-align: right;\">\n",
       "      <th></th>\n",
       "      <th>[QUOTE_DATE]</th>\n",
       "      <th>[UNDERLYING_LAST]</th>\n",
       "      <th>[EXPIRE_DATE]</th>\n",
       "      <th>[DTE]</th>\n",
       "      <th>[C_DELTA]</th>\n",
       "      <th>[C_GAMMA]</th>\n",
       "      <th>[C_VEGA]</th>\n",
       "      <th>[C_THETA]</th>\n",
       "      <th>[C_RHO]</th>\n",
       "      <th>[C_IV]</th>\n",
       "      <th>...</th>\n",
       "      <th>[P_BID]</th>\n",
       "      <th>[P_ASK]</th>\n",
       "      <th>[P_LAST]</th>\n",
       "      <th>[P_DELTA]</th>\n",
       "      <th>[P_GAMMA]</th>\n",
       "      <th>[P_VEGA]</th>\n",
       "      <th>[P_THETA]</th>\n",
       "      <th>[P_RHO]</th>\n",
       "      <th>[P_IV]</th>\n",
       "      <th>[P_VOLUME]</th>\n",
       "    </tr>\n",
       "    <tr>\n",
       "      <th>[QUOTE_READTIME]</th>\n",
       "      <th></th>\n",
       "      <th></th>\n",
       "      <th></th>\n",
       "      <th></th>\n",
       "      <th></th>\n",
       "      <th></th>\n",
       "      <th></th>\n",
       "      <th></th>\n",
       "      <th></th>\n",
       "      <th></th>\n",
       "      <th></th>\n",
       "      <th></th>\n",
       "      <th></th>\n",
       "      <th></th>\n",
       "      <th></th>\n",
       "      <th></th>\n",
       "      <th></th>\n",
       "      <th></th>\n",
       "      <th></th>\n",
       "      <th></th>\n",
       "      <th></th>\n",
       "    </tr>\n",
       "  </thead>\n",
       "  <tbody>\n",
       "    <tr>\n",
       "      <th>2023-01-04 16:00:00</th>\n",
       "      <td>2023-01-04</td>\n",
       "      <td>3853.39</td>\n",
       "      <td>2023-01-04</td>\n",
       "      <td>0.0</td>\n",
       "      <td>0.00211</td>\n",
       "      <td>0.00014</td>\n",
       "      <td>2.92769</td>\n",
       "      <td>-0.03449</td>\n",
       "      <td>0.06761</td>\n",
       "      <td>0.31948</td>\n",
       "      <td>...</td>\n",
       "      <td>5.1</td>\n",
       "      <td>6.7</td>\n",
       "      <td>6.14</td>\n",
       "      <td>-1.00000</td>\n",
       "      <td>0.0</td>\n",
       "      <td>-26.10045</td>\n",
       "      <td>0.00000</td>\n",
       "      <td>0.0000</td>\n",
       "      <td>0.002570</td>\n",
       "      <td>2638.000000</td>\n",
       "    </tr>\n",
       "    <tr>\n",
       "      <th>2023-01-04 16:00:00</th>\n",
       "      <td>2023-01-04</td>\n",
       "      <td>3853.39</td>\n",
       "      <td>2023-01-04</td>\n",
       "      <td>0.0</td>\n",
       "      <td>0.00183</td>\n",
       "      <td>0.00014</td>\n",
       "      <td>2.03693</td>\n",
       "      <td>-0.02576</td>\n",
       "      <td>0.04657</td>\n",
       "      <td>0.31912</td>\n",
       "      <td>...</td>\n",
       "      <td>4.0</td>\n",
       "      <td>9.5</td>\n",
       "      <td>10.45</td>\n",
       "      <td>-0.97158</td>\n",
       "      <td>0.0</td>\n",
       "      <td>0.00000</td>\n",
       "      <td>-108.45324</td>\n",
       "      <td>-0.0774</td>\n",
       "      <td>0.002600</td>\n",
       "      <td>3144.000000</td>\n",
       "    </tr>\n",
       "    <tr>\n",
       "      <th>2023-01-04 16:00:00</th>\n",
       "      <td>2023-01-04</td>\n",
       "      <td>3853.39</td>\n",
       "      <td>2023-01-04</td>\n",
       "      <td>0.0</td>\n",
       "      <td>0.00217</td>\n",
       "      <td>0.00016</td>\n",
       "      <td>1.41177</td>\n",
       "      <td>-0.02494</td>\n",
       "      <td>0.03242</td>\n",
       "      <td>0.31939</td>\n",
       "      <td>...</td>\n",
       "      <td>10.5</td>\n",
       "      <td>14.5</td>\n",
       "      <td>18.65</td>\n",
       "      <td>-0.97163</td>\n",
       "      <td>0.0</td>\n",
       "      <td>0.00000</td>\n",
       "      <td>-108.45209</td>\n",
       "      <td>-0.0770</td>\n",
       "      <td>0.002670</td>\n",
       "      <td>2298.000000</td>\n",
       "    </tr>\n",
       "    <tr>\n",
       "      <th>2023-01-04 16:00:00</th>\n",
       "      <td>2023-01-04</td>\n",
       "      <td>3853.39</td>\n",
       "      <td>2023-01-04</td>\n",
       "      <td>0.0</td>\n",
       "      <td>0.00236</td>\n",
       "      <td>0.00010</td>\n",
       "      <td>0.97818</td>\n",
       "      <td>-0.02507</td>\n",
       "      <td>0.02208</td>\n",
       "      <td>0.32008</td>\n",
       "      <td>...</td>\n",
       "      <td>19.1</td>\n",
       "      <td>21.8</td>\n",
       "      <td>23.3</td>\n",
       "      <td>-1.00000</td>\n",
       "      <td>0.0</td>\n",
       "      <td>-176.09987</td>\n",
       "      <td>0.00000</td>\n",
       "      <td>0.0000</td>\n",
       "      <td>0.002590</td>\n",
       "      <td>2155.000000</td>\n",
       "    </tr>\n",
       "    <tr>\n",
       "      <th>2023-01-04 16:00:00</th>\n",
       "      <td>2023-01-04</td>\n",
       "      <td>3853.39</td>\n",
       "      <td>2023-01-04</td>\n",
       "      <td>0.0</td>\n",
       "      <td>0.00153</td>\n",
       "      <td>0.00010</td>\n",
       "      <td>0.67631</td>\n",
       "      <td>-0.02501</td>\n",
       "      <td>0.01536</td>\n",
       "      <td>0.31959</td>\n",
       "      <td>...</td>\n",
       "      <td>24.3</td>\n",
       "      <td>26.7</td>\n",
       "      <td>35.07</td>\n",
       "      <td>-1.00000</td>\n",
       "      <td>0.0</td>\n",
       "      <td>-226.10041</td>\n",
       "      <td>0.00000</td>\n",
       "      <td>0.0000</td>\n",
       "      <td>0.002470</td>\n",
       "      <td>651.000000</td>\n",
       "    </tr>\n",
       "  </tbody>\n",
       "</table>\n",
       "<p>5 rows × 26 columns</p>\n",
       "</div>"
      ],
      "text/plain": [
       "                     [QUOTE_DATE]   [UNDERLYING_LAST]  [EXPIRE_DATE]   [DTE]  \\\n",
       " [QUOTE_READTIME]                                                              \n",
       "2023-01-04 16:00:00    2023-01-04             3853.39     2023-01-04     0.0   \n",
       "2023-01-04 16:00:00    2023-01-04             3853.39     2023-01-04     0.0   \n",
       "2023-01-04 16:00:00    2023-01-04             3853.39     2023-01-04     0.0   \n",
       "2023-01-04 16:00:00    2023-01-04             3853.39     2023-01-04     0.0   \n",
       "2023-01-04 16:00:00    2023-01-04             3853.39     2023-01-04     0.0   \n",
       "\n",
       "                      [C_DELTA]   [C_GAMMA]   [C_VEGA]   [C_THETA]   [C_RHO]  \\\n",
       " [QUOTE_READTIME]                                                              \n",
       "2023-01-04 16:00:00     0.00211     0.00014    2.92769    -0.03449   0.06761   \n",
       "2023-01-04 16:00:00     0.00183     0.00014    2.03693    -0.02576   0.04657   \n",
       "2023-01-04 16:00:00     0.00217     0.00016    1.41177    -0.02494   0.03242   \n",
       "2023-01-04 16:00:00     0.00236     0.00010    0.97818    -0.02507   0.02208   \n",
       "2023-01-04 16:00:00     0.00153     0.00010    0.67631    -0.02501   0.01536   \n",
       "\n",
       "                      [C_IV]  ...   [P_BID]  [P_ASK]  [P_LAST]  [P_DELTA]  \\\n",
       " [QUOTE_READTIME]             ...                                           \n",
       "2023-01-04 16:00:00  0.31948  ...       5.1      6.7      6.14   -1.00000   \n",
       "2023-01-04 16:00:00  0.31912  ...       4.0      9.5     10.45   -0.97158   \n",
       "2023-01-04 16:00:00  0.31939  ...      10.5     14.5     18.65   -0.97163   \n",
       "2023-01-04 16:00:00  0.32008  ...      19.1     21.8      23.3   -1.00000   \n",
       "2023-01-04 16:00:00  0.31959  ...      24.3     26.7     35.07   -1.00000   \n",
       "\n",
       "                     [P_GAMMA]   [P_VEGA]  [P_THETA]  [P_RHO]     [P_IV]  \\\n",
       " [QUOTE_READTIME]                                                          \n",
       "2023-01-04 16:00:00        0.0  -26.10045    0.00000   0.0000   0.002570   \n",
       "2023-01-04 16:00:00        0.0    0.00000 -108.45324  -0.0774   0.002600   \n",
       "2023-01-04 16:00:00        0.0    0.00000 -108.45209  -0.0770   0.002670   \n",
       "2023-01-04 16:00:00        0.0 -176.09987    0.00000   0.0000   0.002590   \n",
       "2023-01-04 16:00:00        0.0 -226.10041    0.00000   0.0000   0.002470   \n",
       "\n",
       "                       [P_VOLUME]  \n",
       " [QUOTE_READTIME]                  \n",
       "2023-01-04 16:00:00   2638.000000  \n",
       "2023-01-04 16:00:00   3144.000000  \n",
       "2023-01-04 16:00:00   2298.000000  \n",
       "2023-01-04 16:00:00   2155.000000  \n",
       "2023-01-04 16:00:00    651.000000  \n",
       "\n",
       "[5 rows x 26 columns]"
      ]
     },
     "execution_count": 33,
     "metadata": {},
     "output_type": "execute_result"
    }
   ],
   "source": [
    "K_T_all.head()"
   ]
  },
  {
   "cell_type": "code",
   "execution_count": 34,
   "metadata": {},
   "outputs": [
    {
     "data": {
      "text/plain": [
       "(4426727, 26)"
      ]
     },
     "execution_count": 34,
     "metadata": {},
     "output_type": "execute_result"
    }
   ],
   "source": [
    "K_T_all.shape"
   ]
  },
  {
   "cell_type": "code",
   "execution_count": 35,
   "metadata": {},
   "outputs": [
    {
     "name": "stderr",
     "output_type": "stream",
     "text": [
      "2023-06-03 16:15:09,812 - INFO - Using categorical units to plot a list of strings that are all parsable as floats or dates. If these strings should be plotted as numbers, cast to the appropriate data type before plotting.\n",
      "2023-06-03 16:15:09,904 - INFO - Using categorical units to plot a list of strings that are all parsable as floats or dates. If these strings should be plotted as numbers, cast to the appropriate data type before plotting.\n"
     ]
    },
    {
     "data": {
      "text/plain": [
       "([<matplotlib.axis.XTick at 0x1d66ec00a10>,\n",
       "  <matplotlib.axis.XTick at 0x1d5edf18710>,\n",
       "  <matplotlib.axis.XTick at 0x1d65f774650>,\n",
       "  <matplotlib.axis.XTick at 0x1d59c7fb890>,\n",
       "  <matplotlib.axis.XTick at 0x1d58807c390>,\n",
       "  <matplotlib.axis.XTick at 0x1d7177020d0>,\n",
       "  <matplotlib.axis.XTick at 0x1d717701a10>,\n",
       "  <matplotlib.axis.XTick at 0x1d717703c50>,\n",
       "  <matplotlib.axis.XTick at 0x1d71771a0d0>,\n",
       "  <matplotlib.axis.XTick at 0x1d7177268d0>],\n",
       " [Text(0, 0, ' 2019-01-02'),\n",
       "  Text(90, 0, ' 2019-05-15'),\n",
       "  Text(180, 0, ' 2019-09-26'),\n",
       "  Text(270, 0, ' 2020-02-05'),\n",
       "  Text(360, 0, ' 2020-06-15'),\n",
       "  Text(450, 0, ' 2020-10-22'),\n",
       "  Text(540, 0, ' 2022-03-03'),\n",
       "  Text(630, 0, ' 2022-07-12'),\n",
       "  Text(720, 0, ' 2022-11-15'),\n",
       "  Text(810, 0, ' 2023-03-28')])"
      ]
     },
     "execution_count": 35,
     "metadata": {},
     "output_type": "execute_result"
    },
    {
     "data": {
      "image/png": "[encoded data removed]",
      "text/plain": [
       "<Figure size 640x480 with 1 Axes>"
      ]
     },
     "metadata": {},
     "output_type": "display_data"
    }
   ],
   "source": [
    "#count oentries for each day\n",
    "#pivot with quote date as index and values count of lines\n",
    "quote_number = K_T_all.pivot_table(index=' [QUOTE_DATE]', values=' [DTE]', aggfunc='count')\n",
    "plt.plot(quote_number, color='grey')\n",
    "plt.title('Number of quoted Calls per day')\n",
    "plt.xlabel('Date (90d steps))')\n",
    "plt.ylabel('Number of quotes')\n",
    "#set vector dates as xticks\n",
    "plt.xticks(np.arange(0, len(quote_number), 90), size=6)\n"
   ]
  },
  {
   "cell_type": "code",
   "execution_count": 36,
   "metadata": {},
   "outputs": [
    {
     "data": {
      "text/plain": [
       " [DTE]    5438.239558\n",
       "dtype: float64"
      ]
     },
     "execution_count": 36,
     "metadata": {},
     "output_type": "execute_result"
    }
   ],
   "source": [
    "#mean quotes per day\n",
    "quote_number.mean()"
   ]
  },
  {
   "cell_type": "code",
   "execution_count": 37,
   "metadata": {},
   "outputs": [
    {
     "data": {
      "text/plain": [
       "['Jan-19',\n",
       " 'Feb-19',\n",
       " 'Mar-19',\n",
       " 'Apr-19',\n",
       " 'May-19',\n",
       " 'Jun-19',\n",
       " 'Jul-19',\n",
       " 'Aug-19',\n",
       " 'Sep-19',\n",
       " 'Oct-19',\n",
       " 'Oct-19',\n",
       " 'Nov-19',\n",
       " 'Dec-19',\n",
       " 'Jan-20',\n",
       " 'Feb-20',\n",
       " 'Mar-20',\n",
       " 'Apr-20',\n",
       " 'May-20',\n",
       " 'Jun-20',\n",
       " 'Jul-20',\n",
       " 'Aug-20',\n",
       " 'Sep-20',\n",
       " 'Oct-20',\n",
       " 'Nov-20',\n",
       " 'Dec-20',\n",
       " 'Jan-21',\n",
       " 'Feb-21',\n",
       " 'Mar-21',\n",
       " 'Apr-21',\n",
       " 'May-21',\n",
       " 'Jun-21',\n",
       " 'Jul-21',\n",
       " 'Aug-21',\n",
       " 'Sep-21',\n",
       " 'Oct-21',\n",
       " 'Nov-21',\n",
       " 'Dec-21',\n",
       " 'Jan-22',\n",
       " 'Feb-22',\n",
       " 'Mar-22',\n",
       " 'Apr-22',\n",
       " 'May-22',\n",
       " 'Jun-22',\n",
       " 'Jul-22',\n",
       " 'Aug-22',\n",
       " 'Sep-22',\n",
       " 'Oct-22',\n",
       " 'Nov-22',\n",
       " 'Dec-22',\n",
       " 'Jan-23',\n",
       " 'Feb-23',\n",
       " 'Mar-23']"
      ]
     },
     "execution_count": 37,
     "metadata": {},
     "output_type": "execute_result"
    }
   ],
   "source": [
    "#arrange all dates from 2023-01-04\t to 2023-03-17 but only every 30th day and make in MMM-yy format\n",
    "dates = pd.date_range(start='2019-01-04', end='2023-03-31', freq='30D').strftime('%b-%y').tolist()\n",
    "dates"
   ]
  },
  {
   "cell_type": "code",
   "execution_count": 38,
   "metadata": {},
   "outputs": [
    {
     "ename": "TypeError",
     "evalue": "not all arguments converted during string formatting",
     "output_type": "error",
     "traceback": [
      "\u001b[1;31m---------------------------------------------------------------------------\u001b[0m",
      "\u001b[1;31mTypeError\u001b[0m                                 Traceback (most recent call last)",
      "File \u001b[1;32mc:\\Users\\caspa\\AppData\\Local\\Programs\\Python\\Python311\\Lib\\site-packages\\pandas\\core\\ops\\array_ops.py:165\u001b[0m, in \u001b[0;36m_na_arithmetic_op\u001b[1;34m(left, right, op, is_cmp)\u001b[0m\n\u001b[0;32m    164\u001b[0m \u001b[39mtry\u001b[39;00m:\n\u001b[1;32m--> 165\u001b[0m     result \u001b[39m=\u001b[39m func(left, right)\n\u001b[0;32m    166\u001b[0m \u001b[39mexcept\u001b[39;00m \u001b[39mTypeError\u001b[39;00m:\n",
      "File \u001b[1;32mc:\\Users\\caspa\\AppData\\Local\\Programs\\Python\\Python311\\Lib\\site-packages\\pandas\\core\\computation\\expressions.py:242\u001b[0m, in \u001b[0;36mevaluate\u001b[1;34m(op, a, b, use_numexpr)\u001b[0m\n\u001b[0;32m    241\u001b[0m         \u001b[39mreturn\u001b[39;00m _evaluate(op, op_str, a, b)  \u001b[39m# type: ignore[misc]\u001b[39;00m\n\u001b[1;32m--> 242\u001b[0m \u001b[39mreturn\u001b[39;00m _evaluate_standard(op, op_str, a, b)\n",
      "File \u001b[1;32mc:\\Users\\caspa\\AppData\\Local\\Programs\\Python\\Python311\\Lib\\site-packages\\pandas\\core\\computation\\expressions.py:70\u001b[0m, in \u001b[0;36m_evaluate_standard\u001b[1;34m(op, op_str, a, b)\u001b[0m\n\u001b[0;32m     69\u001b[0m     _store_test_result(\u001b[39mFalse\u001b[39;00m)\n\u001b[1;32m---> 70\u001b[0m \u001b[39mreturn\u001b[39;00m op(a, b)\n",
      "\u001b[1;31mTypeError\u001b[0m: not all arguments converted during string formatting",
      "\nDuring handling of the above exception, another exception occurred:\n",
      "\u001b[1;31mTypeError\u001b[0m                                 Traceback (most recent call last)",
      "Cell \u001b[1;32mIn[38], line 2\u001b[0m\n\u001b[0;32m      1\u001b[0m \u001b[39m#set every 30st index visible and all the rest to \"\" in quote_number.index\u001b[39;00m\n\u001b[1;32m----> 2\u001b[0m quote_number_index \u001b[39m=\u001b[39m np\u001b[39m.\u001b[39mwhere(quote_number\u001b[39m.\u001b[39;49mindex \u001b[39m%\u001b[39;49m \u001b[39m30\u001b[39;49m \u001b[39m==\u001b[39m \u001b[39m0\u001b[39m, quote_number\u001b[39m.\u001b[39mindex, \u001b[39m\"\u001b[39m\u001b[39m\"\u001b[39m)\n",
      "File \u001b[1;32mc:\\Users\\caspa\\AppData\\Local\\Programs\\Python\\Python311\\Lib\\site-packages\\pandas\\core\\ops\\common.py:72\u001b[0m, in \u001b[0;36m_unpack_zerodim_and_defer.<locals>.new_method\u001b[1;34m(self, other)\u001b[0m\n\u001b[0;32m     68\u001b[0m             \u001b[39mreturn\u001b[39;00m \u001b[39mNotImplemented\u001b[39m\n\u001b[0;32m     70\u001b[0m other \u001b[39m=\u001b[39m item_from_zerodim(other)\n\u001b[1;32m---> 72\u001b[0m \u001b[39mreturn\u001b[39;00m method(\u001b[39mself\u001b[39;49m, other)\n",
      "File \u001b[1;32mc:\\Users\\caspa\\AppData\\Local\\Programs\\Python\\Python311\\Lib\\site-packages\\pandas\\core\\arraylike.py:142\u001b[0m, in \u001b[0;36mOpsMixin.__mod__\u001b[1;34m(self, other)\u001b[0m\n\u001b[0;32m    140\u001b[0m \u001b[39m@unpack_zerodim_and_defer\u001b[39m(\u001b[39m\"\u001b[39m\u001b[39m__mod__\u001b[39m\u001b[39m\"\u001b[39m)\n\u001b[0;32m    141\u001b[0m \u001b[39mdef\u001b[39;00m \u001b[39m__mod__\u001b[39m(\u001b[39mself\u001b[39m, other):\n\u001b[1;32m--> 142\u001b[0m     \u001b[39mreturn\u001b[39;00m \u001b[39mself\u001b[39;49m\u001b[39m.\u001b[39;49m_arith_method(other, operator\u001b[39m.\u001b[39;49mmod)\n",
      "File \u001b[1;32mc:\\Users\\caspa\\AppData\\Local\\Programs\\Python\\Python311\\Lib\\site-packages\\pandas\\core\\indexes\\base.py:7007\u001b[0m, in \u001b[0;36mIndex._arith_method\u001b[1;34m(self, other, op)\u001b[0m\n\u001b[0;32m   6997\u001b[0m \u001b[39mif\u001b[39;00m (\n\u001b[0;32m   6998\u001b[0m     \u001b[39misinstance\u001b[39m(other, Index)\n\u001b[0;32m   6999\u001b[0m     \u001b[39mand\u001b[39;00m is_object_dtype(other\u001b[39m.\u001b[39mdtype)\n\u001b[1;32m   (...)\u001b[0m\n\u001b[0;32m   7003\u001b[0m     \u001b[39m# a chance to implement ops before we unwrap them.\u001b[39;00m\n\u001b[0;32m   7004\u001b[0m     \u001b[39m# See https://github.com/pandas-dev/pandas/issues/31109\u001b[39;00m\n\u001b[0;32m   7005\u001b[0m     \u001b[39mreturn\u001b[39;00m \u001b[39mNotImplemented\u001b[39m\n\u001b[1;32m-> 7007\u001b[0m \u001b[39mreturn\u001b[39;00m \u001b[39msuper\u001b[39;49m()\u001b[39m.\u001b[39;49m_arith_method(other, op)\n",
      "File \u001b[1;32mc:\\Users\\caspa\\AppData\\Local\\Programs\\Python\\Python311\\Lib\\site-packages\\pandas\\core\\base.py:1325\u001b[0m, in \u001b[0;36mIndexOpsMixin._arith_method\u001b[1;34m(self, other, op)\u001b[0m\n\u001b[0;32m   1322\u001b[0m rvalues \u001b[39m=\u001b[39m ensure_wrapped_if_datetimelike(rvalues)\n\u001b[0;32m   1324\u001b[0m \u001b[39mwith\u001b[39;00m np\u001b[39m.\u001b[39merrstate(\u001b[39mall\u001b[39m\u001b[39m=\u001b[39m\u001b[39m\"\u001b[39m\u001b[39mignore\u001b[39m\u001b[39m\"\u001b[39m):\n\u001b[1;32m-> 1325\u001b[0m     result \u001b[39m=\u001b[39m ops\u001b[39m.\u001b[39;49marithmetic_op(lvalues, rvalues, op)\n\u001b[0;32m   1327\u001b[0m \u001b[39mreturn\u001b[39;00m \u001b[39mself\u001b[39m\u001b[39m.\u001b[39m_construct_result(result, name\u001b[39m=\u001b[39mres_name)\n",
      "File \u001b[1;32mc:\\Users\\caspa\\AppData\\Local\\Programs\\Python\\Python311\\Lib\\site-packages\\pandas\\core\\ops\\array_ops.py:226\u001b[0m, in \u001b[0;36marithmetic_op\u001b[1;34m(left, right, op)\u001b[0m\n\u001b[0;32m    222\u001b[0m     _bool_arith_check(op, left, right)\n\u001b[0;32m    224\u001b[0m     \u001b[39m# error: Argument 1 to \"_na_arithmetic_op\" has incompatible type\u001b[39;00m\n\u001b[0;32m    225\u001b[0m     \u001b[39m# \"Union[ExtensionArray, ndarray[Any, Any]]\"; expected \"ndarray[Any, Any]\"\u001b[39;00m\n\u001b[1;32m--> 226\u001b[0m     res_values \u001b[39m=\u001b[39m _na_arithmetic_op(left, right, op)  \u001b[39m# type: ignore[arg-type]\u001b[39;00m\n\u001b[0;32m    228\u001b[0m \u001b[39mreturn\u001b[39;00m res_values\n",
      "File \u001b[1;32mc:\\Users\\caspa\\AppData\\Local\\Programs\\Python\\Python311\\Lib\\site-packages\\pandas\\core\\ops\\array_ops.py:172\u001b[0m, in \u001b[0;36m_na_arithmetic_op\u001b[1;34m(left, right, op, is_cmp)\u001b[0m\n\u001b[0;32m    166\u001b[0m \u001b[39mexcept\u001b[39;00m \u001b[39mTypeError\u001b[39;00m:\n\u001b[0;32m    167\u001b[0m     \u001b[39mif\u001b[39;00m \u001b[39mnot\u001b[39;00m is_cmp \u001b[39mand\u001b[39;00m (is_object_dtype(left\u001b[39m.\u001b[39mdtype) \u001b[39mor\u001b[39;00m is_object_dtype(right)):\n\u001b[0;32m    168\u001b[0m         \u001b[39m# For object dtype, fallback to a masked operation (only operating\u001b[39;00m\n\u001b[0;32m    169\u001b[0m         \u001b[39m#  on the non-missing values)\u001b[39;00m\n\u001b[0;32m    170\u001b[0m         \u001b[39m# Don't do this for comparisons, as that will handle complex numbers\u001b[39;00m\n\u001b[0;32m    171\u001b[0m         \u001b[39m#  incorrectly, see GH#32047\u001b[39;00m\n\u001b[1;32m--> 172\u001b[0m         result \u001b[39m=\u001b[39m _masked_arith_op(left, right, op)\n\u001b[0;32m    173\u001b[0m     \u001b[39melse\u001b[39;00m:\n\u001b[0;32m    174\u001b[0m         \u001b[39mraise\u001b[39;00m\n",
      "File \u001b[1;32mc:\\Users\\caspa\\AppData\\Local\\Programs\\Python\\Python311\\Lib\\site-packages\\pandas\\core\\ops\\array_ops.py:129\u001b[0m, in \u001b[0;36m_masked_arith_op\u001b[1;34m(x, y, op)\u001b[0m\n\u001b[0;32m    126\u001b[0m         mask \u001b[39m=\u001b[39m np\u001b[39m.\u001b[39mwhere(y \u001b[39m==\u001b[39m \u001b[39m1\u001b[39m, \u001b[39mFalse\u001b[39;00m, mask)\n\u001b[0;32m    128\u001b[0m     \u001b[39mif\u001b[39;00m mask\u001b[39m.\u001b[39many():\n\u001b[1;32m--> 129\u001b[0m         result[mask] \u001b[39m=\u001b[39m op(xrav[mask], y)\n\u001b[0;32m    131\u001b[0m np\u001b[39m.\u001b[39mputmask(result, \u001b[39m~\u001b[39mmask, np\u001b[39m.\u001b[39mnan)\n\u001b[0;32m    132\u001b[0m result \u001b[39m=\u001b[39m result\u001b[39m.\u001b[39mreshape(x\u001b[39m.\u001b[39mshape)  \u001b[39m# 2D compat\u001b[39;00m\n",
      "\u001b[1;31mTypeError\u001b[0m: not all arguments converted during string formatting"
     ]
    }
   ],
   "source": [
    "#set every 30st index visible and all the rest to \"\" in quote_number.index\n",
    "quote_number_index = np.where(quote_number.index % 30 == 0, quote_number.index, \"\")"
   ]
  },
  {
   "cell_type": "code",
   "execution_count": 40,
   "metadata": {},
   "outputs": [],
   "source": [
    "#histogram of the moneyness\n",
    "K_T_all['Log Moneyness'] = np.log( K_T_all[' [STRIKE]'] / K_T_all[' [UNDERLYING_LAST]'])"
   ]
  },
  {
   "cell_type": "code",
   "execution_count": null,
   "metadata": {},
   "outputs": [
    {
     "data": {
      "text/html": [
       "<div>\n",
       "<style scoped>\n",
       "    .dataframe tbody tr th:only-of-type {\n",
       "        vertical-align: middle;\n",
       "    }\n",
       "\n",
       "    .dataframe tbody tr th {\n",
       "        vertical-align: top;\n",
       "    }\n",
       "\n",
       "    .dataframe thead th {\n",
       "        text-align: right;\n",
       "    }\n",
       "</style>\n",
       "<table border=\"1\" class=\"dataframe\">\n",
       "  <thead>\n",
       "    <tr style=\"text-align: right;\">\n",
       "      <th></th>\n",
       "      <th>[QUOTE_DATE]</th>\n",
       "      <th>[UNDERLYING_LAST]</th>\n",
       "      <th>[EXPIRE_DATE]</th>\n",
       "      <th>[DTE]</th>\n",
       "      <th>[C_DELTA]</th>\n",
       "      <th>[C_GAMMA]</th>\n",
       "      <th>[C_VEGA]</th>\n",
       "      <th>[C_THETA]</th>\n",
       "      <th>[C_RHO]</th>\n",
       "      <th>[C_IV]</th>\n",
       "      <th>...</th>\n",
       "      <th>[P_ASK]</th>\n",
       "      <th>[P_LAST]</th>\n",
       "      <th>[P_DELTA]</th>\n",
       "      <th>[P_GAMMA]</th>\n",
       "      <th>[P_VEGA]</th>\n",
       "      <th>[P_THETA]</th>\n",
       "      <th>[P_RHO]</th>\n",
       "      <th>[P_IV]</th>\n",
       "      <th>[P_VOLUME]</th>\n",
       "      <th>Moneyness</th>\n",
       "    </tr>\n",
       "    <tr>\n",
       "      <th>[QUOTE_READTIME]</th>\n",
       "      <th></th>\n",
       "      <th></th>\n",
       "      <th></th>\n",
       "      <th></th>\n",
       "      <th></th>\n",
       "      <th></th>\n",
       "      <th></th>\n",
       "      <th></th>\n",
       "      <th></th>\n",
       "      <th></th>\n",
       "      <th></th>\n",
       "      <th></th>\n",
       "      <th></th>\n",
       "      <th></th>\n",
       "      <th></th>\n",
       "      <th></th>\n",
       "      <th></th>\n",
       "      <th></th>\n",
       "      <th></th>\n",
       "      <th></th>\n",
       "      <th></th>\n",
       "    </tr>\n",
       "  </thead>\n",
       "  <tbody>\n",
       "    <tr>\n",
       "      <th>2023-01-04 16:00:00</th>\n",
       "      <td>2023-01-04</td>\n",
       "      <td>3853.39</td>\n",
       "      <td>2023-01-04</td>\n",
       "      <td>0.0</td>\n",
       "      <td>0.00211</td>\n",
       "      <td>0.00014</td>\n",
       "      <td>2.92769</td>\n",
       "      <td>-0.03449</td>\n",
       "      <td>0.06761</td>\n",
       "      <td>0.31948</td>\n",
       "      <td>...</td>\n",
       "      <td>6.7</td>\n",
       "      <td>6.14</td>\n",
       "      <td>-1.00000</td>\n",
       "      <td>0.0</td>\n",
       "      <td>-26.10045</td>\n",
       "      <td>0.00000</td>\n",
       "      <td>0.0000</td>\n",
       "      <td>0.002570</td>\n",
       "      <td>2638.000000</td>\n",
       "      <td>1.000418</td>\n",
       "    </tr>\n",
       "    <tr>\n",
       "      <th>2023-01-04 16:00:00</th>\n",
       "      <td>2023-01-04</td>\n",
       "      <td>3853.39</td>\n",
       "      <td>2023-01-04</td>\n",
       "      <td>0.0</td>\n",
       "      <td>0.00183</td>\n",
       "      <td>0.00014</td>\n",
       "      <td>2.03693</td>\n",
       "      <td>-0.02576</td>\n",
       "      <td>0.04657</td>\n",
       "      <td>0.31912</td>\n",
       "      <td>...</td>\n",
       "      <td>9.5</td>\n",
       "      <td>10.45</td>\n",
       "      <td>-0.97158</td>\n",
       "      <td>0.0</td>\n",
       "      <td>0.00000</td>\n",
       "      <td>-108.45324</td>\n",
       "      <td>-0.0774</td>\n",
       "      <td>0.002600</td>\n",
       "      <td>3144.000000</td>\n",
       "      <td>1.001715</td>\n",
       "    </tr>\n",
       "    <tr>\n",
       "      <th>2023-01-04 16:00:00</th>\n",
       "      <td>2023-01-04</td>\n",
       "      <td>3853.39</td>\n",
       "      <td>2023-01-04</td>\n",
       "      <td>0.0</td>\n",
       "      <td>0.00217</td>\n",
       "      <td>0.00016</td>\n",
       "      <td>1.41177</td>\n",
       "      <td>-0.02494</td>\n",
       "      <td>0.03242</td>\n",
       "      <td>0.31939</td>\n",
       "      <td>...</td>\n",
       "      <td>14.5</td>\n",
       "      <td>18.65</td>\n",
       "      <td>-0.97163</td>\n",
       "      <td>0.0</td>\n",
       "      <td>0.00000</td>\n",
       "      <td>-108.45209</td>\n",
       "      <td>-0.0770</td>\n",
       "      <td>0.002670</td>\n",
       "      <td>2298.000000</td>\n",
       "      <td>1.003013</td>\n",
       "    </tr>\n",
       "    <tr>\n",
       "      <th>2023-01-04 16:00:00</th>\n",
       "      <td>2023-01-04</td>\n",
       "      <td>3853.39</td>\n",
       "      <td>2023-01-04</td>\n",
       "      <td>0.0</td>\n",
       "      <td>0.00236</td>\n",
       "      <td>0.00010</td>\n",
       "      <td>0.97818</td>\n",
       "      <td>-0.02507</td>\n",
       "      <td>0.02208</td>\n",
       "      <td>0.32008</td>\n",
       "      <td>...</td>\n",
       "      <td>21.8</td>\n",
       "      <td>23.3</td>\n",
       "      <td>-1.00000</td>\n",
       "      <td>0.0</td>\n",
       "      <td>-176.09987</td>\n",
       "      <td>0.00000</td>\n",
       "      <td>0.0000</td>\n",
       "      <td>0.002590</td>\n",
       "      <td>2155.000000</td>\n",
       "      <td>1.004310</td>\n",
       "    </tr>\n",
       "    <tr>\n",
       "      <th>2023-01-04 16:00:00</th>\n",
       "      <td>2023-01-04</td>\n",
       "      <td>3853.39</td>\n",
       "      <td>2023-01-04</td>\n",
       "      <td>0.0</td>\n",
       "      <td>0.00153</td>\n",
       "      <td>0.00010</td>\n",
       "      <td>0.67631</td>\n",
       "      <td>-0.02501</td>\n",
       "      <td>0.01536</td>\n",
       "      <td>0.31959</td>\n",
       "      <td>...</td>\n",
       "      <td>26.7</td>\n",
       "      <td>35.07</td>\n",
       "      <td>-1.00000</td>\n",
       "      <td>0.0</td>\n",
       "      <td>-226.10041</td>\n",
       "      <td>0.00000</td>\n",
       "      <td>0.0000</td>\n",
       "      <td>0.002470</td>\n",
       "      <td>651.000000</td>\n",
       "      <td>1.005608</td>\n",
       "    </tr>\n",
       "  </tbody>\n",
       "</table>\n",
       "<p>5 rows × 27 columns</p>\n",
       "</div>"
      ],
      "text/plain": [
       "                     [QUOTE_DATE]   [UNDERLYING_LAST]  [EXPIRE_DATE]   [DTE]  \\\n",
       " [QUOTE_READTIME]                                                              \n",
       "2023-01-04 16:00:00    2023-01-04             3853.39     2023-01-04     0.0   \n",
       "2023-01-04 16:00:00    2023-01-04             3853.39     2023-01-04     0.0   \n",
       "2023-01-04 16:00:00    2023-01-04             3853.39     2023-01-04     0.0   \n",
       "2023-01-04 16:00:00    2023-01-04             3853.39     2023-01-04     0.0   \n",
       "2023-01-04 16:00:00    2023-01-04             3853.39     2023-01-04     0.0   \n",
       "\n",
       "                      [C_DELTA]   [C_GAMMA]   [C_VEGA]   [C_THETA]   [C_RHO]  \\\n",
       " [QUOTE_READTIME]                                                              \n",
       "2023-01-04 16:00:00     0.00211     0.00014    2.92769    -0.03449   0.06761   \n",
       "2023-01-04 16:00:00     0.00183     0.00014    2.03693    -0.02576   0.04657   \n",
       "2023-01-04 16:00:00     0.00217     0.00016    1.41177    -0.02494   0.03242   \n",
       "2023-01-04 16:00:00     0.00236     0.00010    0.97818    -0.02507   0.02208   \n",
       "2023-01-04 16:00:00     0.00153     0.00010    0.67631    -0.02501   0.01536   \n",
       "\n",
       "                      [C_IV]  ...   [P_ASK]  [P_LAST]  [P_DELTA]  [P_GAMMA]  \\\n",
       " [QUOTE_READTIME]             ...                                             \n",
       "2023-01-04 16:00:00  0.31948  ...       6.7      6.14   -1.00000        0.0   \n",
       "2023-01-04 16:00:00  0.31912  ...       9.5     10.45   -0.97158        0.0   \n",
       "2023-01-04 16:00:00  0.31939  ...      14.5     18.65   -0.97163        0.0   \n",
       "2023-01-04 16:00:00  0.32008  ...      21.8      23.3   -1.00000        0.0   \n",
       "2023-01-04 16:00:00  0.31959  ...      26.7     35.07   -1.00000        0.0   \n",
       "\n",
       "                      [P_VEGA]   [P_THETA]  [P_RHO]     [P_IV]    [P_VOLUME]  \\\n",
       " [QUOTE_READTIME]                                                              \n",
       "2023-01-04 16:00:00  -26.10045     0.00000   0.0000   0.002570   2638.000000   \n",
       "2023-01-04 16:00:00    0.00000  -108.45324  -0.0774   0.002600   3144.000000   \n",
       "2023-01-04 16:00:00    0.00000  -108.45209  -0.0770   0.002670   2298.000000   \n",
       "2023-01-04 16:00:00 -176.09987     0.00000   0.0000   0.002590   2155.000000   \n",
       "2023-01-04 16:00:00 -226.10041     0.00000   0.0000   0.002470    651.000000   \n",
       "\n",
       "                     Moneyness  \n",
       " [QUOTE_READTIME]               \n",
       "2023-01-04 16:00:00   1.000418  \n",
       "2023-01-04 16:00:00   1.001715  \n",
       "2023-01-04 16:00:00   1.003013  \n",
       "2023-01-04 16:00:00   1.004310  \n",
       "2023-01-04 16:00:00   1.005608  \n",
       "\n",
       "[5 rows x 27 columns]"
      ]
     },
     "execution_count": 10,
     "metadata": {},
     "output_type": "execute_result"
    }
   ],
   "source": [
    "K_T_all.head()"
   ]
  },
  {
   "cell_type": "code",
   "execution_count": null,
   "metadata": {},
   "outputs": [],
   "source": [
    "bid = np.array(K_T_all[' [C_BID]'])\n",
    "ask = np.array(K_T_all[' [C_ASK]'])"
   ]
  },
  {
   "cell_type": "code",
   "execution_count": null,
   "metadata": {},
   "outputs": [
    {
     "name": "stderr",
     "output_type": "stream",
     "text": [
      "C:\\Users\\caspa\\AppData\\Local\\Temp\\ipykernel_31516\\346656941.py:7: RuntimeWarning: divide by zero encountered in divide\n",
      "  b_a = pd.Series((ask - bid) / bid)\n"
     ]
    }
   ],
   "source": [
    "#convert ' ' to nan\n",
    "bid[bid == ' '] = np.nan\n",
    "ask[ask == ' '] = np.nan\n",
    "#convert to float\n",
    "bid = bid.astype(float)\n",
    "ask = ask.astype(float)\n",
    "b_a = pd.Series((ask - bid) / bid)\n",
    "K_T_all['B/O spread'] = np.array(b_a)"
   ]
  },
  {
   "cell_type": "code",
   "execution_count": null,
   "metadata": {},
   "outputs": [
    {
     "name": "stdout",
     "output_type": "stream",
     "text": [
      "0.7\n",
      "0.85\n",
      "0.21428571428571433\n"
     ]
    }
   ],
   "source": [
    "print(bid[10000])\n",
    "print(ask[10000])\n",
    "print(b_a[10000])"
   ]
  },
  {
   "cell_type": "code",
   "execution_count": 56,
   "metadata": {},
   "outputs": [
    {
     "data": {
      "text/plain": [
       "<matplotlib.lines.Line2D at 0x1d677014f10>"
      ]
     },
     "execution_count": 56,
     "metadata": {},
     "output_type": "execute_result"
    },
    {
     "data": {
      "image/png": "[encoded data removed]",
      "text/plain": [
       "<Figure size 800x600 with 1 Axes>"
      ]
     },
     "metadata": {},
     "output_type": "display_data"
    }
   ],
   "source": [
    "#histogram of the moneyness\n",
    "plt.figure(figsize=(8,6))\n",
    "K_T_all['Log Moneyness'].plot(kind='hist', bins=200, range=(-0.5,0.5), density=True, color='grey')\n",
    "#set x-axis label\n",
    "plt.xlabel('Log Moneyness', size=22)\n",
    "#set y-axis label\n",
    "plt.ylabel('Frequency Density', size=22)\n",
    "# set axis size\n",
    "plt.xticks(size=22)\n",
    "plt.yticks(size=22)\n",
    "plt.axvline(x=-0.17, color='#5977E3', linestyle='--', linewidth=2)\n",
    "plt.axvline(x=0.17, color='#5977E3', linestyle='--', linewidth=2)"
   ]
  },
  {
   "cell_type": "code",
   "execution_count": 63,
   "metadata": {},
   "outputs": [
    {
     "data": {
      "text/plain": [
       "(array([0.    , 0.0025, 0.005 , 0.0075, 0.01  , 0.0125, 0.015 , 0.0175,\n",
       "        0.02  , 0.0225]),\n",
       " [Text(0, 0.0, '0.00'),\n",
       "  Text(0, 0.0025, '0.00'),\n",
       "  Text(0, 0.005, '0.01'),\n",
       "  Text(0, 0.0075, '0.01'),\n",
       "  Text(0, 0.01, '0.01'),\n",
       "  Text(0, 0.0125, '0.01'),\n",
       "  Text(0, 0.015, '0.01'),\n",
       "  Text(0, 0.0175, '0.02'),\n",
       "  Text(0, 0.02, '0.02'),\n",
       "  Text(0, 0.0225, '0.02')])"
      ]
     },
     "execution_count": 63,
     "metadata": {},
     "output_type": "execute_result"
    },
    {
     "data": {
      "image/png": "[encoded data removed]",
      "text/plain": [
       "<Figure size 800x600 with 1 Axes>"
      ]
     },
     "metadata": {},
     "output_type": "display_data"
    }
   ],
   "source": [
    "#make a barplot showing the frequency of DTE, show range from 0 to 367 days and make it relative frequency\n",
    "K_T_all[' [DTE]'].plot(kind='hist', bins=200, range=(0,450), density=True, color='grey', figsize=(8,6))\n",
    "#set x-axis label\n",
    "plt.xlabel('Days to Maturity', size=22)\n",
    "#set y-axis label\n",
    "lbls = np.array([0,30,60,90,120,150,180,210,240,270,300,330,360,450])\n",
    "plt.xticks(lbls, size=18, rotation=45)\n",
    "#only 2 digits on y-axis\n",
    "plt.gca().yaxis.set_major_formatter(plt.FormatStrFormatter('%.2f'))\n",
    "plt.ylabel('Frequency Density', size=22)\n",
    "plt.yticks(size=22)"
   ]
  },
  {
   "cell_type": "code",
   "execution_count": 29,
   "metadata": {},
   "outputs": [],
   "source": [
    "#filter outliers\n",
    "K_T_all_copy = K_T_all[K_T_all['B/O spread'] < 40]\n",
    "#filter days\n",
    "K_T_all_copy = K_T_all_copy[K_T_all_copy[' [DTE]'] < 450]"
   ]
  },
  {
   "cell_type": "code",
   "execution_count": 30,
   "metadata": {},
   "outputs": [
    {
     "data": {
      "text/plain": [
       "Text(0, 0.5, '% Bid/Ask spread')"
      ]
     },
     "execution_count": 30,
     "metadata": {},
     "output_type": "execute_result"
    },
    {
     "data": {
      "image/png": "[encoded data removed]",
      "text/plain": [
       "<Figure size 800x600 with 1 Axes>"
      ]
     },
     "metadata": {},
     "output_type": "display_data"
    }
   ],
   "source": [
    "plt.figure(figsize=(8,6))\n",
    "plt.scatter(K_T_all_copy[' [DTE]'], K_T_all_copy['B/O spread'],color='grey')\n",
    "plt.xlabel('Days to Maturity')\n",
    "plt.ylabel('% Bid/Ask spread')\n"
   ]
  },
  {
   "cell_type": "code",
   "execution_count": 6,
   "metadata": {},
   "outputs": [],
   "source": [
    "def rBergomi_pricer(H, eta, rho, v0, tau, K, S0, MC_samples=60000):\n",
    "#pricer taken from https://github.com/ryanmccrickerd/rough_bergomi implementation\n",
    "    \"\"\"Computes European Call price under rBergomi dynamics with MC sampling.\n",
    "    \n",
    "    Parameters:\n",
    "    -----------\n",
    "        H: Hurst parameter\n",
    "        eta: volatility of variance\n",
    "        rho: correlation between stock and vol\n",
    "        v0: spot variance\n",
    "        tau: time to maturity in years (365 trading days per year)\n",
    "        K: strike price\n",
    "    \"\"\"\n",
    "    try:\n",
    "        rB = rBergomi(n=365, N=MC_samples, T=tau, a=H-0.5)\n",
    "        dW1, dW2 = rB.dW1(), rB.dW2()\n",
    "        Y = rB.Y(dW1)\n",
    "        dB = rB.dB(dW1, dW2, rho)\n",
    "        xi = v0\n",
    "        V = rB.V(Y, xi, eta)\n",
    "        S = rB.S(V, dB)\n",
    "        ST = S[:, -1]\n",
    "        price = np.mean(np.maximum(ST-K, 0))\n",
    "    except:\n",
    "        return np.nan, np.nan\n",
    "    \n",
    "    # check numerical stability\n",
    "    if price <= 0 or price + K < S0:\n",
    "        iv = np.nan\n",
    "        logging.debug(\"NumStabProblem: Price {}. Intrinsic {}. Time {}. Strike {}.\".format(price, S0-K, tau, K))\n",
    "    else:\n",
    "        logging.debug(\"Success: Price {} > intrinsic {}\".format(price, S0-K))\n",
    "        iv = implied_volatility(price, S0, K, tau, 0, 'c')\n",
    "    return price, iv"
   ]
  },
  {
   "cell_type": "code",
   "execution_count": 7,
   "metadata": {},
   "outputs": [],
   "source": [
    "# PARAMETERS\n",
    "n_samples = K_T.shape[0]\n",
    "\n",
    "# Market params\n",
    "S0 = 1."
   ]
  },
  {
   "cell_type": "code",
   "execution_count": 8,
   "metadata": {},
   "outputs": [],
   "source": [
    "from scipy.stats import truncnorm\n",
    "\n",
    "def param_generator(H_generator=truncnorm(-1.2, 8.6, 0.07, 0.05), \n",
    "                    eta_generator=truncnorm(-3, 3, 2.5, 0.5), \n",
    "                    rho_generator=truncnorm(-0.25, 2.25, -0.95, 0.2), \n",
    "                    v0_generator=truncnorm(-2.5, 7, 0.3, 0.3)):#adjusted\n",
    "    rslt = {\n",
    "        'H': H_generator.rvs(),\n",
    "        'eta': eta_generator.rvs(),\n",
    "        'rho': rho_generator.rvs(),\n",
    "        'v0': v0_generator.rvs() ** 2\n",
    "    }\n",
    "    return rslt"
   ]
  },
  {
   "cell_type": "code",
   "execution_count": 9,
   "metadata": {},
   "outputs": [],
   "source": [
    "def generate_rBergomi_sample(K, T, param_generator, S0=1.0):\n",
    "    \"\"\" Generates a rBergomi sample with random parameters\n",
    "    \"\"\"\n",
    "    counter = 0\n",
    "    while counter < 1:\n",
    "        params = param_generator()\n",
    "        H, eta, rho, v0 = params['H'], params['eta'], params['rho'], params['v0']\n",
    "        _, iv = rBergomi_pricer(H, eta, rho, v0, T, K, S0)\n",
    "        if np.isnan(iv):\n",
    "            counter += 1\n",
    "        else:\n",
    "            break\n",
    "    else:\n",
    "        logging.warning(\"Tried 10 times, none valid sample obtained.\")\n",
    "    sample = {\n",
    "        'H': H,\n",
    "        'eta': eta,\n",
    "        'rho': rho,\n",
    "        'v0': v0,\n",
    "        'iv': iv\n",
    "    }\n",
    "    return sample"
   ]
  },
  {
   "cell_type": "code",
   "execution_count": 6,
   "metadata": {},
   "outputs": [
    {
     "data": {
      "text/plain": [
       "483"
      ]
     },
     "execution_count": 6,
     "metadata": {},
     "output_type": "execute_result"
    }
   ],
   "source": [
    "import gc\n",
    "gc.collect()"
   ]
  },
  {
   "cell_type": "code",
   "execution_count": 11,
   "metadata": {},
   "outputs": [
    {
     "name": "stderr",
     "output_type": "stream",
     "text": [
      "  0%|          | 2/1000 [00:05<44:45,  2.69s/it]2023-05-11 18:04:06,919 - WARNING - Tried 10 times, none valid sample obtained.\n",
      "  3%|▎         | 33/1000 [01:35<36:56,  2.29s/it]  2023-05-11 18:05:37,108 - WARNING - Tried 10 times, none valid sample obtained.\n",
      "  5%|▌         | 52/1000 [02:31<39:25,  2.50s/it]  2023-05-11 18:06:38,842 - WARNING - Tried 10 times, none valid sample obtained.\n",
      "  6%|▋         | 63/1000 [02:59<23:38,  1.51s/it]2023-05-11 18:07:05,976 - WARNING - Tried 10 times, none valid sample obtained.\n",
      "  8%|▊         | 82/1000 [03:52<21:41,  1.42s/it]  2023-05-11 18:07:54,728 - WARNING - Tried 10 times, none valid sample obtained.\n",
      " 11%|█         | 109/1000 [05:11<22:33,  1.52s/it]  2023-05-11 18:09:13,219 - WARNING - Tried 10 times, none valid sample obtained.\n",
      " 14%|█▍        | 144/1000 [06:30<19:40,  1.38s/it]2023-05-11 18:10:31,694 - WARNING - Tried 10 times, none valid sample obtained.\n",
      " 16%|█▌        | 157/1000 [07:01<25:55,  1.85s/it]2023-05-11 18:11:03,520 - WARNING - Tried 10 times, none valid sample obtained.\n",
      " 16%|█▋        | 164/1000 [07:19<38:38,  2.77s/it]2023-05-11 18:11:20,553 - WARNING - Tried 10 times, none valid sample obtained.\n",
      " 18%|█▊        | 184/1000 [08:15<38:27,  2.83s/it]  2023-05-11 18:12:17,218 - WARNING - Tried 10 times, none valid sample obtained.\n",
      " 20%|██        | 204/1000 [08:55<30:34,  2.31s/it]2023-05-11 18:13:02,783 - WARNING - Tried 10 times, none valid sample obtained.\n",
      " 27%|██▋       | 268/1000 [11:33<26:26,  2.17s/it]  2023-05-11 18:15:34,963 - WARNING - Tried 10 times, none valid sample obtained.\n",
      " 28%|██▊       | 282/1000 [12:02<21:37,  1.81s/it]2023-05-11 18:16:05,204 - WARNING - Tried 10 times, none valid sample obtained.\n",
      " 29%|██▉       | 293/1000 [12:26<24:42,  2.10s/it]2023-05-11 18:16:29,903 - WARNING - Tried 10 times, none valid sample obtained.\n",
      " 37%|███▋      | 371/1000 [15:43<22:13,  2.12s/it]2023-05-11 18:19:45,460 - WARNING - Tried 10 times, none valid sample obtained.\n",
      " 39%|███▉      | 392/1000 [16:28<25:07,  2.48s/it]2023-05-11 18:20:30,173 - WARNING - Tried 10 times, none valid sample obtained.\n",
      " 42%|████▏     | 419/1000 [17:28<14:58,  1.55s/it]2023-05-11 18:21:30,171 - WARNING - Tried 10 times, none valid sample obtained.\n",
      " 42%|████▏     | 423/1000 [17:43<39:49,  4.14s/it]2023-05-11 18:21:46,513 - WARNING - Tried 10 times, none valid sample obtained.\n",
      " 44%|████▍     | 438/1000 [18:03<07:06,  1.32it/s]2023-05-11 18:22:05,498 - WARNING - Tried 10 times, none valid sample obtained.\n",
      " 46%|████▌     | 460/1000 [18:33<06:58,  1.29it/s]2023-05-11 18:22:36,417 - WARNING - Tried 10 times, none valid sample obtained.\n",
      " 52%|█████▏    | 519/1000 [21:35<23:37,  2.95s/it]2023-05-11 18:25:37,225 - WARNING - Tried 10 times, none valid sample obtained.\n",
      " 56%|█████▌    | 562/1000 [23:35<21:04,  2.89s/it]2023-05-11 18:27:36,437 - WARNING - Tried 10 times, none valid sample obtained.\n",
      " 57%|█████▋    | 574/1000 [24:06<24:36,  3.47s/it]2023-05-11 18:28:07,968 - WARNING - Tried 10 times, none valid sample obtained.\n",
      " 64%|██████▎   | 636/1000 [26:22<11:21,  1.87s/it]2023-05-11 18:30:24,043 - WARNING - Tried 10 times, none valid sample obtained.\n",
      " 66%|██████▌   | 656/1000 [27:17<12:03,  2.10s/it]2023-05-11 18:31:20,114 - WARNING - Tried 10 times, none valid sample obtained.\n",
      " 68%|██████▊   | 675/1000 [28:00<17:21,  3.20s/it]2023-05-11 18:32:02,253 - WARNING - Tried 10 times, none valid sample obtained.\n",
      " 68%|██████▊   | 677/1000 [28:03<13:37,  2.53s/it]2023-05-11 18:32:13,691 - WARNING - Tried 10 times, none valid sample obtained.\n",
      " 68%|██████▊   | 680/1000 [28:15<14:48,  2.78s/it]2023-05-11 18:32:17,188 - WARNING - Tried 10 times, none valid sample obtained.\n",
      " 74%|███████▍  | 738/1000 [30:29<09:54,  2.27s/it]2023-05-11 18:34:30,653 - WARNING - Tried 10 times, none valid sample obtained.\n",
      " 74%|███████▍  | 741/1000 [30:31<05:43,  1.33s/it]2023-05-11 18:34:32,920 - WARNING - Tried 10 times, none valid sample obtained.\n",
      " 76%|███████▌  | 756/1000 [31:20<21:30,  5.29s/it]2023-05-11 18:35:24,577 - WARNING - Tried 10 times, none valid sample obtained.\n",
      " 78%|███████▊  | 781/1000 [32:41<08:03,  2.21s/it]2023-05-11 18:36:44,400 - WARNING - Tried 10 times, none valid sample obtained.\n",
      " 86%|████████▌ | 855/1000 [35:45<02:56,  1.21s/it]2023-05-11 18:39:47,786 - WARNING - Tried 10 times, none valid sample obtained.\n",
      " 89%|████████▉ | 894/1000 [37:00<02:46,  1.57s/it]2023-05-11 18:41:03,375 - WARNING - Tried 10 times, none valid sample obtained.\n",
      " 92%|█████████▏| 916/1000 [37:55<06:27,  4.61s/it]2023-05-11 18:41:57,314 - WARNING - Tried 10 times, none valid sample obtained.\n",
      " 93%|█████████▎| 926/1000 [38:28<04:28,  3.63s/it]2023-05-11 18:42:29,780 - WARNING - Tried 10 times, none valid sample obtained.\n",
      " 97%|█████████▋| 974/1000 [40:22<01:03,  2.44s/it]2023-05-11 18:44:23,635 - WARNING - Tried 10 times, none valid sample obtained.\n",
      " 99%|█████████▉| 989/1000 [41:06<00:42,  3.82s/it]2023-05-11 18:45:07,817 - WARNING - Tried 10 times, none valid sample obtained.\n",
      " 99%|█████████▉| 990/1000 [41:06<00:28,  2.84s/it]2023-05-11 18:45:10,663 - WARNING - Tried 10 times, none valid sample obtained.\n",
      " 99%|█████████▉| 991/1000 [41:09<00:25,  2.84s/it]2023-05-11 18:45:14,635 - WARNING - Tried 10 times, none valid sample obtained.\n",
      "100%|██████████| 1000/1000 [41:29<00:00,  2.49s/it]\n",
      "  4%|▍         | 44/1000 [02:13<29:58,  1.88s/it]  2023-05-11 18:47:44,613 - WARNING - Tried 10 times, none valid sample obtained.\n",
      "  6%|▌         | 58/1000 [02:27<25:13,  1.61s/it]2023-05-11 18:47:58,274 - WARNING - Tried 10 times, none valid sample obtained.\n",
      "  6%|▋         | 64/1000 [02:37<30:09,  1.93s/it]2023-05-11 18:48:08,889 - WARNING - Tried 10 times, none valid sample obtained.\n",
      "  9%|▉         | 93/1000 [03:57<35:46,  2.37s/it]  2023-05-11 18:49:28,095 - WARNING - Tried 10 times, none valid sample obtained.\n",
      " 10%|▉         | 98/1000 [04:06<36:04,  2.40s/it]2023-05-11 18:49:37,703 - WARNING - Tried 10 times, none valid sample obtained.\n",
      " 11%|█         | 106/1000 [04:37<43:50,  2.94s/it]  2023-05-11 18:50:08,315 - WARNING - Tried 10 times, none valid sample obtained.\n",
      " 13%|█▎        | 130/1000 [05:31<27:05,  1.87s/it]2023-05-11 18:51:09,787 - WARNING - Tried 10 times, none valid sample obtained.\n",
      " 14%|█▍        | 140/1000 [06:03<36:41,  2.56s/it]  2023-05-11 18:51:41,180 - WARNING - Tried 10 times, none valid sample obtained.\n",
      " 18%|█▊        | 180/1000 [08:01<19:49,  1.45s/it]  2023-05-11 18:53:31,770 - WARNING - Tried 10 times, none valid sample obtained.\n",
      " 18%|█▊        | 183/1000 [08:02<12:40,  1.07it/s]2023-05-11 18:53:33,595 - WARNING - Tried 10 times, none valid sample obtained.\n",
      " 25%|██▌       | 251/1000 [10:35<44:57,  3.60s/it]2023-05-11 18:56:06,464 - WARNING - Tried 10 times, none valid sample obtained.\n",
      " 26%|██▌       | 262/1000 [11:03<19:02,  1.55s/it]2023-05-11 18:56:35,467 - WARNING - Tried 10 times, none valid sample obtained.\n",
      " 32%|███▏      | 322/1000 [13:27<22:50,  2.02s/it]  2023-05-11 18:58:58,564 - WARNING - Tried 10 times, none valid sample obtained.\n",
      " 33%|███▎      | 330/1000 [13:46<35:39,  3.19s/it]2023-05-11 18:59:17,666 - WARNING - Tried 10 times, none valid sample obtained.\n",
      " 33%|███▎      | 333/1000 [13:55<40:21,  3.63s/it]2023-05-11 18:59:26,909 - WARNING - Tried 10 times, none valid sample obtained.\n",
      " 34%|███▍      | 345/1000 [14:19<16:01,  1.47s/it]2023-05-11 18:59:50,799 - WARNING - Tried 10 times, none valid sample obtained.\n",
      " 40%|████      | 401/1000 [16:52<18:54,  1.89s/it]2023-05-11 19:02:23,537 - WARNING - Tried 10 times, none valid sample obtained.\n",
      " 42%|████▏     | 416/1000 [17:31<28:18,  2.91s/it]2023-05-11 19:03:04,251 - WARNING - Tried 10 times, none valid sample obtained.\n",
      " 42%|████▏     | 424/1000 [17:46<28:51,  3.01s/it]2023-05-11 19:03:16,841 - WARNING - Tried 10 times, none valid sample obtained.\n",
      " 47%|████▋     | 471/1000 [19:49<26:43,  3.03s/it]2023-05-11 19:05:22,469 - WARNING - Tried 10 times, none valid sample obtained.\n",
      " 53%|█████▎    | 533/1000 [22:08<08:46,  1.13s/it]2023-05-11 19:07:39,706 - WARNING - Tried 10 times, none valid sample obtained.\n",
      " 56%|█████▌    | 562/1000 [23:09<24:34,  3.37s/it]2023-05-11 19:08:40,149 - WARNING - Tried 10 times, none valid sample obtained.\n",
      " 58%|█████▊    | 584/1000 [24:03<16:09,  2.33s/it]2023-05-11 19:09:34,672 - WARNING - Tried 10 times, none valid sample obtained.\n",
      " 59%|█████▉    | 588/1000 [24:11<15:40,  2.28s/it]2023-05-11 19:09:46,991 - WARNING - Tried 10 times, none valid sample obtained.\n",
      " 68%|██████▊   | 679/1000 [27:54<09:26,  1.76s/it]2023-05-11 19:13:25,833 - WARNING - Tried 10 times, none valid sample obtained.\n",
      " 71%|███████   | 711/1000 [29:10<18:09,  3.77s/it]2023-05-11 19:14:41,507 - WARNING - Tried 10 times, none valid sample obtained.\n",
      " 79%|███████▉  | 794/1000 [32:52<22:16,  6.49s/it]2023-05-11 19:18:23,799 - WARNING - Tried 10 times, none valid sample obtained.\n",
      " 80%|████████  | 803/1000 [33:08<06:35,  2.01s/it]2023-05-11 19:18:38,921 - WARNING - Tried 10 times, none valid sample obtained.\n",
      " 84%|████████▍ | 838/1000 [34:59<09:23,  3.48s/it]2023-05-11 19:20:30,240 - WARNING - Tried 10 times, none valid sample obtained.\n",
      " 87%|████████▋ | 870/1000 [36:28<06:44,  3.11s/it]2023-05-11 19:21:59,813 - WARNING - Tried 10 times, none valid sample obtained.\n",
      " 88%|████████▊ | 875/1000 [36:43<08:41,  4.17s/it]2023-05-11 19:22:14,135 - WARNING - Tried 10 times, none valid sample obtained.\n",
      " 91%|█████████ | 909/1000 [38:31<04:23,  2.90s/it]2023-05-11 19:24:01,982 - WARNING - Tried 10 times, none valid sample obtained.\n",
      " 92%|█████████▏| 917/1000 [38:48<04:21,  3.15s/it]2023-05-11 19:24:19,077 - WARNING - Tried 10 times, none valid sample obtained.\n",
      " 97%|█████████▋| 966/1000 [40:43<01:05,  1.92s/it]2023-05-11 19:26:15,082 - WARNING - Tried 10 times, none valid sample obtained.\n",
      " 98%|█████████▊| 976/1000 [41:02<00:44,  1.87s/it]2023-05-11 19:26:36,884 - WARNING - Tried 10 times, none valid sample obtained.\n",
      " 98%|█████████▊| 985/1000 [41:30<00:32,  2.19s/it]2023-05-11 19:27:02,969 - WARNING - Tried 10 times, none valid sample obtained.\n",
      " 99%|█████████▊| 986/1000 [41:32<00:29,  2.10s/it]2023-05-11 19:27:05,292 - WARNING - Tried 10 times, none valid sample obtained.\n",
      " 99%|█████████▉| 993/1000 [41:44<00:10,  1.52s/it]2023-05-11 19:27:21,389 - WARNING - Tried 10 times, none valid sample obtained.\n",
      "100%|█████████▉| 996/1000 [41:54<00:09,  2.45s/it]2023-05-11 19:27:29,103 - WARNING - Tried 10 times, none valid sample obtained.\n",
      "100%|██████████| 1000/1000 [42:04<00:00,  2.52s/it]\n",
      "  1%|          | 10/1000 [00:17<28:29,  1.73s/it]2023-05-11 19:27:53,438 - WARNING - Tried 10 times, none valid sample obtained.\n",
      "  2%|▏         | 17/1000 [00:32<28:25,  1.74s/it]2023-05-11 19:28:08,457 - WARNING - Tried 10 times, none valid sample obtained.\n",
      "  3%|▎         | 30/1000 [00:54<32:50,  2.03s/it]2023-05-11 19:28:30,631 - WARNING - Tried 10 times, none valid sample obtained.\n",
      "  5%|▌         | 54/1000 [01:59<37:08,  2.36s/it]  2023-05-11 19:29:35,581 - WARNING - Tried 10 times, none valid sample obtained.\n",
      " 10%|█         | 101/1000 [03:35<21:30,  1.44s/it] 2023-05-11 19:31:16,388 - WARNING - Tried 10 times, none valid sample obtained.\n",
      " 12%|█▏        | 115/1000 [04:10<39:15,  2.66s/it]2023-05-11 19:31:47,748 - WARNING - Tried 10 times, none valid sample obtained.\n",
      " 13%|█▎        | 134/1000 [04:49<1:05:32,  4.54s/it]2023-05-11 19:32:26,249 - WARNING - Tried 10 times, none valid sample obtained.\n",
      " 16%|█▌        | 155/1000 [05:34<28:10,  2.00s/it]  2023-05-11 19:33:09,956 - WARNING - Tried 10 times, none valid sample obtained.\n",
      " 16%|█▌        | 159/1000 [05:36<12:08,  1.15it/s]2023-05-11 19:33:12,414 - WARNING - Tried 10 times, none valid sample obtained.\n",
      " 16%|█▋        | 163/1000 [05:45<24:32,  1.76s/it]2023-05-11 19:33:21,640 - WARNING - Tried 10 times, none valid sample obtained.\n",
      " 21%|██        | 210/1000 [07:43<27:09,  2.06s/it]  2023-05-11 19:35:19,756 - WARNING - Tried 10 times, none valid sample obtained.\n",
      " 22%|██▏       | 222/1000 [08:22<40:56,  3.16s/it]  2023-05-11 19:35:58,607 - WARNING - Tried 10 times, none valid sample obtained.\n",
      " 23%|██▎       | 232/1000 [08:47<21:45,  1.70s/it]  2023-05-11 19:36:23,445 - WARNING - Tried 10 times, none valid sample obtained.\n",
      " 26%|██▌       | 260/1000 [10:04<46:47,  3.79s/it]2023-05-11 19:37:40,167 - WARNING - Tried 10 times, none valid sample obtained.\n",
      " 28%|██▊       | 280/1000 [11:09<1:01:09,  5.10s/it]2023-05-11 19:38:46,947 - WARNING - Tried 10 times, none valid sample obtained.\n",
      " 34%|███▎      | 337/1000 [13:13<15:53,  1.44s/it]  2023-05-11 19:40:49,669 - WARNING - Tried 10 times, none valid sample obtained.\n",
      " 34%|███▍      | 340/1000 [13:21<26:17,  2.39s/it]2023-05-11 19:40:58,556 - WARNING - Tried 10 times, none valid sample obtained.\n",
      " 34%|███▍      | 341/1000 [13:23<23:08,  2.11s/it]2023-05-11 19:40:58,797 - WARNING - Tried 10 times, none valid sample obtained.\n",
      " 34%|███▍      | 345/1000 [13:39<39:48,  3.65s/it]2023-05-11 19:41:18,856 - WARNING - Tried 10 times, none valid sample obtained.\n",
      " 38%|███▊      | 384/1000 [15:28<20:10,  1.96s/it]2023-05-11 19:43:03,723 - WARNING - Tried 10 times, none valid sample obtained.\n",
      " 46%|████▋     | 464/1000 [18:35<16:24,  1.84s/it]2023-05-11 19:46:11,702 - WARNING - Tried 10 times, none valid sample obtained.\n",
      " 48%|████▊     | 480/1000 [19:14<20:34,  2.37s/it]2023-05-11 19:46:51,020 - WARNING - Tried 10 times, none valid sample obtained.\n",
      " 48%|████▊     | 481/1000 [19:15<15:59,  1.85s/it]2023-05-11 19:46:51,682 - WARNING - Tried 10 times, none valid sample obtained.\n",
      " 48%|████▊     | 485/1000 [19:24<19:39,  2.29s/it]2023-05-11 19:46:59,993 - WARNING - Tried 10 times, none valid sample obtained.\n",
      " 49%|████▉     | 492/1000 [19:42<24:56,  2.95s/it]2023-05-11 19:47:18,158 - WARNING - Tried 10 times, none valid sample obtained.\n",
      " 51%|█████     | 509/1000 [20:32<22:27,  2.74s/it]2023-05-11 19:48:08,429 - WARNING - Tried 10 times, none valid sample obtained.\n",
      " 52%|█████▏    | 518/1000 [20:52<20:10,  2.51s/it]2023-05-11 19:48:29,998 - WARNING - Tried 10 times, none valid sample obtained.\n",
      " 62%|██████▎   | 625/1000 [24:58<10:33,  1.69s/it]2023-05-11 19:52:35,297 - WARNING - Tried 10 times, none valid sample obtained.\n",
      " 65%|██████▌   | 651/1000 [25:58<13:00,  2.24s/it]2023-05-11 19:53:33,899 - WARNING - Tried 10 times, none valid sample obtained.\n",
      " 65%|██████▌   | 653/1000 [26:08<24:14,  4.19s/it]2023-05-11 19:53:44,446 - WARNING - Tried 10 times, none valid sample obtained.\n",
      " 77%|███████▋  | 767/1000 [31:23<05:16,  1.36s/it]2023-05-11 19:59:00,385 - WARNING - Tried 10 times, none valid sample obtained.\n",
      " 78%|███████▊  | 779/1000 [31:48<08:01,  2.18s/it]2023-05-11 19:59:24,522 - WARNING - Tried 10 times, none valid sample obtained.\n",
      " 80%|███████▉  | 796/1000 [32:22<04:00,  1.18s/it]2023-05-11 19:59:58,656 - WARNING - Tried 10 times, none valid sample obtained.\n",
      " 83%|████████▎ | 834/1000 [34:04<13:39,  4.93s/it]2023-05-11 20:01:48,196 - WARNING - Tried 10 times, none valid sample obtained.\n",
      " 85%|████████▌ | 852/1000 [34:40<03:00,  1.22s/it]2023-05-11 20:02:16,316 - WARNING - Tried 10 times, none valid sample obtained.\n",
      " 87%|████████▋ | 873/1000 [35:15<02:27,  1.16s/it]2023-05-11 20:02:51,240 - WARNING - Tried 10 times, none valid sample obtained.\n",
      " 88%|████████▊ | 875/1000 [35:16<01:59,  1.05it/s]2023-05-11 20:02:53,937 - WARNING - Tried 10 times, none valid sample obtained.\n",
      " 88%|████████▊ | 884/1000 [35:30<01:48,  1.07it/s]2023-05-11 20:03:06,650 - WARNING - Tried 10 times, none valid sample obtained.\n",
      " 92%|█████████▏| 923/1000 [37:18<02:27,  1.91s/it]2023-05-11 20:04:54,395 - WARNING - Tried 10 times, none valid sample obtained.\n",
      " 94%|█████████▍| 941/1000 [38:02<02:56,  3.00s/it]2023-05-11 20:05:39,923 - WARNING - Tried 10 times, none valid sample obtained.\n",
      " 96%|█████████▌| 959/1000 [38:53<02:55,  4.29s/it]2023-05-11 20:06:30,995 - WARNING - Tried 10 times, none valid sample obtained.\n",
      " 96%|█████████▋| 963/1000 [39:01<01:44,  2.81s/it]2023-05-11 20:06:47,335 - WARNING - Tried 10 times, none valid sample obtained.\n",
      " 98%|█████████▊| 982/1000 [40:01<01:17,  4.30s/it]2023-05-11 20:07:41,010 - WARNING - Tried 10 times, none valid sample obtained.\n",
      "100%|█████████▉| 999/1000 [40:41<00:01,  1.35s/it]2023-05-11 20:08:18,175 - WARNING - Tried 10 times, none valid sample obtained.\n",
      "100%|██████████| 1000/1000 [40:42<00:00,  1.34s/it]2023-05-11 20:08:20,397 - WARNING - Tried 10 times, none valid sample obtained.\n",
      "100%|██████████| 1000/1000 [40:45<00:00,  2.45s/it]\n",
      "  0%|          | 5/1000 [00:03<14:00,  1.18it/s]2023-05-11 20:08:25,017 - WARNING - Tried 10 times, none valid sample obtained.\n",
      "  1%|▏         | 13/1000 [00:36<1:09:06,  4.20s/it]2023-05-11 20:08:57,960 - WARNING - Tried 10 times, none valid sample obtained.\n",
      "  4%|▎         | 35/1000 [01:25<30:58,  1.93s/it]  2023-05-11 20:09:47,356 - WARNING - Tried 10 times, none valid sample obtained.\n",
      "  5%|▍         | 48/1000 [01:50<23:07,  1.46s/it]2023-05-11 20:10:11,846 - WARNING - Tried 10 times, none valid sample obtained.\n",
      "  6%|▌         | 58/1000 [02:10<30:18,  1.93s/it]2023-05-11 20:10:32,048 - WARNING - Tried 10 times, none valid sample obtained.\n",
      "  8%|▊         | 79/1000 [03:03<36:26,  2.37s/it]  2023-05-11 20:11:24,428 - WARNING - Tried 10 times, none valid sample obtained.\n",
      " 12%|█▏        | 116/1000 [04:36<29:27,  2.00s/it]  2023-05-11 20:12:57,475 - WARNING - Tried 10 times, none valid sample obtained.\n",
      " 13%|█▎        | 130/1000 [05:18<40:38,  2.80s/it]  2023-05-11 20:13:38,946 - WARNING - Tried 10 times, none valid sample obtained.\n",
      " 13%|█▎        | 133/1000 [05:26<42:03,  2.91s/it]2023-05-11 20:13:48,028 - WARNING - Tried 10 times, none valid sample obtained.\n",
      " 15%|█▌        | 150/1000 [06:20<39:49,  2.81s/it]  2023-05-11 20:14:41,569 - WARNING - Tried 10 times, none valid sample obtained.\n",
      " 18%|█▊        | 182/1000 [07:23<27:38,  2.03s/it]2023-05-11 20:15:44,542 - WARNING - Tried 10 times, none valid sample obtained.\n",
      " 20%|█▉        | 196/1000 [07:58<51:42,  3.86s/it]2023-05-11 20:16:19,516 - WARNING - Tried 10 times, none valid sample obtained.\n",
      " 24%|██▎       | 235/1000 [09:25<28:39,  2.25s/it]2023-05-11 20:17:46,971 - WARNING - Tried 10 times, none valid sample obtained.\n",
      " 28%|██▊       | 275/1000 [11:52<54:33,  4.51s/it]  2023-05-11 20:20:14,907 - WARNING - Tried 10 times, none valid sample obtained.\n",
      " 29%|██▉       | 290/1000 [12:36<38:07,  3.22s/it]2023-05-11 20:20:59,722 - WARNING - Tried 10 times, none valid sample obtained.\n",
      " 30%|███       | 301/1000 [13:11<38:11,  3.28s/it]2023-05-11 20:21:32,525 - WARNING - Tried 10 times, none valid sample obtained.\n",
      " 35%|███▍      | 348/1000 [14:53<20:55,  1.93s/it]2023-05-11 20:23:18,851 - WARNING - Tried 10 times, none valid sample obtained.\n",
      " 38%|███▊      | 383/1000 [16:16<12:43,  1.24s/it]2023-05-11 20:24:37,270 - WARNING - Tried 10 times, none valid sample obtained.\n",
      " 43%|████▎     | 427/1000 [18:04<32:05,  3.36s/it]2023-05-11 20:26:28,257 - WARNING - Tried 10 times, none valid sample obtained.\n",
      " 44%|████▎     | 436/1000 [18:19<11:06,  1.18s/it]2023-05-11 20:26:40,246 - WARNING - Tried 10 times, none valid sample obtained.\n",
      " 47%|████▋     | 467/1000 [19:40<19:09,  2.16s/it]2023-05-11 20:28:01,174 - WARNING - Tried 10 times, none valid sample obtained.\n",
      " 48%|████▊     | 482/1000 [20:13<21:32,  2.50s/it]2023-05-11 20:28:34,798 - WARNING - Tried 10 times, none valid sample obtained.\n",
      " 50%|████▉     | 497/1000 [20:40<11:44,  1.40s/it]2023-05-11 20:29:02,582 - WARNING - Tried 10 times, none valid sample obtained.\n",
      " 58%|█████▊    | 584/1000 [24:26<16:07,  2.33s/it]2023-05-11 20:32:47,705 - WARNING - Tried 10 times, none valid sample obtained.\n",
      " 62%|██████▏   | 619/1000 [26:15<25:47,  4.06s/it]2023-05-11 20:34:36,083 - WARNING - Tried 10 times, none valid sample obtained.\n",
      " 65%|██████▍   | 646/1000 [27:28<15:14,  2.58s/it]2023-05-11 20:35:49,366 - WARNING - Tried 10 times, none valid sample obtained.\n",
      " 66%|██████▌   | 662/1000 [28:03<08:41,  1.54s/it]2023-05-11 20:36:25,711 - WARNING - Tried 10 times, none valid sample obtained.\n",
      " 67%|██████▋   | 671/1000 [28:26<09:53,  1.80s/it]2023-05-11 20:36:47,203 - WARNING - Tried 10 times, none valid sample obtained.\n",
      " 73%|███████▎  | 726/1000 [30:31<04:08,  1.10it/s]2023-05-11 20:38:52,088 - WARNING - Tried 10 times, none valid sample obtained.\n",
      " 73%|███████▎  | 732/1000 [30:37<04:21,  1.03it/s]2023-05-11 20:39:00,303 - WARNING - Tried 10 times, none valid sample obtained.\n",
      " 75%|███████▍  | 747/1000 [31:04<07:42,  1.83s/it]2023-05-11 20:39:25,905 - WARNING - Tried 10 times, none valid sample obtained.\n",
      " 78%|███████▊  | 776/1000 [32:06<05:20,  1.43s/it]2023-05-11 20:40:27,874 - WARNING - Tried 10 times, none valid sample obtained.\n",
      " 78%|███████▊  | 778/1000 [32:13<09:41,  2.62s/it]2023-05-11 20:40:35,350 - WARNING - Tried 10 times, none valid sample obtained.\n",
      " 78%|███████▊  | 779/1000 [32:14<08:17,  2.25s/it]2023-05-11 20:40:35,982 - WARNING - Tried 10 times, none valid sample obtained.\n",
      " 84%|████████▍ | 839/1000 [34:55<08:45,  3.26s/it]2023-05-11 20:43:18,415 - WARNING - Tried 10 times, none valid sample obtained.\n",
      " 85%|████████▌ | 852/1000 [35:31<04:08,  1.68s/it]2023-05-11 20:43:52,224 - WARNING - Tried 10 times, none valid sample obtained.\n",
      " 86%|████████▌ | 862/1000 [35:52<05:37,  2.44s/it]2023-05-11 20:44:13,692 - WARNING - Tried 10 times, none valid sample obtained.\n",
      " 98%|█████████▊| 976/1000 [42:56<01:53,  4.74s/it]2023-05-11 20:51:21,513 - WARNING - Tried 10 times, none valid sample obtained.\n",
      "100%|██████████| 1000/1000 [45:00<00:00,  2.70s/it]\n",
      "  3%|▎         | 28/1000 [02:43<2:22:21,  8.79s/it]2023-05-11 20:56:06,529 - WARNING - Tried 10 times, none valid sample obtained.\n",
      "  3%|▎         | 31/1000 [03:01<1:47:49,  6.68s/it]2023-05-11 20:56:23,355 - WARNING - Tried 10 times, none valid sample obtained.\n",
      "  5%|▍         | 49/1000 [04:41<1:47:49,  6.80s/it]2023-05-11 20:58:04,672 - WARNING - Tried 10 times, none valid sample obtained.\n",
      "  5%|▌         | 51/1000 [04:46<1:12:45,  4.60s/it]2023-05-11 20:58:08,811 - WARNING - Tried 10 times, none valid sample obtained.\n",
      "  7%|▋         | 69/1000 [06:03<1:25:33,  5.51s/it]2023-05-11 20:59:25,785 - WARNING - Tried 10 times, none valid sample obtained.\n",
      "  8%|▊         | 84/1000 [06:41<36:17,  2.38s/it]  2023-05-11 21:00:04,723 - WARNING - Tried 10 times, none valid sample obtained.\n",
      " 11%|█         | 110/1000 [08:24<1:37:52,  6.60s/it]2023-05-11 21:01:46,427 - WARNING - Tried 10 times, none valid sample obtained.\n",
      " 12%|█▎        | 125/1000 [09:27<1:24:39,  5.81s/it]2023-05-11 21:02:51,017 - WARNING - Tried 10 times, none valid sample obtained.\n",
      " 16%|█▋        | 165/1000 [13:21<1:06:09,  4.75s/it]2023-05-11 21:06:43,506 - WARNING - Tried 10 times, none valid sample obtained.\n",
      " 18%|█▊        | 175/1000 [14:02<41:02,  2.98s/it]  2023-05-11 21:07:24,633 - WARNING - Tried 10 times, none valid sample obtained.\n",
      " 18%|█▊        | 176/1000 [14:03<31:31,  2.30s/it]2023-05-11 21:07:27,070 - WARNING - Tried 10 times, none valid sample obtained.\n",
      " 18%|█▊        | 180/1000 [14:15<32:38,  2.39s/it]  2023-05-11 21:07:40,771 - WARNING - Tried 10 times, none valid sample obtained.\n",
      " 20%|██        | 205/1000 [15:25<20:42,  1.56s/it]  2023-05-11 21:08:48,677 - WARNING - Tried 10 times, none valid sample obtained.\n",
      " 28%|██▊       | 276/1000 [21:15<26:10,  2.17s/it]  2023-05-11 21:14:38,282 - WARNING - Tried 10 times, none valid sample obtained.\n",
      " 28%|██▊       | 284/1000 [22:09<1:39:58,  8.38s/it]2023-05-11 21:15:32,276 - WARNING - Tried 10 times, none valid sample obtained.\n",
      " 35%|███▍      | 346/1000 [26:39<51:54,  4.76s/it]  2023-05-11 21:20:13,809 - WARNING - Tried 10 times, none valid sample obtained.\n",
      " 40%|████      | 400/1000 [30:47<59:16,  5.93s/it]  2023-05-11 21:24:10,875 - WARNING - Tried 10 times, none valid sample obtained.\n",
      " 43%|████▎     | 429/1000 [33:32<37:57,  3.99s/it]  2023-05-11 21:26:54,519 - WARNING - Tried 10 times, none valid sample obtained.\n",
      " 48%|████▊     | 483/1000 [37:38<46:52,  5.44s/it]  2023-05-11 21:31:01,189 - WARNING - Tried 10 times, none valid sample obtained.\n",
      " 49%|████▊     | 486/1000 [37:43<26:46,  3.13s/it]2023-05-11 21:31:06,750 - WARNING - Tried 10 times, none valid sample obtained.\n",
      " 51%|█████▏    | 514/1000 [39:25<28:51,  3.56s/it]2023-05-11 21:32:47,194 - WARNING - Tried 10 times, none valid sample obtained.\n",
      " 57%|█████▋    | 567/1000 [42:37<26:43,  3.70s/it]2023-05-11 21:35:59,205 - WARNING - Tried 10 times, none valid sample obtained.\n",
      " 58%|█████▊    | 577/1000 [43:47<1:07:58,  9.64s/it]2023-05-11 21:37:10,194 - WARNING - Tried 10 times, none valid sample obtained.\n",
      " 60%|██████    | 601/1000 [45:09<16:28,  2.48s/it]  2023-05-11 21:38:31,631 - WARNING - Tried 10 times, none valid sample obtained.\n",
      " 61%|██████    | 606/1000 [45:17<11:09,  1.70s/it]2023-05-11 21:38:39,299 - WARNING - Tried 10 times, none valid sample obtained.\n",
      " 65%|██████▌   | 654/1000 [48:55<25:57,  4.50s/it]2023-05-11 21:42:20,947 - WARNING - Tried 10 times, none valid sample obtained.\n",
      " 69%|██████▊   | 687/1000 [52:34<39:27,  7.56s/it]2023-05-11 21:46:10,963 - WARNING - Tried 10 times, none valid sample obtained.\n",
      " 77%|███████▋  | 773/1000 [59:13<15:58,  4.22s/it]2023-05-11 21:52:52,629 - WARNING - Tried 10 times, none valid sample obtained.\n",
      " 78%|███████▊  | 775/1000 [59:32<23:14,  6.20s/it]2023-05-11 21:52:55,043 - WARNING - Tried 10 times, none valid sample obtained.\n",
      " 79%|███████▊  | 786/1000 [1:00:21<15:26,  4.33s/it]2023-05-11 21:53:43,857 - WARNING - Tried 10 times, none valid sample obtained.\n",
      " 80%|███████▉  | 796/1000 [1:00:54<15:33,  4.58s/it]2023-05-11 21:54:16,386 - WARNING - Tried 10 times, none valid sample obtained.\n",
      " 80%|███████▉  | 799/1000 [1:01:11<17:58,  5.36s/it]2023-05-11 21:54:33,187 - WARNING - Tried 10 times, none valid sample obtained.\n",
      " 85%|████████▌ | 853/1000 [1:04:57<04:59,  2.04s/it]2023-05-11 21:58:20,587 - WARNING - Tried 10 times, none valid sample obtained.\n",
      " 92%|█████████▏| 919/1000 [1:09:08<06:37,  4.91s/it]2023-05-11 22:02:30,137 - WARNING - Tried 10 times, none valid sample obtained.\n",
      " 94%|█████████▍| 944/1000 [1:10:33<03:49,  4.11s/it]2023-05-11 22:03:56,584 - WARNING - Tried 10 times, none valid sample obtained.\n",
      " 97%|█████████▋| 969/1000 [1:11:38<01:18,  2.54s/it]2023-05-11 22:05:02,196 - WARNING - Tried 10 times, none valid sample obtained.\n",
      "100%|██████████| 1000/1000 [1:13:04<00:00,  4.38s/it]\n",
      "  2%|▏         | 22/1000 [01:35<52:11,  3.20s/it]  2023-05-11 22:08:11,289 - WARNING - Tried 10 times, none valid sample obtained.\n",
      "  2%|▏         | 24/1000 [01:46<1:07:42,  4.16s/it]2023-05-11 22:08:13,567 - WARNING - Tried 10 times, none valid sample obtained.\n",
      "  6%|▌         | 58/1000 [03:45<1:08:32,  4.37s/it]2023-05-11 22:10:16,078 - WARNING - Tried 10 times, none valid sample obtained.\n",
      "  7%|▋         | 66/1000 [04:13<47:11,  3.03s/it]  2023-05-11 22:10:40,860 - WARNING - Tried 10 times, none valid sample obtained.\n",
      "  7%|▋         | 70/1000 [04:37<1:53:55,  7.35s/it]2023-05-11 22:11:12,553 - WARNING - Tried 10 times, none valid sample obtained.\n",
      "  8%|▊         | 78/1000 [04:57<34:39,  2.26s/it]  2023-05-11 22:11:35,533 - WARNING - Tried 10 times, none valid sample obtained.\n",
      "  9%|▉         | 91/1000 [06:07<1:02:43,  4.14s/it]2023-05-11 22:12:35,618 - WARNING - Tried 10 times, none valid sample obtained.\n",
      " 11%|█         | 106/1000 [06:52<47:14,  3.17s/it]  2023-05-11 22:13:19,540 - WARNING - Tried 10 times, none valid sample obtained.\n",
      " 15%|█▌        | 151/1000 [08:57<43:25,  3.07s/it]  2023-05-11 22:15:35,622 - WARNING - Tried 10 times, none valid sample obtained.\n",
      " 17%|█▋        | 166/1000 [09:38<36:27,  2.62s/it]  2023-05-11 22:16:05,341 - WARNING - Tried 10 times, none valid sample obtained.\n",
      " 17%|█▋        | 173/1000 [09:51<27:04,  1.96s/it]2023-05-11 22:16:18,299 - WARNING - Tried 10 times, none valid sample obtained.\n",
      " 18%|█▊        | 181/1000 [10:11<52:30,  3.85s/it]2023-05-11 22:16:38,053 - WARNING - Tried 10 times, none valid sample obtained.\n",
      " 18%|█▊        | 182/1000 [10:11<39:12,  2.88s/it]2023-05-11 22:16:41,596 - WARNING - Tried 10 times, none valid sample obtained.\n",
      " 26%|██▋       | 265/1000 [12:56<27:18,  2.23s/it]2023-05-11 22:19:23,361 - WARNING - Tried 10 times, none valid sample obtained.\n",
      " 34%|███▎      | 336/1000 [15:39<38:26,  3.47s/it]2023-05-11 22:22:07,245 - WARNING - Tried 10 times, none valid sample obtained.\n",
      " 38%|███▊      | 376/1000 [17:16<34:22,  3.31s/it]2023-05-11 22:23:43,311 - WARNING - Tried 10 times, none valid sample obtained.\n",
      " 38%|███▊      | 381/1000 [17:33<34:51,  3.38s/it]2023-05-11 22:23:59,614 - WARNING - Tried 10 times, none valid sample obtained.\n",
      " 39%|███▉      | 392/1000 [17:57<33:55,  3.35s/it]2023-05-11 22:24:23,766 - WARNING - Tried 10 times, none valid sample obtained.\n",
      " 40%|████      | 403/1000 [18:14<14:27,  1.45s/it]2023-05-11 22:24:40,509 - WARNING - Tried 10 times, none valid sample obtained.\n",
      " 41%|████      | 411/1000 [18:21<07:24,  1.33it/s]2023-05-11 22:24:47,636 - WARNING - Tried 10 times, none valid sample obtained.\n",
      " 44%|████▍     | 445/1000 [19:03<18:22,  1.99s/it]2023-05-11 22:25:35,818 - WARNING - Tried 10 times, none valid sample obtained.\n",
      " 49%|████▉     | 491/1000 [20:29<13:03,  1.54s/it]2023-05-11 22:26:56,065 - WARNING - Tried 10 times, none valid sample obtained.\n",
      " 55%|█████▍    | 545/1000 [22:12<10:22,  1.37s/it]2023-05-11 22:28:38,670 - WARNING - Tried 10 times, none valid sample obtained.\n",
      " 58%|█████▊    | 582/1000 [23:36<21:58,  3.15s/it]2023-05-11 22:30:02,840 - WARNING - Tried 10 times, none valid sample obtained.\n",
      " 64%|██████▍   | 642/1000 [26:01<13:30,  2.26s/it]2023-05-11 22:32:28,406 - WARNING - Tried 10 times, none valid sample obtained.\n",
      " 68%|██████▊   | 676/1000 [27:15<06:02,  1.12s/it]2023-05-11 22:33:41,961 - WARNING - Tried 10 times, none valid sample obtained.\n",
      " 71%|███████   | 708/1000 [28:31<08:29,  1.74s/it]2023-05-11 22:34:58,704 - WARNING - Tried 10 times, none valid sample obtained.\n",
      " 81%|████████▏ | 814/1000 [32:37<04:27,  1.44s/it]2023-05-11 22:39:07,142 - WARNING - Tried 10 times, none valid sample obtained.\n",
      " 86%|████████▌ | 859/1000 [34:57<07:02,  3.00s/it]2023-05-11 22:41:24,420 - WARNING - Tried 10 times, none valid sample obtained.\n",
      " 87%|████████▋ | 872/1000 [35:34<06:39,  3.12s/it]2023-05-11 22:42:01,295 - WARNING - Tried 10 times, none valid sample obtained.\n",
      " 90%|█████████ | 900/1000 [36:36<02:02,  1.23s/it]2023-05-11 22:43:03,721 - WARNING - Tried 10 times, none valid sample obtained.\n",
      " 92%|█████████▏| 919/1000 [37:44<05:26,  4.03s/it]2023-05-11 22:44:14,941 - WARNING - Tried 10 times, none valid sample obtained.\n",
      " 93%|█████████▎| 926/1000 [38:07<02:45,  2.24s/it]2023-05-11 22:44:33,540 - WARNING - Tried 10 times, none valid sample obtained.\n",
      " 95%|█████████▌| 953/1000 [39:22<02:29,  3.19s/it]2023-05-11 22:45:50,437 - WARNING - Tried 10 times, none valid sample obtained.\n",
      " 97%|█████████▋| 973/1000 [40:13<01:42,  3.79s/it]2023-05-11 22:46:40,020 - WARNING - Tried 10 times, none valid sample obtained.\n",
      "100%|█████████▉| 998/1000 [40:52<00:02,  1.10s/it]2023-05-11 22:47:18,672 - WARNING - Tried 10 times, none valid sample obtained.\n",
      "100%|██████████| 1000/1000 [41:00<00:00,  2.46s/it]\n",
      "  2%|▏         | 16/1000 [00:42<37:13,  2.27s/it] 2023-05-11 22:48:09,307 - WARNING - Tried 10 times, none valid sample obtained.\n",
      "  3%|▎         | 30/1000 [01:09<57:32,  3.56s/it]2023-05-11 22:48:36,757 - WARNING - Tried 10 times, none valid sample obtained.\n",
      "  4%|▎         | 37/1000 [01:26<40:39,  2.53s/it]  2023-05-11 22:48:54,251 - WARNING - Tried 10 times, none valid sample obtained.\n",
      "  8%|▊         | 81/1000 [02:39<23:23,  1.53s/it]2023-05-11 22:50:05,897 - WARNING - Tried 10 times, none valid sample obtained.\n",
      " 12%|█▏        | 118/1000 [03:57<36:40,  2.49s/it]  2023-05-11 22:51:26,135 - WARNING - Tried 10 times, none valid sample obtained.\n",
      " 14%|█▎        | 136/1000 [04:23<14:10,  1.02it/s]2023-05-11 22:51:53,254 - WARNING - Tried 10 times, none valid sample obtained.\n",
      " 15%|█▌        | 151/1000 [05:04<1:07:46,  4.79s/it]2023-05-11 22:52:32,112 - WARNING - Tried 10 times, none valid sample obtained.\n",
      " 18%|█▊        | 182/1000 [06:31<1:04:36,  4.74s/it]2023-05-11 22:53:58,811 - WARNING - Tried 10 times, none valid sample obtained.\n",
      " 19%|█▉        | 190/1000 [06:42<19:13,  1.42s/it]  2023-05-11 22:54:09,702 - WARNING - Tried 10 times, none valid sample obtained.\n",
      " 21%|██        | 206/1000 [07:10<30:04,  2.27s/it]2023-05-11 22:54:37,025 - WARNING - Tried 10 times, none valid sample obtained.\n",
      " 26%|██▋       | 264/1000 [09:06<41:01,  3.34s/it]2023-05-11 22:56:33,502 - WARNING - Tried 10 times, none valid sample obtained.\n",
      " 27%|██▋       | 268/1000 [09:20<47:54,  3.93s/it]2023-05-11 22:56:48,903 - WARNING - Tried 10 times, none valid sample obtained.\n",
      " 32%|███▏      | 322/1000 [11:34<24:56,  2.21s/it]2023-05-11 22:59:04,194 - WARNING - Tried 10 times, none valid sample obtained.\n",
      " 35%|███▍      | 346/1000 [12:23<21:53,  2.01s/it]2023-05-11 22:59:49,919 - WARNING - Tried 10 times, none valid sample obtained.\n",
      " 38%|███▊      | 376/1000 [13:33<12:59,  1.25s/it]2023-05-11 23:01:00,954 - WARNING - Tried 10 times, none valid sample obtained.\n",
      " 39%|███▉      | 393/1000 [14:00<24:37,  2.43s/it]2023-05-11 23:01:27,053 - WARNING - Tried 10 times, none valid sample obtained.\n",
      " 41%|████      | 409/1000 [14:23<19:01,  1.93s/it]2023-05-11 23:01:49,753 - WARNING - Tried 10 times, none valid sample obtained.\n",
      " 45%|████▍     | 448/1000 [15:49<25:48,  2.81s/it]2023-05-11 23:03:17,086 - WARNING - Tried 10 times, none valid sample obtained.\n",
      " 46%|████▌     | 458/1000 [16:04<13:44,  1.52s/it]2023-05-11 23:03:33,264 - WARNING - Tried 10 times, none valid sample obtained.\n",
      " 46%|████▌     | 460/1000 [16:08<14:28,  1.61s/it]2023-05-11 23:03:35,142 - WARNING - Tried 10 times, none valid sample obtained.\n",
      " 48%|████▊     | 481/1000 [16:57<16:46,  1.94s/it]2023-05-11 23:04:28,029 - WARNING - Tried 10 times, none valid sample obtained.\n",
      " 48%|████▊     | 483/1000 [17:09<35:16,  4.09s/it]2023-05-11 23:04:39,544 - WARNING - Tried 10 times, none valid sample obtained.\n",
      " 51%|█████▏    | 514/1000 [18:18<13:13,  1.63s/it]2023-05-11 23:05:45,351 - WARNING - Tried 10 times, none valid sample obtained.\n",
      " 53%|█████▎    | 528/1000 [18:44<14:54,  1.89s/it]2023-05-11 23:06:11,442 - WARNING - Tried 10 times, none valid sample obtained.\n",
      " 54%|█████▎    | 536/1000 [19:00<14:23,  1.86s/it]2023-05-11 23:06:26,925 - WARNING - Tried 10 times, none valid sample obtained.\n",
      " 59%|█████▉    | 591/1000 [21:08<13:08,  1.93s/it]2023-05-11 23:08:34,939 - WARNING - Tried 10 times, none valid sample obtained.\n",
      " 67%|██████▋   | 668/1000 [24:08<11:44,  2.12s/it]2023-05-11 23:11:37,481 - WARNING - Tried 10 times, none valid sample obtained.\n",
      " 72%|███████▎  | 725/1000 [26:41<09:32,  2.08s/it]2023-05-11 23:14:08,363 - WARNING - Tried 10 times, none valid sample obtained.\n",
      " 74%|███████▍  | 738/1000 [27:13<09:19,  2.14s/it]2023-05-11 23:14:40,468 - WARNING - Tried 10 times, none valid sample obtained.\n",
      " 76%|███████▌  | 760/1000 [28:09<22:43,  5.68s/it]2023-05-11 23:15:36,534 - WARNING - Tried 10 times, none valid sample obtained.\n",
      " 89%|████████▉ | 888/1000 [34:21<03:51,  2.07s/it]2023-05-11 23:21:49,121 - WARNING - Tried 10 times, none valid sample obtained.\n",
      " 91%|█████████ | 912/1000 [35:11<02:40,  1.83s/it]2023-05-11 23:22:39,147 - WARNING - Tried 10 times, none valid sample obtained.\n",
      " 92%|█████████▏| 915/1000 [35:16<02:27,  1.74s/it]2023-05-11 23:22:43,580 - WARNING - Tried 10 times, none valid sample obtained.\n",
      "100%|██████████| 1000/1000 [39:13<00:00,  2.35s/it]\n",
      "  2%|▏         | 23/1000 [00:44<37:55,  2.33s/it]2023-05-11 23:27:24,608 - WARNING - Tried 10 times, none valid sample obtained.\n",
      "  5%|▍         | 46/1000 [01:47<42:41,  2.68s/it]  2023-05-11 23:28:30,266 - WARNING - Tried 10 times, none valid sample obtained.\n",
      "  6%|▌         | 59/1000 [02:12<22:43,  1.45s/it]2023-05-11 23:28:54,620 - WARNING - Tried 10 times, none valid sample obtained.\n",
      "  8%|▊         | 77/1000 [02:41<36:06,  2.35s/it]2023-05-11 23:29:28,297 - WARNING - Tried 10 times, none valid sample obtained.\n",
      " 10%|▉         | 97/1000 [03:55<49:15,  3.27s/it]  2023-05-11 23:30:38,238 - WARNING - Tried 10 times, none valid sample obtained.\n",
      " 11%|█         | 107/1000 [04:25<50:52,  3.42s/it]  2023-05-11 23:31:13,884 - WARNING - Tried 10 times, none valid sample obtained.\n",
      " 12%|█▏        | 120/1000 [05:08<35:05,  2.39s/it]  2023-05-11 23:31:53,204 - WARNING - Tried 10 times, none valid sample obtained.\n",
      " 19%|█▉        | 193/1000 [08:09<26:47,  1.99s/it]  2023-05-11 23:34:50,347 - WARNING - Tried 10 times, none valid sample obtained.\n",
      " 20%|██        | 203/1000 [08:24<21:41,  1.63s/it]2023-05-11 23:35:11,927 - WARNING - Tried 10 times, none valid sample obtained.\n",
      " 20%|██        | 205/1000 [08:33<34:33,  2.61s/it]2023-05-11 23:35:13,726 - WARNING - Tried 10 times, none valid sample obtained.\n",
      " 21%|██        | 212/1000 [08:51<33:30,  2.55s/it]2023-05-11 23:35:31,707 - WARNING - Tried 10 times, none valid sample obtained.\n",
      " 24%|██▍       | 243/1000 [10:20<37:28,  2.97s/it]  2023-05-11 23:37:00,604 - WARNING - Tried 10 times, none valid sample obtained.\n",
      " 26%|██▌       | 257/1000 [10:48<28:57,  2.34s/it]2023-05-11 23:37:29,252 - WARNING - Tried 10 times, none valid sample obtained.\n",
      " 32%|███▏      | 316/1000 [13:09<14:23,  1.26s/it]2023-05-11 23:39:56,753 - WARNING - Tried 10 times, none valid sample obtained.\n",
      " 32%|███▏      | 324/1000 [13:39<32:35,  2.89s/it]2023-05-11 23:40:19,313 - WARNING - Tried 10 times, none valid sample obtained.\n",
      " 33%|███▎      | 328/1000 [13:54<47:44,  4.26s/it]2023-05-11 23:40:35,204 - WARNING - Tried 10 times, none valid sample obtained.\n",
      " 34%|███▍      | 341/1000 [14:23<30:21,  2.76s/it]2023-05-11 23:41:06,654 - WARNING - Tried 10 times, none valid sample obtained.\n",
      " 38%|███▊      | 378/1000 [15:52<48:26,  4.67s/it]2023-05-11 23:42:36,121 - WARNING - Tried 10 times, none valid sample obtained.\n",
      " 42%|████▏     | 416/1000 [17:23<39:02,  4.01s/it]2023-05-11 23:44:03,605 - WARNING - Tried 10 times, none valid sample obtained.\n",
      " 42%|████▏     | 424/1000 [17:30<12:13,  1.27s/it]2023-05-11 23:44:10,984 - WARNING - Tried 10 times, none valid sample obtained.\n",
      " 43%|████▎     | 433/1000 [18:00<47:25,  5.02s/it]2023-05-11 23:44:41,130 - WARNING - Tried 10 times, none valid sample obtained.\n",
      " 45%|████▍     | 446/1000 [18:25<16:17,  1.76s/it]2023-05-11 23:45:11,387 - WARNING - Tried 10 times, none valid sample obtained.\n",
      " 48%|████▊     | 478/1000 [19:59<38:55,  4.47s/it]2023-05-11 23:46:40,273 - WARNING - Tried 10 times, none valid sample obtained.\n",
      " 49%|████▊     | 487/1000 [20:11<14:38,  1.71s/it]2023-05-11 23:46:53,346 - WARNING - Tried 10 times, none valid sample obtained.\n",
      " 49%|████▉     | 494/1000 [20:26<19:32,  2.32s/it]2023-05-11 23:47:06,533 - WARNING - Tried 10 times, none valid sample obtained.\n",
      " 51%|█████     | 509/1000 [20:54<16:01,  1.96s/it]2023-05-11 23:47:34,693 - WARNING - Tried 10 times, none valid sample obtained.\n",
      " 53%|█████▎    | 532/1000 [22:04<38:47,  4.97s/it]2023-05-11 23:48:45,994 - WARNING - Tried 10 times, none valid sample obtained.\n",
      " 54%|█████▍    | 542/1000 [22:35<31:12,  4.09s/it]2023-05-11 23:49:15,829 - WARNING - Tried 10 times, none valid sample obtained.\n",
      " 56%|█████▌    | 562/1000 [23:37<18:49,  2.58s/it]2023-05-11 23:50:17,349 - WARNING - Tried 10 times, none valid sample obtained.\n",
      " 57%|█████▋    | 571/1000 [24:08<37:49,  5.29s/it]2023-05-11 23:50:49,126 - WARNING - Tried 10 times, none valid sample obtained.\n",
      " 58%|█████▊    | 578/1000 [24:17<12:25,  1.77s/it]2023-05-11 23:51:00,525 - WARNING - Tried 10 times, none valid sample obtained.\n",
      " 62%|██████▏   | 615/1000 [26:04<09:33,  1.49s/it]2023-05-11 23:52:47,210 - WARNING - Tried 10 times, none valid sample obtained.\n",
      " 63%|██████▎   | 629/1000 [27:01<28:17,  4.58s/it]2023-05-11 23:53:44,015 - WARNING - Tried 10 times, none valid sample obtained.\n",
      " 64%|██████▍   | 642/1000 [27:22<08:06,  1.36s/it]2023-05-11 23:54:03,402 - WARNING - Tried 10 times, none valid sample obtained.\n",
      " 69%|██████▉   | 688/1000 [28:54<14:01,  2.70s/it]2023-05-11 23:55:36,112 - WARNING - Tried 10 times, none valid sample obtained.\n",
      " 69%|██████▉   | 693/1000 [29:04<09:46,  1.91s/it]2023-05-11 23:55:45,575 - WARNING - Tried 10 times, none valid sample obtained.\n",
      " 70%|██████▉   | 696/1000 [29:10<11:16,  2.23s/it]2023-05-11 23:55:54,340 - WARNING - Tried 10 times, none valid sample obtained.\n",
      " 71%|███████▏  | 714/1000 [29:35<04:59,  1.05s/it]2023-05-11 23:56:17,757 - WARNING - Tried 10 times, none valid sample obtained.\n",
      " 72%|███████▏  | 715/1000 [29:37<06:12,  1.31s/it]2023-05-11 23:56:18,425 - WARNING - Tried 10 times, none valid sample obtained.\n",
      " 74%|███████▎  | 736/1000 [30:25<13:14,  3.01s/it]2023-05-11 23:57:05,959 - WARNING - Tried 10 times, none valid sample obtained.\n",
      " 75%|███████▍  | 746/1000 [30:58<11:27,  2.71s/it]2023-05-11 23:57:39,131 - WARNING - Tried 10 times, none valid sample obtained.\n",
      " 78%|███████▊  | 776/1000 [32:07<04:21,  1.17s/it]2023-05-11 23:58:47,942 - WARNING - Tried 10 times, none valid sample obtained.\n",
      " 87%|████████▋ | 874/1000 [37:02<08:06,  3.86s/it]2023-05-12 00:03:46,497 - WARNING - Tried 10 times, none valid sample obtained.\n",
      " 88%|████████▊ | 879/1000 [37:13<04:43,  2.35s/it]2023-05-12 00:04:00,733 - WARNING - Tried 10 times, none valid sample obtained.\n",
      " 94%|█████████▍| 939/1000 [39:44<02:57,  2.91s/it]2023-05-12 00:06:24,758 - WARNING - Tried 10 times, none valid sample obtained.\n",
      " 98%|█████████▊| 980/1000 [41:14<00:49,  2.49s/it]2023-05-12 00:07:54,965 - WARNING - Tried 10 times, none valid sample obtained.\n",
      " 99%|█████████▉| 990/1000 [41:37<00:14,  1.42s/it]2023-05-12 00:08:17,915 - WARNING - Tried 10 times, none valid sample obtained.\n",
      "100%|██████████| 1000/1000 [41:58<00:00,  2.52s/it]\n",
      "  8%|▊         | 79/1000 [03:08<38:13,  2.49s/it]  2023-05-12 00:11:47,600 - WARNING - Tried 10 times, none valid sample obtained.\n",
      " 10%|▉         | 96/1000 [04:07<1:18:55,  5.24s/it]2023-05-12 00:12:47,241 - WARNING - Tried 10 times, none valid sample obtained.\n",
      " 10%|▉         | 98/1000 [04:14<1:08:23,  4.55s/it]2023-05-12 00:12:53,889 - WARNING - Tried 10 times, none valid sample obtained.\n",
      " 12%|█▏        | 119/1000 [05:06<32:28,  2.21s/it]  2023-05-12 00:13:46,357 - WARNING - Tried 10 times, none valid sample obtained.\n",
      " 12%|█▏        | 123/1000 [05:12<23:55,  1.64s/it]2023-05-12 00:13:51,662 - WARNING - Tried 10 times, none valid sample obtained.\n",
      " 14%|█▎        | 135/1000 [05:48<27:20,  1.90s/it]  2023-05-12 00:14:32,850 - WARNING - Tried 10 times, none valid sample obtained.\n",
      " 16%|█▌        | 159/1000 [06:51<35:40,  2.55s/it]2023-05-12 00:15:31,225 - WARNING - Tried 10 times, none valid sample obtained.\n",
      " 21%|██        | 209/1000 [09:10<58:04,  4.41s/it]  2023-05-12 00:17:50,222 - WARNING - Tried 10 times, none valid sample obtained.\n",
      " 27%|██▋       | 268/1000 [11:38<24:44,  2.03s/it]  2023-05-12 00:20:18,299 - WARNING - Tried 10 times, none valid sample obtained.\n",
      " 29%|██▉       | 291/1000 [12:32<17:21,  1.47s/it]  2023-05-12 00:21:11,807 - WARNING - Tried 10 times, none valid sample obtained.\n",
      " 30%|███       | 301/1000 [12:56<27:56,  2.40s/it]2023-05-12 00:21:36,723 - WARNING - Tried 10 times, none valid sample obtained.\n",
      " 31%|███       | 312/1000 [13:17<20:03,  1.75s/it]2023-05-12 00:21:56,707 - WARNING - Tried 10 times, none valid sample obtained.\n",
      " 33%|███▎      | 332/1000 [13:53<22:01,  1.98s/it]2023-05-12 00:22:32,962 - WARNING - Tried 10 times, none valid sample obtained.\n",
      " 34%|███▍      | 344/1000 [14:21<38:22,  3.51s/it]2023-05-12 00:23:01,378 - WARNING - Tried 10 times, none valid sample obtained.\n",
      " 42%|████▏     | 415/1000 [16:44<20:15,  2.08s/it]2023-05-12 00:25:23,969 - WARNING - Tried 10 times, none valid sample obtained.\n",
      " 44%|████▍     | 445/1000 [18:02<12:05,  1.31s/it]2023-05-12 00:26:42,122 - WARNING - Tried 10 times, none valid sample obtained.\n",
      " 46%|████▌     | 455/1000 [18:15<16:20,  1.80s/it]2023-05-12 00:26:55,095 - WARNING - Tried 10 times, none valid sample obtained.\n",
      " 46%|████▌     | 456/1000 [18:16<13:07,  1.45s/it]2023-05-12 00:26:55,381 - WARNING - Tried 10 times, none valid sample obtained.\n",
      " 46%|████▋     | 463/1000 [18:28<22:49,  2.55s/it]2023-05-12 00:27:07,997 - WARNING - Tried 10 times, none valid sample obtained.\n",
      " 46%|████▋     | 465/1000 [18:30<15:11,  1.70s/it]2023-05-12 00:27:10,096 - WARNING - Tried 10 times, none valid sample obtained.\n",
      " 49%|████▉     | 490/1000 [19:25<16:05,  1.89s/it]2023-05-12 00:28:04,334 - WARNING - Tried 10 times, none valid sample obtained.\n",
      " 50%|████▉     | 498/1000 [19:34<12:25,  1.49s/it]2023-05-12 00:28:14,375 - WARNING - Tried 10 times, none valid sample obtained.\n",
      " 54%|█████▍    | 542/1000 [21:22<11:41,  1.53s/it]2023-05-12 00:30:01,398 - WARNING - Tried 10 times, none valid sample obtained.\n",
      " 57%|█████▋    | 566/1000 [22:22<16:40,  2.31s/it]2023-05-12 00:31:02,839 - WARNING - Tried 10 times, none valid sample obtained.\n",
      " 62%|██████▏   | 618/1000 [24:43<13:48,  2.17s/it]2023-05-12 00:33:25,710 - WARNING - Tried 10 times, none valid sample obtained.\n",
      " 63%|██████▎   | 632/1000 [25:04<06:19,  1.03s/it]2023-05-12 00:33:43,423 - WARNING - Tried 10 times, none valid sample obtained.\n",
      " 66%|██████▌   | 657/1000 [25:54<10:28,  1.83s/it]2023-05-12 00:34:35,488 - WARNING - Tried 10 times, none valid sample obtained.\n",
      " 68%|██████▊   | 680/1000 [26:53<10:47,  2.02s/it]2023-05-12 00:35:33,083 - WARNING - Tried 10 times, none valid sample obtained.\n",
      " 69%|██████▉   | 692/1000 [27:15<08:52,  1.73s/it]2023-05-12 00:35:54,944 - WARNING - Tried 10 times, none valid sample obtained.\n",
      " 73%|███████▎  | 727/1000 [28:51<06:54,  1.52s/it]2023-05-12 00:37:31,445 - WARNING - Tried 10 times, none valid sample obtained.\n",
      " 77%|███████▋  | 773/1000 [30:56<11:55,  3.15s/it]2023-05-12 00:39:36,301 - WARNING - Tried 10 times, none valid sample obtained.\n",
      " 79%|███████▉  | 794/1000 [31:45<04:39,  1.36s/it]2023-05-12 00:40:26,568 - WARNING - Tried 10 times, none valid sample obtained.\n",
      " 89%|████████▉ | 893/1000 [35:30<08:26,  4.73s/it]2023-05-12 00:44:09,697 - WARNING - Tried 10 times, none valid sample obtained.\n",
      " 92%|█████████▏| 922/1000 [36:24<01:51,  1.43s/it]2023-05-12 00:45:05,568 - WARNING - Tried 10 times, none valid sample obtained.\n",
      " 93%|█████████▎| 928/1000 [36:34<02:13,  1.85s/it]2023-05-12 00:45:14,277 - WARNING - Tried 10 times, none valid sample obtained.\n",
      " 95%|█████████▍| 949/1000 [37:21<01:25,  1.69s/it]2023-05-12 00:46:01,253 - WARNING - Tried 10 times, none valid sample obtained.\n",
      " 98%|█████████▊| 976/1000 [38:21<01:17,  3.21s/it]2023-05-12 00:47:01,001 - WARNING - Tried 10 times, none valid sample obtained.\n",
      " 98%|█████████▊| 978/1000 [38:22<00:40,  1.86s/it]2023-05-12 00:47:02,229 - WARNING - Tried 10 times, none valid sample obtained.\n",
      "100%|█████████▉| 999/1000 [39:08<00:01,  1.96s/it]2023-05-12 00:47:48,491 - WARNING - Tried 10 times, none valid sample obtained.\n",
      "100%|██████████| 1000/1000 [39:16<00:00,  2.36s/it]\n",
      "  2%|▎         | 25/1000 [00:57<22:32,  1.39s/it]  2023-05-12 00:48:53,205 - WARNING - Tried 10 times, none valid sample obtained.\n",
      "  5%|▍         | 47/1000 [01:40<25:05,  1.58s/it]  2023-05-12 00:49:36,313 - WARNING - Tried 10 times, none valid sample obtained.\n",
      "  8%|▊         | 76/1000 [02:40<41:33,  2.70s/it]2023-05-12 00:50:35,962 - WARNING - Tried 10 times, none valid sample obtained.\n",
      " 10%|▉         | 95/1000 [03:13<21:31,  1.43s/it]2023-05-12 00:51:09,272 - WARNING - Tried 10 times, none valid sample obtained.\n",
      " 13%|█▎        | 131/1000 [04:28<28:03,  1.94s/it]  2023-05-12 00:52:24,617 - WARNING - Tried 10 times, none valid sample obtained.\n",
      " 13%|█▎        | 132/1000 [04:29<22:37,  1.56s/it]2023-05-12 00:52:24,940 - WARNING - Tried 10 times, none valid sample obtained.\n",
      " 14%|█▍        | 143/1000 [04:47<23:20,  1.63s/it]2023-05-12 00:52:44,028 - WARNING - Tried 10 times, none valid sample obtained.\n",
      " 14%|█▍        | 145/1000 [04:49<17:40,  1.24s/it]2023-05-12 00:52:44,641 - WARNING - Tried 10 times, none valid sample obtained.\n",
      " 15%|█▍        | 147/1000 [04:51<16:31,  1.16s/it]2023-05-12 00:52:46,770 - WARNING - Tried 10 times, none valid sample obtained.\n",
      " 18%|█▊        | 178/1000 [05:45<35:52,  2.62s/it]2023-05-12 00:53:46,506 - WARNING - Tried 10 times, none valid sample obtained.\n",
      " 20%|██        | 203/1000 [06:55<16:59,  1.28s/it]  2023-05-12 00:54:51,477 - WARNING - Tried 10 times, none valid sample obtained.\n",
      " 20%|██        | 205/1000 [06:57<14:10,  1.07s/it]2023-05-12 00:54:52,822 - WARNING - Tried 10 times, none valid sample obtained.\n",
      " 22%|██▏       | 216/1000 [07:20<23:18,  1.78s/it]2023-05-12 00:55:15,878 - WARNING - Tried 10 times, none valid sample obtained.\n",
      " 24%|██▍       | 238/1000 [08:06<23:03,  1.81s/it]2023-05-12 00:56:03,669 - WARNING - Tried 10 times, none valid sample obtained.\n",
      " 26%|██▌       | 259/1000 [08:52<35:11,  2.85s/it]2023-05-12 00:56:48,286 - WARNING - Tried 10 times, none valid sample obtained.\n",
      " 27%|██▋       | 267/1000 [09:07<23:59,  1.96s/it]2023-05-12 00:57:04,144 - WARNING - Tried 10 times, none valid sample obtained.\n",
      " 29%|██▉       | 289/1000 [09:57<14:41,  1.24s/it]2023-05-12 00:57:52,695 - WARNING - Tried 10 times, none valid sample obtained.\n",
      " 33%|███▎      | 326/1000 [11:44<32:34,  2.90s/it]2023-05-12 00:59:39,929 - WARNING - Tried 10 times, none valid sample obtained.\n",
      " 34%|███▎      | 336/1000 [12:09<32:02,  2.90s/it]2023-05-12 01:00:05,661 - WARNING - Tried 10 times, none valid sample obtained.\n",
      " 35%|███▍      | 346/1000 [12:34<32:08,  2.95s/it]2023-05-12 01:00:31,911 - WARNING - Tried 10 times, none valid sample obtained.\n",
      " 39%|███▉      | 390/1000 [14:09<17:50,  1.76s/it]2023-05-12 01:02:04,741 - WARNING - Tried 10 times, none valid sample obtained.\n",
      " 41%|████▏     | 413/1000 [15:00<14:22,  1.47s/it]2023-05-12 01:02:56,526 - WARNING - Tried 10 times, none valid sample obtained.\n",
      " 47%|████▋     | 468/1000 [16:53<11:35,  1.31s/it]2023-05-12 01:04:48,469 - WARNING - Tried 10 times, none valid sample obtained.\n",
      " 48%|████▊     | 475/1000 [17:02<12:37,  1.44s/it]2023-05-12 01:04:59,346 - WARNING - Tried 10 times, none valid sample obtained.\n",
      " 49%|████▉     | 491/1000 [17:40<17:14,  2.03s/it]2023-05-12 01:05:36,910 - WARNING - Tried 10 times, none valid sample obtained.\n",
      " 52%|█████▏    | 520/1000 [18:51<17:37,  2.20s/it]2023-05-12 01:06:47,497 - WARNING - Tried 10 times, none valid sample obtained.\n",
      " 58%|█████▊    | 581/1000 [21:37<25:09,  3.60s/it]2023-05-12 01:09:34,557 - WARNING - Tried 10 times, none valid sample obtained.\n",
      " 58%|█████▊    | 582/1000 [21:39<21:18,  3.06s/it]2023-05-12 01:09:35,395 - WARNING - Tried 10 times, none valid sample obtained.\n",
      " 59%|█████▉    | 590/1000 [21:55<09:04,  1.33s/it]2023-05-12 01:09:51,002 - WARNING - Tried 10 times, none valid sample obtained.\n",
      " 59%|█████▉    | 591/1000 [21:55<07:23,  1.08s/it]2023-05-12 01:09:51,599 - WARNING - Tried 10 times, none valid sample obtained.\n",
      " 61%|██████    | 609/1000 [22:30<06:27,  1.01it/s]2023-05-12 01:10:32,881 - WARNING - Tried 10 times, none valid sample obtained.\n",
      " 62%|██████▏   | 624/1000 [23:06<11:09,  1.78s/it]2023-05-12 01:11:05,890 - WARNING - Tried 10 times, none valid sample obtained.\n",
      " 64%|██████▎   | 636/1000 [23:51<25:03,  4.13s/it]2023-05-12 01:11:47,376 - WARNING - Tried 10 times, none valid sample obtained.\n",
      " 65%|██████▌   | 652/1000 [24:11<07:24,  1.28s/it]2023-05-12 01:12:08,257 - WARNING - Tried 10 times, none valid sample obtained.\n",
      " 71%|███████   | 708/1000 [26:00<06:08,  1.26s/it]2023-05-12 01:13:58,089 - WARNING - Tried 10 times, none valid sample obtained.\n",
      " 71%|███████   | 711/1000 [26:04<06:24,  1.33s/it]2023-05-12 01:14:00,190 - WARNING - Tried 10 times, none valid sample obtained.\n",
      " 72%|███████▏  | 715/1000 [26:13<08:26,  1.78s/it]2023-05-12 01:14:09,785 - WARNING - Tried 10 times, none valid sample obtained.\n",
      " 72%|███████▏  | 722/1000 [26:30<07:44,  1.67s/it]2023-05-12 01:14:25,874 - WARNING - Tried 10 times, none valid sample obtained.\n",
      " 73%|███████▎  | 729/1000 [26:39<07:14,  1.60s/it]2023-05-12 01:14:35,268 - WARNING - Tried 10 times, none valid sample obtained.\n",
      " 78%|███████▊  | 781/1000 [28:21<03:06,  1.17it/s]2023-05-12 01:16:17,125 - WARNING - Tried 10 times, none valid sample obtained.\n",
      " 80%|████████  | 802/1000 [29:06<10:23,  3.15s/it]2023-05-12 01:17:01,882 - WARNING - Tried 10 times, none valid sample obtained.\n",
      " 83%|████████▎ | 829/1000 [30:22<09:55,  3.49s/it]2023-05-12 01:18:18,075 - WARNING - Tried 10 times, none valid sample obtained.\n",
      " 91%|█████████ | 907/1000 [34:04<04:05,  2.64s/it]2023-05-12 01:22:06,699 - WARNING - Tried 10 times, none valid sample obtained.\n",
      " 91%|█████████ | 909/1000 [34:13<05:07,  3.38s/it]2023-05-12 01:22:11,634 - WARNING - Tried 10 times, none valid sample obtained.\n",
      " 93%|█████████▎| 931/1000 [35:13<03:10,  2.76s/it]2023-05-12 01:23:09,330 - WARNING - Tried 10 times, none valid sample obtained.\n",
      " 94%|█████████▍| 945/1000 [35:39<01:05,  1.19s/it]2023-05-12 01:23:35,512 - WARNING - Tried 10 times, none valid sample obtained.\n",
      " 96%|█████████▌| 955/1000 [36:00<01:57,  2.62s/it]2023-05-12 01:23:56,802 - WARNING - Tried 10 times, none valid sample obtained.\n",
      "100%|██████████| 1000/1000 [37:30<00:00,  2.25s/it]\n",
      "  0%|          | 3/1000 [00:02<11:55,  1.39it/s]2023-05-12 01:25:28,042 - WARNING - Tried 10 times, none valid sample obtained.\n",
      "  2%|▏         | 15/1000 [00:42<53:57,  3.29s/it] 2023-05-12 01:26:10,877 - WARNING - Tried 10 times, none valid sample obtained.\n",
      "  3%|▎         | 26/1000 [01:24<32:14,  1.99s/it]  2023-05-12 01:26:57,682 - WARNING - Tried 10 times, none valid sample obtained.\n",
      "  3%|▎         | 34/1000 [01:46<42:27,  2.64s/it]2023-05-12 01:27:12,485 - WARNING - Tried 10 times, none valid sample obtained.\n",
      "  4%|▍         | 42/1000 [02:07<1:03:28,  3.98s/it]2023-05-12 01:27:33,959 - WARNING - Tried 10 times, none valid sample obtained.\n",
      "  7%|▋         | 70/1000 [02:54<23:22,  1.51s/it]  2023-05-12 01:28:19,991 - WARNING - Tried 10 times, none valid sample obtained.\n",
      "  8%|▊         | 79/1000 [03:13<43:09,  2.81s/it]2023-05-12 01:28:40,892 - WARNING - Tried 10 times, none valid sample obtained.\n",
      "  9%|▊         | 86/1000 [03:21<17:15,  1.13s/it]2023-05-12 01:28:47,824 - WARNING - Tried 10 times, none valid sample obtained.\n",
      "  9%|▉         | 92/1000 [03:47<1:20:54,  5.35s/it]2023-05-12 01:29:14,721 - WARNING - Tried 10 times, none valid sample obtained.\n",
      "  9%|▉         | 94/1000 [03:55<1:14:28,  4.93s/it]2023-05-12 01:29:21,834 - WARNING - Tried 10 times, none valid sample obtained.\n",
      " 10%|█         | 101/1000 [04:03<16:39,  1.11s/it] 2023-05-12 01:29:30,724 - WARNING - Tried 10 times, none valid sample obtained.\n",
      " 12%|█▏        | 122/1000 [04:58<41:56,  2.87s/it]2023-05-12 01:30:24,423 - WARNING - Tried 10 times, none valid sample obtained.\n",
      " 14%|█▍        | 142/1000 [06:01<59:10,  4.14s/it]  2023-05-12 01:31:27,148 - WARNING - Tried 10 times, none valid sample obtained.\n",
      " 14%|█▍        | 143/1000 [06:01<43:35,  3.05s/it]2023-05-12 01:31:29,677 - WARNING - Tried 10 times, none valid sample obtained.\n",
      " 15%|█▌        | 154/1000 [06:22<20:09,  1.43s/it]2023-05-12 01:31:50,252 - WARNING - Tried 10 times, none valid sample obtained.\n",
      " 20%|██        | 204/1000 [08:22<32:54,  2.48s/it]  2023-05-12 01:33:48,370 - WARNING - Tried 10 times, none valid sample obtained.\n",
      " 29%|██▉       | 292/1000 [12:05<16:02,  1.36s/it]  2023-05-12 01:37:35,655 - WARNING - Tried 10 times, none valid sample obtained.\n",
      " 30%|██▉       | 297/1000 [12:14<15:56,  1.36s/it]2023-05-12 01:37:40,636 - WARNING - Tried 10 times, none valid sample obtained.\n",
      " 30%|██▉       | 299/1000 [12:15<09:58,  1.17it/s]2023-05-12 01:37:41,440 - WARNING - Tried 10 times, none valid sample obtained.\n",
      " 30%|███       | 303/1000 [12:22<23:37,  2.03s/it]2023-05-12 01:37:50,166 - WARNING - Tried 10 times, none valid sample obtained.\n",
      " 32%|███▏      | 318/1000 [12:38<12:39,  1.11s/it]2023-05-12 01:38:04,832 - WARNING - Tried 10 times, none valid sample obtained.\n",
      " 32%|███▏      | 319/1000 [12:39<10:42,  1.06it/s]2023-05-12 01:38:12,321 - WARNING - Tried 10 times, none valid sample obtained.\n",
      " 36%|███▌      | 355/1000 [14:21<34:57,  3.25s/it]2023-05-12 01:39:48,019 - WARNING - Tried 10 times, none valid sample obtained.\n",
      " 41%|████      | 411/1000 [16:22<21:50,  2.22s/it]2023-05-12 01:41:48,587 - WARNING - Tried 10 times, none valid sample obtained.\n",
      " 50%|█████     | 503/1000 [19:51<17:18,  2.09s/it]2023-05-12 01:45:18,180 - WARNING - Tried 10 times, none valid sample obtained.\n",
      " 52%|█████▏    | 520/1000 [20:20<12:15,  1.53s/it]2023-05-12 01:45:47,638 - WARNING - Tried 10 times, none valid sample obtained.\n",
      " 55%|█████▍    | 545/1000 [21:26<20:38,  2.72s/it]2023-05-12 01:46:52,776 - WARNING - Tried 10 times, none valid sample obtained.\n",
      " 58%|█████▊    | 585/1000 [23:02<07:28,  1.08s/it]2023-05-12 01:48:27,933 - WARNING - Tried 10 times, none valid sample obtained.\n",
      " 61%|██████▏   | 613/1000 [24:14<14:26,  2.24s/it]2023-05-12 01:49:41,041 - WARNING - Tried 10 times, none valid sample obtained.\n",
      " 61%|██████▏   | 614/1000 [24:15<11:33,  1.80s/it]2023-05-12 01:49:41,314 - WARNING - Tried 10 times, none valid sample obtained.\n",
      " 62%|██████▏   | 623/1000 [24:26<08:06,  1.29s/it]2023-05-12 01:49:52,708 - WARNING - Tried 10 times, none valid sample obtained.\n",
      " 66%|██████▌   | 656/1000 [25:24<14:38,  2.56s/it]2023-05-12 01:50:50,770 - WARNING - Tried 10 times, none valid sample obtained.\n",
      " 70%|██████▉   | 697/1000 [26:47<07:49,  1.55s/it]2023-05-12 01:52:13,667 - WARNING - Tried 10 times, none valid sample obtained.\n",
      " 72%|███████▏  | 718/1000 [27:24<06:24,  1.37s/it]2023-05-12 01:52:50,680 - WARNING - Tried 10 times, none valid sample obtained.\n",
      " 74%|███████▎  | 736/1000 [28:01<06:06,  1.39s/it]2023-05-12 01:53:27,598 - WARNING - Tried 10 times, none valid sample obtained.\n",
      " 76%|███████▋  | 765/1000 [29:09<09:06,  2.32s/it]2023-05-12 01:54:35,714 - WARNING - Tried 10 times, none valid sample obtained.\n",
      " 78%|███████▊  | 776/1000 [29:31<09:20,  2.50s/it]2023-05-12 01:54:57,846 - WARNING - Tried 10 times, none valid sample obtained.\n",
      " 80%|███████▉  | 795/1000 [30:05<05:37,  1.65s/it]2023-05-12 01:55:34,577 - WARNING - Tried 10 times, none valid sample obtained.\n",
      " 87%|████████▋ | 870/1000 [33:13<05:37,  2.60s/it]2023-05-12 01:58:39,438 - WARNING - Tried 10 times, none valid sample obtained.\n",
      " 88%|████████▊ | 875/1000 [33:17<02:29,  1.20s/it]2023-05-12 01:58:43,842 - WARNING - Tried 10 times, none valid sample obtained.\n",
      " 88%|████████▊ | 877/1000 [33:18<01:40,  1.23it/s]2023-05-12 01:58:44,916 - WARNING - Tried 10 times, none valid sample obtained.\n",
      " 88%|████████▊ | 878/1000 [33:19<01:28,  1.38it/s]2023-05-12 01:58:45,138 - WARNING - Tried 10 times, none valid sample obtained.\n",
      " 89%|████████▉ | 891/1000 [33:44<04:18,  2.37s/it]2023-05-12 01:59:13,193 - WARNING - Tried 10 times, none valid sample obtained.\n",
      " 89%|████████▉ | 893/1000 [33:49<03:54,  2.19s/it]2023-05-12 01:59:20,993 - WARNING - Tried 10 times, none valid sample obtained.\n",
      " 91%|█████████▏| 913/1000 [34:39<02:03,  1.42s/it]2023-05-12 02:00:05,645 - WARNING - Tried 10 times, none valid sample obtained.\n",
      " 92%|█████████▏| 917/1000 [34:48<03:36,  2.61s/it]2023-05-12 02:00:14,762 - WARNING - Tried 10 times, none valid sample obtained.\n",
      " 93%|█████████▎| 933/1000 [35:20<02:09,  1.94s/it]2023-05-12 02:00:47,205 - WARNING - Tried 10 times, none valid sample obtained.\n",
      " 94%|█████████▎| 937/1000 [35:25<01:28,  1.40s/it]2023-05-12 02:00:51,071 - WARNING - Tried 10 times, none valid sample obtained.\n",
      " 94%|█████████▍| 944/1000 [35:34<01:24,  1.51s/it]2023-05-12 02:01:00,704 - WARNING - Tried 10 times, none valid sample obtained.\n",
      " 95%|█████████▌| 952/1000 [35:41<00:47,  1.02it/s]2023-05-12 02:01:07,589 - WARNING - Tried 10 times, none valid sample obtained.\n",
      " 99%|█████████▊| 986/1000 [37:03<00:29,  2.13s/it]2023-05-12 02:02:30,308 - WARNING - Tried 10 times, none valid sample obtained.\n",
      "100%|██████████| 1000/1000 [37:29<00:00,  2.25s/it]\n",
      "  0%|          | 5/1000 [00:09<28:09,  1.70s/it]2023-05-12 02:03:06,160 - WARNING - Tried 10 times, none valid sample obtained.\n",
      "  5%|▍         | 46/1000 [01:41<27:26,  1.73s/it]  2023-05-12 02:04:37,235 - WARNING - Tried 10 times, none valid sample obtained.\n",
      "  9%|▉         | 89/1000 [03:10<33:56,  2.24s/it]  2023-05-12 02:06:09,137 - WARNING - Tried 10 times, none valid sample obtained.\n",
      " 15%|█▌        | 152/1000 [05:20<49:31,  3.50s/it]  2023-05-12 02:08:16,872 - WARNING - Tried 10 times, none valid sample obtained.\n",
      " 19%|█▉        | 189/1000 [06:29<14:44,  1.09s/it]  2023-05-12 02:09:25,220 - WARNING - Tried 10 times, none valid sample obtained.\n",
      " 20%|██        | 203/1000 [06:52<21:17,  1.60s/it]2023-05-12 02:09:48,409 - WARNING - Tried 10 times, none valid sample obtained.\n",
      " 22%|██▏       | 219/1000 [07:29<35:16,  2.71s/it]2023-05-12 02:10:24,716 - WARNING - Tried 10 times, none valid sample obtained.\n",
      " 24%|██▎       | 237/1000 [08:09<22:30,  1.77s/it]2023-05-12 02:11:05,534 - WARNING - Tried 10 times, none valid sample obtained.\n",
      " 25%|██▌       | 252/1000 [08:37<15:55,  1.28s/it]2023-05-12 02:11:33,673 - WARNING - Tried 10 times, none valid sample obtained.\n",
      " 30%|███       | 303/1000 [10:06<10:05,  1.15it/s]2023-05-12 02:13:02,005 - WARNING - Tried 10 times, none valid sample obtained.\n",
      " 31%|███       | 309/1000 [10:29<47:26,  4.12s/it]2023-05-12 02:13:25,406 - WARNING - Tried 10 times, none valid sample obtained.\n",
      " 33%|███▎      | 329/1000 [11:11<12:00,  1.07s/it]2023-05-12 02:14:10,978 - WARNING - Tried 10 times, none valid sample obtained.\n",
      " 36%|███▌      | 362/1000 [12:24<38:52,  3.66s/it]2023-05-12 02:15:25,225 - WARNING - Tried 10 times, none valid sample obtained.\n",
      " 42%|████▏     | 419/1000 [14:26<12:33,  1.30s/it]2023-05-12 02:17:22,028 - WARNING - Tried 10 times, none valid sample obtained.\n",
      " 44%|████▍     | 439/1000 [15:23<31:21,  3.35s/it]2023-05-12 02:18:19,483 - WARNING - Tried 10 times, none valid sample obtained.\n",
      " 46%|████▌     | 457/1000 [16:17<34:45,  3.84s/it]2023-05-12 02:19:15,871 - WARNING - Tried 10 times, none valid sample obtained.\n",
      " 49%|████▉     | 493/1000 [17:54<31:27,  3.72s/it]2023-05-12 02:20:50,299 - WARNING - Tried 10 times, none valid sample obtained.\n",
      " 50%|████▉     | 496/1000 [17:56<15:39,  1.87s/it]2023-05-12 02:20:52,839 - WARNING - Tried 10 times, none valid sample obtained.\n",
      " 58%|█████▊    | 583/1000 [21:22<09:10,  1.32s/it]2023-05-12 02:24:20,829 - WARNING - Tried 10 times, none valid sample obtained.\n",
      " 60%|█████▉    | 597/1000 [21:52<17:29,  2.60s/it]2023-05-12 02:24:48,273 - WARNING - Tried 10 times, none valid sample obtained.\n",
      " 61%|██████    | 608/1000 [22:29<26:48,  4.10s/it]2023-05-12 02:25:25,895 - WARNING - Tried 10 times, none valid sample obtained.\n",
      " 61%|██████    | 609/1000 [22:30<19:49,  3.04s/it]2023-05-12 02:25:27,567 - WARNING - Tried 10 times, none valid sample obtained.\n",
      " 62%|██████▏   | 618/1000 [22:54<14:25,  2.27s/it]2023-05-12 02:25:52,733 - WARNING - Tried 10 times, none valid sample obtained.\n",
      " 64%|██████▎   | 637/1000 [23:47<09:20,  1.54s/it]2023-05-12 02:26:43,482 - WARNING - Tried 10 times, none valid sample obtained.\n",
      " 65%|██████▌   | 654/1000 [24:34<20:56,  3.63s/it]2023-05-12 02:27:30,421 - WARNING - Tried 10 times, none valid sample obtained.\n",
      " 66%|██████▋   | 664/1000 [24:52<16:18,  2.91s/it]2023-05-12 02:27:51,359 - WARNING - Tried 10 times, none valid sample obtained.\n",
      " 68%|██████▊   | 675/1000 [25:22<12:31,  2.31s/it]2023-05-12 02:28:18,196 - WARNING - Tried 10 times, none valid sample obtained.\n",
      " 70%|██████▉   | 695/1000 [26:02<06:57,  1.37s/it]2023-05-12 02:28:59,586 - WARNING - Tried 10 times, none valid sample obtained.\n",
      " 72%|███████▏  | 723/1000 [27:00<10:17,  2.23s/it]2023-05-12 02:29:56,964 - WARNING - Tried 10 times, none valid sample obtained.\n",
      " 75%|███████▍  | 748/1000 [28:04<11:09,  2.66s/it]2023-05-12 02:30:59,711 - WARNING - Tried 10 times, none valid sample obtained.\n",
      " 77%|███████▋  | 771/1000 [28:50<05:30,  1.44s/it]2023-05-12 02:31:47,551 - WARNING - Tried 10 times, none valid sample obtained.\n",
      " 80%|████████  | 803/1000 [30:15<07:41,  2.34s/it]2023-05-12 02:33:11,768 - WARNING - Tried 10 times, none valid sample obtained.\n",
      " 81%|████████  | 810/1000 [30:25<05:21,  1.69s/it]2023-05-12 02:33:21,357 - WARNING - Tried 10 times, none valid sample obtained.\n",
      " 82%|████████▏ | 815/1000 [30:36<08:55,  2.90s/it]2023-05-12 02:33:32,347 - WARNING - Tried 10 times, none valid sample obtained.\n",
      " 84%|████████▎ | 835/1000 [31:25<08:22,  3.05s/it]2023-05-12 02:34:21,114 - WARNING - Tried 10 times, none valid sample obtained.\n",
      " 86%|████████▌ | 858/1000 [32:24<03:32,  1.50s/it]2023-05-12 02:35:23,081 - WARNING - Tried 10 times, none valid sample obtained.\n",
      " 88%|████████▊ | 878/1000 [33:20<04:30,  2.21s/it]2023-05-12 02:36:17,264 - WARNING - Tried 10 times, none valid sample obtained.\n",
      " 88%|████████▊ | 882/1000 [33:26<03:53,  1.97s/it]2023-05-12 02:36:22,770 - WARNING - Tried 10 times, none valid sample obtained.\n",
      " 91%|█████████ | 911/1000 [34:49<03:10,  2.14s/it]2023-05-12 02:37:46,242 - WARNING - Tried 10 times, none valid sample obtained.\n",
      " 92%|█████████▏| 920/1000 [35:18<04:15,  3.20s/it]2023-05-12 02:38:14,373 - WARNING - Tried 10 times, none valid sample obtained.\n",
      " 94%|█████████▍| 941/1000 [36:07<02:39,  2.71s/it]2023-05-12 02:39:04,354 - WARNING - Tried 10 times, none valid sample obtained.\n",
      " 96%|█████████▌| 958/1000 [36:56<00:58,  1.40s/it]2023-05-12 02:39:52,800 - WARNING - Tried 10 times, none valid sample obtained.\n",
      " 97%|█████████▋| 969/1000 [37:24<01:16,  2.46s/it]2023-05-12 02:40:21,404 - WARNING - Tried 10 times, none valid sample obtained.\n",
      "100%|█████████▉| 997/1000 [38:51<00:09,  3.09s/it]2023-05-12 02:41:47,648 - WARNING - Tried 10 times, none valid sample obtained.\n",
      "100%|█████████▉| 998/1000 [38:52<00:04,  2.50s/it]2023-05-12 02:41:48,082 - WARNING - Tried 10 times, none valid sample obtained.\n",
      "100%|██████████| 1000/1000 [38:53<00:00,  2.33s/it]\n",
      "  0%|          | 0/1000 [00:00<?, ?it/s]2023-05-12 02:41:50,396 - WARNING - Tried 10 times, none valid sample obtained.\n",
      "  1%|          | 7/1000 [00:14<35:40,  2.16s/it]2023-05-12 02:42:05,494 - WARNING - Tried 10 times, none valid sample obtained.\n",
      "  3%|▎         | 27/1000 [00:47<24:25,  1.51s/it]  2023-05-12 02:42:37,250 - WARNING - Tried 10 times, none valid sample obtained.\n",
      "  3%|▎         | 30/1000 [00:51<23:37,  1.46s/it]2023-05-12 02:42:40,984 - WARNING - Tried 10 times, none valid sample obtained.\n",
      "  6%|▋         | 64/1000 [02:15<32:18,  2.07s/it]  2023-05-12 02:44:08,158 - WARNING - Tried 10 times, none valid sample obtained.\n",
      " 10%|█         | 102/1000 [04:14<34:05,  2.28s/it] 2023-05-12 02:46:05,388 - WARNING - Tried 10 times, none valid sample obtained.\n",
      " 11%|█         | 108/1000 [04:21<17:56,  1.21s/it]2023-05-12 02:46:12,365 - WARNING - Tried 10 times, none valid sample obtained.\n",
      " 13%|█▎        | 131/1000 [05:28<33:56,  2.34s/it]  2023-05-12 02:47:18,647 - WARNING - Tried 10 times, none valid sample obtained.\n",
      " 13%|█▎        | 134/1000 [05:35<33:46,  2.34s/it]2023-05-12 02:47:25,110 - WARNING - Tried 10 times, none valid sample obtained.\n",
      " 14%|█▎        | 135/1000 [05:35<24:52,  1.73s/it]2023-05-12 02:47:25,489 - WARNING - Tried 10 times, none valid sample obtained.\n",
      " 14%|█▍        | 145/1000 [05:59<36:52,  2.59s/it]2023-05-12 02:47:50,095 - WARNING - Tried 10 times, none valid sample obtained.\n",
      " 15%|█▌        | 150/1000 [06:05<20:02,  1.41s/it]2023-05-12 02:47:54,770 - WARNING - Tried 10 times, none valid sample obtained.\n",
      " 16%|█▌        | 161/1000 [06:32<40:00,  2.86s/it]2023-05-12 02:48:22,033 - WARNING - Tried 10 times, none valid sample obtained.\n",
      " 20%|██        | 204/1000 [08:34<23:43,  1.79s/it]  2023-05-12 02:50:25,360 - WARNING - Tried 10 times, none valid sample obtained.\n",
      " 27%|██▋       | 273/1000 [12:22<42:58,  3.55s/it]  2023-05-12 02:54:15,518 - WARNING - Tried 10 times, none valid sample obtained.\n",
      " 31%|███▏      | 314/1000 [13:25<12:03,  1.05s/it]2023-05-12 02:55:15,582 - WARNING - Tried 10 times, none valid sample obtained.\n",
      " 36%|███▋      | 363/1000 [15:47<40:15,  3.79s/it]  2023-05-12 02:57:37,077 - WARNING - Tried 10 times, none valid sample obtained.\n",
      " 39%|███▉      | 391/1000 [16:35<13:26,  1.32s/it]2023-05-12 02:58:30,893 - WARNING - Tried 10 times, none valid sample obtained.\n",
      " 44%|████▎     | 437/1000 [18:43<28:23,  3.03s/it]2023-05-12 03:00:33,267 - WARNING - Tried 10 times, none valid sample obtained.\n",
      " 45%|████▍     | 447/1000 [19:11<28:46,  3.12s/it]2023-05-12 03:01:01,414 - WARNING - Tried 10 times, none valid sample obtained.\n",
      " 46%|████▋     | 465/1000 [20:09<44:02,  4.94s/it]2023-05-12 03:01:59,075 - WARNING - Tried 10 times, none valid sample obtained.\n",
      " 48%|████▊     | 481/1000 [20:55<28:03,  3.24s/it]2023-05-12 03:02:45,706 - WARNING - Tried 10 times, none valid sample obtained.\n",
      " 49%|████▉     | 493/1000 [21:11<10:19,  1.22s/it]2023-05-12 03:03:01,445 - WARNING - Tried 10 times, none valid sample obtained.\n",
      " 53%|█████▎    | 526/1000 [22:19<18:47,  2.38s/it]2023-05-12 03:04:11,683 - WARNING - Tried 10 times, none valid sample obtained.\n",
      " 53%|█████▎    | 533/1000 [22:36<14:24,  1.85s/it]2023-05-12 03:04:34,337 - WARNING - Tried 10 times, none valid sample obtained.\n",
      " 56%|█████▌    | 559/1000 [23:49<28:53,  3.93s/it]2023-05-12 03:05:39,388 - WARNING - Tried 10 times, none valid sample obtained.\n",
      " 56%|█████▌    | 562/1000 [23:51<13:03,  1.79s/it]2023-05-12 03:05:42,920 - WARNING - Tried 10 times, none valid sample obtained.\n",
      " 60%|██████    | 602/1000 [25:28<31:23,  4.73s/it]2023-05-12 03:07:20,093 - WARNING - Tried 10 times, none valid sample obtained.\n",
      " 61%|██████    | 607/1000 [25:40<18:42,  2.86s/it]2023-05-12 03:07:29,927 - WARNING - Tried 10 times, none valid sample obtained.\n",
      " 68%|██████▊   | 676/1000 [28:31<15:47,  2.93s/it]2023-05-12 03:10:20,932 - WARNING - Tried 10 times, none valid sample obtained.\n",
      " 72%|███████▏  | 718/1000 [30:11<05:51,  1.25s/it]2023-05-12 03:12:01,506 - WARNING - Tried 10 times, none valid sample obtained.\n",
      " 72%|███████▏  | 724/1000 [30:17<03:58,  1.16it/s]2023-05-12 03:12:07,797 - WARNING - Tried 10 times, none valid sample obtained.\n",
      " 75%|███████▍  | 746/1000 [31:09<16:44,  3.96s/it]2023-05-12 03:12:59,524 - WARNING - Tried 10 times, none valid sample obtained.\n",
      " 76%|███████▌  | 757/1000 [31:31<06:29,  1.60s/it]2023-05-12 03:13:21,010 - WARNING - Tried 10 times, none valid sample obtained.\n",
      " 84%|████████▎ | 835/1000 [34:45<09:23,  3.42s/it]2023-05-12 03:16:38,990 - WARNING - Tried 10 times, none valid sample obtained.\n",
      " 86%|████████▌ | 855/1000 [35:32<04:08,  1.72s/it]2023-05-12 03:17:22,252 - WARNING - Tried 10 times, none valid sample obtained.\n",
      " 94%|█████████▎| 935/1000 [37:58<01:21,  1.25s/it]2023-05-12 03:19:48,566 - WARNING - Tried 10 times, none valid sample obtained.\n",
      " 96%|█████████▌| 960/1000 [39:12<03:10,  4.76s/it]2023-05-12 03:21:03,441 - WARNING - Tried 10 times, none valid sample obtained.\n",
      " 96%|█████████▌| 961/1000 [39:14<02:31,  3.89s/it]2023-05-12 03:21:06,455 - WARNING - Tried 10 times, none valid sample obtained.\n",
      " 97%|█████████▋| 968/1000 [39:34<01:14,  2.32s/it]2023-05-12 03:21:24,179 - WARNING - Tried 10 times, none valid sample obtained.\n",
      "100%|██████████| 1000/1000 [41:20<00:00,  2.48s/it]\n",
      "  5%|▍         | 49/1000 [01:49<23:56,  1.51s/it]  2023-05-12 03:25:01,850 - WARNING - Tried 10 times, none valid sample obtained.\n",
      "  5%|▌         | 50/1000 [01:51<26:38,  1.68s/it]2023-05-12 03:25:06,318 - WARNING - Tried 10 times, none valid sample obtained.\n",
      "  6%|▌         | 58/1000 [02:18<48:26,  3.09s/it]  2023-05-12 03:25:29,717 - WARNING - Tried 10 times, none valid sample obtained.\n",
      "  6%|▌         | 59/1000 [02:19<37:43,  2.41s/it]2023-05-12 03:25:31,053 - WARNING - Tried 10 times, none valid sample obtained.\n",
      " 11%|█         | 106/1000 [04:04<28:04,  1.88s/it]  2023-05-12 03:27:16,876 - WARNING - Tried 10 times, none valid sample obtained.\n",
      " 11%|█▏        | 113/1000 [04:17<30:47,  2.08s/it]"
     ]
    }
   ],
   "source": [
    "i = 0\n",
    "while 180000+i*1000 <= 240000:\n",
    "  j = 180000+i*1000\n",
    "  K_T2 = K_T[j:j+1000]\n",
    "  data_nn2 = K_T2.merge(K_T2.progress_apply(\n",
    "    lambda row: pd.Series(generate_rBergomi_sample(row['Moneyness'], row['Time to Maturity (years)'], param_generator, S0)), \n",
    "    axis=1), left_index=True, right_index=True)\n",
    "  data_nn2.dropna(inplace=True)\n",
    "  data_nn2.to_csv('c{}.csv'.format(j), index=False)\n",
    "  i = i+1"
   ]
  },
  {
   "cell_type": "code",
   "execution_count": null,
   "metadata": {},
   "outputs": [],
   "source": [
    "data_nn = K_T.merge(K_T.progress_apply(\n",
    "    lambda row: pd.Series(generate_rBergomi_sample(row['Moneyness'], row['Time to Maturity (years)'], param_generator, S0)), \n",
    "    axis=1), left_index=True, right_index=True)"
   ]
  },
  {
   "cell_type": "code",
   "execution_count": null,
   "metadata": {},
   "outputs": [],
   "source": [
    "data_nn = data_nn.dropna()"
   ]
  },
  {
   "cell_type": "code",
   "execution_count": 11,
   "metadata": {},
   "outputs": [],
   "source": [
    "#save the file"
   ]
  },
  {
   "attachments": {},
   "cell_type": "markdown",
   "metadata": {},
   "source": [
    "Data Merger"
   ]
  },
  {
   "cell_type": "code",
   "execution_count": 14,
   "metadata": {},
   "outputs": [],
   "source": [
    "#load all csv files from current directory and concatenate them\n",
    "import glob\n",
    "import os\n",
    "import pandas as pd\n",
    "os.chdir('c:\\\\Users\\\\caspa\\\\OneDrive\\\\Dokumente\\\\UNI\\\\THESIS\\\\code\\\\my\\\\datav3')\n",
    "extension = 'csv'\n",
    "all_filenames = [i for i in glob.glob('*.{}'.format(extension))]\n",
    "combined_csv = pd.concat([pd.read_csv(f) for f in all_filenames ])\n",
    "#remove cols v0_x, H_x, eta_x, rho_x, iv_x\n",
    "combined_csv = combined_csv.drop(['v0_x', 'H_x', 'eta_x', 'rho_x', 'iv_x'], axis=1)\n",
    "#rename cols without _y\n",
    "combined_csv = combined_csv.rename(columns={'v0_y': 'v0', 'H_y': 'H', 'eta_y': 'eta', 'rho_y': 'rho', 'iv_y': 'iv'})\n",
    "\n",
    "\n",
    "#save to csv\n",
    "combined_csv.to_csv( \"labeled_data_all.csv\", index=False, encoding='utf-8-sig')"
   ]
  },
  {
   "cell_type": "code",
   "execution_count": 15,
   "metadata": {},
   "outputs": [
    {
     "data": {
      "text/plain": [
       "(1112371, 7)"
      ]
     },
     "execution_count": 15,
     "metadata": {},
     "output_type": "execute_result"
    }
   ],
   "source": [
    "combined_csv.shape"
   ]
  },
  {
   "cell_type": "code",
   "execution_count": 7,
   "metadata": {},
   "outputs": [
    {
     "data": {
      "text/plain": [
       "(array([30051., 23034., 26676., 25773., 28473., 29497., 32331., 33288.,\n",
       "        34878., 35613., 36913., 36530., 44191., 41636., 38497., 42267.,\n",
       "        38316., 42735., 38352., 42733., 38256., 41569., 34316., 38046.,\n",
       "        31582., 40435., 35076., 30613., 30762., 28239., 30604., 25777.,\n",
       "        24505., 23493., 25521., 21462., 21082., 23531., 21639., 18050.,\n",
       "        14880., 16211., 15344., 13632., 11318., 11083., 15276.,  9112.,\n",
       "         8285.,  8259.]),\n",
       " array([0.8511008 , 0.85706437, 0.86302795, 0.86899152, 0.8749551 ,\n",
       "        0.88091867, 0.88688225, 0.89284582, 0.8988094 , 0.90477297,\n",
       "        0.91073655, 0.91670012, 0.9226637 , 0.92862727, 0.93459085,\n",
       "        0.94055442, 0.946518  , 0.95248158, 0.95844515, 0.96440873,\n",
       "        0.9703723 , 0.97633588, 0.98229945, 0.98826303, 0.9942266 ,\n",
       "        1.00019018, 1.00615375, 1.01211733, 1.0180809 , 1.02404448,\n",
       "        1.03000805, 1.03597163, 1.0419352 , 1.04789878, 1.05386235,\n",
       "        1.05982593, 1.0657895 , 1.07175308, 1.07771666, 1.08368023,\n",
       "        1.08964381, 1.09560738, 1.10157096, 1.10753453, 1.11349811,\n",
       "        1.11946168, 1.12542526, 1.13138883, 1.13735241, 1.14331598,\n",
       "        1.14927956]),\n",
       " <BarContainer object of 50 artists>)"
      ]
     },
     "execution_count": 7,
     "metadata": {},
     "output_type": "execute_result"
    },
    {
     "data": {
      "image/png": "[encoded data removed]",
      "text/plain": [
       "<Figure size 640x480 with 1 Axes>"
      ]
     },
     "metadata": {},
     "output_type": "display_data"
    }
   ],
   "source": [
    "#histogram of combined_csv.iloc[:,0]\n",
    "import matplotlib.pyplot as plt\n",
    "plt.hist(combined_csv.iloc[:,0], bins=50)"
   ]
  },
  {
   "cell_type": "code",
   "execution_count": 8,
   "metadata": {},
   "outputs": [
    {
     "data": {
      "text/html": [
       "<div>\n",
       "<style scoped>\n",
       "    .dataframe tbody tr th:only-of-type {\n",
       "        vertical-align: middle;\n",
       "    }\n",
       "\n",
       "    .dataframe tbody tr th {\n",
       "        vertical-align: top;\n",
       "    }\n",
       "\n",
       "    .dataframe thead th {\n",
       "        text-align: right;\n",
       "    }\n",
       "</style>\n",
       "<table border=\"1\" class=\"dataframe\">\n",
       "  <thead>\n",
       "    <tr style=\"text-align: right;\">\n",
       "      <th></th>\n",
       "      <th>Moneyness</th>\n",
       "      <th>Time to Maturity (years)</th>\n",
       "      <th>H</th>\n",
       "      <th>eta</th>\n",
       "      <th>rho</th>\n",
       "      <th>v0</th>\n",
       "      <th>iv</th>\n",
       "      <th>H</th>\n",
       "      <th>eta</th>\n",
       "      <th>rho</th>\n",
       "      <th>v0</th>\n",
       "      <th>iv</th>\n",
       "    </tr>\n",
       "  </thead>\n",
       "  <tbody>\n",
       "    <tr>\n",
       "      <th>0</th>\n",
       "      <td>1.056539</td>\n",
       "      <td>0.059524</td>\n",
       "      <td>0.119143</td>\n",
       "      <td>3.511037</td>\n",
       "      <td>-0.891144</td>\n",
       "      <td>0.277144</td>\n",
       "      <td>0.313920</td>\n",
       "      <td>NaN</td>\n",
       "      <td>NaN</td>\n",
       "      <td>NaN</td>\n",
       "      <td>NaN</td>\n",
       "      <td>NaN</td>\n",
       "    </tr>\n",
       "    <tr>\n",
       "      <th>1</th>\n",
       "      <td>1.132845</td>\n",
       "      <td>0.416508</td>\n",
       "      <td>0.035381</td>\n",
       "      <td>1.964658</td>\n",
       "      <td>-0.974987</td>\n",
       "      <td>0.077727</td>\n",
       "      <td>0.214753</td>\n",
       "      <td>NaN</td>\n",
       "      <td>NaN</td>\n",
       "      <td>NaN</td>\n",
       "      <td>NaN</td>\n",
       "      <td>NaN</td>\n",
       "    </tr>\n",
       "    <tr>\n",
       "      <th>2</th>\n",
       "      <td>0.967320</td>\n",
       "      <td>0.115079</td>\n",
       "      <td>0.068134</td>\n",
       "      <td>1.616390</td>\n",
       "      <td>-0.672798</td>\n",
       "      <td>0.058518</td>\n",
       "      <td>0.242484</td>\n",
       "      <td>NaN</td>\n",
       "      <td>NaN</td>\n",
       "      <td>NaN</td>\n",
       "      <td>NaN</td>\n",
       "      <td>NaN</td>\n",
       "    </tr>\n",
       "    <tr>\n",
       "      <th>3</th>\n",
       "      <td>0.990799</td>\n",
       "      <td>0.055556</td>\n",
       "      <td>0.027585</td>\n",
       "      <td>2.936745</td>\n",
       "      <td>-0.981633</td>\n",
       "      <td>0.731216</td>\n",
       "      <td>0.627406</td>\n",
       "      <td>NaN</td>\n",
       "      <td>NaN</td>\n",
       "      <td>NaN</td>\n",
       "      <td>NaN</td>\n",
       "      <td>NaN</td>\n",
       "    </tr>\n",
       "    <tr>\n",
       "      <th>4</th>\n",
       "      <td>0.954407</td>\n",
       "      <td>0.087302</td>\n",
       "      <td>0.036522</td>\n",
       "      <td>1.838230</td>\n",
       "      <td>-0.852812</td>\n",
       "      <td>0.581457</td>\n",
       "      <td>0.708628</td>\n",
       "      <td>NaN</td>\n",
       "      <td>NaN</td>\n",
       "      <td>NaN</td>\n",
       "      <td>NaN</td>\n",
       "      <td>NaN</td>\n",
       "    </tr>\n",
       "  </tbody>\n",
       "</table>\n",
       "</div>"
      ],
      "text/plain": [
       "   Moneyness  Time to Maturity (years)         H       eta       rho  \\\n",
       "0   1.056539                  0.059524  0.119143  3.511037 -0.891144   \n",
       "1   1.132845                  0.416508  0.035381  1.964658 -0.974987   \n",
       "2   0.967320                  0.115079  0.068134  1.616390 -0.672798   \n",
       "3   0.990799                  0.055556  0.027585  2.936745 -0.981633   \n",
       "4   0.954407                  0.087302  0.036522  1.838230 -0.852812   \n",
       "\n",
       "         v0        iv   H  eta  rho  v0  iv  \n",
       "0  0.277144  0.313920 NaN  NaN  NaN NaN NaN  \n",
       "1  0.077727  0.214753 NaN  NaN  NaN NaN NaN  \n",
       "2  0.058518  0.242484 NaN  NaN  NaN NaN NaN  \n",
       "3  0.731216  0.627406 NaN  NaN  NaN NaN NaN  \n",
       "4  0.581457  0.708628 NaN  NaN  NaN NaN NaN  "
      ]
     },
     "execution_count": 8,
     "metadata": {},
     "output_type": "execute_result"
    }
   ],
   "source": [
    "combined_csv.head()"
   ]
  },
  {
   "attachments": {},
   "cell_type": "markdown",
   "metadata": {},
   "source": [
    "Heston Data Generator"
   ]
  },
  {
   "cell_type": "code",
   "execution_count": 4,
   "metadata": {},
   "outputs": [],
   "source": [
    "#load Moneyness-Time to maturity combinations\n",
    "K_T = pd.read_csv(\"heston_data.csv\", index_col=0)"
   ]
  },
  {
   "cell_type": "code",
   "execution_count": 5,
   "metadata": {},
   "outputs": [
    {
     "data": {
      "text/plain": [
       "(1048575, 8)"
      ]
     },
     "execution_count": 5,
     "metadata": {},
     "output_type": "execute_result"
    }
   ],
   "source": [
    "K_T.shape"
   ]
  },
  {
   "cell_type": "code",
   "execution_count": 6,
   "metadata": {},
   "outputs": [],
   "source": [
    "\n",
    "K_T = K_T.iloc[:,0:2]"
   ]
  },
  {
   "cell_type": "code",
   "execution_count": 7,
   "metadata": {},
   "outputs": [
    {
     "data": {
      "text/plain": [
       "(1048575, 2)"
      ]
     },
     "execution_count": 7,
     "metadata": {},
     "output_type": "execute_result"
    }
   ],
   "source": [
    "K_T.shape"
   ]
  },
  {
   "cell_type": "code",
   "execution_count": 8,
   "metadata": {},
   "outputs": [],
   "source": [
    "#make empty cols for all variables and output\n",
    "columns = ['lambda', 'vbar', 'eta', 'rho', 'v0','rfr', 'iv']\n",
    "data_nn = pd.DataFrame(index=K_T.index, columns=columns)\n",
    "data_nn = pd.concat([K_T, data_nn], axis=1)"
   ]
  },
  {
   "cell_type": "code",
   "execution_count": 9,
   "metadata": {},
   "outputs": [
    {
     "data": {
      "text/plain": [
       "(1048575, 9)"
      ]
     },
     "execution_count": 9,
     "metadata": {},
     "output_type": "execute_result"
    }
   ],
   "source": [
    "data_nn.shape"
   ]
  },
  {
   "cell_type": "code",
   "execution_count": 10,
   "metadata": {},
   "outputs": [
    {
     "data": {
      "text/html": [
       "<div>\n",
       "<style scoped>\n",
       "    .dataframe tbody tr th:only-of-type {\n",
       "        vertical-align: middle;\n",
       "    }\n",
       "\n",
       "    .dataframe tbody tr th {\n",
       "        vertical-align: top;\n",
       "    }\n",
       "\n",
       "    .dataframe thead th {\n",
       "        text-align: right;\n",
       "    }\n",
       "</style>\n",
       "<table border=\"1\" class=\"dataframe\">\n",
       "  <thead>\n",
       "    <tr style=\"text-align: right;\">\n",
       "      <th></th>\n",
       "      <th>Moneyness</th>\n",
       "      <th>Time to Maturity (years)</th>\n",
       "      <th>lambda</th>\n",
       "      <th>vbar</th>\n",
       "      <th>eta</th>\n",
       "      <th>rho</th>\n",
       "      <th>v0</th>\n",
       "      <th>rfr</th>\n",
       "      <th>iv</th>\n",
       "    </tr>\n",
       "    <tr>\n",
       "      <th>index</th>\n",
       "      <th></th>\n",
       "      <th></th>\n",
       "      <th></th>\n",
       "      <th></th>\n",
       "      <th></th>\n",
       "      <th></th>\n",
       "      <th></th>\n",
       "      <th></th>\n",
       "      <th></th>\n",
       "    </tr>\n",
       "  </thead>\n",
       "  <tbody>\n",
       "    <tr>\n",
       "      <th>NaN</th>\n",
       "      <td>1.056539</td>\n",
       "      <td>0.059524</td>\n",
       "      <td>NaN</td>\n",
       "      <td>NaN</td>\n",
       "      <td>NaN</td>\n",
       "      <td>NaN</td>\n",
       "      <td>NaN</td>\n",
       "      <td>NaN</td>\n",
       "      <td>NaN</td>\n",
       "    </tr>\n",
       "    <tr>\n",
       "      <th>NaN</th>\n",
       "      <td>1.132845</td>\n",
       "      <td>0.416508</td>\n",
       "      <td>NaN</td>\n",
       "      <td>NaN</td>\n",
       "      <td>NaN</td>\n",
       "      <td>NaN</td>\n",
       "      <td>NaN</td>\n",
       "      <td>NaN</td>\n",
       "      <td>NaN</td>\n",
       "    </tr>\n",
       "    <tr>\n",
       "      <th>NaN</th>\n",
       "      <td>0.967320</td>\n",
       "      <td>0.115079</td>\n",
       "      <td>NaN</td>\n",
       "      <td>NaN</td>\n",
       "      <td>NaN</td>\n",
       "      <td>NaN</td>\n",
       "      <td>NaN</td>\n",
       "      <td>NaN</td>\n",
       "      <td>NaN</td>\n",
       "    </tr>\n",
       "    <tr>\n",
       "      <th>NaN</th>\n",
       "      <td>0.990799</td>\n",
       "      <td>0.055556</td>\n",
       "      <td>NaN</td>\n",
       "      <td>NaN</td>\n",
       "      <td>NaN</td>\n",
       "      <td>NaN</td>\n",
       "      <td>NaN</td>\n",
       "      <td>NaN</td>\n",
       "      <td>NaN</td>\n",
       "    </tr>\n",
       "    <tr>\n",
       "      <th>NaN</th>\n",
       "      <td>0.954407</td>\n",
       "      <td>0.087302</td>\n",
       "      <td>NaN</td>\n",
       "      <td>NaN</td>\n",
       "      <td>NaN</td>\n",
       "      <td>NaN</td>\n",
       "      <td>NaN</td>\n",
       "      <td>NaN</td>\n",
       "      <td>NaN</td>\n",
       "    </tr>\n",
       "  </tbody>\n",
       "</table>\n",
       "</div>"
      ],
      "text/plain": [
       "       Moneyness  Time to Maturity (years) lambda vbar  eta  rho   v0  rfr  \\\n",
       "index                                                                        \n",
       "NaN     1.056539                  0.059524    NaN  NaN  NaN  NaN  NaN  NaN   \n",
       "NaN     1.132845                  0.416508    NaN  NaN  NaN  NaN  NaN  NaN   \n",
       "NaN     0.967320                  0.115079    NaN  NaN  NaN  NaN  NaN  NaN   \n",
       "NaN     0.990799                  0.055556    NaN  NaN  NaN  NaN  NaN  NaN   \n",
       "NaN     0.954407                  0.087302    NaN  NaN  NaN  NaN  NaN  NaN   \n",
       "\n",
       "        iv  \n",
       "index       \n",
       "NaN    NaN  \n",
       "NaN    NaN  \n",
       "NaN    NaN  \n",
       "NaN    NaN  \n",
       "NaN    NaN  "
      ]
     },
     "execution_count": 10,
     "metadata": {},
     "output_type": "execute_result"
    }
   ],
   "source": [
    "data_nn.head()"
   ]
  },
  {
   "cell_type": "code",
   "execution_count": 11,
   "metadata": {},
   "outputs": [],
   "source": [
    "#generate unifomr distributed random numbers for each variable\n",
    "n_samples = data_nn.shape[0]\n",
    "\n",
    "# Heston parameter, bounds by Moodley (2005)\n",
    "lambd_bounds = [0, 10]\n",
    "vbar_bounds = [0, 1]\n",
    "eta_bounds = [0, 5]\n",
    "rho_bounds = [-1, 0]\n",
    "v0_bounds = [0, 1]\n",
    "\n",
    "rfr_bounds = [0.0, 0.0525]      #realistic bounds for 3m LIBOR 2019-2023\n",
    "\n",
    "# Market params, as we use moneyness S0=1\n",
    "S0 = 1\n",
    "\n",
    "q = 0"
   ]
  },
  {
   "cell_type": "code",
   "execution_count": 12,
   "metadata": {},
   "outputs": [],
   "source": [
    "#fill with random numbers from selected distribution\n",
    "data_nn['lambda'] = np.random.uniform(lambd_bounds[0], lambd_bounds[1], n_samples)\n",
    "data_nn['vbar'] = np.random.uniform(vbar_bounds[0], vbar_bounds[1], n_samples)\n",
    "data_nn['eta'] = np.random.uniform(eta_bounds[0], eta_bounds[1], n_samples)\n",
    "data_nn['rho'] = np.random.uniform(rho_bounds[0], rho_bounds[1], n_samples)\n",
    "data_nn['v0'] = np.random.uniform(v0_bounds[0], v0_bounds[1], n_samples)\n",
    "data_nn['rfr'] = np.random.uniform(rfr_bounds[0], rfr_bounds[1], n_samples)"
   ]
  },
  {
   "cell_type": "code",
   "execution_count": 13,
   "metadata": {},
   "outputs": [],
   "source": [
    "from utils import *"
   ]
  },
  {
   "cell_type": "code",
   "execution_count": 15,
   "metadata": {},
   "outputs": [
    {
     "data": {
      "text/plain": [
       "0.24754145860960847"
      ]
     },
     "execution_count": 15,
     "metadata": {},
     "output_type": "execute_result"
    }
   ],
   "source": [
    "#testing pricer\n",
    "heston_pricer(data_nn['lambda'].iloc[0], data_nn['vbar'].iloc[0], data_nn['eta'].iloc[0], data_nn['rho'].iloc[0], data_nn['v0'].iloc[0], 0.001, 0, 1, 1,1)[0]"
   ]
  },
  {
   "cell_type": "code",
   "execution_count": 16,
   "metadata": {},
   "outputs": [
    {
     "name": "stdout",
     "output_type": "stream",
     "text": [
      "0.0\n"
     ]
    },
    {
     "name": "stderr",
     "output_type": "stream",
     "text": [
      "C:\\Users\\caspa\\AppData\\Local\\Temp\\ipykernel_12396\\3864809989.py:9: SettingWithCopyWarning: \n",
      "A value is trying to be set on a copy of a slice from a DataFrame\n",
      "\n",
      "See the caveats in the documentation: https://pandas.pydata.org/pandas-docs/stable/user_guide/indexing.html#returning-a-view-versus-a-copy\n",
      "  data_nn['iv'].iloc[i] = iv\n",
      "2023-05-21 13:05:32,506 - INFO - RuntimeError: Intrinsic 0.14772527199999996. Time 0.003968254. Strike 0.852274728.\n"
     ]
    },
    {
     "name": "stdout",
     "output_type": "stream",
     "text": [
      "failed\n",
      "failed\n",
      "failed\n"
     ]
    },
    {
     "name": "stderr",
     "output_type": "stream",
     "text": [
      "2023-05-21 13:05:43,901 - INFO - RuntimeError: Intrinsic -0.0283645480000001. Time 0.46031746. Strike 1.028364548.\n",
      "2023-05-21 13:05:47,247 - INFO - RuntimeError: Intrinsic -0.1445838290000001. Time 0.404761905. Strike 1.144583829.\n"
     ]
    },
    {
     "name": "stdout",
     "output_type": "stream",
     "text": [
      "failed\n",
      "failed\n",
      "failed\n",
      "failed\n",
      "failed\n"
     ]
    },
    {
     "name": "stderr",
     "output_type": "stream",
     "text": [
      "2023-05-21 13:06:03,046 - INFO - RuntimeError: Intrinsic 0.015070940999999949. Time 0.202380952. Strike 0.984929059.\n"
     ]
    },
    {
     "name": "stdout",
     "output_type": "stream",
     "text": [
      "failed\n",
      "failed\n",
      "failed\n",
      "failed\n",
      "failed\n",
      "failed\n",
      "failed\n",
      "failed\n",
      "failed\n",
      "failed\n",
      "failed\n",
      "failed\n",
      "failed\n",
      "failed\n",
      "failed\n",
      "failed\n",
      "failed\n",
      "failed\n",
      "failed\n",
      "failed\n",
      "failed\n",
      "failed\n",
      "failed\n"
     ]
    },
    {
     "name": "stderr",
     "output_type": "stream",
     "text": [
      "2023-05-21 13:06:38,195 - INFO - RuntimeError: Intrinsic 0.032679923. Time 0.388730159. Strike 0.967320077.\n"
     ]
    },
    {
     "name": "stdout",
     "output_type": "stream",
     "text": [
      "failed\n",
      "failed\n",
      "failed\n",
      "failed\n",
      "failed\n",
      "failed\n",
      "failed\n",
      "failed\n"
     ]
    },
    {
     "name": "stderr",
     "output_type": "stream",
     "text": [
      "2023-05-21 13:07:08,917 - INFO - RuntimeError: Intrinsic 0.10781157900000005. Time 0.115079365. Strike 0.892188421.\n"
     ]
    },
    {
     "name": "stdout",
     "output_type": "stream",
     "text": [
      "failed\n",
      "failed\n",
      "failed\n",
      "failed\n",
      "failed\n"
     ]
    },
    {
     "name": "stderr",
     "output_type": "stream",
     "text": [
      "2023-05-21 13:07:21,817 - INFO - RuntimeError: Intrinsic 0.006853416000000001. Time 0.123015873. Strike 0.993146584.\n"
     ]
    },
    {
     "name": "stdout",
     "output_type": "stream",
     "text": [
      "failed\n",
      "failed\n",
      "failed\n",
      "failed\n"
     ]
    },
    {
     "name": "stderr",
     "output_type": "stream",
     "text": [
      "2023-05-21 13:07:35,994 - INFO - RuntimeError: Intrinsic 0.054984633000000005. Time 0.107142857. Strike 0.945015367.\n"
     ]
    },
    {
     "name": "stdout",
     "output_type": "stream",
     "text": [
      "failed\n"
     ]
    },
    {
     "name": "stderr",
     "output_type": "stream",
     "text": [
      "2023-05-21 13:07:38,734 - INFO - RuntimeError: Intrinsic 0.07024575099999997. Time 0.448571429. Strike 0.929754249.\n"
     ]
    },
    {
     "name": "stdout",
     "output_type": "stream",
     "text": [
      "failed\n",
      "failed\n",
      "failed\n",
      "failed\n",
      "failed\n",
      "failed\n",
      "failed\n",
      "failed\n",
      "failed\n",
      "failed\n",
      "failed\n"
     ]
    },
    {
     "name": "stderr",
     "output_type": "stream",
     "text": [
      "2023-05-21 13:08:12,344 - INFO - RuntimeError: Intrinsic 0.12894235799999998. Time 0.035714286. Strike 0.871057642.\n"
     ]
    },
    {
     "name": "stdout",
     "output_type": "stream",
     "text": [
      "failed\n",
      "failed\n",
      "failed\n",
      "failed\n",
      "failed\n",
      "failed\n",
      "failed\n",
      "failed\n",
      "failed\n"
     ]
    },
    {
     "name": "stderr",
     "output_type": "stream",
     "text": [
      "2023-05-21 13:08:32,237 - INFO - RuntimeError: Intrinsic 0.06672395499999995. Time 0.099206349. Strike 0.933276045.\n",
      "2023-05-21 13:08:34,679 - INFO - RuntimeError: Intrinsic -0.1034962049999999. Time 0.896825397. Strike 1.103496205.\n"
     ]
    },
    {
     "name": "stdout",
     "output_type": "stream",
     "text": [
      "failed\n",
      "failed\n",
      "failed\n",
      "failed\n",
      "failed\n",
      "failed\n",
      "failed\n",
      "failed\n",
      "failed\n",
      "failed\n",
      "failed\n",
      "failed\n"
     ]
    },
    {
     "name": "stderr",
     "output_type": "stream",
     "text": [
      "2023-05-21 13:08:59,478 - INFO - RuntimeError: Intrinsic 0.09724619000000001. Time 0.19047619. Strike 0.90275381.\n"
     ]
    },
    {
     "name": "stdout",
     "output_type": "stream",
     "text": [
      "failed\n",
      "failed\n",
      "failed\n",
      "failed\n",
      "failed\n",
      "failed\n",
      "failed\n",
      "failed\n",
      "failed\n",
      "failed\n",
      "failed\n",
      "failed\n",
      "failed\n",
      "failed\n",
      "failed\n",
      "failed\n",
      "failed\n"
     ]
    },
    {
     "name": "stderr",
     "output_type": "stream",
     "text": [
      "2023-05-21 13:09:35,090 - INFO - RuntimeError: Intrinsic 0.08198507200000005. Time 0.368888889. Strike 0.918014928.\n"
     ]
    },
    {
     "name": "stdout",
     "output_type": "stream",
     "text": [
      "failed\n",
      "failed\n",
      "failed\n"
     ]
    },
    {
     "name": "stderr",
     "output_type": "stream",
     "text": [
      "2023-05-21 13:09:42,833 - INFO - RuntimeError: Intrinsic 0.04559317600000001. Time 0.079365079. Strike 0.954406824.\n"
     ]
    },
    {
     "name": "stdout",
     "output_type": "stream",
     "text": [
      "failed\n",
      "failed\n",
      "failed\n"
     ]
    },
    {
     "name": "stderr",
     "output_type": "stream",
     "text": [
      "2023-05-21 13:09:52,083 - INFO - RuntimeError: Intrinsic -0.007233770000000028. Time 0.535555556. Strike 1.00723377.\n"
     ]
    },
    {
     "name": "stdout",
     "output_type": "stream",
     "text": [
      "failed\n"
     ]
    },
    {
     "name": "stderr",
     "output_type": "stream",
     "text": [
      "2023-05-21 13:09:58,285 - INFO - RuntimeError: Intrinsic -0.01662522700000002. Time 0.448412698. Strike 1.016625227.\n"
     ]
    },
    {
     "name": "stdout",
     "output_type": "stream",
     "text": [
      "failed\n",
      "failed\n",
      "failed\n",
      "failed\n",
      "failed\n"
     ]
    },
    {
     "name": "stderr",
     "output_type": "stream",
     "text": [
      "2023-05-21 13:10:06,600 - INFO - RuntimeError: Intrinsic 0.019766669000000014. Time 0.003968254. Strike 0.980233331.\n",
      "2023-05-21 13:10:10,408 - INFO - RuntimeError: Intrinsic 0.13011629000000002. Time 0.504126984. Strike 0.86988371.\n"
     ]
    },
    {
     "name": "stdout",
     "output_type": "stream",
     "text": [
      "failed\n",
      "failed\n",
      "failed\n",
      "failed\n"
     ]
    },
    {
     "name": "stderr",
     "output_type": "stream",
     "text": [
      "2023-05-21 13:10:21,869 - INFO - RuntimeError: Intrinsic 0.01859273699999997. Time 0.111111111. Strike 0.981407263.\n"
     ]
    },
    {
     "name": "stdout",
     "output_type": "stream",
     "text": [
      "failed\n",
      "failed\n",
      "failed\n",
      "failed\n",
      "failed\n",
      "failed\n"
     ]
    },
    {
     "name": "stderr",
     "output_type": "stream",
     "text": [
      "2023-05-21 13:10:33,010 - INFO - RuntimeError: Intrinsic 0.006853416000000001. Time 0.075396825. Strike 0.993146584.\n"
     ]
    },
    {
     "name": "stdout",
     "output_type": "stream",
     "text": [
      "failed\n"
     ]
    },
    {
     "name": "stderr",
     "output_type": "stream",
     "text": [
      "2023-05-21 13:10:40,516 - INFO - RuntimeError: Intrinsic 0.06672395499999995. Time 0.111111111. Strike 0.933276045.\n"
     ]
    },
    {
     "name": "stdout",
     "output_type": "stream",
     "text": [
      "failed\n",
      "failed\n",
      "failed\n",
      "failed\n",
      "failed\n",
      "failed\n",
      "failed\n",
      "failed\n"
     ]
    },
    {
     "name": "stderr",
     "output_type": "stream",
     "text": [
      "2023-05-21 13:10:57,430 - INFO - RuntimeError: Intrinsic 0.10546371499999996. Time 0.452539683. Strike 0.894536285.\n"
     ]
    },
    {
     "name": "stdout",
     "output_type": "stream",
     "text": [
      "failed\n",
      "failed\n",
      "failed\n",
      "failed\n"
     ]
    },
    {
     "name": "stderr",
     "output_type": "stream",
     "text": [
      "2023-05-21 13:11:07,231 - INFO - RuntimeError: Intrinsic -0.11523552599999998. Time 0.035714286. Strike 1.115235526.\n"
     ]
    },
    {
     "name": "stdout",
     "output_type": "stream",
     "text": [
      "failed\n",
      "failed\n"
     ]
    },
    {
     "name": "stderr",
     "output_type": "stream",
     "text": [
      "2023-05-21 13:11:14,080 - INFO - RuntimeError: Intrinsic 0.032679923. Time 0.166666667. Strike 0.967320077.\n"
     ]
    },
    {
     "name": "stdout",
     "output_type": "stream",
     "text": [
      "failed\n",
      "failed\n",
      "failed\n",
      "failed\n",
      "failed\n",
      "failed\n",
      "failed\n",
      "failed\n",
      "failed\n",
      "failed\n",
      "failed\n",
      "failed\n",
      "failed\n",
      "failed\n",
      "failed\n",
      "failed\n",
      "failed\n"
     ]
    },
    {
     "name": "stderr",
     "output_type": "stream",
     "text": [
      "2023-05-21 13:11:44,049 - INFO - RuntimeError: Intrinsic 0.013897009000000016. Time 0.591428571. Strike 0.986102991.\n"
     ]
    },
    {
     "name": "stdout",
     "output_type": "stream",
     "text": [
      "failed\n",
      "failed\n",
      "failed\n",
      "failed\n"
     ]
    },
    {
     "name": "stderr",
     "output_type": "stream",
     "text": [
      "2023-05-21 13:12:09,011 - INFO - RuntimeError: Intrinsic -0.0941047479999999. Time 0.031746032. Strike 1.094104748.\n"
     ]
    },
    {
     "name": "stdout",
     "output_type": "stream",
     "text": [
      "failed\n",
      "failed\n",
      "failed\n",
      "failed\n",
      "failed\n",
      "failed\n",
      "failed\n",
      "failed\n",
      "failed\n",
      "failed\n",
      "failed\n",
      "failed\n",
      "failed\n"
     ]
    },
    {
     "name": "stderr",
     "output_type": "stream",
     "text": [
      "2023-05-21 13:12:34,470 - INFO - RuntimeError: Intrinsic 0.060854293999999975. Time 0.99984127. Strike 0.939145706.\n"
     ]
    },
    {
     "name": "stdout",
     "output_type": "stream",
     "text": [
      "failed\n",
      "failed\n",
      "failed\n",
      "failed\n",
      "failed\n",
      "failed\n"
     ]
    },
    {
     "name": "stderr",
     "output_type": "stream",
     "text": [
      "2023-05-21 13:12:57,194 - INFO - RuntimeError: Intrinsic 0.14068167899999995. Time 0.015873016. Strike 0.859318321.\n"
     ]
    },
    {
     "name": "stdout",
     "output_type": "stream",
     "text": [
      "failed\n",
      "failed\n",
      "failed\n",
      "failed\n",
      "failed\n",
      "failed\n",
      "failed\n",
      "failed\n",
      "failed\n",
      "failed\n",
      "failed\n",
      "0.04768376129509096\n",
      "failed\n",
      "failed\n",
      "failed\n"
     ]
    },
    {
     "name": "stderr",
     "output_type": "stream",
     "text": [
      "2023-05-21 13:13:55,432 - INFO - RuntimeError: Intrinsic 0.04089744799999995. Time 0.075396825. Strike 0.959102552.\n"
     ]
    },
    {
     "name": "stdout",
     "output_type": "stream",
     "text": [
      "failed\n",
      "failed\n",
      "failed\n",
      "failed\n",
      "failed\n",
      "failed\n",
      "failed\n",
      "failed\n",
      "failed\n",
      "failed\n"
     ]
    },
    {
     "name": "stderr",
     "output_type": "stream",
     "text": [
      "2023-05-21 13:14:19,375 - INFO - RuntimeError: Intrinsic 0.10194191900000005. Time 0.142857143. Strike 0.898058081.\n"
     ]
    },
    {
     "name": "stdout",
     "output_type": "stream",
     "text": [
      "failed\n",
      "failed\n",
      "failed\n",
      "failed\n",
      "failed\n",
      "failed\n",
      "failed\n",
      "failed\n",
      "failed\n",
      "failed\n",
      "failed\n",
      "failed\n",
      "failed\n",
      "failed\n",
      "failed\n",
      "failed\n",
      "failed\n",
      "failed\n",
      "failed\n",
      "failed\n",
      "failed\n",
      "failed\n",
      "failed\n",
      "failed\n",
      "failed\n",
      "failed\n",
      "failed\n"
     ]
    },
    {
     "name": "stderr",
     "output_type": "stream",
     "text": [
      "2023-05-21 13:15:44,805 - INFO - RuntimeError: Intrinsic -0.12110518699999995. Time 0.948412698. Strike 1.121105187.\n"
     ]
    },
    {
     "name": "stdout",
     "output_type": "stream",
     "text": [
      "failed\n",
      "failed\n",
      "failed\n",
      "failed\n",
      "failed\n",
      "failed\n",
      "failed\n"
     ]
    },
    {
     "name": "stderr",
     "output_type": "stream",
     "text": [
      "2023-05-21 13:16:10,818 - INFO - RuntimeError: Intrinsic 0.12307269700000001. Time 0.301587302. Strike 0.876927303.\n"
     ]
    },
    {
     "name": "stdout",
     "output_type": "stream",
     "text": [
      "failed\n",
      "failed\n",
      "failed\n",
      "failed\n",
      "failed\n",
      "failed\n",
      "failed\n",
      "failed\n",
      "failed\n",
      "failed\n",
      "failed\n",
      "failed\n"
     ]
    },
    {
     "name": "stderr",
     "output_type": "stream",
     "text": [
      "2023-05-21 13:17:00,898 - INFO - RuntimeError: Intrinsic -0.047147462000000084. Time 0.095238095. Strike 1.047147462.\n"
     ]
    },
    {
     "name": "stdout",
     "output_type": "stream",
     "text": [
      "failed\n",
      "failed\n",
      "failed\n",
      "failed\n",
      "failed\n",
      "failed\n",
      "failed\n",
      "failed\n",
      "failed\n",
      "failed\n",
      "failed\n",
      "failed\n",
      "failed\n",
      "failed\n",
      "failed\n",
      "failed\n",
      "failed\n",
      "failed\n"
     ]
    },
    {
     "name": "stderr",
     "output_type": "stream",
     "text": [
      "2023-05-21 13:17:42,025 - INFO - RuntimeError: Intrinsic 0.08550686900000004. Time 0.083333333. Strike 0.914493131.\n"
     ]
    },
    {
     "name": "stdout",
     "output_type": "stream",
     "text": [
      "failed\n",
      "failed\n",
      "failed\n",
      "failed\n",
      "failed\n",
      "failed\n"
     ]
    },
    {
     "name": "stderr",
     "output_type": "stream",
     "text": [
      "2023-05-21 13:18:06,221 - INFO - RuntimeError: Intrinsic 0.039723516000000014. Time 0.015873016. Strike 0.960276484.\n"
     ]
    },
    {
     "name": "stdout",
     "output_type": "stream",
     "text": [
      "failed\n"
     ]
    },
    {
     "name": "stderr",
     "output_type": "stream",
     "text": [
      "2023-05-21 13:18:11,076 - INFO - RuntimeError: Intrinsic 0.07611541200000005. Time 0.007936508. Strike 0.923884588.\n"
     ]
    },
    {
     "name": "stdout",
     "output_type": "stream",
     "text": [
      "failed\n",
      "failed\n",
      "failed\n",
      "failed\n",
      "failed\n",
      "failed\n",
      "failed\n",
      "failed\n",
      "failed\n"
     ]
    },
    {
     "name": "stderr",
     "output_type": "stream",
     "text": [
      "2023-05-21 13:18:27,197 - INFO - RuntimeError: Intrinsic -0.0800175620000001. Time 0.123015873. Strike 1.080017562.\n"
     ]
    },
    {
     "name": "stdout",
     "output_type": "stream",
     "text": [
      "failed\n",
      "failed\n",
      "failed\n",
      "failed\n",
      "failed\n",
      "failed\n",
      "failed\n",
      "failed\n",
      "failed\n",
      "failed\n"
     ]
    },
    {
     "name": "stderr",
     "output_type": "stream",
     "text": [
      "2023-05-21 13:19:08,642 - INFO - RuntimeError: Intrinsic 0.09137652900000004. Time 0.186507937. Strike 0.908623471.\n"
     ]
    },
    {
     "name": "stdout",
     "output_type": "stream",
     "text": [
      "failed\n"
     ]
    },
    {
     "name": "stderr",
     "output_type": "stream",
     "text": [
      "2023-05-21 13:19:18,229 - INFO - RuntimeError: Intrinsic 0.049114973000000006. Time 0.932698413. Strike 0.950885027.\n"
     ]
    },
    {
     "name": "stdout",
     "output_type": "stream",
     "text": [
      "failed\n"
     ]
    },
    {
     "name": "stderr",
     "output_type": "stream",
     "text": [
      "2023-05-21 13:19:23,042 - INFO - RuntimeError: Intrinsic -0.08236542599999996. Time 0.5. Strike 1.082365426.\n"
     ]
    },
    {
     "name": "stdout",
     "output_type": "stream",
     "text": [
      "failed\n"
     ]
    },
    {
     "name": "stderr",
     "output_type": "stream",
     "text": [
      "2023-05-21 13:19:25,813 - INFO - RuntimeError: Intrinsic -0.03423420900000007. Time 0.218253968. Strike 1.034234209.\n"
     ]
    },
    {
     "name": "stdout",
     "output_type": "stream",
     "text": [
      "failed\n",
      "failed\n",
      "failed\n",
      "failed\n",
      "failed\n"
     ]
    },
    {
     "name": "stderr",
     "output_type": "stream",
     "text": [
      "2023-05-21 13:19:42,163 - INFO - RuntimeError: Intrinsic -0.10114833999999995. Time 0.365238095. Strike 1.10114834.\n"
     ]
    },
    {
     "name": "stdout",
     "output_type": "stream",
     "text": [
      "failed\n",
      "failed\n",
      "failed\n",
      "failed\n",
      "failed\n",
      "failed\n",
      "failed\n",
      "failed\n",
      "failed\n",
      "failed\n",
      "failed\n",
      "failed\n",
      "failed\n",
      "failed\n",
      "failed\n",
      "failed\n",
      "failed\n",
      "failed\n"
     ]
    },
    {
     "name": "stderr",
     "output_type": "stream",
     "text": [
      "2023-05-21 13:20:41,695 - INFO - RuntimeError: Intrinsic -0.0741479009999999. Time 0.027777778. Strike 1.074147901.\n",
      "2023-05-21 13:20:43,263 - INFO - RuntimeError: Intrinsic 0.07611541200000005. Time 0.21031746. Strike 0.923884588.\n"
     ]
    },
    {
     "name": "stdout",
     "output_type": "stream",
     "text": [
      "failed\n",
      "failed\n",
      "failed\n",
      "failed\n",
      "failed\n",
      "failed\n",
      "failed\n",
      "failed\n",
      "failed\n",
      "failed\n",
      "failed\n",
      "failed\n",
      "failed\n",
      "failed\n",
      "failed\n",
      "failed\n",
      "failed\n",
      "failed\n"
     ]
    },
    {
     "name": "stderr",
     "output_type": "stream",
     "text": [
      "2023-05-21 13:21:16,594 - INFO - RuntimeError: Intrinsic 0.07846327600000003. Time 0.452539683. Strike 0.921536724.\n"
     ]
    },
    {
     "name": "stdout",
     "output_type": "stream",
     "text": [
      "failed\n",
      "failed\n",
      "failed\n",
      "failed\n"
     ]
    },
    {
     "name": "stderr",
     "output_type": "stream",
     "text": [
      "2023-05-21 13:21:38,958 - INFO - RuntimeError: Intrinsic 0.11720303600000004. Time 0.654603175. Strike 0.882796964.\n"
     ]
    },
    {
     "name": "stdout",
     "output_type": "stream",
     "text": [
      "failed\n",
      "failed\n"
     ]
    },
    {
     "name": "stderr",
     "output_type": "stream",
     "text": [
      "2023-05-21 13:21:44,041 - INFO - RuntimeError: Intrinsic -0.1445838290000001. Time 0.821587302. Strike 1.144583829.\n"
     ]
    },
    {
     "name": "stdout",
     "output_type": "stream",
     "text": [
      "failed\n",
      "failed\n",
      "failed\n",
      "failed\n",
      "failed\n",
      "failed\n"
     ]
    },
    {
     "name": "stderr",
     "output_type": "stream",
     "text": [
      "2023-05-21 13:21:55,291 - INFO - RuntimeError: Intrinsic 0.08315900399999998. Time 0.075396825. Strike 0.916840996.\n"
     ]
    },
    {
     "name": "stdout",
     "output_type": "stream",
     "text": [
      "failed\n",
      "failed\n"
     ]
    },
    {
     "name": "stderr",
     "output_type": "stream",
     "text": [
      "2023-05-21 13:22:10,296 - INFO - RuntimeError: Intrinsic 0.12542056099999999. Time 0.198412698. Strike 0.874579439.\n"
     ]
    },
    {
     "name": "stdout",
     "output_type": "stream",
     "text": [
      "failed\n",
      "failed\n",
      "failed\n",
      "failed\n",
      "0.09536752259018191\n"
     ]
    },
    {
     "name": "stderr",
     "output_type": "stream",
     "text": [
      "2023-05-21 13:22:24,015 - INFO - RuntimeError: Intrinsic 0.08668080099999997. Time 0.075396825. Strike 0.913319199.\n"
     ]
    },
    {
     "name": "stdout",
     "output_type": "stream",
     "text": [
      "failed\n",
      "failed\n",
      "failed\n",
      "failed\n",
      "failed\n",
      "failed\n",
      "failed\n",
      "failed\n",
      "failed\n",
      "failed\n",
      "failed\n",
      "failed\n"
     ]
    },
    {
     "name": "stderr",
     "output_type": "stream",
     "text": [
      "2023-05-21 13:22:56,637 - INFO - RuntimeError: Intrinsic -0.06827824100000002. Time 0.027777778. Strike 1.068278241.\n"
     ]
    },
    {
     "name": "stdout",
     "output_type": "stream",
     "text": [
      "failed\n",
      "failed\n",
      "failed\n"
     ]
    },
    {
     "name": "stderr",
     "output_type": "stream",
     "text": [
      "2023-05-21 13:23:13,904 - INFO - RuntimeError: Intrinsic 0.14420347499999997. Time 0.154761905. Strike 0.855796525.\n"
     ]
    },
    {
     "name": "stdout",
     "output_type": "stream",
     "text": [
      "failed\n",
      "failed\n",
      "failed\n"
     ]
    },
    {
     "name": "stderr",
     "output_type": "stream",
     "text": [
      "2023-05-21 13:23:32,357 - INFO - RuntimeError: Intrinsic -0.017799158999999953. Time 0.03968254. Strike 1.017799159.\n",
      "2023-05-21 13:23:36,147 - INFO - RuntimeError: Intrinsic -0.1034962049999999. Time 0.365238095. Strike 1.103496205.\n"
     ]
    },
    {
     "name": "stdout",
     "output_type": "stream",
     "text": [
      "failed\n"
     ]
    },
    {
     "name": "stderr",
     "output_type": "stream",
     "text": [
      "2023-05-21 13:23:37,647 - INFO - RuntimeError: Intrinsic 0.10898551099999998. Time 0.035714286. Strike 0.891014489.\n"
     ]
    },
    {
     "name": "stdout",
     "output_type": "stream",
     "text": [
      "failed\n"
     ]
    },
    {
     "name": "stderr",
     "output_type": "stream",
     "text": [
      "2023-05-21 13:23:39,580 - INFO - RuntimeError: Intrinsic -0.11171372999999996. Time 0.706349206. Strike 1.11171373.\n"
     ]
    },
    {
     "name": "stdout",
     "output_type": "stream",
     "text": [
      "failed\n",
      "failed\n",
      "failed\n",
      "failed\n",
      "failed\n",
      "failed\n",
      "failed\n",
      "failed\n",
      "failed\n",
      "failed\n",
      "failed\n",
      "failed\n",
      "failed\n",
      "failed\n",
      "failed\n",
      "failed\n",
      "failed\n",
      "failed\n"
     ]
    },
    {
     "name": "stderr",
     "output_type": "stream",
     "text": [
      "2023-05-21 13:24:09,249 - INFO - RuntimeError: Intrinsic -0.056538919000000076. Time 0.96031746. Strike 1.056538919.\n"
     ]
    },
    {
     "name": "stdout",
     "output_type": "stream",
     "text": [
      "failed\n",
      "failed\n",
      "failed\n",
      "failed\n",
      "failed\n",
      "failed\n",
      "failed\n",
      "failed\n"
     ]
    },
    {
     "name": "stderr",
     "output_type": "stream",
     "text": [
      "2023-05-21 13:24:21,758 - INFO - RuntimeError: Intrinsic -0.01662522700000002. Time 0.178571429. Strike 1.016625227.\n"
     ]
    },
    {
     "name": "stdout",
     "output_type": "stream",
     "text": [
      "failed\n",
      "failed\n",
      "failed\n",
      "failed\n",
      "failed\n",
      "failed\n",
      "failed\n",
      "failed\n",
      "failed\n",
      "failed\n",
      "failed\n",
      "failed\n",
      "failed\n",
      "failed\n",
      "failed\n",
      "failed\n",
      "failed\n",
      "failed\n"
     ]
    },
    {
     "name": "stderr",
     "output_type": "stream",
     "text": [
      "2023-05-21 13:25:01,246 - INFO - RuntimeError: Intrinsic -0.05771285200000009. Time 0.277777778. Strike 1.057712852.\n"
     ]
    },
    {
     "name": "stdout",
     "output_type": "stream",
     "text": [
      "failed\n",
      "failed\n",
      "failed\n",
      "failed\n",
      "failed\n",
      "failed\n",
      "failed\n",
      "failed\n"
     ]
    },
    {
     "name": "stderr",
     "output_type": "stream",
     "text": [
      "2023-05-21 13:25:20,199 - INFO - RuntimeError: Intrinsic 0.025636329999999985. Time 0.654920635. Strike 0.97436367.\n"
     ]
    },
    {
     "name": "stdout",
     "output_type": "stream",
     "text": [
      "failed\n",
      "failed\n",
      "failed\n",
      "failed\n",
      "failed\n",
      "failed\n",
      "failed\n"
     ]
    },
    {
     "name": "stderr",
     "output_type": "stream",
     "text": [
      "2023-05-21 13:25:36,109 - INFO - RuntimeError: Intrinsic 0.04089744799999995. Time 0.099206349. Strike 0.959102552.\n"
     ]
    },
    {
     "name": "stdout",
     "output_type": "stream",
     "text": [
      "failed\n",
      "failed\n",
      "failed\n",
      "failed\n",
      "failed\n",
      "failed\n",
      "failed\n",
      "failed\n",
      "failed\n",
      "failed\n",
      "failed\n"
     ]
    },
    {
     "name": "stderr",
     "output_type": "stream",
     "text": [
      "2023-05-21 13:25:56,088 - INFO - RuntimeError: Intrinsic -0.009581633999999895. Time 0.845079365. Strike 1.009581634.\n"
     ]
    },
    {
     "name": "stdout",
     "output_type": "stream",
     "text": [
      "failed\n",
      "failed\n",
      "failed\n",
      "failed\n"
     ]
    },
    {
     "name": "stderr",
     "output_type": "stream",
     "text": [
      "2023-05-21 13:26:01,469 - INFO - RuntimeError: Intrinsic -0.129322712. Time 0.420634921. Strike 1.129322712.\n"
     ]
    },
    {
     "name": "stdout",
     "output_type": "stream",
     "text": [
      "failed\n"
     ]
    },
    {
     "name": "stderr",
     "output_type": "stream",
     "text": [
      "2023-05-21 13:26:03,497 - INFO - RuntimeError: Intrinsic 0.06672395499999995. Time 0.48. Strike 0.933276045.\n"
     ]
    },
    {
     "name": "stdout",
     "output_type": "stream",
     "text": [
      "failed\n",
      "failed\n",
      "failed\n"
     ]
    },
    {
     "name": "stderr",
     "output_type": "stream",
     "text": [
      "2023-05-21 13:26:08,672 - INFO - RuntimeError: Intrinsic 0.037375650999999954. Time 0.222222222. Strike 0.962624349.\n"
     ]
    },
    {
     "name": "stdout",
     "output_type": "stream",
     "text": [
      "failed\n",
      "failed\n",
      "failed\n",
      "failed\n",
      "failed\n",
      "failed\n",
      "failed\n"
     ]
    },
    {
     "name": "stderr",
     "output_type": "stream",
     "text": [
      "2023-05-21 13:26:23,605 - INFO - RuntimeError: Intrinsic 0.14772527199999996. Time 0.055555556. Strike 0.852274728.\n"
     ]
    },
    {
     "name": "stdout",
     "output_type": "stream",
     "text": [
      "failed\n",
      "failed\n"
     ]
    },
    {
     "name": "stderr",
     "output_type": "stream",
     "text": [
      "2023-05-21 13:26:27,053 - INFO - RuntimeError: Intrinsic 0.019766669000000014. Time 0.05952381. Strike 0.980233331.\n"
     ]
    },
    {
     "name": "stdout",
     "output_type": "stream",
     "text": [
      "failed\n",
      "failed\n",
      "failed\n",
      "failed\n",
      "failed\n",
      "failed\n",
      "failed\n",
      "failed\n",
      "failed\n",
      "failed\n",
      "failed\n",
      "failed\n"
     ]
    },
    {
     "name": "stderr",
     "output_type": "stream",
     "text": [
      "2023-05-21 13:26:41,784 - INFO - RuntimeError: Intrinsic 0.07024575099999997. Time 0.242063492. Strike 0.929754249.\n"
     ]
    },
    {
     "name": "stdout",
     "output_type": "stream",
     "text": [
      "failed\n",
      "failed\n",
      "failed\n",
      "failed\n",
      "failed\n",
      "failed\n",
      "failed\n",
      "failed\n",
      "failed\n"
     ]
    },
    {
     "name": "stderr",
     "output_type": "stream",
     "text": [
      "2023-05-21 13:27:04,863 - INFO - RuntimeError: Intrinsic 0.13598595000000002. Time 0.654920635. Strike 0.86401405.\n"
     ]
    },
    {
     "name": "stdout",
     "output_type": "stream",
     "text": [
      "failed\n",
      "failed\n",
      "failed\n"
     ]
    },
    {
     "name": "stderr",
     "output_type": "stream",
     "text": [
      "2023-05-21 13:27:10,778 - INFO - RuntimeError: Intrinsic 0.037375650999999954. Time 0.385079365. Strike 0.962624349.\n"
     ]
    },
    {
     "name": "stdout",
     "output_type": "stream",
     "text": [
      "failed\n",
      "failed\n",
      "failed\n",
      "failed\n",
      "failed\n",
      "failed\n",
      "failed\n"
     ]
    },
    {
     "name": "stderr",
     "output_type": "stream",
     "text": [
      "2023-05-21 13:27:26,273 - INFO - RuntimeError: Intrinsic -0.02014702300000004. Time 0.031746032. Strike 1.020147023.\n"
     ]
    },
    {
     "name": "stdout",
     "output_type": "stream",
     "text": [
      "failed\n"
     ]
    },
    {
     "name": "stderr",
     "output_type": "stream",
     "text": [
      "2023-05-21 13:27:28,412 - INFO - RuntimeError: Intrinsic -0.138714169. Time 0.095238095. Strike 1.138714169.\n"
     ]
    },
    {
     "name": "stdout",
     "output_type": "stream",
     "text": [
      "failed\n",
      "failed\n",
      "failed\n",
      "failed\n",
      "failed\n",
      "failed\n",
      "failed\n",
      "failed\n",
      "failed\n",
      "failed\n",
      "failed\n"
     ]
    },
    {
     "name": "stderr",
     "output_type": "stream",
     "text": [
      "2023-05-21 13:27:41,151 - INFO - RuntimeError: Intrinsic 0.11015944300000002. Time 0.067460317. Strike 0.889840557.\n"
     ]
    },
    {
     "name": "stdout",
     "output_type": "stream",
     "text": [
      "failed\n",
      "failed\n",
      "failed\n",
      "failed\n",
      "failed\n",
      "failed\n",
      "failed\n",
      "failed\n",
      "failed\n",
      "failed\n"
     ]
    },
    {
     "name": "stderr",
     "output_type": "stream",
     "text": [
      "2023-05-21 13:27:58,850 - INFO - RuntimeError: Intrinsic -0.12697484700000006. Time 0.666507937. Strike 1.126974847.\n"
     ]
    },
    {
     "name": "stdout",
     "output_type": "stream",
     "text": [
      "failed\n",
      "failed\n",
      "failed\n",
      "failed\n"
     ]
    },
    {
     "name": "stderr",
     "output_type": "stream",
     "text": [
      "2023-05-21 13:28:04,925 - INFO - RuntimeError: Intrinsic 0.116029104. Time 0.512063492. Strike 0.883970896.\n"
     ]
    },
    {
     "name": "stdout",
     "output_type": "stream",
     "text": [
      "failed\n",
      "failed\n",
      "failed\n",
      "failed\n",
      "failed\n",
      "failed\n",
      "failed\n",
      "failed\n",
      "failed\n"
     ]
    },
    {
     "name": "stderr",
     "output_type": "stream",
     "text": [
      "2023-05-21 13:28:19,845 - INFO - RuntimeError: Intrinsic 0.032679923. Time 0.047619048. Strike 0.967320077.\n",
      "2023-05-21 13:28:21,695 - INFO - RuntimeError: Intrinsic 0.07494147900000003. Time 0.05952381. Strike 0.925058521.\n"
     ]
    },
    {
     "name": "stdout",
     "output_type": "stream",
     "text": [
      "failed\n",
      "failed\n",
      "failed\n",
      "failed\n",
      "failed\n",
      "failed\n",
      "failed\n",
      "failed\n",
      "failed\n",
      "failed\n",
      "failed\n"
     ]
    },
    {
     "name": "stderr",
     "output_type": "stream",
     "text": [
      "2023-05-21 13:28:39,268 - INFO - RuntimeError: Intrinsic 0.09255046099999997. Time 0.011904762. Strike 0.907449539.\n"
     ]
    },
    {
     "name": "stdout",
     "output_type": "stream",
     "text": [
      "failed\n",
      "failed\n",
      "failed\n",
      "failed\n",
      "failed\n",
      "failed\n",
      "failed\n",
      "failed\n",
      "failed\n",
      "failed\n",
      "failed\n"
     ]
    },
    {
     "name": "stderr",
     "output_type": "stream",
     "text": [
      "2023-05-21 13:28:50,135 - INFO - RuntimeError: Intrinsic 0.019766669000000014. Time 0.543492063. Strike 0.980233331.\n"
     ]
    },
    {
     "name": "stdout",
     "output_type": "stream",
     "text": [
      "failed\n",
      "failed\n",
      "failed\n",
      "failed\n",
      "0.14305128388527288\n",
      "failed\n",
      "failed\n",
      "failed\n",
      "failed\n",
      "failed\n",
      "failed\n",
      "failed\n",
      "failed\n",
      "failed\n",
      "failed\n",
      "failed\n",
      "failed\n",
      "failed\n",
      "failed\n",
      "failed\n",
      "failed\n",
      "failed\n",
      "failed\n",
      "failed\n",
      "failed\n",
      "failed\n",
      "failed\n",
      "failed\n",
      "failed\n",
      "failed\n",
      "failed\n",
      "failed\n",
      "failed\n",
      "failed\n",
      "failed\n",
      "failed\n"
     ]
    },
    {
     "name": "stderr",
     "output_type": "stream",
     "text": [
      "2023-05-21 13:29:42,997 - INFO - RuntimeError: Intrinsic -0.06123464799999989. Time 0.063492063. Strike 1.061234648.\n"
     ]
    },
    {
     "name": "stdout",
     "output_type": "stream",
     "text": [
      "failed\n",
      "failed\n",
      "failed\n",
      "failed\n",
      "failed\n",
      "failed\n"
     ]
    },
    {
     "name": "stderr",
     "output_type": "stream",
     "text": [
      "2023-05-21 13:29:50,092 - INFO - RuntimeError: Intrinsic 0.08785473300000002. Time 0.281746032. Strike 0.912145267.\n"
     ]
    },
    {
     "name": "stdout",
     "output_type": "stream",
     "text": [
      "failed\n",
      "failed\n",
      "failed\n",
      "failed\n",
      "failed\n",
      "failed\n",
      "failed\n",
      "failed\n",
      "failed\n",
      "failed\n",
      "failed\n",
      "failed\n"
     ]
    },
    {
     "name": "stderr",
     "output_type": "stream",
     "text": [
      "2023-05-21 13:30:10,706 - INFO - RuntimeError: Intrinsic -0.015451295000000087. Time 0.595079365. Strike 1.015451295.\n"
     ]
    },
    {
     "name": "stdout",
     "output_type": "stream",
     "text": [
      "failed\n",
      "failed\n",
      "failed\n"
     ]
    },
    {
     "name": "stderr",
     "output_type": "stream",
     "text": [
      "2023-05-21 13:30:18,869 - INFO - RuntimeError: Intrinsic 0.049114973000000006. Time 0.055555556. Strike 0.950885027.\n"
     ]
    },
    {
     "name": "stdout",
     "output_type": "stream",
     "text": [
      "failed\n",
      "failed\n",
      "failed\n",
      "failed\n",
      "failed\n",
      "failed\n",
      "failed\n"
     ]
    },
    {
     "name": "stderr",
     "output_type": "stream",
     "text": [
      "2023-05-21 13:30:25,442 - INFO - RuntimeError: Intrinsic 0.032679923. Time 0.666507937. Strike 0.967320077.\n"
     ]
    },
    {
     "name": "stdout",
     "output_type": "stream",
     "text": [
      "failed\n"
     ]
    },
    {
     "name": "stderr",
     "output_type": "stream",
     "text": [
      "2023-05-21 13:30:26,776 - INFO - RuntimeError: Intrinsic -0.02249488799999999. Time 0.325396825. Strike 1.022494888.\n"
     ]
    },
    {
     "name": "stdout",
     "output_type": "stream",
     "text": [
      "failed\n",
      "failed\n"
     ]
    },
    {
     "name": "stderr",
     "output_type": "stream",
     "text": [
      "2023-05-21 13:30:30,278 - INFO - RuntimeError: Intrinsic -0.03775600500000009. Time 0.432380952. Strike 1.037756005.\n",
      "2023-05-21 13:30:30,707 - INFO - RuntimeError: Intrinsic 0.084332937. Time 0.483968254. Strike 0.915667063.\n",
      "2023-05-21 13:30:34,210 - INFO - RuntimeError: Intrinsic -0.002538040999999991. Time 0.035714286. Strike 1.002538041.\n"
     ]
    },
    {
     "name": "stdout",
     "output_type": "stream",
     "text": [
      "failed\n"
     ]
    },
    {
     "name": "stderr",
     "output_type": "stream",
     "text": [
      "2023-05-21 13:30:35,645 - INFO - RuntimeError: Intrinsic -0.027190615999999945. Time 0.642857143. Strike 1.027190616.\n"
     ]
    },
    {
     "name": "stdout",
     "output_type": "stream",
     "text": [
      "failed\n",
      "failed\n",
      "failed\n",
      "failed\n",
      "failed\n",
      "failed\n",
      "failed\n",
      "failed\n",
      "failed\n",
      "failed\n",
      "failed\n",
      "failed\n",
      "failed\n"
     ]
    },
    {
     "name": "stderr",
     "output_type": "stream",
     "text": [
      "2023-05-21 13:30:49,255 - INFO - RuntimeError: Intrinsic 0.023288466000000008. Time 0.011904762. Strike 0.976711534.\n"
     ]
    },
    {
     "name": "stdout",
     "output_type": "stream",
     "text": [
      "failed\n",
      "failed\n",
      "failed\n",
      "failed\n",
      "failed\n",
      "failed\n",
      "failed\n",
      "failed\n",
      "failed\n",
      "failed\n",
      "failed\n",
      "failed\n",
      "failed\n",
      "failed\n"
     ]
    },
    {
     "name": "stderr",
     "output_type": "stream",
     "text": [
      "2023-05-21 13:31:10,687 - INFO - RuntimeError: Intrinsic -0.03658207299999994. Time 0.111111111. Strike 1.036582073.\n"
     ]
    },
    {
     "name": "stdout",
     "output_type": "stream",
     "text": [
      "failed\n",
      "failed\n",
      "failed\n",
      "failed\n",
      "failed\n",
      "failed\n",
      "failed\n",
      "failed\n",
      "failed\n",
      "failed\n",
      "failed\n",
      "failed\n",
      "failed\n",
      "failed\n",
      "failed\n"
     ]
    },
    {
     "name": "stderr",
     "output_type": "stream",
     "text": [
      "2023-05-21 13:31:33,360 - INFO - RuntimeError: Intrinsic -0.1034962049999999. Time 0.087301587. Strike 1.103496205.\n"
     ]
    },
    {
     "name": "stdout",
     "output_type": "stream",
     "text": [
      "failed\n",
      "failed\n",
      "failed\n",
      "failed\n",
      "failed\n"
     ]
    },
    {
     "name": "stderr",
     "output_type": "stream",
     "text": [
      "2023-05-21 13:31:38,299 - INFO - RuntimeError: Intrinsic 0.10311585099999998. Time 0.095238095. Strike 0.896884149.\n"
     ]
    },
    {
     "name": "stdout",
     "output_type": "stream",
     "text": [
      "failed\n",
      "failed\n",
      "failed\n",
      "failed\n",
      "failed\n",
      "failed\n",
      "failed\n"
     ]
    },
    {
     "name": "stderr",
     "output_type": "stream",
     "text": [
      "2023-05-21 13:31:48,160 - INFO - RuntimeError: Intrinsic 0.029158126000000006. Time 0.023809524. Strike 0.970841874.\n"
     ]
    },
    {
     "name": "stdout",
     "output_type": "stream",
     "text": [
      "failed\n"
     ]
    },
    {
     "name": "stderr",
     "output_type": "stream",
     "text": [
      "2023-05-21 13:31:51,575 - INFO - RuntimeError: Intrinsic 0.07846327600000003. Time 0.611269841. Strike 0.921536724.\n"
     ]
    },
    {
     "name": "stdout",
     "output_type": "stream",
     "text": [
      "failed\n"
     ]
    },
    {
     "name": "stderr",
     "output_type": "stream",
     "text": [
      "2023-05-21 13:31:52,358 - INFO - RuntimeError: Intrinsic 0.03033205800000005. Time 0.05952381. Strike 0.969667942.\n"
     ]
    },
    {
     "name": "stdout",
     "output_type": "stream",
     "text": [
      "failed\n",
      "failed\n",
      "failed\n",
      "failed\n",
      "failed\n"
     ]
    },
    {
     "name": "stderr",
     "output_type": "stream",
     "text": [
      "2023-05-21 13:31:55,109 - INFO - RuntimeError: Intrinsic -0.0741479009999999. Time 0.869206349. Strike 1.074147901.\n"
     ]
    },
    {
     "name": "stdout",
     "output_type": "stream",
     "text": [
      "failed\n",
      "failed\n",
      "failed\n",
      "failed\n",
      "failed\n",
      "failed\n"
     ]
    },
    {
     "name": "stderr",
     "output_type": "stream",
     "text": [
      "2023-05-21 13:32:02,399 - INFO - RuntimeError: Intrinsic 0.07963720799999996. Time 0.432380952. Strike 0.920362792.\n"
     ]
    },
    {
     "name": "stdout",
     "output_type": "stream",
     "text": [
      "failed\n"
     ]
    },
    {
     "name": "stderr",
     "output_type": "stream",
     "text": [
      "2023-05-21 13:32:06,142 - INFO - RuntimeError: Intrinsic 0.10428978300000002. Time 0.047619048. Strike 0.895710217.\n"
     ]
    },
    {
     "name": "stdout",
     "output_type": "stream",
     "text": [
      "failed\n",
      "failed\n",
      "failed\n"
     ]
    },
    {
     "name": "stderr",
     "output_type": "stream",
     "text": [
      "2023-05-21 13:32:09,726 - INFO - RuntimeError: Intrinsic 0.090202597. Time 0.389047619. Strike 0.909797403.\n"
     ]
    },
    {
     "name": "stdout",
     "output_type": "stream",
     "text": [
      "failed\n",
      "failed\n",
      "failed\n"
     ]
    },
    {
     "name": "stderr",
     "output_type": "stream",
     "text": [
      "2023-05-21 13:32:15,183 - INFO - RuntimeError: Intrinsic 0.03033205800000005. Time 0.535714286. Strike 0.969667942.\n"
     ]
    },
    {
     "name": "stdout",
     "output_type": "stream",
     "text": [
      "failed\n",
      "failed\n",
      "failed\n",
      "failed\n"
     ]
    },
    {
     "name": "stderr",
     "output_type": "stream",
     "text": [
      "2023-05-21 13:32:20,135 - INFO - RuntimeError: Intrinsic 0.006853416000000001. Time 0.103174603. Strike 0.993146584.\n"
     ]
    },
    {
     "name": "stdout",
     "output_type": "stream",
     "text": [
      "failed\n",
      "failed\n",
      "failed\n",
      "failed\n",
      "failed\n",
      "failed\n",
      "failed\n",
      "failed\n",
      "failed\n",
      "failed\n",
      "failed\n",
      "failed\n",
      "failed\n",
      "failed\n",
      "failed\n",
      "failed\n"
     ]
    },
    {
     "name": "stderr",
     "output_type": "stream",
     "text": [
      "2023-05-21 13:32:42,737 - INFO - RuntimeError: Intrinsic 0.060854293999999975. Time 0.023809524. Strike 0.939145706.\n"
     ]
    },
    {
     "name": "stdout",
     "output_type": "stream",
     "text": [
      "failed\n",
      "failed\n",
      "failed\n",
      "failed\n",
      "failed\n",
      "failed\n",
      "failed\n",
      "failed\n",
      "failed\n",
      "failed\n"
     ]
    },
    {
     "name": "stderr",
     "output_type": "stream",
     "text": [
      "2023-05-21 13:33:00,096 - INFO - RuntimeError: Intrinsic -0.009581633999999895. Time 0.03968254. Strike 1.009581634.\n"
     ]
    },
    {
     "name": "stdout",
     "output_type": "stream",
     "text": [
      "failed\n",
      "failed\n",
      "failed\n",
      "failed\n",
      "failed\n",
      "failed\n"
     ]
    },
    {
     "name": "stderr",
     "output_type": "stream",
     "text": [
      "2023-05-21 13:33:06,828 - INFO - RuntimeError: Intrinsic 0.12189876499999996. Time 0.095238095. Strike 0.878101235.\n"
     ]
    },
    {
     "name": "stdout",
     "output_type": "stream",
     "text": [
      "failed\n",
      "failed\n",
      "failed\n"
     ]
    },
    {
     "name": "stderr",
     "output_type": "stream",
     "text": [
      "2023-05-21 13:33:10,379 - INFO - RuntimeError: Intrinsic -0.056538919000000076. Time 1.011904762. Strike 1.056538919.\n",
      "2023-05-21 13:33:12,487 - INFO - RuntimeError: Intrinsic -0.014277362999999932. Time 0.03968254. Strike 1.014277363.\n",
      "2023-05-21 13:33:14,137 - INFO - RuntimeError: Intrinsic 0.11955090099999999. Time 0.031746032. Strike 0.880449099.\n",
      "2023-05-21 13:33:14,703 - INFO - RuntimeError: Intrinsic 0.09842012200000005. Time 0.154761905. Strike 0.901579878.\n"
     ]
    },
    {
     "name": "stdout",
     "output_type": "stream",
     "text": [
      "failed\n"
     ]
    },
    {
     "name": "stderr",
     "output_type": "stream",
     "text": [
      "2023-05-21 13:33:15,653 - INFO - RuntimeError: Intrinsic 0.05968036200000004. Time 0.055555556. Strike 0.940319638.\n"
     ]
    },
    {
     "name": "stdout",
     "output_type": "stream",
     "text": [
      "failed\n"
     ]
    },
    {
     "name": "stderr",
     "output_type": "stream",
     "text": [
      "2023-05-21 13:33:17,994 - INFO - RuntimeError: Intrinsic 0.11955090099999999. Time 0.134920635. Strike 0.880449099.\n"
     ]
    },
    {
     "name": "stdout",
     "output_type": "stream",
     "text": [
      "failed\n",
      "failed\n"
     ]
    },
    {
     "name": "stderr",
     "output_type": "stream",
     "text": [
      "2023-05-21 13:33:25,186 - INFO - RuntimeError: Intrinsic -0.1034962049999999. Time 0.055555556. Strike 1.103496205.\n"
     ]
    },
    {
     "name": "stdout",
     "output_type": "stream",
     "text": [
      "failed\n",
      "0.19073504518036383\n",
      "failed\n"
     ]
    },
    {
     "name": "stderr",
     "output_type": "stream",
     "text": [
      "2023-05-21 13:33:30,062 - INFO - RuntimeError: Intrinsic -0.015451295000000087. Time 0.96031746. Strike 1.015451295.\n"
     ]
    },
    {
     "name": "stdout",
     "output_type": "stream",
     "text": [
      "failed\n",
      "failed\n",
      "failed\n",
      "failed\n"
     ]
    },
    {
     "name": "stderr",
     "output_type": "stream",
     "text": [
      "2023-05-21 13:33:38,383 - INFO - RuntimeError: Intrinsic 0.14420347499999997. Time 0.142857143. Strike 0.855796525.\n",
      "2023-05-21 13:33:40,335 - INFO - RuntimeError: Intrinsic 0.07494147900000003. Time 0.515714286. Strike 0.925058521.\n"
     ]
    },
    {
     "name": "stdout",
     "output_type": "stream",
     "text": [
      "failed\n"
     ]
    },
    {
     "name": "stderr",
     "output_type": "stream",
     "text": [
      "2023-05-21 13:33:42,511 - INFO - RuntimeError: Intrinsic -0.03775600500000009. Time 0.150793651. Strike 1.037756005.\n"
     ]
    },
    {
     "name": "stdout",
     "output_type": "stream",
     "text": [
      "failed\n",
      "failed\n",
      "failed\n",
      "failed\n",
      "failed\n",
      "failed\n",
      "failed\n",
      "failed\n"
     ]
    },
    {
     "name": "stderr",
     "output_type": "stream",
     "text": [
      "2023-05-21 13:33:52,705 - INFO - RuntimeError: Intrinsic 0.025636329999999985. Time 0.158730159. Strike 0.97436367.\n"
     ]
    },
    {
     "name": "stdout",
     "output_type": "stream",
     "text": [
      "failed\n"
     ]
    },
    {
     "name": "stderr",
     "output_type": "stream",
     "text": [
      "2023-05-21 13:33:53,841 - INFO - RuntimeError: Intrinsic -0.030712411999999967. Time 0.05952381. Strike 1.030712412.\n"
     ]
    },
    {
     "name": "stdout",
     "output_type": "stream",
     "text": [
      "failed\n",
      "failed\n",
      "failed\n",
      "failed\n",
      "failed\n",
      "failed\n",
      "failed\n",
      "failed\n",
      "failed\n",
      "failed\n",
      "failed\n",
      "failed\n",
      "failed\n",
      "failed\n",
      "failed\n",
      "failed\n",
      "failed\n",
      "failed\n",
      "failed\n",
      "failed\n",
      "failed\n",
      "failed\n",
      "failed\n",
      "failed\n",
      "failed\n",
      "failed\n",
      "failed\n",
      "failed\n",
      "failed\n",
      "failed\n",
      "failed\n",
      "failed\n",
      "failed\n",
      "failed\n"
     ]
    },
    {
     "name": "stderr",
     "output_type": "stream",
     "text": [
      "2023-05-21 13:34:34,491 - INFO - RuntimeError: Intrinsic 0.14537740700000001. Time 0.654603175. Strike 0.854622593.\n"
     ]
    },
    {
     "name": "stdout",
     "output_type": "stream",
     "text": [
      "failed\n",
      "failed\n",
      "failed\n",
      "failed\n",
      "failed\n",
      "failed\n",
      "failed\n",
      "failed\n"
     ]
    },
    {
     "name": "stderr",
     "output_type": "stream",
     "text": [
      "2023-05-21 13:34:43,096 - INFO - RuntimeError: Intrinsic 0.04441924399999997. Time 0.01984127. Strike 0.955580756.\n",
      "2023-05-21 13:34:45,969 - INFO - RuntimeError: Intrinsic 0.04207137999999999. Time 0.364920635. Strike 0.95792862.\n"
     ]
    },
    {
     "name": "stdout",
     "output_type": "stream",
     "text": [
      "failed\n",
      "failed\n"
     ]
    },
    {
     "name": "stderr",
     "output_type": "stream",
     "text": [
      "2023-05-21 13:34:50,789 - INFO - RuntimeError: Intrinsic -0.023668819999999924. Time 0.119047619. Strike 1.02366882.\n"
     ]
    },
    {
     "name": "stdout",
     "output_type": "stream",
     "text": [
      "failed\n",
      "failed\n",
      "failed\n",
      "failed\n",
      "failed\n",
      "failed\n",
      "failed\n",
      "failed\n",
      "failed\n",
      "failed\n",
      "failed\n"
     ]
    },
    {
     "name": "stderr",
     "output_type": "stream",
     "text": [
      "2023-05-21 13:35:13,803 - INFO - RuntimeError: Intrinsic 0.008027348000000045. Time 0.083333333. Strike 0.991972652.\n"
     ]
    },
    {
     "name": "stdout",
     "output_type": "stream",
     "text": [
      "failed\n",
      "failed\n",
      "failed\n",
      "failed\n",
      "failed\n",
      "failed\n",
      "failed\n",
      "failed\n",
      "failed\n",
      "failed\n",
      "failed\n",
      "failed\n",
      "failed\n",
      "failed\n",
      "failed\n",
      "failed\n",
      "failed\n",
      "failed\n"
     ]
    },
    {
     "name": "stderr",
     "output_type": "stream",
     "text": [
      "2023-05-21 13:35:35,044 - INFO - RuntimeError: Intrinsic -0.02249488799999999. Time 0.111111111. Strike 1.022494888.\n",
      "2023-05-21 13:35:36,763 - INFO - RuntimeError: Intrinsic -0.11171372999999996. Time 0.194444444. Strike 1.11171373.\n"
     ]
    },
    {
     "name": "stdout",
     "output_type": "stream",
     "text": [
      "failed\n",
      "failed\n",
      "failed\n",
      "failed\n",
      "failed\n",
      "failed\n",
      "failed\n",
      "failed\n",
      "failed\n"
     ]
    },
    {
     "name": "stderr",
     "output_type": "stream",
     "text": [
      "2023-05-21 13:35:52,923 - INFO - RuntimeError: Intrinsic -0.026016684000000012. Time 0.047619048. Strike 1.026016684.\n"
     ]
    },
    {
     "name": "stdout",
     "output_type": "stream",
     "text": [
      "failed\n",
      "failed\n",
      "failed\n",
      "failed\n",
      "failed\n",
      "failed\n",
      "failed\n"
     ]
    },
    {
     "name": "stderr",
     "output_type": "stream",
     "text": [
      "2023-05-21 13:36:03,114 - INFO - RuntimeError: Intrinsic -0.047147462000000084. Time 0.079365079. Strike 1.047147462.\n"
     ]
    },
    {
     "name": "stdout",
     "output_type": "stream",
     "text": [
      "failed\n",
      "failed\n",
      "failed\n",
      "failed\n",
      "failed\n",
      "failed\n",
      "failed\n",
      "failed\n",
      "failed\n",
      "failed\n",
      "failed\n",
      "failed\n",
      "failed\n",
      "failed\n",
      "failed\n",
      "failed\n",
      "failed\n"
     ]
    },
    {
     "name": "stderr",
     "output_type": "stream",
     "text": [
      "2023-05-21 13:36:22,447 - INFO - RuntimeError: Intrinsic -0.138714169. Time 0.531746032. Strike 1.138714169.\n"
     ]
    },
    {
     "name": "stdout",
     "output_type": "stream",
     "text": [
      "failed\n",
      "failed\n",
      "failed\n",
      "failed\n",
      "failed\n"
     ]
    },
    {
     "name": "stderr",
     "output_type": "stream",
     "text": [
      "2023-05-21 13:36:28,083 - INFO - RuntimeError: Intrinsic 0.03502778699999998. Time 0.666507937. Strike 0.964972213.\n"
     ]
    },
    {
     "name": "stdout",
     "output_type": "stream",
     "text": [
      "failed\n",
      "failed\n",
      "failed\n",
      "failed\n",
      "failed\n",
      "failed\n"
     ]
    },
    {
     "name": "stderr",
     "output_type": "stream",
     "text": [
      "2023-05-21 13:36:35,141 - INFO - RuntimeError: Intrinsic -0.0941047479999999. Time 0.317460317. Strike 1.094104748.\n"
     ]
    },
    {
     "name": "stdout",
     "output_type": "stream",
     "text": [
      "failed\n"
     ]
    },
    {
     "name": "stderr",
     "output_type": "stream",
     "text": [
      "2023-05-21 13:36:36,204 - INFO - RuntimeError: Intrinsic -0.12697484700000006. Time 0.615238095. Strike 1.126974847.\n"
     ]
    },
    {
     "name": "stdout",
     "output_type": "stream",
     "text": [
      "failed\n",
      "failed\n",
      "failed\n",
      "failed\n"
     ]
    },
    {
     "name": "stderr",
     "output_type": "stream",
     "text": [
      "2023-05-21 13:36:41,102 - INFO - RuntimeError: Intrinsic -0.017799158999999953. Time 0.385079365. Strike 1.017799159.\n"
     ]
    },
    {
     "name": "stdout",
     "output_type": "stream",
     "text": [
      "failed\n",
      "failed\n"
     ]
    },
    {
     "name": "stderr",
     "output_type": "stream",
     "text": [
      "2023-05-21 13:36:45,977 - INFO - RuntimeError: Intrinsic -0.04010387000000004. Time 0.623174603. Strike 1.04010387.\n"
     ]
    },
    {
     "name": "stdout",
     "output_type": "stream",
     "text": [
      "failed\n",
      "failed\n",
      "failed\n",
      "failed\n",
      "failed\n",
      "failed\n",
      "failed\n"
     ]
    },
    {
     "name": "stderr",
     "output_type": "stream",
     "text": [
      "2023-05-21 13:36:57,717 - INFO - RuntimeError: Intrinsic 0.019766669000000014. Time 0.051587302. Strike 0.980233331.\n"
     ]
    },
    {
     "name": "stdout",
     "output_type": "stream",
     "text": [
      "failed\n",
      "failed\n"
     ]
    },
    {
     "name": "stderr",
     "output_type": "stream",
     "text": [
      "2023-05-21 13:37:01,215 - INFO - RuntimeError: Intrinsic 0.03033205800000005. Time 0.027777778. Strike 0.969667942.\n"
     ]
    },
    {
     "name": "stdout",
     "output_type": "stream",
     "text": [
      "failed\n",
      "failed\n",
      "failed\n",
      "failed\n",
      "failed\n",
      "failed\n"
     ]
    },
    {
     "name": "stderr",
     "output_type": "stream",
     "text": [
      "2023-05-21 13:37:13,655 - INFO - RuntimeError: Intrinsic -0.009581633999999895. Time 0.873174603. Strike 1.009581634.\n"
     ]
    },
    {
     "name": "stdout",
     "output_type": "stream",
     "text": [
      "failed\n",
      "failed\n",
      "failed\n",
      "failed\n",
      "failed\n",
      "failed\n",
      "failed\n",
      "failed\n",
      "failed\n",
      "failed\n",
      "failed\n",
      "failed\n",
      "failed\n",
      "failed\n",
      "failed\n",
      "failed\n",
      "failed\n",
      "failed\n",
      "failed\n"
     ]
    },
    {
     "name": "stderr",
     "output_type": "stream",
     "text": [
      "2023-05-21 13:37:45,418 - INFO - RuntimeError: Intrinsic 0.090202597. Time 0.091269841. Strike 0.909797403.\n"
     ]
    },
    {
     "name": "stdout",
     "output_type": "stream",
     "text": [
      "failed\n",
      "failed\n",
      "failed\n",
      "failed\n"
     ]
    },
    {
     "name": "stderr",
     "output_type": "stream",
     "text": [
      "2023-05-21 13:38:00,714 - INFO - RuntimeError: Intrinsic 0.010375212000000023. Time 0.265873016. Strike 0.989624788.\n"
     ]
    },
    {
     "name": "stdout",
     "output_type": "stream",
     "text": [
      "failed\n",
      "0.2384188064754548\n",
      "failed\n",
      "failed\n",
      "failed\n",
      "failed\n",
      "failed\n",
      "failed\n",
      "failed\n",
      "failed\n",
      "failed\n",
      "failed\n",
      "failed\n",
      "failed\n"
     ]
    },
    {
     "name": "stderr",
     "output_type": "stream",
     "text": [
      "2023-05-21 13:38:29,492 - INFO - RuntimeError: Intrinsic 0.09724619000000001. Time 0.091269841. Strike 0.90275381.\n"
     ]
    },
    {
     "name": "stdout",
     "output_type": "stream",
     "text": [
      "failed\n",
      "failed\n",
      "failed\n",
      "failed\n",
      "failed\n"
     ]
    },
    {
     "name": "stderr",
     "output_type": "stream",
     "text": [
      "2023-05-21 13:38:43,543 - INFO - RuntimeError: Intrinsic -0.06945217299999995. Time 0.150793651. Strike 1.069452173.\n"
     ]
    },
    {
     "name": "stdout",
     "output_type": "stream",
     "text": [
      "failed\n"
     ]
    },
    {
     "name": "stderr",
     "output_type": "stream",
     "text": [
      "2023-05-21 13:38:50,113 - INFO - RuntimeError: Intrinsic 0.019766669000000014. Time 0.091269841. Strike 0.980233331.\n"
     ]
    },
    {
     "name": "stdout",
     "output_type": "stream",
     "text": [
      "failed\n",
      "failed\n"
     ]
    },
    {
     "name": "stderr",
     "output_type": "stream",
     "text": [
      "2023-05-21 13:38:52,567 - INFO - RuntimeError: Intrinsic 0.13715988300000004. Time 0.674603175. Strike 0.862840117.\n"
     ]
    },
    {
     "name": "stdout",
     "output_type": "stream",
     "text": [
      "failed\n",
      "failed\n",
      "failed\n",
      "failed\n",
      "failed\n",
      "failed\n",
      "failed\n",
      "failed\n",
      "failed\n",
      "failed\n",
      "failed\n",
      "failed\n",
      "failed\n",
      "failed\n",
      "failed\n",
      "failed\n",
      "failed\n",
      "failed\n",
      "failed\n",
      "failed\n",
      "failed\n",
      "failed\n"
     ]
    },
    {
     "name": "stderr",
     "output_type": "stream",
     "text": [
      "2023-05-21 13:39:29,444 - INFO - RuntimeError: Intrinsic 0.08198507200000005. Time 0.071428571. Strike 0.918014928.\n"
     ]
    },
    {
     "name": "stdout",
     "output_type": "stream",
     "text": [
      "failed\n",
      "failed\n",
      "failed\n",
      "failed\n",
      "failed\n",
      "failed\n",
      "failed\n",
      "failed\n",
      "failed\n",
      "failed\n",
      "failed\n"
     ]
    },
    {
     "name": "stderr",
     "output_type": "stream",
     "text": [
      "2023-05-21 13:39:51,179 - INFO - RuntimeError: Intrinsic 0.054984633000000005. Time 0.809365079. Strike 0.945015367.\n"
     ]
    },
    {
     "name": "stdout",
     "output_type": "stream",
     "text": [
      "failed\n",
      "failed\n",
      "failed\n",
      "failed\n",
      "failed\n",
      "failed\n",
      "failed\n",
      "failed\n",
      "failed\n",
      "failed\n",
      "failed\n",
      "failed\n",
      "failed\n",
      "failed\n",
      "failed\n"
     ]
    },
    {
     "name": "stderr",
     "output_type": "stream",
     "text": [
      "2023-05-21 13:40:18,539 - INFO - RuntimeError: Intrinsic -0.009581633999999895. Time 0.043650794. Strike 1.009581634.\n"
     ]
    },
    {
     "name": "stdout",
     "output_type": "stream",
     "text": [
      "failed\n",
      "failed\n",
      "failed\n",
      "failed\n",
      "failed\n",
      "failed\n",
      "failed\n",
      "failed\n",
      "failed\n"
     ]
    },
    {
     "name": "stderr",
     "output_type": "stream",
     "text": [
      "2023-05-21 13:40:28,123 - INFO - RuntimeError: Intrinsic 0.07494147900000003. Time 0.202380952. Strike 0.925058521.\n"
     ]
    },
    {
     "name": "stdout",
     "output_type": "stream",
     "text": [
      "failed\n",
      "failed\n",
      "failed\n",
      "failed\n",
      "failed\n"
     ]
    },
    {
     "name": "stderr",
     "output_type": "stream",
     "text": [
      "2023-05-21 13:40:41,097 - INFO - RuntimeError: Intrinsic 0.019766669000000014. Time 0.015873016. Strike 0.980233331.\n",
      "2023-05-21 13:40:42,485 - INFO - RuntimeError: Intrinsic 0.14302954300000004. Time 0.587301587. Strike 0.856970457.\n",
      "2023-05-21 13:40:43,863 - INFO - RuntimeError: Intrinsic -0.0800175620000001. Time 0.535714286. Strike 1.080017562.\n"
     ]
    },
    {
     "name": "stdout",
     "output_type": "stream",
     "text": [
      "failed\n",
      "failed\n",
      "failed\n",
      "failed\n",
      "failed\n",
      "failed\n",
      "failed\n",
      "failed\n",
      "failed\n",
      "failed\n",
      "failed\n",
      "failed\n",
      "failed\n",
      "failed\n",
      "failed\n",
      "failed\n",
      "failed\n",
      "failed\n",
      "failed\n",
      "failed\n",
      "failed\n",
      "failed\n"
     ]
    },
    {
     "name": "stderr",
     "output_type": "stream",
     "text": [
      "2023-05-21 13:41:41,554 - INFO - RuntimeError: Intrinsic 0.05850643. Time 0.226190476. Strike 0.94149357.\n"
     ]
    },
    {
     "name": "stdout",
     "output_type": "stream",
     "text": [
      "failed\n",
      "failed\n",
      "failed\n"
     ]
    },
    {
     "name": "stderr",
     "output_type": "stream",
     "text": [
      "2023-05-21 13:41:45,893 - INFO - RuntimeError: Intrinsic 0.12072483300000003. Time 0.035714286. Strike 0.879275167.\n"
     ]
    },
    {
     "name": "stdout",
     "output_type": "stream",
     "text": [
      "failed\n",
      "failed\n",
      "failed\n",
      "failed\n",
      "failed\n",
      "failed\n"
     ]
    },
    {
     "name": "stderr",
     "output_type": "stream",
     "text": [
      "2023-05-21 13:42:04,400 - INFO - RuntimeError: Intrinsic 0.11133337600000004. Time 0.03968254. Strike 0.888666624.\n"
     ]
    },
    {
     "name": "stdout",
     "output_type": "stream",
     "text": [
      "failed\n",
      "failed\n",
      "failed\n",
      "failed\n",
      "failed\n",
      "failed\n",
      "failed\n",
      "failed\n"
     ]
    },
    {
     "name": "stderr",
     "output_type": "stream",
     "text": [
      "2023-05-21 13:42:13,318 - INFO - RuntimeError: Intrinsic 0.13598595000000002. Time 0.091269841. Strike 0.86401405.\n"
     ]
    },
    {
     "name": "stdout",
     "output_type": "stream",
     "text": [
      "failed\n",
      "failed\n"
     ]
    },
    {
     "name": "stderr",
     "output_type": "stream",
     "text": [
      "2023-05-21 13:42:20,683 - INFO - RuntimeError: Intrinsic 0.06555002200000004. Time 0.487936508. Strike 0.934449978.\n"
     ]
    },
    {
     "name": "stdout",
     "output_type": "stream",
     "text": [
      "failed\n",
      "failed\n",
      "failed\n",
      "failed\n",
      "failed\n",
      "failed\n",
      "failed\n",
      "failed\n",
      "failed\n"
     ]
    },
    {
     "name": "stderr",
     "output_type": "stream",
     "text": [
      "2023-05-21 13:42:31,788 - INFO - RuntimeError: Intrinsic 0.11368124000000002. Time 1.007777778. Strike 0.88631876.\n",
      "2023-05-21 13:42:32,819 - INFO - RuntimeError: Intrinsic 0.003331619000000008. Time 0.079365079. Strike 0.996668381.\n"
     ]
    },
    {
     "name": "stdout",
     "output_type": "stream",
     "text": [
      "failed\n",
      "failed\n",
      "failed\n",
      "failed\n"
     ]
    },
    {
     "name": "stderr",
     "output_type": "stream",
     "text": [
      "2023-05-21 13:42:38,263 - INFO - RuntimeError: Intrinsic 0.031505990999999955. Time 0.091269841. Strike 0.968494009.\n"
     ]
    },
    {
     "name": "stdout",
     "output_type": "stream",
     "text": [
      "failed\n",
      "failed\n",
      "failed\n",
      "failed\n",
      "failed\n",
      "failed\n",
      "failed\n",
      "failed\n",
      "failed\n",
      "failed\n",
      "failed\n",
      "failed\n"
     ]
    },
    {
     "name": "stderr",
     "output_type": "stream",
     "text": [
      "2023-05-21 13:42:51,742 - INFO - RuntimeError: Intrinsic -0.138714169. Time 0.047619048. Strike 1.138714169.\n"
     ]
    },
    {
     "name": "stdout",
     "output_type": "stream",
     "text": [
      "failed\n",
      "failed\n",
      "failed\n",
      "failed\n",
      "failed\n",
      "failed\n",
      "failed\n",
      "failed\n",
      "failed\n",
      "failed\n",
      "failed\n",
      "failed\n"
     ]
    },
    {
     "name": "stderr",
     "output_type": "stream",
     "text": [
      "2023-05-21 13:43:11,477 - INFO - RuntimeError: Intrinsic 0.08550686900000004. Time 0.051587302. Strike 0.914493131.\n"
     ]
    },
    {
     "name": "stdout",
     "output_type": "stream",
     "text": [
      "failed\n"
     ]
    },
    {
     "name": "stderr",
     "output_type": "stream",
     "text": [
      "2023-05-21 13:43:17,388 - INFO - RuntimeError: Intrinsic 0.05733249699999998. Time 0.051587302. Strike 0.942667503.\n"
     ]
    },
    {
     "name": "stdout",
     "output_type": "stream",
     "text": [
      "failed\n",
      "failed\n"
     ]
    },
    {
     "name": "stderr",
     "output_type": "stream",
     "text": [
      "2023-05-21 13:43:19,878 - INFO - RuntimeError: Intrinsic -0.038929937000000026. Time 0.178571429. Strike 1.038929937.\n",
      "2023-05-21 13:43:21,855 - INFO - RuntimeError: Intrinsic -0.09175688299999996. Time 0.05952381. Strike 1.091756883.\n"
     ]
    },
    {
     "name": "stdout",
     "output_type": "stream",
     "text": [
      "failed\n",
      "failed\n",
      "failed\n",
      "failed\n",
      "failed\n",
      "0.28610256777054577\n",
      "failed\n",
      "failed\n",
      "failed\n",
      "failed\n",
      "failed\n",
      "failed\n",
      "failed\n",
      "failed\n",
      "failed\n"
     ]
    },
    {
     "name": "stderr",
     "output_type": "stream",
     "text": [
      "2023-05-21 13:43:49,821 - INFO - RuntimeError: Intrinsic 0.10781157900000005. Time 0.111111111. Strike 0.892188421.\n"
     ]
    },
    {
     "name": "stdout",
     "output_type": "stream",
     "text": [
      "failed\n"
     ]
    },
    {
     "name": "stderr",
     "output_type": "stream",
     "text": [
      "2023-05-21 13:43:51,837 - INFO - RuntimeError: Intrinsic 0.03502778699999998. Time 0.063492063. Strike 0.964972213.\n",
      "2023-05-21 13:43:52,171 - INFO - RuntimeError: Intrinsic 0.07376754699999999. Time 0.043650794. Strike 0.926232453.\n"
     ]
    },
    {
     "name": "stdout",
     "output_type": "stream",
     "text": [
      "failed\n",
      "failed\n",
      "failed\n",
      "failed\n"
     ]
    },
    {
     "name": "stderr",
     "output_type": "stream",
     "text": [
      "2023-05-21 13:43:58,990 - INFO - RuntimeError: Intrinsic 0.10546371499999996. Time 0.079365079. Strike 0.894536285.\n"
     ]
    },
    {
     "name": "stdout",
     "output_type": "stream",
     "text": [
      "failed\n"
     ]
    },
    {
     "name": "stderr",
     "output_type": "stream",
     "text": [
      "2023-05-21 13:44:01,941 - INFO - RuntimeError: Intrinsic -0.10584406899999999. Time 0.531746032. Strike 1.105844069.\n"
     ]
    },
    {
     "name": "stdout",
     "output_type": "stream",
     "text": [
      "failed\n",
      "failed\n",
      "failed\n"
     ]
    },
    {
     "name": "stderr",
     "output_type": "stream",
     "text": [
      "2023-05-21 13:44:08,133 - INFO - RuntimeError: Intrinsic 0.010375212000000023. Time 0.174603175. Strike 0.989624788.\n"
     ]
    },
    {
     "name": "stdout",
     "output_type": "stream",
     "text": [
      "failed\n",
      "failed\n",
      "failed\n",
      "failed\n",
      "failed\n",
      "failed\n",
      "failed\n",
      "failed\n",
      "failed\n",
      "failed\n",
      "failed\n",
      "failed\n"
     ]
    },
    {
     "name": "stderr",
     "output_type": "stream",
     "text": [
      "2023-05-21 13:44:26,385 - INFO - RuntimeError: Intrinsic -0.05419105499999999. Time 0.53984127. Strike 1.054191055.\n"
     ]
    },
    {
     "name": "stdout",
     "output_type": "stream",
     "text": [
      "failed\n",
      "failed\n",
      "failed\n",
      "failed\n",
      "failed\n",
      "failed\n",
      "failed\n",
      "failed\n",
      "failed\n",
      "failed\n",
      "failed\n",
      "failed\n",
      "failed\n"
     ]
    },
    {
     "name": "stderr",
     "output_type": "stream",
     "text": [
      "2023-05-21 13:44:39,858 - INFO - RuntimeError: Intrinsic 0.10898551099999998. Time 0.154761905. Strike 0.891014489.\n"
     ]
    },
    {
     "name": "stdout",
     "output_type": "stream",
     "text": [
      "failed\n",
      "failed\n",
      "failed\n",
      "failed\n",
      "failed\n",
      "failed\n",
      "failed\n",
      "failed\n",
      "failed\n",
      "failed\n",
      "failed\n"
     ]
    },
    {
     "name": "stderr",
     "output_type": "stream",
     "text": [
      "2023-05-21 13:44:56,206 - INFO - RuntimeError: Intrinsic 0.060854293999999975. Time 0.19047619. Strike 0.939145706.\n"
     ]
    },
    {
     "name": "stdout",
     "output_type": "stream",
     "text": [
      "failed\n",
      "failed\n",
      "failed\n",
      "failed\n",
      "failed\n",
      "failed\n",
      "failed\n",
      "failed\n",
      "failed\n",
      "failed\n",
      "failed\n",
      "failed\n",
      "failed\n",
      "failed\n",
      "failed\n",
      "failed\n",
      "failed\n",
      "failed\n",
      "failed\n",
      "failed\n",
      "failed\n",
      "failed\n"
     ]
    },
    {
     "name": "stderr",
     "output_type": "stream",
     "text": [
      "2023-05-21 13:45:22,575 - INFO - RuntimeError: Intrinsic -0.023668819999999924. Time 0.48. Strike 1.02366882.\n"
     ]
    },
    {
     "name": "stdout",
     "output_type": "stream",
     "text": [
      "failed\n",
      "failed\n",
      "failed\n",
      "failed\n",
      "failed\n",
      "failed\n",
      "failed\n"
     ]
    },
    {
     "name": "stderr",
     "output_type": "stream",
     "text": [
      "2023-05-21 13:45:33,878 - INFO - RuntimeError: Intrinsic -0.023668819999999924. Time 0.063492063. Strike 1.02366882.\n",
      "2023-05-21 13:45:35,396 - INFO - RuntimeError: Intrinsic 0.09842012200000005. Time 0.011904762. Strike 0.901579878.\n"
     ]
    },
    {
     "name": "stdout",
     "output_type": "stream",
     "text": [
      "failed\n",
      "failed\n",
      "failed\n",
      "failed\n",
      "failed\n",
      "failed\n",
      "failed\n",
      "failed\n",
      "failed\n",
      "failed\n",
      "failed\n",
      "failed\n",
      "failed\n",
      "failed\n",
      "failed\n",
      "failed\n",
      "failed\n",
      "failed\n",
      "failed\n",
      "failed\n",
      "failed\n",
      "failed\n",
      "failed\n",
      "failed\n",
      "failed\n",
      "failed\n",
      "failed\n",
      "failed\n",
      "failed\n",
      "failed\n",
      "failed\n",
      "failed\n",
      "failed\n"
     ]
    },
    {
     "name": "stderr",
     "output_type": "stream",
     "text": [
      "2023-05-21 13:46:10,745 - INFO - RuntimeError: Intrinsic -0.06358251199999998. Time 0.087301587. Strike 1.063582512.\n"
     ]
    },
    {
     "name": "stdout",
     "output_type": "stream",
     "text": [
      "failed\n",
      "failed\n"
     ]
    },
    {
     "name": "stderr",
     "output_type": "stream",
     "text": [
      "2023-05-21 13:46:13,891 - INFO - RuntimeError: Intrinsic 0.031505990999999955. Time 0.48. Strike 0.968494009.\n"
     ]
    },
    {
     "name": "stdout",
     "output_type": "stream",
     "text": [
      "failed\n",
      "failed\n"
     ]
    },
    {
     "name": "stderr",
     "output_type": "stream",
     "text": [
      "2023-05-21 13:46:23,855 - INFO - RuntimeError: Intrinsic -0.10819193300000007. Time 0.388888889. Strike 1.108191933.\n"
     ]
    },
    {
     "name": "stdout",
     "output_type": "stream",
     "text": [
      "failed\n",
      "failed\n",
      "failed\n",
      "failed\n",
      "failed\n",
      "failed\n",
      "failed\n",
      "failed\n",
      "failed\n",
      "failed\n",
      "failed\n",
      "failed\n",
      "failed\n",
      "failed\n",
      "failed\n"
     ]
    },
    {
     "name": "stderr",
     "output_type": "stream",
     "text": [
      "2023-05-21 13:46:43,282 - INFO - RuntimeError: Intrinsic -0.12697484700000006. Time 0.154761905. Strike 1.126974847.\n"
     ]
    },
    {
     "name": "stdout",
     "output_type": "stream",
     "text": [
      "failed\n",
      "failed\n",
      "failed\n",
      "failed\n",
      "failed\n",
      "failed\n",
      "failed\n"
     ]
    },
    {
     "name": "stderr",
     "output_type": "stream",
     "text": [
      "2023-05-21 13:46:54,677 - INFO - RuntimeError: Intrinsic 0.07259361499999994. Time 0.956190476. Strike 0.927406385.\n"
     ]
    },
    {
     "name": "stdout",
     "output_type": "stream",
     "text": [
      "failed\n",
      "failed\n",
      "failed\n",
      "failed\n",
      "failed\n",
      "failed\n",
      "failed\n",
      "failed\n",
      "failed\n",
      "failed\n"
     ]
    },
    {
     "name": "stderr",
     "output_type": "stream",
     "text": [
      "2023-05-21 13:47:08,549 - INFO - RuntimeError: Intrinsic 0.032679923. Time 0.226190476. Strike 0.967320077.\n"
     ]
    },
    {
     "name": "stdout",
     "output_type": "stream",
     "text": [
      "failed\n",
      "failed\n",
      "failed\n",
      "failed\n",
      "failed\n",
      "failed\n",
      "failed\n",
      "failed\n",
      "failed\n",
      "failed\n",
      "failed\n",
      "failed\n",
      "failed\n",
      "failed\n"
     ]
    },
    {
     "name": "stderr",
     "output_type": "stream",
     "text": [
      "2023-05-21 13:47:27,010 - INFO - RuntimeError: Intrinsic 0.04559317600000001. Time 0.281746032. Strike 0.954406824.\n"
     ]
    },
    {
     "name": "stdout",
     "output_type": "stream",
     "text": [
      "failed\n"
     ]
    },
    {
     "name": "stderr",
     "output_type": "stream",
     "text": [
      "2023-05-21 13:47:31,434 - INFO - RuntimeError: Intrinsic -0.06827824100000002. Time 0.67047619. Strike 1.068278241.\n"
     ]
    },
    {
     "name": "stdout",
     "output_type": "stream",
     "text": [
      "failed\n",
      "failed\n",
      "failed\n",
      "failed\n",
      "failed\n",
      "failed\n",
      "failed\n"
     ]
    },
    {
     "name": "stderr",
     "output_type": "stream",
     "text": [
      "2023-05-21 13:47:41,940 - INFO - RuntimeError: Intrinsic 0.09489832600000003. Time 0.011904762. Strike 0.905101674.\n"
     ]
    },
    {
     "name": "stdout",
     "output_type": "stream",
     "text": [
      "failed\n",
      "failed\n",
      "failed\n",
      "failed\n",
      "failed\n",
      "failed\n",
      "failed\n",
      "failed\n",
      "failed\n",
      "failed\n",
      "failed\n",
      "failed\n",
      "failed\n",
      "failed\n",
      "failed\n",
      "failed\n",
      "failed\n",
      "failed\n"
     ]
    },
    {
     "name": "stderr",
     "output_type": "stream",
     "text": [
      "2023-05-21 13:48:00,047 - INFO - RuntimeError: Intrinsic -0.12697484700000006. Time 0.194444444. Strike 1.126974847.\n"
     ]
    },
    {
     "name": "stdout",
     "output_type": "stream",
     "text": [
      "failed\n",
      "failed\n",
      "failed\n",
      "failed\n",
      "failed\n",
      "failed\n",
      "failed\n",
      "failed\n",
      "failed\n",
      "0.3337863290656367\n",
      "failed\n",
      "failed\n",
      "failed\n",
      "failed\n",
      "failed\n",
      "failed\n",
      "failed\n",
      "failed\n"
     ]
    },
    {
     "name": "stderr",
     "output_type": "stream",
     "text": [
      "2023-05-21 13:48:11,996 - INFO - RuntimeError: Intrinsic 0.09842012200000005. Time 0.067460317. Strike 0.901579878.\n"
     ]
    },
    {
     "name": "stdout",
     "output_type": "stream",
     "text": [
      "failed\n",
      "failed\n",
      "failed\n",
      "failed\n",
      "failed\n",
      "failed\n",
      "failed\n",
      "failed\n"
     ]
    },
    {
     "name": "stderr",
     "output_type": "stream",
     "text": [
      "2023-05-21 13:48:18,346 - INFO - RuntimeError: Intrinsic 0.02681026200000003. Time 0.305555556. Strike 0.973189738.\n",
      "2023-05-21 13:48:19,487 - INFO - RuntimeError: Intrinsic 0.009201279999999978. Time 0.400634921. Strike 0.99079872.\n"
     ]
    },
    {
     "name": "stdout",
     "output_type": "stream",
     "text": [
      "failed\n",
      "failed\n",
      "failed\n",
      "failed\n",
      "failed\n",
      "failed\n",
      "failed\n",
      "failed\n",
      "failed\n",
      "failed\n",
      "failed\n",
      "failed\n",
      "failed\n",
      "failed\n"
     ]
    },
    {
     "name": "stderr",
     "output_type": "stream",
     "text": [
      "2023-05-21 13:48:31,497 - INFO - RuntimeError: Intrinsic 0.12894235799999998. Time 0.626825397. Strike 0.871057642.\n"
     ]
    },
    {
     "name": "stdout",
     "output_type": "stream",
     "text": [
      "failed\n",
      "failed\n",
      "failed\n"
     ]
    },
    {
     "name": "stderr",
     "output_type": "stream",
     "text": [
      "2023-05-21 13:48:35,395 - INFO - RuntimeError: Intrinsic 0.01859273699999997. Time 0.396666667. Strike 0.981407263.\n"
     ]
    },
    {
     "name": "stdout",
     "output_type": "stream",
     "text": [
      "failed\n",
      "failed\n",
      "failed\n",
      "failed\n",
      "failed\n",
      "failed\n"
     ]
    },
    {
     "name": "stderr",
     "output_type": "stream",
     "text": [
      "2023-05-21 13:48:42,252 - INFO - RuntimeError: Intrinsic 0.025636329999999985. Time 0.015873016. Strike 0.97436367.\n"
     ]
    },
    {
     "name": "stdout",
     "output_type": "stream",
     "text": [
      "failed\n",
      "failed\n",
      "failed\n",
      "failed\n",
      "failed\n"
     ]
    },
    {
     "name": "stderr",
     "output_type": "stream",
     "text": [
      "2023-05-21 13:48:50,467 - INFO - RuntimeError: Intrinsic 0.11015944300000002. Time 0.023809524. Strike 0.889840557.\n"
     ]
    },
    {
     "name": "stdout",
     "output_type": "stream",
     "text": [
      "failed\n",
      "failed\n",
      "failed\n",
      "failed\n",
      "failed\n",
      "failed\n",
      "failed\n",
      "failed\n"
     ]
    },
    {
     "name": "stderr",
     "output_type": "stream",
     "text": [
      "2023-05-21 13:49:00,419 - INFO - RuntimeError: Intrinsic 0.031505990999999955. Time 0.821269841. Strike 0.968494009.\n"
     ]
    },
    {
     "name": "stdout",
     "output_type": "stream",
     "text": [
      "failed\n",
      "failed\n",
      "failed\n",
      "failed\n",
      "failed\n",
      "failed\n",
      "failed\n",
      "failed\n",
      "failed\n",
      "failed\n",
      "failed\n",
      "failed\n",
      "failed\n",
      "failed\n",
      "failed\n",
      "failed\n",
      "failed\n",
      "failed\n",
      "failed\n",
      "failed\n",
      "failed\n",
      "failed\n",
      "failed\n"
     ]
    },
    {
     "name": "stderr",
     "output_type": "stream",
     "text": [
      "2023-05-21 13:49:29,297 - INFO - RuntimeError: Intrinsic 0.032679923. Time 0.178571429. Strike 0.967320077.\n"
     ]
    },
    {
     "name": "stdout",
     "output_type": "stream",
     "text": [
      "failed\n",
      "failed\n",
      "failed\n"
     ]
    },
    {
     "name": "stderr",
     "output_type": "stream",
     "text": [
      "2023-05-21 13:49:33,230 - INFO - RuntimeError: Intrinsic -0.011929497999999983. Time 0.075396825. Strike 1.011929498.\n",
      "2023-05-21 13:49:33,648 - INFO - RuntimeError: Intrinsic 0.06789788699999999. Time 0.531904762. Strike 0.932102113.\n"
     ]
    },
    {
     "name": "stdout",
     "output_type": "stream",
     "text": [
      "failed\n",
      "failed\n",
      "failed\n",
      "failed\n",
      "failed\n",
      "failed\n",
      "failed\n",
      "failed\n",
      "failed\n",
      "failed\n",
      "failed\n"
     ]
    },
    {
     "name": "stderr",
     "output_type": "stream",
     "text": [
      "2023-05-21 13:49:49,613 - INFO - RuntimeError: Intrinsic -0.10701800099999992. Time 0.28968254. Strike 1.107018001.\n"
     ]
    },
    {
     "name": "stdout",
     "output_type": "stream",
     "text": [
      "failed\n",
      "failed\n",
      "failed\n",
      "failed\n",
      "failed\n",
      "failed\n",
      "failed\n",
      "failed\n",
      "failed\n",
      "failed\n",
      "failed\n"
     ]
    },
    {
     "name": "stderr",
     "output_type": "stream",
     "text": [
      "2023-05-21 13:50:06,123 - INFO - RuntimeError: Intrinsic 0.11133337600000004. Time 0.051587302. Strike 0.888666624.\n",
      "2023-05-21 13:50:07,207 - INFO - RuntimeError: Intrinsic -0.11288766200000011. Time 0.138888889. Strike 1.112887662.\n"
     ]
    },
    {
     "name": "stdout",
     "output_type": "stream",
     "text": [
      "failed\n",
      "failed\n"
     ]
    },
    {
     "name": "stderr",
     "output_type": "stream",
     "text": [
      "2023-05-21 13:50:18,929 - INFO - RuntimeError: Intrinsic 0.13363808600000004. Time 0.611269841. Strike 0.866361914.\n"
     ]
    },
    {
     "name": "stdout",
     "output_type": "stream",
     "text": [
      "failed\n",
      "failed\n",
      "failed\n",
      "failed\n",
      "failed\n",
      "failed\n",
      "failed\n",
      "failed\n",
      "failed\n",
      "failed\n",
      "failed\n",
      "failed\n"
     ]
    },
    {
     "name": "stderr",
     "output_type": "stream",
     "text": [
      "2023-05-21 13:50:38,475 - INFO - RuntimeError: Intrinsic -0.13401843999999996. Time 0.011904762. Strike 1.13401844.\n"
     ]
    },
    {
     "name": "stdout",
     "output_type": "stream",
     "text": [
      "failed\n",
      "failed\n",
      "failed\n",
      "failed\n",
      "failed\n",
      "failed\n",
      "failed\n",
      "failed\n",
      "failed\n",
      "failed\n",
      "failed\n",
      "failed\n",
      "failed\n",
      "failed\n",
      "failed\n",
      "failed\n",
      "failed\n",
      "failed\n",
      "failed\n",
      "failed\n",
      "failed\n",
      "failed\n",
      "failed\n",
      "failed\n",
      "failed\n",
      "failed\n"
     ]
    },
    {
     "name": "stderr",
     "output_type": "stream",
     "text": [
      "2023-05-21 13:51:07,150 - INFO - RuntimeError: Intrinsic 0.106637647. Time 0.047619048. Strike 0.893362353.\n"
     ]
    },
    {
     "name": "stdout",
     "output_type": "stream",
     "text": [
      "failed\n",
      "failed\n",
      "failed\n",
      "failed\n",
      "failed\n",
      "failed\n",
      "failed\n",
      "failed\n",
      "failed\n"
     ]
    },
    {
     "name": "stderr",
     "output_type": "stream",
     "text": [
      "2023-05-21 13:51:17,777 - INFO - RuntimeError: Intrinsic 0.046767107999999946. Time 0.027777778. Strike 0.953232892.\n"
     ]
    },
    {
     "name": "stdout",
     "output_type": "stream",
     "text": [
      "failed\n",
      "failed\n",
      "failed\n",
      "failed\n",
      "failed\n"
     ]
    },
    {
     "name": "stderr",
     "output_type": "stream",
     "text": [
      "2023-05-21 13:51:20,671 - INFO - RuntimeError: Intrinsic -0.015451295000000087. Time 0.043650794. Strike 1.015451295.\n"
     ]
    },
    {
     "name": "stdout",
     "output_type": "stream",
     "text": [
      "failed\n",
      "failed\n",
      "failed\n",
      "failed\n",
      "failed\n",
      "failed\n",
      "failed\n",
      "failed\n"
     ]
    },
    {
     "name": "stderr",
     "output_type": "stream",
     "text": [
      "2023-05-21 13:51:30,695 - INFO - RuntimeError: Intrinsic 0.09489832600000003. Time 0.234126984. Strike 0.905101674.\n"
     ]
    },
    {
     "name": "stdout",
     "output_type": "stream",
     "text": [
      "failed\n",
      "failed\n",
      "failed\n",
      "failed\n",
      "failed\n",
      "failed\n",
      "failed\n",
      "failed\n",
      "failed\n",
      "failed\n",
      "failed\n",
      "failed\n",
      "failed\n",
      "failed\n",
      "failed\n"
     ]
    },
    {
     "name": "stderr",
     "output_type": "stream",
     "text": [
      "2023-05-21 13:51:44,746 - INFO - RuntimeError: Intrinsic 0.07494147900000003. Time 0.067460317. Strike 0.925058521.\n"
     ]
    },
    {
     "name": "stdout",
     "output_type": "stream",
     "text": [
      "failed\n",
      "failed\n",
      "failed\n"
     ]
    },
    {
     "name": "stderr",
     "output_type": "stream",
     "text": [
      "2023-05-21 13:51:50,085 - INFO - RuntimeError: Intrinsic 0.03502778699999998. Time 0.03968254. Strike 0.964972213.\n"
     ]
    },
    {
     "name": "stdout",
     "output_type": "stream",
     "text": [
      "failed\n",
      "failed\n"
     ]
    },
    {
     "name": "stderr",
     "output_type": "stream",
     "text": [
      "2023-05-21 13:51:53,188 - INFO - RuntimeError: Intrinsic 0.07963720799999996. Time 0.119047619. Strike 0.920362792.\n"
     ]
    },
    {
     "name": "stdout",
     "output_type": "stream",
     "text": [
      "failed\n",
      "failed\n",
      "failed\n"
     ]
    },
    {
     "name": "stderr",
     "output_type": "stream",
     "text": [
      "2023-05-21 13:51:54,574 - INFO - RuntimeError: Intrinsic -0.04245173399999991. Time 0.007936508. Strike 1.042451734.\n",
      "2023-05-21 13:51:57,606 - INFO - RuntimeError: Intrinsic -0.011929497999999983. Time 0.083333333. Strike 1.011929498.\n"
     ]
    },
    {
     "name": "stdout",
     "output_type": "stream",
     "text": [
      "failed\n",
      "failed\n",
      "failed\n",
      "failed\n",
      "failed\n",
      "failed\n",
      "failed\n",
      "failed\n",
      "failed\n",
      "0.38147009036072765\n",
      "failed\n",
      "failed\n",
      "failed\n",
      "failed\n",
      "failed\n",
      "failed\n",
      "failed\n",
      "failed\n",
      "failed\n",
      "failed\n",
      "failed\n",
      "failed\n",
      "failed\n",
      "failed\n",
      "failed\n",
      "failed\n",
      "failed\n"
     ]
    },
    {
     "name": "stderr",
     "output_type": "stream",
     "text": [
      "2023-05-21 13:52:29,376 - INFO - RuntimeError: Intrinsic 0.12542056099999999. Time 0.369206349. Strike 0.874579439.\n"
     ]
    },
    {
     "name": "stdout",
     "output_type": "stream",
     "text": [
      "failed\n",
      "failed\n",
      "failed\n"
     ]
    },
    {
     "name": "stderr",
     "output_type": "stream",
     "text": [
      "2023-05-21 13:52:36,112 - INFO - RuntimeError: Intrinsic 0.006853416000000001. Time 0.027777778. Strike 0.993146584.\n"
     ]
    },
    {
     "name": "stdout",
     "output_type": "stream",
     "text": [
      "failed\n",
      "failed\n"
     ]
    },
    {
     "name": "stderr",
     "output_type": "stream",
     "text": [
      "2023-05-21 13:52:38,479 - INFO - RuntimeError: Intrinsic 0.05615856500000005. Time 0.015873016. Strike 0.943841435.\n"
     ]
    },
    {
     "name": "stdout",
     "output_type": "stream",
     "text": [
      "failed\n"
     ]
    },
    {
     "name": "stderr",
     "output_type": "stream",
     "text": [
      "2023-05-21 13:52:42,581 - INFO - RuntimeError: Intrinsic 0.11720303600000004. Time 0.126984127. Strike 0.882796964.\n"
     ]
    },
    {
     "name": "stdout",
     "output_type": "stream",
     "text": [
      "failed\n",
      "failed\n",
      "failed\n",
      "failed\n",
      "failed\n",
      "failed\n",
      "failed\n",
      "failed\n",
      "failed\n",
      "failed\n",
      "failed\n"
     ]
    },
    {
     "name": "stderr",
     "output_type": "stream",
     "text": [
      "2023-05-21 13:52:53,893 - INFO - RuntimeError: Intrinsic -0.007233770000000028. Time 0.087301587. Strike 1.00723377.\n"
     ]
    },
    {
     "name": "stdout",
     "output_type": "stream",
     "text": [
      "failed\n",
      "failed\n",
      "failed\n",
      "failed\n"
     ]
    },
    {
     "name": "stderr",
     "output_type": "stream",
     "text": [
      "2023-05-21 13:53:05,457 - INFO - RuntimeError: Intrinsic 0.09137652900000004. Time 0.107142857. Strike 0.908623471.\n"
     ]
    },
    {
     "name": "stdout",
     "output_type": "stream",
     "text": [
      "failed\n"
     ]
    },
    {
     "name": "stderr",
     "output_type": "stream",
     "text": [
      "2023-05-21 13:53:08,851 - INFO - RuntimeError: Intrinsic -0.04949532700000003. Time 0.313492063. Strike 1.049495327.\n"
     ]
    },
    {
     "name": "stdout",
     "output_type": "stream",
     "text": [
      "failed\n",
      "failed\n",
      "failed\n",
      "failed\n",
      "failed\n"
     ]
    },
    {
     "name": "stderr",
     "output_type": "stream",
     "text": [
      "2023-05-21 13:53:12,977 - INFO - RuntimeError: Intrinsic 0.049114973000000006. Time 0.956190476. Strike 0.950885027.\n",
      "2023-05-21 13:53:16,010 - INFO - RuntimeError: Intrinsic -0.0013641090000000577. Time 0.071428571. Strike 1.001364109.\n",
      "2023-05-21 13:53:16,435 - INFO - RuntimeError: Intrinsic 0.10781157900000005. Time 0.023809524. Strike 0.892188421.\n",
      "2023-05-21 13:53:17,575 - INFO - RuntimeError: Intrinsic 0.05028890500000005. Time 0.011904762. Strike 0.949711095.\n",
      "2023-05-21 13:53:18,505 - INFO - RuntimeError: Intrinsic -0.0800175620000001. Time 0.007936508. Strike 1.080017562.\n"
     ]
    },
    {
     "name": "stdout",
     "output_type": "stream",
     "text": [
      "failed\n",
      "failed\n",
      "failed\n",
      "failed\n",
      "failed\n",
      "failed\n",
      "failed\n",
      "failed\n",
      "failed\n",
      "failed\n",
      "failed\n",
      "failed\n",
      "failed\n"
     ]
    },
    {
     "name": "stderr",
     "output_type": "stream",
     "text": [
      "2023-05-21 13:53:29,624 - INFO - RuntimeError: Intrinsic 0.13598595000000002. Time 0.48031746. Strike 0.86401405.\n"
     ]
    },
    {
     "name": "stdout",
     "output_type": "stream",
     "text": [
      "failed\n",
      "failed\n",
      "failed\n",
      "failed\n",
      "failed\n"
     ]
    },
    {
     "name": "stderr",
     "output_type": "stream",
     "text": [
      "2023-05-21 13:53:34,764 - INFO - RuntimeError: Intrinsic -0.017799158999999953. Time 0.261904762. Strike 1.017799159.\n"
     ]
    },
    {
     "name": "stdout",
     "output_type": "stream",
     "text": [
      "failed\n",
      "failed\n",
      "failed\n"
     ]
    },
    {
     "name": "stderr",
     "output_type": "stream",
     "text": [
      "2023-05-21 13:53:41,681 - INFO - RuntimeError: Intrinsic 0.14068167899999995. Time 0.051587302. Strike 0.859318321.\n"
     ]
    },
    {
     "name": "stdout",
     "output_type": "stream",
     "text": [
      "failed\n",
      "failed\n",
      "failed\n",
      "failed\n"
     ]
    },
    {
     "name": "stderr",
     "output_type": "stream",
     "text": [
      "2023-05-21 13:53:47,567 - INFO - RuntimeError: Intrinsic -0.1258009149999999. Time 0.182539683. Strike 1.125800915.\n"
     ]
    },
    {
     "name": "stdout",
     "output_type": "stream",
     "text": [
      "failed\n",
      "failed\n",
      "failed\n",
      "failed\n",
      "failed\n",
      "failed\n",
      "failed\n",
      "failed\n",
      "failed\n"
     ]
    },
    {
     "name": "stderr",
     "output_type": "stream",
     "text": [
      "2023-05-21 13:53:59,877 - INFO - RuntimeError: Intrinsic -0.023668819999999924. Time 0.123015873. Strike 1.02366882.\n"
     ]
    },
    {
     "name": "stdout",
     "output_type": "stream",
     "text": [
      "failed\n",
      "failed\n",
      "failed\n",
      "failed\n"
     ]
    },
    {
     "name": "stderr",
     "output_type": "stream",
     "text": [
      "2023-05-21 13:54:08,137 - INFO - RuntimeError: Intrinsic 0.10194191900000005. Time 0.055555556. Strike 0.898058081.\n"
     ]
    },
    {
     "name": "stdout",
     "output_type": "stream",
     "text": [
      "failed\n",
      "failed\n",
      "failed\n",
      "failed\n",
      "failed\n",
      "failed\n",
      "failed\n",
      "failed\n",
      "failed\n",
      "failed\n",
      "failed\n",
      "failed\n",
      "failed\n"
     ]
    },
    {
     "name": "stderr",
     "output_type": "stream",
     "text": [
      "2023-05-21 13:54:22,528 - INFO - RuntimeError: Intrinsic 0.033853855000000044. Time 0.043650794. Strike 0.966146145.\n"
     ]
    },
    {
     "name": "stdout",
     "output_type": "stream",
     "text": [
      "failed\n",
      "failed\n",
      "failed\n",
      "failed\n",
      "failed\n",
      "failed\n",
      "failed\n",
      "failed\n",
      "failed\n",
      "failed\n",
      "failed\n",
      "failed\n",
      "failed\n",
      "failed\n",
      "failed\n",
      "failed\n",
      "failed\n",
      "failed\n",
      "failed\n",
      "failed\n",
      "failed\n",
      "failed\n",
      "failed\n",
      "failed\n",
      "failed\n",
      "failed\n",
      "failed\n",
      "failed\n"
     ]
    },
    {
     "name": "stderr",
     "output_type": "stream",
     "text": [
      "2023-05-21 13:54:56,074 - INFO - RuntimeError: Intrinsic 0.14655134000000003. Time 0.194444444. Strike 0.85344866.\n"
     ]
    },
    {
     "name": "stdout",
     "output_type": "stream",
     "text": [
      "failed\n",
      "failed\n",
      "failed\n",
      "failed\n",
      "failed\n",
      "failed\n",
      "failed\n",
      "failed\n"
     ]
    },
    {
     "name": "stderr",
     "output_type": "stream",
     "text": [
      "2023-05-21 13:55:03,786 - INFO - RuntimeError: Intrinsic 0.04441924399999997. Time 0.123015873. Strike 0.955580756.\n",
      "2023-05-21 13:55:05,180 - INFO - RuntimeError: Intrinsic 0.084332937. Time 0.071428571. Strike 0.915667063.\n"
     ]
    },
    {
     "name": "stdout",
     "output_type": "stream",
     "text": [
      "failed\n",
      "failed\n",
      "failed\n"
     ]
    },
    {
     "name": "stderr",
     "output_type": "stream",
     "text": [
      "2023-05-21 13:55:13,457 - INFO - RuntimeError: Intrinsic 0.08668080099999997. Time 0.694444444. Strike 0.913319199.\n"
     ]
    },
    {
     "name": "stdout",
     "output_type": "stream",
     "text": [
      "failed\n",
      "failed\n",
      "failed\n",
      "failed\n",
      "failed\n",
      "failed\n",
      "failed\n",
      "failed\n",
      "failed\n",
      "failed\n",
      "failed\n",
      "failed\n"
     ]
    },
    {
     "name": "stderr",
     "output_type": "stream",
     "text": [
      "2023-05-21 13:55:31,748 - INFO - RuntimeError: Intrinsic -0.09175688299999996. Time 0.285714286. Strike 1.091756883.\n"
     ]
    },
    {
     "name": "stdout",
     "output_type": "stream",
     "text": [
      "failed\n",
      "failed\n"
     ]
    },
    {
     "name": "stderr",
     "output_type": "stream",
     "text": [
      "2023-05-21 13:55:36,658 - INFO - RuntimeError: Intrinsic -0.14340989699999995. Time 0.023809524. Strike 1.143409897.\n"
     ]
    },
    {
     "name": "stdout",
     "output_type": "stream",
     "text": [
      "failed\n",
      "failed\n"
     ]
    },
    {
     "name": "stderr",
     "output_type": "stream",
     "text": [
      "2023-05-21 13:55:39,848 - INFO - RuntimeError: Intrinsic 0.043245312000000036. Time 0.003968254. Strike 0.956754688.\n",
      "2023-05-21 13:55:40,522 - INFO - RuntimeError: Intrinsic 0.06555002200000004. Time 0.349206349. Strike 0.934449978.\n"
     ]
    },
    {
     "name": "stdout",
     "output_type": "stream",
     "text": [
      "failed\n",
      "failed\n",
      "failed\n",
      "failed\n",
      "failed\n",
      "failed\n",
      "failed\n",
      "failed\n",
      "failed\n",
      "failed\n"
     ]
    },
    {
     "name": "stderr",
     "output_type": "stream",
     "text": [
      "2023-05-21 13:55:55,306 - INFO - RuntimeError: Intrinsic 0.12776842499999996. Time 0.194444444. Strike 0.872231575.\n"
     ]
    },
    {
     "name": "stdout",
     "output_type": "stream",
     "text": [
      "failed\n",
      "failed\n",
      "failed\n",
      "failed\n",
      "failed\n",
      "failed\n",
      "failed\n",
      "failed\n",
      "failed\n"
     ]
    },
    {
     "name": "stderr",
     "output_type": "stream",
     "text": [
      "2023-05-21 13:56:10,408 - INFO - RuntimeError: Intrinsic -0.056538919000000076. Time 0.027777778. Strike 1.056538919.\n"
     ]
    },
    {
     "name": "stdout",
     "output_type": "stream",
     "text": [
      "failed\n"
     ]
    },
    {
     "name": "stderr",
     "output_type": "stream",
     "text": [
      "2023-05-21 13:56:15,068 - INFO - RuntimeError: Intrinsic 0.03033205800000005. Time 0.051587302. Strike 0.969667942.\n"
     ]
    },
    {
     "name": "stdout",
     "output_type": "stream",
     "text": [
      "failed\n",
      "failed\n",
      "failed\n",
      "failed\n",
      "failed\n",
      "failed\n",
      "failed\n"
     ]
    },
    {
     "name": "stderr",
     "output_type": "stream",
     "text": [
      "2023-05-21 13:56:22,886 - INFO - RuntimeError: Intrinsic 0.06789788699999999. Time 0.087301587. Strike 0.932102113.\n"
     ]
    },
    {
     "name": "stdout",
     "output_type": "stream",
     "text": [
      "failed\n",
      "failed\n",
      "failed\n",
      "failed\n",
      "failed\n",
      "failed\n",
      "failed\n",
      "failed\n",
      "failed\n",
      "failed\n",
      "failed\n",
      "failed\n"
     ]
    },
    {
     "name": "stderr",
     "output_type": "stream",
     "text": [
      "2023-05-21 13:56:38,936 - INFO - RuntimeError: Intrinsic -0.087061155. Time 0.023809524. Strike 1.087061155.\n"
     ]
    },
    {
     "name": "stdout",
     "output_type": "stream",
     "text": [
      "failed\n",
      "failed\n",
      "0.4291538516558186\n",
      "failed\n",
      "failed\n",
      "failed\n",
      "failed\n",
      "failed\n",
      "failed\n",
      "failed\n",
      "failed\n",
      "failed\n",
      "failed\n",
      "failed\n",
      "failed\n",
      "failed\n",
      "failed\n",
      "failed\n",
      "failed\n",
      "failed\n",
      "failed\n",
      "failed\n",
      "failed\n",
      "failed\n",
      "failed\n"
     ]
    },
    {
     "name": "stderr",
     "output_type": "stream",
     "text": [
      "2023-05-21 13:57:09,263 - INFO - RuntimeError: Intrinsic 0.106637647. Time 0.194444444. Strike 0.893362353.\n"
     ]
    },
    {
     "name": "stdout",
     "output_type": "stream",
     "text": [
      "failed\n",
      "failed\n",
      "failed\n",
      "failed\n",
      "failed\n",
      "failed\n",
      "failed\n",
      "failed\n",
      "failed\n",
      "failed\n",
      "failed\n"
     ]
    },
    {
     "name": "stderr",
     "output_type": "stream",
     "text": [
      "2023-05-21 13:57:23,832 - INFO - RuntimeError: Intrinsic 0.08785473300000002. Time 0.305555556. Strike 0.912145267.\n"
     ]
    },
    {
     "name": "stdout",
     "output_type": "stream",
     "text": [
      "failed\n",
      "failed\n",
      "failed\n",
      "failed\n"
     ]
    },
    {
     "name": "stderr",
     "output_type": "stream",
     "text": [
      "2023-05-21 13:57:28,608 - INFO - RuntimeError: Intrinsic 0.08785473300000002. Time 0.146825397. Strike 0.912145267.\n",
      "2023-05-21 13:57:30,131 - INFO - RuntimeError: Intrinsic 0.08668080099999997. Time 0.051587302. Strike 0.913319199.\n"
     ]
    },
    {
     "name": "stdout",
     "output_type": "stream",
     "text": [
      "failed\n",
      "failed\n",
      "failed\n",
      "failed\n",
      "failed\n",
      "failed\n",
      "failed\n",
      "failed\n",
      "failed\n",
      "failed\n",
      "failed\n",
      "failed\n",
      "failed\n",
      "failed\n",
      "failed\n"
     ]
    },
    {
     "name": "stderr",
     "output_type": "stream",
     "text": [
      "2023-05-21 13:57:46,241 - INFO - RuntimeError: Intrinsic -0.08588722300000007. Time 0.111111111. Strike 1.085887223.\n"
     ]
    },
    {
     "name": "stdout",
     "output_type": "stream",
     "text": [
      "failed\n"
     ]
    },
    {
     "name": "stderr",
     "output_type": "stream",
     "text": [
      "2023-05-21 13:57:49,593 - INFO - RuntimeError: Intrinsic 0.022114533999999963. Time 0.119047619. Strike 0.977885466.\n",
      "2023-05-21 13:57:51,996 - INFO - RuntimeError: Intrinsic 0.051462836999999984. Time 0.007936508. Strike 0.948537163.\n"
     ]
    },
    {
     "name": "stdout",
     "output_type": "stream",
     "text": [
      "failed\n",
      "failed\n",
      "failed\n",
      "failed\n",
      "failed\n",
      "failed\n",
      "failed\n",
      "failed\n"
     ]
    },
    {
     "name": "stderr",
     "output_type": "stream",
     "text": [
      "2023-05-21 13:58:00,111 - INFO - RuntimeError: Intrinsic 0.148899204. Time 0.003968254. Strike 0.851100796.\n"
     ]
    },
    {
     "name": "stdout",
     "output_type": "stream",
     "text": [
      "failed\n",
      "failed\n",
      "failed\n",
      "failed\n",
      "failed\n",
      "failed\n",
      "failed\n"
     ]
    },
    {
     "name": "stderr",
     "output_type": "stream",
     "text": [
      "2023-05-21 13:58:04,781 - INFO - RuntimeError: Intrinsic -0.01662522700000002. Time 0.452539683. Strike 1.016625227.\n"
     ]
    },
    {
     "name": "stdout",
     "output_type": "stream",
     "text": [
      "failed\n",
      "failed\n",
      "failed\n"
     ]
    },
    {
     "name": "stderr",
     "output_type": "stream",
     "text": [
      "2023-05-21 13:58:11,489 - INFO - RuntimeError: Intrinsic 0.06320215799999995. Time 0.091269841. Strike 0.936797842.\n"
     ]
    },
    {
     "name": "stdout",
     "output_type": "stream",
     "text": [
      "failed\n",
      "failed\n",
      "failed\n",
      "failed\n",
      "failed\n",
      "failed\n",
      "failed\n",
      "failed\n",
      "failed\n",
      "failed\n"
     ]
    },
    {
     "name": "stderr",
     "output_type": "stream",
     "text": [
      "2023-05-21 13:58:27,260 - INFO - RuntimeError: Intrinsic 0.08668080099999997. Time 0.067460317. Strike 0.913319199.\n",
      "2023-05-21 13:58:28,109 - INFO - RuntimeError: Intrinsic 0.006853416000000001. Time 0.05952381. Strike 0.993146584.\n"
     ]
    },
    {
     "name": "stdout",
     "output_type": "stream",
     "text": [
      "failed\n",
      "failed\n",
      "failed\n",
      "failed\n",
      "failed\n",
      "failed\n",
      "failed\n",
      "failed\n",
      "failed\n",
      "failed\n",
      "failed\n",
      "failed\n",
      "failed\n",
      "failed\n",
      "failed\n",
      "failed\n",
      "failed\n",
      "failed\n",
      "failed\n",
      "failed\n",
      "failed\n",
      "failed\n"
     ]
    },
    {
     "name": "stderr",
     "output_type": "stream",
     "text": [
      "2023-05-21 13:58:49,499 - INFO - RuntimeError: Intrinsic 0.01859273699999997. Time 0.246031746. Strike 0.981407263.\n"
     ]
    },
    {
     "name": "stdout",
     "output_type": "stream",
     "text": [
      "failed\n",
      "failed\n",
      "failed\n",
      "failed\n",
      "failed\n",
      "failed\n",
      "failed\n",
      "failed\n",
      "failed\n",
      "failed\n",
      "failed\n",
      "failed\n",
      "failed\n",
      "failed\n",
      "failed\n",
      "failed\n",
      "failed\n",
      "failed\n",
      "failed\n",
      "failed\n",
      "failed\n",
      "failed\n",
      "failed\n",
      "failed\n"
     ]
    },
    {
     "name": "stderr",
     "output_type": "stream",
     "text": [
      "2023-05-21 13:59:12,355 - INFO - RuntimeError: Intrinsic 0.13129022199999996. Time 0.003968254. Strike 0.868709778.\n"
     ]
    },
    {
     "name": "stdout",
     "output_type": "stream",
     "text": [
      "failed\n"
     ]
    },
    {
     "name": "stderr",
     "output_type": "stream",
     "text": [
      "2023-05-21 13:59:15,360 - INFO - RuntimeError: Intrinsic -0.12110518699999995. Time 0.527936508. Strike 1.121105187.\n"
     ]
    },
    {
     "name": "stdout",
     "output_type": "stream",
     "text": [
      "failed\n",
      "failed\n",
      "failed\n",
      "failed\n",
      "failed\n",
      "failed\n",
      "failed\n",
      "failed\n",
      "failed\n",
      "failed\n",
      "failed\n",
      "failed\n",
      "failed\n",
      "failed\n",
      "failed\n"
     ]
    },
    {
     "name": "stderr",
     "output_type": "stream",
     "text": [
      "2023-05-21 13:59:32,845 - INFO - RuntimeError: Intrinsic 0.11250730799999997. Time 0.031746032. Strike 0.887492692.\n"
     ]
    },
    {
     "name": "stdout",
     "output_type": "stream",
     "text": [
      "failed\n",
      "failed\n",
      "failed\n"
     ]
    },
    {
     "name": "stderr",
     "output_type": "stream",
     "text": [
      "2023-05-21 13:59:35,979 - INFO - RuntimeError: Intrinsic -0.04832139400000002. Time 0.174603175. Strike 1.048321394.\n"
     ]
    },
    {
     "name": "stdout",
     "output_type": "stream",
     "text": [
      "failed\n",
      "failed\n",
      "failed\n",
      "failed\n",
      "failed\n",
      "failed\n",
      "failed\n",
      "failed\n",
      "failed\n",
      "failed\n",
      "failed\n",
      "failed\n"
     ]
    },
    {
     "name": "stderr",
     "output_type": "stream",
     "text": [
      "2023-05-21 13:59:57,732 - INFO - RuntimeError: Intrinsic -0.13988810099999993. Time 0.285714286. Strike 1.139888101.\n"
     ]
    },
    {
     "name": "stdout",
     "output_type": "stream",
     "text": [
      "failed\n",
      "failed\n",
      "failed\n",
      "failed\n",
      "failed\n",
      "failed\n",
      "failed\n",
      "failed\n",
      "failed\n",
      "failed\n",
      "failed\n",
      "failed\n",
      "failed\n",
      "failed\n",
      "failed\n"
     ]
    },
    {
     "name": "stderr",
     "output_type": "stream",
     "text": [
      "2023-05-21 14:00:23,431 - INFO - RuntimeError: Intrinsic 0.043245312000000036. Time 0.873015873. Strike 0.956754688.\n"
     ]
    },
    {
     "name": "stdout",
     "output_type": "stream",
     "text": [
      "failed\n",
      "failed\n",
      "failed\n",
      "failed\n",
      "failed\n",
      "failed\n",
      "failed\n",
      "failed\n",
      "failed\n",
      "failed\n",
      "failed\n",
      "failed\n",
      "failed\n",
      "failed\n",
      "failed\n"
     ]
    },
    {
     "name": "stderr",
     "output_type": "stream",
     "text": [
      "2023-05-21 14:00:36,658 - INFO - RuntimeError: Intrinsic 0.03620171900000002. Time 0.138888889. Strike 0.963798281.\n"
     ]
    },
    {
     "name": "stdout",
     "output_type": "stream",
     "text": [
      "failed\n",
      "failed\n",
      "failed\n",
      "failed\n",
      "failed\n",
      "failed\n",
      "failed\n",
      "failed\n",
      "0.4768376129509096\n",
      "failed\n",
      "failed\n",
      "failed\n",
      "failed\n",
      "failed\n",
      "failed\n",
      "failed\n",
      "failed\n"
     ]
    },
    {
     "name": "stderr",
     "output_type": "stream",
     "text": [
      "2023-05-21 14:00:51,590 - INFO - RuntimeError: Intrinsic -0.038929937000000026. Time 0.099206349. Strike 1.038929937.\n"
     ]
    },
    {
     "name": "stdout",
     "output_type": "stream",
     "text": [
      "failed\n",
      "failed\n"
     ]
    },
    {
     "name": "stderr",
     "output_type": "stream",
     "text": [
      "2023-05-21 14:00:53,541 - INFO - RuntimeError: Intrinsic 0.11720303600000004. Time 0.281746032. Strike 0.882796964.\n"
     ]
    },
    {
     "name": "stdout",
     "output_type": "stream",
     "text": [
      "failed\n",
      "failed\n",
      "failed\n",
      "failed\n",
      "failed\n"
     ]
    },
    {
     "name": "stderr",
     "output_type": "stream",
     "text": [
      "2023-05-21 14:01:01,695 - INFO - RuntimeError: Intrinsic -0.06240858000000005. Time 0.027777778. Strike 1.06240858.\n"
     ]
    },
    {
     "name": "stdout",
     "output_type": "stream",
     "text": [
      "failed\n",
      "failed\n",
      "failed\n",
      "failed\n",
      "failed\n",
      "failed\n",
      "failed\n",
      "failed\n",
      "failed\n",
      "failed\n",
      "failed\n",
      "failed\n",
      "failed\n",
      "failed\n",
      "failed\n",
      "failed\n",
      "failed\n",
      "failed\n",
      "failed\n",
      "failed\n",
      "failed\n",
      "failed\n",
      "failed\n",
      "failed\n",
      "failed\n",
      "failed\n",
      "failed\n",
      "failed\n",
      "failed\n",
      "failed\n",
      "failed\n",
      "failed\n"
     ]
    },
    {
     "name": "stderr",
     "output_type": "stream",
     "text": [
      "2023-05-21 14:01:40,607 - INFO - RuntimeError: Intrinsic -0.109365865. Time 0.849206349. Strike 1.109365865.\n"
     ]
    },
    {
     "name": "stdout",
     "output_type": "stream",
     "text": [
      "failed\n",
      "failed\n",
      "failed\n",
      "failed\n"
     ]
    },
    {
     "name": "stderr",
     "output_type": "stream",
     "text": [
      "2023-05-21 14:01:49,756 - INFO - RuntimeError: Intrinsic 0.015070940999999949. Time 0.011904762. Strike 0.984929059.\n",
      "2023-05-21 14:01:50,826 - INFO - RuntimeError: Intrinsic 0.13598595000000002. Time 0.035714286. Strike 0.86401405.\n"
     ]
    },
    {
     "name": "stdout",
     "output_type": "stream",
     "text": [
      "failed\n",
      "failed\n",
      "failed\n",
      "failed\n",
      "failed\n",
      "failed\n",
      "failed\n",
      "failed\n",
      "failed\n",
      "failed\n"
     ]
    },
    {
     "name": "stderr",
     "output_type": "stream",
     "text": [
      "2023-05-21 14:02:04,525 - INFO - RuntimeError: Intrinsic -0.09175688299999996. Time 0.563333333. Strike 1.091756883.\n",
      "2023-05-21 14:02:05,178 - INFO - RuntimeError: Intrinsic 0.106637647. Time 0.003968254. Strike 0.893362353.\n"
     ]
    },
    {
     "name": "stdout",
     "output_type": "stream",
     "text": [
      "failed\n",
      "failed\n",
      "failed\n",
      "failed\n",
      "failed\n",
      "failed\n",
      "failed\n",
      "failed\n",
      "failed\n",
      "failed\n",
      "failed\n",
      "failed\n",
      "failed\n",
      "failed\n",
      "failed\n",
      "failed\n",
      "failed\n",
      "failed\n",
      "failed\n",
      "failed\n",
      "failed\n"
     ]
    },
    {
     "name": "stderr",
     "output_type": "stream",
     "text": [
      "2023-05-21 14:02:33,494 - INFO - RuntimeError: Intrinsic 0.039723516000000014. Time 0.123015873. Strike 0.960276484.\n"
     ]
    },
    {
     "name": "stdout",
     "output_type": "stream",
     "text": [
      "failed\n",
      "failed\n",
      "failed\n",
      "failed\n",
      "failed\n",
      "failed\n",
      "failed\n"
     ]
    },
    {
     "name": "stderr",
     "output_type": "stream",
     "text": [
      "2023-05-21 14:02:43,280 - INFO - RuntimeError: Intrinsic -0.12697484700000006. Time 0.368888889. Strike 1.126974847.\n"
     ]
    },
    {
     "name": "stdout",
     "output_type": "stream",
     "text": [
      "failed\n"
     ]
    },
    {
     "name": "stderr",
     "output_type": "stream",
     "text": [
      "2023-05-21 14:02:45,728 - INFO - RuntimeError: Intrinsic 0.043245312000000036. Time 0.015873016. Strike 0.956754688.\n"
     ]
    },
    {
     "name": "stdout",
     "output_type": "stream",
     "text": [
      "failed\n",
      "failed\n",
      "failed\n",
      "failed\n",
      "failed\n",
      "failed\n",
      "failed\n",
      "failed\n",
      "failed\n",
      "failed\n",
      "failed\n",
      "failed\n",
      "failed\n",
      "failed\n"
     ]
    },
    {
     "name": "stderr",
     "output_type": "stream",
     "text": [
      "2023-05-21 14:03:10,647 - INFO - RuntimeError: Intrinsic -0.02484275200000008. Time 0.170634921. Strike 1.024842752.\n"
     ]
    },
    {
     "name": "stdout",
     "output_type": "stream",
     "text": [
      "failed\n",
      "failed\n",
      "failed\n"
     ]
    },
    {
     "name": "stderr",
     "output_type": "stream",
     "text": [
      "2023-05-21 14:03:12,448 - INFO - RuntimeError: Intrinsic 0.148899204. Time 0.05952381. Strike 0.851100796.\n",
      "2023-05-21 14:03:16,375 - INFO - RuntimeError: Intrinsic 0.031505990999999955. Time 0.722380952. Strike 0.968494009.\n"
     ]
    },
    {
     "name": "stdout",
     "output_type": "stream",
     "text": [
      "failed\n",
      "failed\n",
      "failed\n",
      "failed\n",
      "failed\n",
      "failed\n",
      "failed\n",
      "failed\n",
      "failed\n",
      "failed\n",
      "failed\n",
      "failed\n",
      "failed\n",
      "failed\n",
      "failed\n",
      "failed\n",
      "failed\n",
      "failed\n"
     ]
    },
    {
     "name": "stderr",
     "output_type": "stream",
     "text": [
      "2023-05-21 14:03:34,411 - INFO - RuntimeError: Intrinsic 0.06437609. Time 0.476031746. Strike 0.93562391.\n"
     ]
    },
    {
     "name": "stdout",
     "output_type": "stream",
     "text": [
      "failed\n",
      "failed\n",
      "failed\n",
      "failed\n",
      "failed\n",
      "failed\n",
      "failed\n",
      "failed\n",
      "failed\n",
      "failed\n"
     ]
    },
    {
     "name": "stderr",
     "output_type": "stream",
     "text": [
      "2023-05-21 14:03:44,686 - INFO - RuntimeError: Intrinsic 0.07494147900000003. Time 0.484285714. Strike 0.925058521.\n"
     ]
    },
    {
     "name": "stdout",
     "output_type": "stream",
     "text": [
      "failed\n",
      "failed\n",
      "failed\n"
     ]
    },
    {
     "name": "stderr",
     "output_type": "stream",
     "text": [
      "2023-05-21 14:03:51,004 - INFO - RuntimeError: Intrinsic 0.07376754699999999. Time 0.087301587. Strike 0.926232453.\n"
     ]
    },
    {
     "name": "stdout",
     "output_type": "stream",
     "text": [
      "failed\n",
      "failed\n",
      "failed\n",
      "failed\n"
     ]
    },
    {
     "name": "stderr",
     "output_type": "stream",
     "text": [
      "2023-05-21 14:04:02,070 - INFO - RuntimeError: Intrinsic 0.12659449300000003. Time 0.555555556. Strike 0.873405507.\n"
     ]
    },
    {
     "name": "stdout",
     "output_type": "stream",
     "text": [
      "failed\n",
      "failed\n",
      "failed\n",
      "failed\n",
      "failed\n",
      "failed\n",
      "failed\n",
      "failed\n",
      "failed\n",
      "failed\n",
      "failed\n",
      "failed\n",
      "failed\n",
      "failed\n",
      "failed\n"
     ]
    },
    {
     "name": "stderr",
     "output_type": "stream",
     "text": [
      "2023-05-21 14:04:23,398 - INFO - RuntimeError: Intrinsic 0.090202597. Time 0.138888889. Strike 0.909797403.\n"
     ]
    },
    {
     "name": "stdout",
     "output_type": "stream",
     "text": [
      "failed\n",
      "failed\n",
      "failed\n",
      "failed\n"
     ]
    },
    {
     "name": "stderr",
     "output_type": "stream",
     "text": [
      "2023-05-21 14:04:31,180 - INFO - RuntimeError: Intrinsic -0.009581633999999895. Time 0.777777778. Strike 1.009581634.\n"
     ]
    },
    {
     "name": "stdout",
     "output_type": "stream",
     "text": [
      "failed\n",
      "failed\n",
      "failed\n",
      "failed\n",
      "failed\n",
      "failed\n",
      "failed\n",
      "failed\n",
      "failed\n",
      "failed\n",
      "0.5245213742460005\n",
      "failed\n",
      "failed\n"
     ]
    },
    {
     "name": "stderr",
     "output_type": "stream",
     "text": [
      "2023-05-21 14:05:02,407 - INFO - RuntimeError: Intrinsic 0.015070940999999949. Time 0.626984127. Strike 0.984929059.\n"
     ]
    },
    {
     "name": "stdout",
     "output_type": "stream",
     "text": [
      "failed\n",
      "failed\n",
      "failed\n",
      "failed\n",
      "failed\n",
      "failed\n"
     ]
    },
    {
     "name": "stderr",
     "output_type": "stream",
     "text": [
      "2023-05-21 14:05:16,993 - INFO - RuntimeError: Intrinsic 0.05263676900000003. Time 0.202380952. Strike 0.947363231.\n"
     ]
    },
    {
     "name": "stdout",
     "output_type": "stream",
     "text": [
      "failed\n",
      "failed\n",
      "failed\n",
      "failed\n",
      "failed\n",
      "failed\n",
      "failed\n",
      "failed\n",
      "failed\n",
      "failed\n"
     ]
    },
    {
     "name": "stderr",
     "output_type": "stream",
     "text": [
      "2023-05-21 14:05:27,676 - INFO - RuntimeError: Intrinsic 0.09607225799999997. Time 0.027777778. Strike 0.903927742.\n"
     ]
    },
    {
     "name": "stdout",
     "output_type": "stream",
     "text": [
      "failed\n",
      "failed\n"
     ]
    },
    {
     "name": "stderr",
     "output_type": "stream",
     "text": [
      "2023-05-21 14:05:34,614 - INFO - RuntimeError: Intrinsic 0.14302954300000004. Time 0.555714286. Strike 0.856970457.\n"
     ]
    },
    {
     "name": "stdout",
     "output_type": "stream",
     "text": [
      "failed\n",
      "failed\n",
      "failed\n",
      "failed\n"
     ]
    },
    {
     "name": "stderr",
     "output_type": "stream",
     "text": [
      "2023-05-21 14:05:44,339 - INFO - RuntimeError: Intrinsic -0.030712411999999967. Time 0.027777778. Strike 1.030712412.\n",
      "2023-05-21 14:05:45,768 - INFO - RuntimeError: Intrinsic -0.09058295100000002. Time 0.035714286. Strike 1.090582951.\n"
     ]
    },
    {
     "name": "stdout",
     "output_type": "stream",
     "text": [
      "failed\n",
      "failed\n",
      "failed\n",
      "failed\n"
     ]
    },
    {
     "name": "stderr",
     "output_type": "stream",
     "text": [
      "2023-05-21 14:05:47,886 - INFO - RuntimeError: Intrinsic -0.027190615999999945. Time 0.099206349. Strike 1.027190616.\n"
     ]
    },
    {
     "name": "stdout",
     "output_type": "stream",
     "text": [
      "failed\n",
      "failed\n",
      "failed\n",
      "failed\n",
      "failed\n",
      "failed\n"
     ]
    },
    {
     "name": "stderr",
     "output_type": "stream",
     "text": [
      "2023-05-21 14:05:58,008 - INFO - RuntimeError: Intrinsic -0.053017123000000055. Time 0.055555556. Strike 1.053017123.\n",
      "2023-05-21 14:05:59,250 - INFO - RuntimeError: Intrinsic -0.1445838290000001. Time 0.031746032. Strike 1.144583829.\n"
     ]
    },
    {
     "name": "stdout",
     "output_type": "stream",
     "text": [
      "failed\n",
      "failed\n",
      "failed\n",
      "failed\n",
      "failed\n",
      "failed\n",
      "failed\n",
      "failed\n",
      "failed\n",
      "failed\n",
      "failed\n",
      "failed\n",
      "failed\n",
      "failed\n",
      "failed\n",
      "failed\n",
      "failed\n",
      "failed\n",
      "failed\n",
      "failed\n",
      "failed\n"
     ]
    },
    {
     "name": "stderr",
     "output_type": "stream",
     "text": [
      "2023-05-21 14:06:19,655 - INFO - RuntimeError: Intrinsic 0.14068167899999995. Time 0.301587302. Strike 0.859318321.\n",
      "2023-05-21 14:06:20,558 - INFO - RuntimeError: Intrinsic 0.13715988300000004. Time 0.202380952. Strike 0.862840117.\n"
     ]
    },
    {
     "name": "stdout",
     "output_type": "stream",
     "text": [
      "failed\n",
      "failed\n",
      "failed\n",
      "failed\n",
      "failed\n"
     ]
    },
    {
     "name": "stderr",
     "output_type": "stream",
     "text": [
      "2023-05-21 14:06:23,205 - INFO - RuntimeError: Intrinsic -0.06827824100000002. Time 0.123015873. Strike 1.068278241.\n"
     ]
    },
    {
     "name": "stdout",
     "output_type": "stream",
     "text": [
      "failed\n",
      "failed\n",
      "failed\n"
     ]
    },
    {
     "name": "stderr",
     "output_type": "stream",
     "text": [
      "2023-05-21 14:06:27,259 - INFO - RuntimeError: Intrinsic 0.07141968300000001. Time 0.067460317. Strike 0.928580317.\n"
     ]
    },
    {
     "name": "stdout",
     "output_type": "stream",
     "text": [
      "failed\n",
      "failed\n",
      "failed\n",
      "failed\n",
      "failed\n",
      "failed\n",
      "failed\n",
      "failed\n"
     ]
    },
    {
     "name": "stderr",
     "output_type": "stream",
     "text": [
      "2023-05-21 14:06:36,053 - INFO - RuntimeError: Intrinsic -0.02484275200000008. Time 0.043650794. Strike 1.024842752.\n"
     ]
    },
    {
     "name": "stdout",
     "output_type": "stream",
     "text": [
      "failed\n",
      "failed\n",
      "failed\n",
      "failed\n",
      "failed\n"
     ]
    },
    {
     "name": "stderr",
     "output_type": "stream",
     "text": [
      "2023-05-21 14:06:45,178 - INFO - RuntimeError: Intrinsic -0.01662522700000002. Time 0.043650794. Strike 1.016625227.\n"
     ]
    },
    {
     "name": "stdout",
     "output_type": "stream",
     "text": [
      "failed\n"
     ]
    },
    {
     "name": "stderr",
     "output_type": "stream",
     "text": [
      "2023-05-21 14:06:46,680 - INFO - RuntimeError: Intrinsic 0.148899204. Time 0.138888889. Strike 0.851100796.\n"
     ]
    },
    {
     "name": "stdout",
     "output_type": "stream",
     "text": [
      "failed\n"
     ]
    },
    {
     "name": "stderr",
     "output_type": "stream",
     "text": [
      "2023-05-21 14:06:48,797 - INFO - RuntimeError: Intrinsic 0.032679923. Time 0.095238095. Strike 0.967320077.\n",
      "2023-05-21 14:06:49,273 - INFO - RuntimeError: Intrinsic 0.12542056099999999. Time 0.023809524. Strike 0.874579439.\n"
     ]
    },
    {
     "name": "stdout",
     "output_type": "stream",
     "text": [
      "failed\n",
      "failed\n",
      "failed\n",
      "failed\n",
      "failed\n",
      "failed\n",
      "failed\n"
     ]
    },
    {
     "name": "stderr",
     "output_type": "stream",
     "text": [
      "2023-05-21 14:06:59,966 - INFO - RuntimeError: Intrinsic 0.11485517199999995. Time 0.49984127. Strike 0.885144828.\n"
     ]
    },
    {
     "name": "stdout",
     "output_type": "stream",
     "text": [
      "failed\n",
      "failed\n",
      "failed\n"
     ]
    },
    {
     "name": "stderr",
     "output_type": "stream",
     "text": [
      "2023-05-21 14:07:04,788 - INFO - RuntimeError: Intrinsic 0.08902866499999995. Time 0.55952381. Strike 0.910971335.\n"
     ]
    },
    {
     "name": "stdout",
     "output_type": "stream",
     "text": [
      "failed\n",
      "failed\n",
      "failed\n"
     ]
    },
    {
     "name": "stderr",
     "output_type": "stream",
     "text": [
      "2023-05-21 14:07:07,117 - INFO - RuntimeError: Intrinsic -0.04245173399999991. Time 0.448253968. Strike 1.042451734.\n"
     ]
    },
    {
     "name": "stdout",
     "output_type": "stream",
     "text": [
      "failed\n",
      "failed\n"
     ]
    },
    {
     "name": "stderr",
     "output_type": "stream",
     "text": [
      "2023-05-21 14:07:09,488 - INFO - RuntimeError: Intrinsic 0.13715988300000004. Time 0.503809524. Strike 0.862840117.\n"
     ]
    },
    {
     "name": "stdout",
     "output_type": "stream",
     "text": [
      "failed\n"
     ]
    },
    {
     "name": "stderr",
     "output_type": "stream",
     "text": [
      "2023-05-21 14:07:15,270 - INFO - RuntimeError: Intrinsic 0.016244872999999993. Time 0.067460317. Strike 0.983755127.\n"
     ]
    },
    {
     "name": "stdout",
     "output_type": "stream",
     "text": [
      "failed\n",
      "failed\n",
      "failed\n",
      "failed\n",
      "failed\n"
     ]
    },
    {
     "name": "stderr",
     "output_type": "stream",
     "text": [
      "2023-05-21 14:07:19,744 - INFO - RuntimeError: Intrinsic -0.02014702300000004. Time 0.103174603. Strike 1.020147023.\n",
      "2023-05-21 14:07:21,350 - INFO - RuntimeError: Intrinsic 0.029158126000000006. Time 0.087301587. Strike 0.970841874.\n"
     ]
    },
    {
     "name": "stdout",
     "output_type": "stream",
     "text": [
      "failed\n",
      "failed\n",
      "failed\n",
      "failed\n",
      "failed\n",
      "failed\n",
      "failed\n",
      "failed\n"
     ]
    },
    {
     "name": "stderr",
     "output_type": "stream",
     "text": [
      "2023-05-21 14:07:27,768 - INFO - RuntimeError: Intrinsic -0.0741479009999999. Time 0.071428571. Strike 1.074147901.\n"
     ]
    },
    {
     "name": "stdout",
     "output_type": "stream",
     "text": [
      "failed\n"
     ]
    },
    {
     "name": "stderr",
     "output_type": "stream",
     "text": [
      "2023-05-21 14:07:30,767 - INFO - RuntimeError: Intrinsic 0.11133337600000004. Time 0.043650794. Strike 0.888666624.\n"
     ]
    },
    {
     "name": "stdout",
     "output_type": "stream",
     "text": [
      "failed\n",
      "failed\n",
      "failed\n"
     ]
    },
    {
     "name": "stderr",
     "output_type": "stream",
     "text": [
      "2023-05-21 14:07:34,851 - INFO - RuntimeError: Intrinsic 0.07846327600000003. Time 0.166666667. Strike 0.921536724.\n"
     ]
    },
    {
     "name": "stdout",
     "output_type": "stream",
     "text": [
      "failed\n",
      "failed\n",
      "failed\n"
     ]
    },
    {
     "name": "stderr",
     "output_type": "stream",
     "text": [
      "2023-05-21 14:07:38,740 - INFO - RuntimeError: Intrinsic -0.021320954999999975. Time 0.075396825. Strike 1.021320955.\n"
     ]
    },
    {
     "name": "stdout",
     "output_type": "stream",
     "text": [
      "failed\n",
      "failed\n",
      "failed\n",
      "failed\n",
      "failed\n",
      "failed\n",
      "failed\n",
      "failed\n",
      "failed\n",
      "failed\n",
      "failed\n",
      "failed\n",
      "failed\n",
      "failed\n",
      "failed\n",
      "failed\n",
      "failed\n",
      "failed\n",
      "failed\n",
      "failed\n",
      "failed\n",
      "failed\n",
      "failed\n",
      "failed\n",
      "failed\n"
     ]
    },
    {
     "name": "stderr",
     "output_type": "stream",
     "text": [
      "2023-05-21 14:08:18,274 - INFO - RuntimeError: Intrinsic 0.07024575099999997. Time 0.111111111. Strike 0.929754249.\n"
     ]
    },
    {
     "name": "stdout",
     "output_type": "stream",
     "text": [
      "failed\n",
      "failed\n"
     ]
    },
    {
     "name": "stderr",
     "output_type": "stream",
     "text": [
      "2023-05-21 14:08:21,349 - INFO - RuntimeError: Intrinsic 0.027984193999999962. Time 0.031746032. Strike 0.972015806.\n",
      "2023-05-21 14:08:22,061 - INFO - RuntimeError: Intrinsic -0.10819193300000007. Time 0.047619048. Strike 1.108191933.\n"
     ]
    },
    {
     "name": "stdout",
     "output_type": "stream",
     "text": [
      "failed\n",
      "failed\n",
      "failed\n",
      "failed\n",
      "failed\n",
      "failed\n",
      "failed\n",
      "failed\n",
      "failed\n",
      "failed\n",
      "failed\n"
     ]
    },
    {
     "name": "stderr",
     "output_type": "stream",
     "text": [
      "2023-05-21 14:08:38,671 - INFO - RuntimeError: Intrinsic 0.011549143999999956. Time 0.670634921. Strike 0.988450856.\n"
     ]
    },
    {
     "name": "stdout",
     "output_type": "stream",
     "text": [
      "failed\n",
      "failed\n",
      "failed\n",
      "failed\n",
      "failed\n",
      "failed\n",
      "failed\n",
      "failed\n",
      "failed\n"
     ]
    },
    {
     "name": "stderr",
     "output_type": "stream",
     "text": [
      "2023-05-21 14:08:50,150 - INFO - RuntimeError: Intrinsic 0.07141968300000001. Time 0.075396825. Strike 0.928580317.\n"
     ]
    },
    {
     "name": "stdout",
     "output_type": "stream",
     "text": [
      "failed\n"
     ]
    },
    {
     "name": "stderr",
     "output_type": "stream",
     "text": [
      "2023-05-21 14:08:51,548 - INFO - RuntimeError: Intrinsic 0.004505552000000024. Time 0.007936508. Strike 0.995494448.\n"
     ]
    },
    {
     "name": "stdout",
     "output_type": "stream",
     "text": [
      "failed\n",
      "failed\n",
      "failed\n"
     ]
    },
    {
     "name": "stderr",
     "output_type": "stream",
     "text": [
      "2023-05-21 14:08:55,382 - INFO - RuntimeError: Intrinsic -0.05771285200000009. Time 0.03968254. Strike 1.057712852.\n"
     ]
    },
    {
     "name": "stdout",
     "output_type": "stream",
     "text": [
      "failed\n",
      "failed\n",
      "failed\n",
      "failed\n",
      "failed\n"
     ]
    },
    {
     "name": "stderr",
     "output_type": "stream",
     "text": [
      "2023-05-21 14:08:57,470 - INFO - RuntimeError: Intrinsic -0.087061155. Time 0.083333333. Strike 1.087061155.\n"
     ]
    },
    {
     "name": "stdout",
     "output_type": "stream",
     "text": [
      "failed\n",
      "0.5722051355410915\n",
      "failed\n",
      "failed\n"
     ]
    },
    {
     "name": "stderr",
     "output_type": "stream",
     "text": [
      "2023-05-21 14:08:59,814 - INFO - RuntimeError: Intrinsic 0.05615856500000005. Time 0.73015873. Strike 0.943841435.\n",
      "2023-05-21 14:09:01,156 - INFO - RuntimeError: Intrinsic -0.056538919000000076. Time 0.646825397. Strike 1.056538919.\n",
      "2023-05-21 14:09:02,212 - INFO - RuntimeError: Intrinsic 0.05615856500000005. Time 0.007936508. Strike 0.943841435.\n",
      "2023-05-21 14:09:02,720 - INFO - RuntimeError: Intrinsic 0.009201279999999978. Time 0.083333333. Strike 0.99079872.\n"
     ]
    },
    {
     "name": "stdout",
     "output_type": "stream",
     "text": [
      "failed\n",
      "failed\n",
      "failed\n",
      "failed\n",
      "failed\n",
      "failed\n",
      "failed\n",
      "failed\n",
      "failed\n",
      "failed\n"
     ]
    },
    {
     "name": "stderr",
     "output_type": "stream",
     "text": [
      "2023-05-21 14:09:13,816 - INFO - RuntimeError: Intrinsic 0.0009837550000000306. Time 0.099206349. Strike 0.999016245.\n"
     ]
    },
    {
     "name": "stdout",
     "output_type": "stream",
     "text": [
      "failed\n",
      "failed\n",
      "failed\n",
      "failed\n",
      "failed\n",
      "failed\n",
      "failed\n",
      "failed\n",
      "failed\n",
      "failed\n"
     ]
    },
    {
     "name": "stderr",
     "output_type": "stream",
     "text": [
      "2023-05-21 14:09:22,982 - INFO - RuntimeError: Intrinsic 0.06907181900000003. Time 0.003968254. Strike 0.930928181.\n"
     ]
    },
    {
     "name": "stdout",
     "output_type": "stream",
     "text": [
      "failed\n",
      "failed\n",
      "failed\n",
      "failed\n",
      "failed\n",
      "failed\n",
      "failed\n",
      "failed\n",
      "failed\n"
     ]
    },
    {
     "name": "stderr",
     "output_type": "stream",
     "text": [
      "2023-05-21 14:09:35,352 - INFO - RuntimeError: Intrinsic -0.08588722300000007. Time 0.178571429. Strike 1.085887223.\n"
     ]
    },
    {
     "name": "stdout",
     "output_type": "stream",
     "text": [
      "failed\n",
      "failed\n",
      "failed\n",
      "failed\n",
      "failed\n",
      "failed\n"
     ]
    },
    {
     "name": "stderr",
     "output_type": "stream",
     "text": [
      "2023-05-21 14:09:39,764 - INFO - RuntimeError: Intrinsic 0.07611541200000005. Time 0.055555556. Strike 0.923884588.\n"
     ]
    },
    {
     "name": "stdout",
     "output_type": "stream",
     "text": [
      "failed\n",
      "failed\n",
      "failed\n",
      "failed\n",
      "failed\n",
      "failed\n",
      "failed\n",
      "failed\n",
      "failed\n",
      "failed\n",
      "failed\n"
     ]
    },
    {
     "name": "stderr",
     "output_type": "stream",
     "text": [
      "2023-05-21 14:09:56,806 - INFO - RuntimeError: Intrinsic 0.12542056099999999. Time 0.206349206. Strike 0.874579439.\n"
     ]
    },
    {
     "name": "stdout",
     "output_type": "stream",
     "text": [
      "failed\n",
      "failed\n",
      "failed\n",
      "failed\n",
      "failed\n",
      "failed\n",
      "failed\n",
      "failed\n",
      "failed\n",
      "failed\n",
      "failed\n",
      "failed\n",
      "failed\n",
      "failed\n",
      "failed\n",
      "failed\n",
      "failed\n"
     ]
    },
    {
     "name": "stderr",
     "output_type": "stream",
     "text": [
      "2023-05-21 14:10:30,633 - INFO - RuntimeError: Intrinsic 0.06320215799999995. Time 0.146825397. Strike 0.936797842.\n"
     ]
    },
    {
     "name": "stdout",
     "output_type": "stream",
     "text": [
      "failed\n",
      "failed\n",
      "failed\n",
      "failed\n",
      "failed\n",
      "failed\n",
      "failed\n",
      "failed\n",
      "failed\n",
      "failed\n"
     ]
    },
    {
     "name": "stderr",
     "output_type": "stream",
     "text": [
      "2023-05-21 14:10:46,828 - INFO - RuntimeError: Intrinsic 0.07846327600000003. Time 0.761746032. Strike 0.921536724.\n"
     ]
    },
    {
     "name": "stdout",
     "output_type": "stream",
     "text": [
      "failed\n",
      "failed\n",
      "failed\n",
      "failed\n"
     ]
    },
    {
     "name": "stderr",
     "output_type": "stream",
     "text": [
      "2023-05-21 14:10:56,676 - INFO - RuntimeError: Intrinsic 0.10311585099999998. Time 0.182539683. Strike 0.896884149.\n"
     ]
    },
    {
     "name": "stdout",
     "output_type": "stream",
     "text": [
      "failed\n"
     ]
    },
    {
     "name": "stderr",
     "output_type": "stream",
     "text": [
      "2023-05-21 14:10:58,745 - INFO - RuntimeError: Intrinsic -0.08588722300000007. Time 0.535714286. Strike 1.085887223.\n"
     ]
    },
    {
     "name": "stdout",
     "output_type": "stream",
     "text": [
      "failed\n",
      "failed\n",
      "failed\n",
      "failed\n"
     ]
    },
    {
     "name": "stderr",
     "output_type": "stream",
     "text": [
      "2023-05-21 14:11:02,688 - INFO - RuntimeError: Intrinsic 0.060854293999999975. Time 0.027777778. Strike 0.939145706.\n"
     ]
    },
    {
     "name": "stdout",
     "output_type": "stream",
     "text": [
      "failed\n",
      "failed\n",
      "failed\n",
      "failed\n",
      "failed\n",
      "failed\n",
      "failed\n",
      "failed\n",
      "failed\n"
     ]
    },
    {
     "name": "stderr",
     "output_type": "stream",
     "text": [
      "2023-05-21 14:11:10,056 - INFO - RuntimeError: Intrinsic 0.084332937. Time 0.96031746. Strike 0.915667063.\n"
     ]
    },
    {
     "name": "stdout",
     "output_type": "stream",
     "text": [
      "failed\n"
     ]
    },
    {
     "name": "stderr",
     "output_type": "stream",
     "text": [
      "2023-05-21 14:11:11,102 - INFO - RuntimeError: Intrinsic 0.13715988300000004. Time 0.023809524. Strike 0.862840117.\n"
     ]
    },
    {
     "name": "stdout",
     "output_type": "stream",
     "text": [
      "failed\n",
      "failed\n"
     ]
    },
    {
     "name": "stderr",
     "output_type": "stream",
     "text": [
      "2023-05-21 14:11:13,467 - INFO - RuntimeError: Intrinsic 0.09255046099999997. Time 0.051587302. Strike 0.907449539.\n"
     ]
    },
    {
     "name": "stdout",
     "output_type": "stream",
     "text": [
      "failed\n",
      "failed\n"
     ]
    },
    {
     "name": "stderr",
     "output_type": "stream",
     "text": [
      "2023-05-21 14:11:15,317 - INFO - RuntimeError: Intrinsic 0.04794103999999999. Time 0.273809524. Strike 0.95205896.\n"
     ]
    },
    {
     "name": "stdout",
     "output_type": "stream",
     "text": [
      "failed\n",
      "failed\n",
      "failed\n",
      "failed\n",
      "failed\n",
      "failed\n"
     ]
    },
    {
     "name": "stderr",
     "output_type": "stream",
     "text": [
      "2023-05-21 14:11:19,581 - INFO - RuntimeError: Intrinsic 0.07846327600000003. Time 0.083333333. Strike 0.921536724.\n",
      "2023-05-21 14:11:19,975 - INFO - RuntimeError: Intrinsic -0.035408141000000004. Time 0.46047619. Strike 1.035408141.\n"
     ]
    },
    {
     "name": "stdout",
     "output_type": "stream",
     "text": [
      "failed\n",
      "failed\n",
      "failed\n",
      "failed\n",
      "failed\n",
      "failed\n",
      "failed\n",
      "failed\n",
      "failed\n",
      "failed\n",
      "failed\n",
      "failed\n",
      "failed\n",
      "failed\n",
      "failed\n"
     ]
    },
    {
     "name": "stderr",
     "output_type": "stream",
     "text": [
      "2023-05-21 14:11:39,154 - INFO - RuntimeError: Intrinsic -0.01897309100000011. Time 0.369206349. Strike 1.018973091.\n"
     ]
    },
    {
     "name": "stdout",
     "output_type": "stream",
     "text": [
      "failed\n"
     ]
    },
    {
     "name": "stderr",
     "output_type": "stream",
     "text": [
      "2023-05-21 14:11:43,852 - INFO - RuntimeError: Intrinsic -0.138714169. Time 0.571269841. Strike 1.138714169.\n"
     ]
    },
    {
     "name": "stdout",
     "output_type": "stream",
     "text": [
      "failed\n",
      "failed\n",
      "failed\n",
      "failed\n",
      "failed\n",
      "failed\n",
      "failed\n",
      "failed\n",
      "failed\n",
      "failed\n",
      "failed\n",
      "failed\n",
      "failed\n",
      "failed\n",
      "failed\n",
      "failed\n",
      "failed\n",
      "failed\n",
      "failed\n",
      "failed\n",
      "failed\n",
      "failed\n",
      "failed\n",
      "failed\n",
      "failed\n",
      "failed\n",
      "failed\n",
      "failed\n"
     ]
    },
    {
     "name": "stderr",
     "output_type": "stream",
     "text": [
      "2023-05-21 14:12:15,448 - INFO - RuntimeError: Intrinsic 0.0021576869999999637. Time 0.043650794. Strike 0.997842313.\n"
     ]
    },
    {
     "name": "stdout",
     "output_type": "stream",
     "text": [
      "failed\n"
     ]
    },
    {
     "name": "stderr",
     "output_type": "stream",
     "text": [
      "2023-05-21 14:12:17,480 - INFO - RuntimeError: Intrinsic 0.13363808600000004. Time 0.698571429. Strike 0.866361914.\n"
     ]
    },
    {
     "name": "stdout",
     "output_type": "stream",
     "text": [
      "failed\n",
      "failed\n"
     ]
    },
    {
     "name": "stderr",
     "output_type": "stream",
     "text": [
      "2023-05-21 14:12:20,118 - INFO - RuntimeError: Intrinsic -0.01662522700000002. Time 0.329365079. Strike 1.016625227.\n",
      "2023-05-21 14:12:20,626 - INFO - RuntimeError: Intrinsic 0.06555002200000004. Time 0.047619048. Strike 0.934449978.\n"
     ]
    },
    {
     "name": "stdout",
     "output_type": "stream",
     "text": [
      "failed\n",
      "failed\n",
      "failed\n",
      "failed\n"
     ]
    },
    {
     "name": "stderr",
     "output_type": "stream",
     "text": [
      "2023-05-21 14:12:23,856 - INFO - RuntimeError: Intrinsic -0.03423420900000007. Time 0.015873016. Strike 1.034234209.\n"
     ]
    },
    {
     "name": "stdout",
     "output_type": "stream",
     "text": [
      "failed\n",
      "failed\n",
      "failed\n",
      "failed\n",
      "failed\n",
      "failed\n",
      "failed\n",
      "failed\n",
      "failed\n",
      "failed\n"
     ]
    },
    {
     "name": "stderr",
     "output_type": "stream",
     "text": [
      "2023-05-21 14:12:40,252 - INFO - RuntimeError: Intrinsic -0.015451295000000087. Time 0.031746032. Strike 1.015451295.\n",
      "2023-05-21 14:12:42,383 - INFO - RuntimeError: Intrinsic 0.049114973000000006. Time 0.53984127. Strike 0.950885027.\n"
     ]
    },
    {
     "name": "stdout",
     "output_type": "stream",
     "text": [
      "failed\n",
      "failed\n",
      "failed\n",
      "failed\n",
      "failed\n",
      "failed\n",
      "failed\n",
      "0.6198888968361824\n",
      "failed\n"
     ]
    },
    {
     "name": "stderr",
     "output_type": "stream",
     "text": [
      "2023-05-21 14:12:49,808 - INFO - RuntimeError: Intrinsic -0.11523552599999998. Time 1.011746032. Strike 1.115235526.\n",
      "2023-05-21 14:12:53,680 - INFO - RuntimeError: Intrinsic 0.090202597. Time 0.924603175. Strike 0.909797403.\n"
     ]
    },
    {
     "name": "stdout",
     "output_type": "stream",
     "text": [
      "failed\n",
      "failed\n",
      "failed\n",
      "failed\n"
     ]
    },
    {
     "name": "stderr",
     "output_type": "stream",
     "text": [
      "2023-05-21 14:13:00,197 - INFO - RuntimeError: Intrinsic -0.01897309100000011. Time 0.099206349. Strike 1.018973091.\n"
     ]
    },
    {
     "name": "stdout",
     "output_type": "stream",
     "text": [
      "failed\n"
     ]
    },
    {
     "name": "stderr",
     "output_type": "stream",
     "text": [
      "2023-05-21 14:13:01,834 - INFO - RuntimeError: Intrinsic 0.020940600999999948. Time 0.444285714. Strike 0.979059399.\n"
     ]
    },
    {
     "name": "stdout",
     "output_type": "stream",
     "text": [
      "failed\n",
      "failed\n",
      "failed\n",
      "failed\n",
      "failed\n",
      "failed\n",
      "failed\n",
      "failed\n",
      "failed\n",
      "failed\n",
      "failed\n",
      "failed\n",
      "failed\n",
      "failed\n",
      "failed\n",
      "failed\n",
      "failed\n",
      "failed\n",
      "failed\n",
      "failed\n",
      "failed\n",
      "failed\n",
      "failed\n",
      "failed\n",
      "failed\n"
     ]
    },
    {
     "name": "stderr",
     "output_type": "stream",
     "text": [
      "2023-05-21 14:13:33,538 - INFO - RuntimeError: Intrinsic 0.06555002200000004. Time 0.508095238. Strike 0.934449978.\n"
     ]
    },
    {
     "name": "stdout",
     "output_type": "stream",
     "text": [
      "failed\n",
      "failed\n",
      "failed\n",
      "failed\n",
      "failed\n",
      "failed\n",
      "failed\n",
      "failed\n",
      "failed\n",
      "failed\n",
      "failed\n",
      "failed\n",
      "failed\n",
      "failed\n",
      "failed\n",
      "failed\n",
      "failed\n",
      "failed\n",
      "failed\n",
      "failed\n",
      "failed\n",
      "failed\n",
      "failed\n",
      "failed\n",
      "failed\n",
      "failed\n",
      "failed\n",
      "failed\n",
      "failed\n",
      "failed\n"
     ]
    },
    {
     "name": "stderr",
     "output_type": "stream",
     "text": [
      "2023-05-21 14:14:09,514 - INFO - RuntimeError: Intrinsic 0.008027348000000045. Time 0.007936508. Strike 0.991972652.\n"
     ]
    },
    {
     "name": "stdout",
     "output_type": "stream",
     "text": [
      "failed\n",
      "failed\n",
      "failed\n",
      "failed\n"
     ]
    },
    {
     "name": "stderr",
     "output_type": "stream",
     "text": [
      "2023-05-21 14:14:15,101 - INFO - RuntimeError: Intrinsic 0.07963720799999996. Time 0.138888889. Strike 0.920362792.\n"
     ]
    },
    {
     "name": "stdout",
     "output_type": "stream",
     "text": [
      "failed\n",
      "failed\n",
      "failed\n",
      "failed\n",
      "failed\n",
      "failed\n",
      "failed\n",
      "failed\n",
      "failed\n",
      "failed\n",
      "failed\n",
      "failed\n",
      "failed\n",
      "failed\n",
      "failed\n",
      "failed\n",
      "failed\n",
      "failed\n",
      "failed\n",
      "failed\n"
     ]
    },
    {
     "name": "stderr",
     "output_type": "stream",
     "text": [
      "2023-05-21 14:14:36,600 - INFO - RuntimeError: Intrinsic 0.090202597. Time 0.107142857. Strike 0.909797403.\n"
     ]
    },
    {
     "name": "stdout",
     "output_type": "stream",
     "text": [
      "failed\n",
      "failed\n"
     ]
    },
    {
     "name": "stderr",
     "output_type": "stream",
     "text": [
      "2023-05-21 14:14:40,413 - INFO - RuntimeError: Intrinsic 0.10076798600000003. Time 0.666666667. Strike 0.899232014.\n",
      "2023-05-21 14:14:42,384 - INFO - RuntimeError: Intrinsic -0.07766969800000001. Time 0.293650794. Strike 1.077669698.\n"
     ]
    },
    {
     "name": "stdout",
     "output_type": "stream",
     "text": [
      "failed\n",
      "failed\n",
      "failed\n",
      "failed\n",
      "failed\n",
      "failed\n",
      "failed\n",
      "failed\n",
      "failed\n",
      "failed\n",
      "failed\n",
      "failed\n",
      "failed\n",
      "failed\n",
      "failed\n"
     ]
    },
    {
     "name": "stderr",
     "output_type": "stream",
     "text": [
      "2023-05-21 14:15:02,447 - INFO - RuntimeError: Intrinsic -0.06240858000000005. Time 0.091269841. Strike 1.06240858.\n"
     ]
    },
    {
     "name": "stdout",
     "output_type": "stream",
     "text": [
      "failed\n",
      "failed\n",
      "failed\n",
      "failed\n",
      "failed\n",
      "failed\n"
     ]
    },
    {
     "name": "stderr",
     "output_type": "stream",
     "text": [
      "2023-05-21 14:15:10,214 - INFO - RuntimeError: Intrinsic 0.10781157900000005. Time 0.035714286. Strike 0.892188421.\n"
     ]
    },
    {
     "name": "stdout",
     "output_type": "stream",
     "text": [
      "failed\n",
      "failed\n",
      "failed\n"
     ]
    },
    {
     "name": "stderr",
     "output_type": "stream",
     "text": [
      "2023-05-21 14:15:15,947 - INFO - RuntimeError: Intrinsic -0.044799597999999996. Time 0.611269841. Strike 1.044799598.\n"
     ]
    },
    {
     "name": "stdout",
     "output_type": "stream",
     "text": [
      "failed\n"
     ]
    },
    {
     "name": "stderr",
     "output_type": "stream",
     "text": [
      "2023-05-21 14:15:18,067 - INFO - RuntimeError: Intrinsic 0.023288466000000008. Time 0.301587302. Strike 0.976711534.\n"
     ]
    },
    {
     "name": "stdout",
     "output_type": "stream",
     "text": [
      "failed\n"
     ]
    },
    {
     "name": "stderr",
     "output_type": "stream",
     "text": [
      "2023-05-21 14:15:19,616 - INFO - RuntimeError: Intrinsic 0.11485517199999995. Time 0.154761905. Strike 0.885144828.\n",
      "2023-05-21 14:15:20,237 - INFO - RuntimeError: Intrinsic -0.003711972999999924. Time 0.694603175. Strike 1.003711973.\n"
     ]
    },
    {
     "name": "stdout",
     "output_type": "stream",
     "text": [
      "failed\n",
      "failed\n"
     ]
    },
    {
     "name": "stderr",
     "output_type": "stream",
     "text": [
      "2023-05-21 14:15:25,441 - INFO - RuntimeError: Intrinsic -0.015451295000000087. Time 0.757777778. Strike 1.015451295.\n"
     ]
    },
    {
     "name": "stdout",
     "output_type": "stream",
     "text": [
      "failed\n",
      "failed\n",
      "failed\n",
      "failed\n",
      "failed\n",
      "failed\n",
      "failed\n",
      "failed\n",
      "failed\n",
      "failed\n",
      "failed\n",
      "failed\n",
      "failed\n",
      "failed\n"
     ]
    },
    {
     "name": "stderr",
     "output_type": "stream",
     "text": [
      "2023-05-21 14:15:38,869 - INFO - RuntimeError: Intrinsic 0.11250730799999997. Time 0.670793651. Strike 0.887492692.\n"
     ]
    },
    {
     "name": "stdout",
     "output_type": "stream",
     "text": [
      "failed\n",
      "failed\n",
      "failed\n",
      "failed\n",
      "failed\n",
      "failed\n",
      "failed\n"
     ]
    },
    {
     "name": "stderr",
     "output_type": "stream",
     "text": [
      "2023-05-21 14:15:49,046 - INFO - RuntimeError: Intrinsic 0.054984633000000005. Time 0.222222222. Strike 0.945015367.\n"
     ]
    },
    {
     "name": "stdout",
     "output_type": "stream",
     "text": [
      "failed\n",
      "failed\n",
      "failed\n",
      "failed\n",
      "failed\n",
      "failed\n",
      "failed\n"
     ]
    },
    {
     "name": "stderr",
     "output_type": "stream",
     "text": [
      "2023-05-21 14:16:01,672 - INFO - RuntimeError: Intrinsic 0.07728934399999998. Time 0.23015873. Strike 0.922710656.\n"
     ]
    },
    {
     "name": "stdout",
     "output_type": "stream",
     "text": [
      "failed\n"
     ]
    },
    {
     "name": "stderr",
     "output_type": "stream",
     "text": [
      "2023-05-21 14:16:02,179 - INFO - RuntimeError: Intrinsic 0.13598595000000002. Time 0.083333333. Strike 0.86401405.\n",
      "2023-05-21 14:16:02,678 - INFO - RuntimeError: Intrinsic 0.05028890500000005. Time 0.115079365. Strike 0.949711095.\n"
     ]
    },
    {
     "name": "stdout",
     "output_type": "stream",
     "text": [
      "failed\n",
      "failed\n",
      "failed\n",
      "failed\n",
      "failed\n"
     ]
    },
    {
     "name": "stderr",
     "output_type": "stream",
     "text": [
      "2023-05-21 14:16:09,208 - INFO - RuntimeError: Intrinsic -0.06358251199999998. Time 0.095238095. Strike 1.063582512.\n"
     ]
    },
    {
     "name": "stdout",
     "output_type": "stream",
     "text": [
      "failed\n"
     ]
    },
    {
     "name": "stderr",
     "output_type": "stream",
     "text": [
      "2023-05-21 14:16:10,424 - INFO - RuntimeError: Intrinsic -0.01897309100000011. Time 0.396666667. Strike 1.018973091.\n"
     ]
    },
    {
     "name": "stdout",
     "output_type": "stream",
     "text": [
      "failed\n",
      "failed\n"
     ]
    },
    {
     "name": "stderr",
     "output_type": "stream",
     "text": [
      "2023-05-21 14:16:12,846 - INFO - RuntimeError: Intrinsic -0.04245173399999991. Time 0.154761905. Strike 1.042451734.\n",
      "2023-05-21 14:16:13,732 - INFO - RuntimeError: Intrinsic 0.116029104. Time 0.174603175. Strike 0.883970896.\n",
      "2023-05-21 14:16:14,641 - INFO - RuntimeError: Intrinsic 0.084332937. Time 0.381111111. Strike 0.915667063.\n"
     ]
    },
    {
     "name": "stdout",
     "output_type": "stream",
     "text": [
      "failed\n",
      "failed\n",
      "failed\n",
      "failed\n",
      "failed\n"
     ]
    },
    {
     "name": "stderr",
     "output_type": "stream",
     "text": [
      "2023-05-21 14:16:17,930 - INFO - RuntimeError: Intrinsic 0.033853855000000044. Time 0.650793651. Strike 0.966146145.\n"
     ]
    },
    {
     "name": "stdout",
     "output_type": "stream",
     "text": [
      "failed\n",
      "failed\n",
      "failed\n",
      "failed\n",
      "failed\n",
      "failed\n",
      "failed\n",
      "failed\n",
      "failed\n",
      "failed\n",
      "failed\n",
      "failed\n",
      "failed\n",
      "failed\n",
      "failed\n"
     ]
    },
    {
     "name": "stderr",
     "output_type": "stream",
     "text": [
      "2023-05-21 14:16:32,142 - INFO - RuntimeError: Intrinsic 0.046767107999999946. Time 0.678571429. Strike 0.953232892.\n"
     ]
    },
    {
     "name": "stdout",
     "output_type": "stream",
     "text": [
      "failed\n",
      "failed\n",
      "failed\n",
      "failed\n"
     ]
    },
    {
     "name": "stderr",
     "output_type": "stream",
     "text": [
      "2023-05-21 14:16:35,485 - INFO - RuntimeError: Intrinsic 0.148899204. Time 0.364920635. Strike 0.851100796.\n",
      "2023-05-21 14:16:36,107 - INFO - RuntimeError: Intrinsic -0.03188634499999998. Time 0.027777778. Strike 1.031886345.\n"
     ]
    },
    {
     "name": "stdout",
     "output_type": "stream",
     "text": [
      "failed\n",
      "failed\n",
      "failed\n",
      "failed\n",
      "failed\n",
      "failed\n",
      "failed\n"
     ]
    },
    {
     "name": "stderr",
     "output_type": "stream",
     "text": [
      "2023-05-21 14:16:47,683 - INFO - RuntimeError: Intrinsic 0.029158126000000006. Time 0.111111111. Strike 0.970841874.\n"
     ]
    },
    {
     "name": "stdout",
     "output_type": "stream",
     "text": [
      "failed\n",
      "failed\n",
      "failed\n",
      "failed\n",
      "0.6675726581312734\n",
      "failed\n",
      "failed\n",
      "failed\n",
      "failed\n",
      "failed\n",
      "failed\n",
      "failed\n"
     ]
    },
    {
     "name": "stderr",
     "output_type": "stream",
     "text": [
      "2023-05-21 14:17:01,492 - INFO - RuntimeError: Intrinsic 0.013897009000000016. Time 0.448571429. Strike 0.986102991.\n"
     ]
    },
    {
     "name": "stdout",
     "output_type": "stream",
     "text": [
      "failed\n",
      "failed\n",
      "failed\n"
     ]
    },
    {
     "name": "stderr",
     "output_type": "stream",
     "text": [
      "2023-05-21 14:17:07,476 - INFO - RuntimeError: Intrinsic -0.109365865. Time 0.555555556. Strike 1.109365865.\n"
     ]
    },
    {
     "name": "stdout",
     "output_type": "stream",
     "text": [
      "failed\n",
      "failed\n",
      "failed\n",
      "failed\n"
     ]
    },
    {
     "name": "stderr",
     "output_type": "stream",
     "text": [
      "2023-05-21 14:17:10,891 - INFO - RuntimeError: Intrinsic -0.09880047600000008. Time 0.011904762. Strike 1.098800476.\n"
     ]
    },
    {
     "name": "stdout",
     "output_type": "stream",
     "text": [
      "failed\n"
     ]
    },
    {
     "name": "stderr",
     "output_type": "stream",
     "text": [
      "2023-05-21 14:17:12,703 - INFO - RuntimeError: Intrinsic 0.11485517199999995. Time 0.111111111. Strike 0.885144828.\n"
     ]
    },
    {
     "name": "stdout",
     "output_type": "stream",
     "text": [
      "failed\n",
      "failed\n",
      "failed\n",
      "failed\n",
      "failed\n"
     ]
    },
    {
     "name": "stderr",
     "output_type": "stream",
     "text": [
      "2023-05-21 14:17:19,105 - INFO - RuntimeError: Intrinsic -0.02484275200000008. Time 0.015873016. Strike 1.024842752.\n"
     ]
    },
    {
     "name": "stdout",
     "output_type": "stream",
     "text": [
      "failed\n",
      "failed\n",
      "failed\n",
      "failed\n",
      "failed\n"
     ]
    },
    {
     "name": "stderr",
     "output_type": "stream",
     "text": [
      "2023-05-21 14:17:23,967 - INFO - RuntimeError: Intrinsic 0.06907181900000003. Time 0.003968254. Strike 0.930928181.\n"
     ]
    },
    {
     "name": "stdout",
     "output_type": "stream",
     "text": [
      "failed\n",
      "failed\n",
      "failed\n"
     ]
    },
    {
     "name": "stderr",
     "output_type": "stream",
     "text": [
      "2023-05-21 14:17:26,681 - INFO - RuntimeError: Intrinsic 0.09372439399999999. Time 0.047619048. Strike 0.906275606.\n"
     ]
    },
    {
     "name": "stdout",
     "output_type": "stream",
     "text": [
      "failed\n",
      "failed\n",
      "failed\n"
     ]
    },
    {
     "name": "stderr",
     "output_type": "stream",
     "text": [
      "2023-05-21 14:17:28,196 - INFO - RuntimeError: Intrinsic 0.016244872999999993. Time 0.154761905. Strike 0.983755127.\n"
     ]
    },
    {
     "name": "stdout",
     "output_type": "stream",
     "text": [
      "failed\n",
      "failed\n"
     ]
    },
    {
     "name": "stderr",
     "output_type": "stream",
     "text": [
      "2023-05-21 14:17:31,854 - INFO - RuntimeError: Intrinsic 0.05615856500000005. Time 0.226190476. Strike 0.943841435.\n",
      "2023-05-21 14:17:33,464 - INFO - RuntimeError: Intrinsic 0.12894235799999998. Time 0.05952381. Strike 0.871057642.\n"
     ]
    },
    {
     "name": "stdout",
     "output_type": "stream",
     "text": [
      "failed\n",
      "failed\n",
      "failed\n",
      "failed\n",
      "failed\n",
      "failed\n",
      "failed\n",
      "failed\n",
      "failed\n",
      "failed\n",
      "failed\n",
      "failed\n"
     ]
    },
    {
     "name": "stderr",
     "output_type": "stream",
     "text": [
      "2023-05-21 14:17:42,813 - INFO - RuntimeError: Intrinsic 0.132464154. Time 0.448253968. Strike 0.867535846.\n"
     ]
    },
    {
     "name": "stdout",
     "output_type": "stream",
     "text": [
      "failed\n"
     ]
    },
    {
     "name": "stderr",
     "output_type": "stream",
     "text": [
      "2023-05-21 14:17:45,024 - INFO - RuntimeError: Intrinsic 0.12542056099999999. Time 0.007936508. Strike 0.874579439.\n"
     ]
    },
    {
     "name": "stdout",
     "output_type": "stream",
     "text": [
      "failed\n",
      "failed\n",
      "failed\n",
      "failed\n",
      "failed\n",
      "failed\n",
      "failed\n",
      "failed\n",
      "failed\n",
      "failed\n",
      "failed\n",
      "failed\n",
      "failed\n",
      "failed\n",
      "failed\n",
      "failed\n",
      "failed\n",
      "failed\n",
      "failed\n",
      "failed\n",
      "failed\n",
      "failed\n",
      "failed\n",
      "failed\n",
      "failed\n",
      "failed\n",
      "failed\n",
      "failed\n"
     ]
    },
    {
     "name": "stderr",
     "output_type": "stream",
     "text": [
      "2023-05-21 14:18:12,979 - INFO - RuntimeError: Intrinsic -0.03775600500000009. Time 0.30952381. Strike 1.037756005.\n"
     ]
    },
    {
     "name": "stdout",
     "output_type": "stream",
     "text": [
      "failed\n",
      "failed\n",
      "failed\n",
      "failed\n",
      "failed\n",
      "failed\n",
      "failed\n",
      "failed\n",
      "failed\n",
      "failed\n",
      "failed\n",
      "failed\n",
      "failed\n",
      "failed\n",
      "failed\n",
      "failed\n",
      "failed\n",
      "failed\n",
      "failed\n",
      "failed\n"
     ]
    },
    {
     "name": "stderr",
     "output_type": "stream",
     "text": [
      "2023-05-21 14:18:31,713 - INFO - RuntimeError: Intrinsic 0.005679483999999957. Time 0.265873016. Strike 0.994320516.\n"
     ]
    },
    {
     "name": "stdout",
     "output_type": "stream",
     "text": [
      "failed\n",
      "failed\n",
      "failed\n",
      "failed\n"
     ]
    },
    {
     "name": "stderr",
     "output_type": "stream",
     "text": [
      "2023-05-21 14:18:35,438 - INFO - RuntimeError: Intrinsic -0.05419105499999999. Time 0.583333333. Strike 1.054191055.\n"
     ]
    },
    {
     "name": "stdout",
     "output_type": "stream",
     "text": [
      "failed\n",
      "failed\n",
      "failed\n",
      "failed\n",
      "failed\n",
      "failed\n"
     ]
    },
    {
     "name": "stderr",
     "output_type": "stream",
     "text": [
      "2023-05-21 14:18:38,606 - INFO - RuntimeError: Intrinsic 0.037375650999999954. Time 0.865238095. Strike 0.962624349.\n"
     ]
    },
    {
     "name": "stdout",
     "output_type": "stream",
     "text": [
      "failed\n"
     ]
    },
    {
     "name": "stderr",
     "output_type": "stream",
     "text": [
      "2023-05-21 14:18:40,591 - INFO - RuntimeError: Intrinsic 0.03620171900000002. Time 0.063492063. Strike 0.963798281.\n"
     ]
    },
    {
     "name": "stdout",
     "output_type": "stream",
     "text": [
      "failed\n",
      "failed\n",
      "failed\n",
      "failed\n",
      "failed\n",
      "failed\n"
     ]
    },
    {
     "name": "stderr",
     "output_type": "stream",
     "text": [
      "2023-05-21 14:18:44,097 - INFO - RuntimeError: Intrinsic 0.013897009000000016. Time 0.003968254. Strike 0.986102991.\n"
     ]
    },
    {
     "name": "stdout",
     "output_type": "stream",
     "text": [
      "failed\n",
      "failed\n",
      "failed\n",
      "failed\n"
     ]
    },
    {
     "name": "stderr",
     "output_type": "stream",
     "text": [
      "2023-05-21 14:18:49,747 - INFO - RuntimeError: Intrinsic 0.10194191900000005. Time 0.329365079. Strike 0.898058081.\n"
     ]
    },
    {
     "name": "stdout",
     "output_type": "stream",
     "text": [
      "failed\n",
      "failed\n",
      "failed\n",
      "failed\n",
      "failed\n",
      "failed\n",
      "failed\n",
      "failed\n"
     ]
    },
    {
     "name": "stderr",
     "output_type": "stream",
     "text": [
      "2023-05-21 14:19:00,149 - INFO - RuntimeError: Intrinsic -0.06827824100000002. Time 0.087301587. Strike 1.068278241.\n"
     ]
    },
    {
     "name": "stdout",
     "output_type": "stream",
     "text": [
      "failed\n",
      "failed\n",
      "failed\n"
     ]
    },
    {
     "name": "stderr",
     "output_type": "stream",
     "text": [
      "2023-05-21 14:19:03,815 - INFO - RuntimeError: Intrinsic 0.12424662900000005. Time 0.555396825. Strike 0.875753371.\n",
      "2023-05-21 14:19:06,226 - INFO - RuntimeError: Intrinsic -0.035408141000000004. Time 0.091269841. Strike 1.035408141.\n"
     ]
    },
    {
     "name": "stdout",
     "output_type": "stream",
     "text": [
      "failed\n",
      "failed\n",
      "failed\n",
      "failed\n",
      "failed\n",
      "failed\n",
      "failed\n",
      "failed\n",
      "failed\n",
      "failed\n",
      "failed\n",
      "failed\n"
     ]
    },
    {
     "name": "stderr",
     "output_type": "stream",
     "text": [
      "2023-05-21 14:19:16,863 - INFO - RuntimeError: Intrinsic -0.044799597999999996. Time 0.785714286. Strike 1.044799598.\n",
      "2023-05-21 14:19:18,585 - INFO - RuntimeError: Intrinsic -0.01662522700000002. Time 0.555555556. Strike 1.016625227.\n"
     ]
    },
    {
     "name": "stdout",
     "output_type": "stream",
     "text": [
      "failed\n",
      "failed\n",
      "failed\n",
      "failed\n",
      "failed\n",
      "failed\n",
      "failed\n",
      "failed\n",
      "failed\n",
      "failed\n",
      "failed\n"
     ]
    },
    {
     "name": "stderr",
     "output_type": "stream",
     "text": [
      "2023-05-21 14:19:30,175 - INFO - RuntimeError: Intrinsic -0.0800175620000001. Time 0.170634921. Strike 1.080017562.\n"
     ]
    },
    {
     "name": "stdout",
     "output_type": "stream",
     "text": [
      "failed\n"
     ]
    },
    {
     "name": "stderr",
     "output_type": "stream",
     "text": [
      "2023-05-21 14:19:31,620 - INFO - RuntimeError: Intrinsic 0.019766669000000014. Time 0.25. Strike 0.980233331.\n",
      "2023-05-21 14:19:32,270 - INFO - RuntimeError: Intrinsic 0.13129022199999996. Time 0.063492063. Strike 0.868709778.\n"
     ]
    },
    {
     "name": "stdout",
     "output_type": "stream",
     "text": [
      "failed\n"
     ]
    },
    {
     "name": "stderr",
     "output_type": "stream",
     "text": [
      "2023-05-21 14:19:34,494 - INFO - RuntimeError: Intrinsic 0.106637647. Time 0.154761905. Strike 0.893362353.\n"
     ]
    },
    {
     "name": "stdout",
     "output_type": "stream",
     "text": [
      "failed\n",
      "failed\n",
      "failed\n",
      "failed\n",
      "failed\n",
      "failed\n",
      "failed\n",
      "failed\n",
      "failed\n",
      "failed\n"
     ]
    },
    {
     "name": "stderr",
     "output_type": "stream",
     "text": [
      "2023-05-21 14:19:43,929 - INFO - RuntimeError: Intrinsic -0.09762654399999993. Time 0.650634921. Strike 1.097626544.\n"
     ]
    },
    {
     "name": "stdout",
     "output_type": "stream",
     "text": [
      "failed\n",
      "failed\n",
      "failed\n",
      "failed\n",
      "failed\n",
      "failed\n"
     ]
    },
    {
     "name": "stderr",
     "output_type": "stream",
     "text": [
      "2023-05-21 14:19:51,581 - INFO - RuntimeError: Intrinsic 0.06437609. Time 0.055555556. Strike 0.93562391.\n"
     ]
    },
    {
     "name": "stdout",
     "output_type": "stream",
     "text": [
      "failed\n"
     ]
    },
    {
     "name": "stderr",
     "output_type": "stream",
     "text": [
      "2023-05-21 14:19:56,597 - INFO - RuntimeError: Intrinsic 0.046767107999999946. Time 0.115079365. Strike 0.953232892.\n"
     ]
    },
    {
     "name": "stdout",
     "output_type": "stream",
     "text": [
      "failed\n",
      "failed\n",
      "failed\n",
      "failed\n",
      "failed\n",
      "failed\n",
      "failed\n",
      "failed\n",
      "failed\n",
      "failed\n",
      "failed\n",
      "failed\n",
      "failed\n",
      "failed\n",
      "failed\n",
      "failed\n"
     ]
    },
    {
     "name": "stderr",
     "output_type": "stream",
     "text": [
      "2023-05-21 14:20:13,441 - INFO - RuntimeError: Intrinsic -0.017799158999999953. Time 0.043650794. Strike 1.017799159.\n"
     ]
    },
    {
     "name": "stdout",
     "output_type": "stream",
     "text": [
      "failed\n",
      "failed\n",
      "failed\n",
      "failed\n",
      "failed\n",
      "failed\n",
      "failed\n",
      "failed\n",
      "failed\n",
      "failed\n",
      "failed\n",
      "failed\n",
      "failed\n",
      "failed\n",
      "failed\n",
      "failed\n",
      "failed\n"
     ]
    },
    {
     "name": "stderr",
     "output_type": "stream",
     "text": [
      "2023-05-21 14:20:25,389 - INFO - RuntimeError: Intrinsic 0.08198507200000005. Time 0.631111111. Strike 0.918014928.\n"
     ]
    },
    {
     "name": "stdout",
     "output_type": "stream",
     "text": [
      "failed\n",
      "failed\n",
      "failed\n",
      "0.7152564194263643\n",
      "failed\n",
      "failed\n",
      "failed\n",
      "failed\n",
      "failed\n",
      "failed\n",
      "failed\n",
      "failed\n",
      "failed\n",
      "failed\n",
      "failed\n"
     ]
    },
    {
     "name": "stderr",
     "output_type": "stream",
     "text": [
      "2023-05-21 14:20:32,895 - INFO - RuntimeError: Intrinsic -0.1034962049999999. Time 0.035714286. Strike 1.103496205.\n"
     ]
    },
    {
     "name": "stdout",
     "output_type": "stream",
     "text": [
      "failed\n",
      "failed\n",
      "failed\n",
      "failed\n",
      "failed\n",
      "failed\n",
      "failed\n",
      "failed\n"
     ]
    },
    {
     "name": "stderr",
     "output_type": "stream",
     "text": [
      "2023-05-21 14:20:44,010 - INFO - RuntimeError: Intrinsic -0.047147462000000084. Time 0.083333333. Strike 1.047147462.\n",
      "2023-05-21 14:20:47,905 - INFO - RuntimeError: Intrinsic 0.07494147900000003. Time 0.023809524. Strike 0.925058521.\n"
     ]
    },
    {
     "name": "stdout",
     "output_type": "stream",
     "text": [
      "failed\n",
      "failed\n",
      "failed\n"
     ]
    },
    {
     "name": "stderr",
     "output_type": "stream",
     "text": [
      "2023-05-21 14:20:54,232 - INFO - RuntimeError: Intrinsic -0.006059838000000095. Time 0.047619048. Strike 1.006059838.\n"
     ]
    },
    {
     "name": "stdout",
     "output_type": "stream",
     "text": [
      "failed\n"
     ]
    },
    {
     "name": "stderr",
     "output_type": "stream",
     "text": [
      "2023-05-21 14:20:55,429 - INFO - RuntimeError: Intrinsic 0.084332937. Time 0.01984127. Strike 0.915667063.\n",
      "2023-05-21 14:20:56,739 - INFO - RuntimeError: Intrinsic 0.049114973000000006. Time 0.23015873. Strike 0.950885027.\n"
     ]
    },
    {
     "name": "stdout",
     "output_type": "stream",
     "text": [
      "failed\n"
     ]
    },
    {
     "name": "stderr",
     "output_type": "stream",
     "text": [
      "2023-05-21 14:20:58,071 - INFO - RuntimeError: Intrinsic 0.008027348000000045. Time 0.015873016. Strike 0.991972652.\n"
     ]
    },
    {
     "name": "stdout",
     "output_type": "stream",
     "text": [
      "failed\n",
      "failed\n",
      "failed\n",
      "failed\n"
     ]
    },
    {
     "name": "stderr",
     "output_type": "stream",
     "text": [
      "2023-05-21 14:21:03,837 - INFO - RuntimeError: Intrinsic -0.06593037600000007. Time 0.007936508. Strike 1.065930376.\n"
     ]
    },
    {
     "name": "stdout",
     "output_type": "stream",
     "text": [
      "failed\n",
      "failed\n",
      "failed\n",
      "failed\n",
      "failed\n",
      "failed\n",
      "failed\n",
      "failed\n",
      "failed\n",
      "failed\n",
      "failed\n",
      "failed\n",
      "failed\n",
      "failed\n",
      "failed\n",
      "failed\n",
      "failed\n",
      "failed\n",
      "failed\n",
      "failed\n",
      "failed\n",
      "failed\n"
     ]
    },
    {
     "name": "stderr",
     "output_type": "stream",
     "text": [
      "2023-05-21 14:21:31,094 - INFO - RuntimeError: Intrinsic 0.14302954300000004. Time 0.075396825. Strike 0.856970457.\n"
     ]
    },
    {
     "name": "stdout",
     "output_type": "stream",
     "text": [
      "failed\n",
      "failed\n",
      "failed\n",
      "failed\n",
      "failed\n",
      "failed\n",
      "failed\n",
      "failed\n"
     ]
    },
    {
     "name": "stderr",
     "output_type": "stream",
     "text": [
      "2023-05-21 14:21:35,705 - INFO - RuntimeError: Intrinsic 0.07259361499999994. Time 0.107142857. Strike 0.927406385.\n"
     ]
    },
    {
     "name": "stdout",
     "output_type": "stream",
     "text": [
      "failed\n",
      "failed\n",
      "failed\n",
      "failed\n",
      "failed\n",
      "failed\n",
      "failed\n",
      "failed\n",
      "failed\n",
      "failed\n",
      "failed\n",
      "failed\n",
      "failed\n",
      "failed\n",
      "failed\n",
      "failed\n",
      "failed\n",
      "failed\n",
      "failed\n",
      "failed\n"
     ]
    },
    {
     "name": "stderr",
     "output_type": "stream",
     "text": [
      "2023-05-21 14:21:51,011 - INFO - RuntimeError: Intrinsic 0.07963720799999996. Time 0.170634921. Strike 0.920362792.\n"
     ]
    },
    {
     "name": "stdout",
     "output_type": "stream",
     "text": [
      "failed\n",
      "failed\n",
      "failed\n",
      "failed\n"
     ]
    },
    {
     "name": "stderr",
     "output_type": "stream",
     "text": [
      "2023-05-21 14:21:59,783 - INFO - RuntimeError: Intrinsic 0.029158126000000006. Time 0.218253968. Strike 0.970841874.\n"
     ]
    },
    {
     "name": "stdout",
     "output_type": "stream",
     "text": [
      "failed\n",
      "failed\n",
      "failed\n",
      "failed\n",
      "failed\n",
      "failed\n",
      "failed\n",
      "failed\n",
      "failed\n"
     ]
    },
    {
     "name": "stderr",
     "output_type": "stream",
     "text": [
      "2023-05-21 14:22:18,834 - INFO - RuntimeError: Intrinsic -0.11523552599999998. Time 0.432698413. Strike 1.115235526.\n",
      "2023-05-21 14:22:19,552 - INFO - RuntimeError: Intrinsic 0.12072483300000003. Time 0.05952381. Strike 0.879275167.\n"
     ]
    },
    {
     "name": "stdout",
     "output_type": "stream",
     "text": [
      "failed\n",
      "failed\n",
      "failed\n",
      "failed\n",
      "failed\n",
      "failed\n"
     ]
    },
    {
     "name": "stderr",
     "output_type": "stream",
     "text": [
      "2023-05-21 14:22:27,816 - INFO - RuntimeError: Intrinsic 0.13715988300000004. Time 0.083333333. Strike 0.862840117.\n"
     ]
    },
    {
     "name": "stdout",
     "output_type": "stream",
     "text": [
      "failed\n",
      "failed\n",
      "failed\n",
      "failed\n",
      "failed\n",
      "failed\n",
      "failed\n",
      "failed\n"
     ]
    },
    {
     "name": "stderr",
     "output_type": "stream",
     "text": [
      "2023-05-21 14:22:42,955 - INFO - RuntimeError: Intrinsic 0.07728934399999998. Time 0.571428571. Strike 0.922710656.\n"
     ]
    },
    {
     "name": "stdout",
     "output_type": "stream",
     "text": [
      "failed\n"
     ]
    },
    {
     "name": "stderr",
     "output_type": "stream",
     "text": [
      "2023-05-21 14:22:45,875 - INFO - RuntimeError: Intrinsic 0.013897009000000016. Time 0.095238095. Strike 0.986102991.\n"
     ]
    },
    {
     "name": "stdout",
     "output_type": "stream",
     "text": [
      "failed\n",
      "failed\n",
      "failed\n"
     ]
    },
    {
     "name": "stderr",
     "output_type": "stream",
     "text": [
      "2023-05-21 14:22:53,259 - INFO - RuntimeError: Intrinsic 0.010375212000000023. Time 0.119047619. Strike 0.989624788.\n"
     ]
    },
    {
     "name": "stdout",
     "output_type": "stream",
     "text": [
      "failed\n",
      "failed\n",
      "failed\n",
      "failed\n",
      "failed\n",
      "failed\n",
      "failed\n",
      "failed\n",
      "failed\n",
      "failed\n",
      "failed\n",
      "failed\n",
      "failed\n",
      "failed\n",
      "failed\n",
      "failed\n",
      "failed\n",
      "failed\n",
      "failed\n"
     ]
    },
    {
     "name": "stderr",
     "output_type": "stream",
     "text": [
      "2023-05-21 14:23:11,847 - INFO - RuntimeError: Intrinsic 0.06789788699999999. Time 0.206349206. Strike 0.932102113.\n"
     ]
    },
    {
     "name": "stdout",
     "output_type": "stream",
     "text": [
      "failed\n",
      "failed\n",
      "failed\n"
     ]
    },
    {
     "name": "stderr",
     "output_type": "stream",
     "text": [
      "2023-05-21 14:23:16,491 - INFO - RuntimeError: Intrinsic 0.09607225799999997. Time 0.194444444. Strike 0.903927742.\n"
     ]
    },
    {
     "name": "stdout",
     "output_type": "stream",
     "text": [
      "failed\n",
      "failed\n",
      "failed\n",
      "failed\n",
      "failed\n",
      "failed\n"
     ]
    },
    {
     "name": "stderr",
     "output_type": "stream",
     "text": [
      "2023-05-21 14:23:25,932 - INFO - RuntimeError: Intrinsic 0.12894235799999998. Time 0.162698413. Strike 0.871057642.\n"
     ]
    },
    {
     "name": "stdout",
     "output_type": "stream",
     "text": [
      "failed\n",
      "failed\n",
      "failed\n",
      "failed\n",
      "failed\n",
      "failed\n"
     ]
    },
    {
     "name": "stderr",
     "output_type": "stream",
     "text": [
      "2023-05-21 14:23:35,166 - INFO - RuntimeError: Intrinsic -0.09175688299999996. Time 0.107142857. Strike 1.091756883.\n"
     ]
    },
    {
     "name": "stdout",
     "output_type": "stream",
     "text": [
      "failed\n",
      "failed\n",
      "failed\n",
      "failed\n",
      "failed\n"
     ]
    },
    {
     "name": "stderr",
     "output_type": "stream",
     "text": [
      "2023-05-21 14:23:41,869 - INFO - RuntimeError: Intrinsic 0.04794103999999999. Time 0.111111111. Strike 0.95205896.\n"
     ]
    },
    {
     "name": "stdout",
     "output_type": "stream",
     "text": [
      "failed\n",
      "failed\n",
      "failed\n",
      "failed\n",
      "failed\n",
      "failed\n",
      "failed\n",
      "failed\n"
     ]
    },
    {
     "name": "stderr",
     "output_type": "stream",
     "text": [
      "2023-05-21 14:23:50,218 - INFO - RuntimeError: Intrinsic -0.023668819999999924. Time 0.26984127. Strike 1.02366882.\n"
     ]
    },
    {
     "name": "stdout",
     "output_type": "stream",
     "text": [
      "failed\n"
     ]
    },
    {
     "name": "stderr",
     "output_type": "stream",
     "text": [
      "2023-05-21 14:23:53,496 - INFO - RuntimeError: Intrinsic 0.029158126000000006. Time 0.103174603. Strike 0.970841874.\n"
     ]
    },
    {
     "name": "stdout",
     "output_type": "stream",
     "text": [
      "failed\n"
     ]
    },
    {
     "name": "stderr",
     "output_type": "stream",
     "text": [
      "2023-05-21 14:23:54,655 - INFO - RuntimeError: Intrinsic 0.06672395499999995. Time 0.432698413. Strike 0.933276045.\n"
     ]
    },
    {
     "name": "stdout",
     "output_type": "stream",
     "text": [
      "failed\n",
      "failed\n",
      "failed\n",
      "failed\n",
      "failed\n",
      "failed\n",
      "failed\n",
      "failed\n",
      "failed\n"
     ]
    },
    {
     "name": "stderr",
     "output_type": "stream",
     "text": [
      "2023-05-21 14:24:01,918 - INFO - RuntimeError: Intrinsic -0.027190615999999945. Time 0.007936508. Strike 1.027190616.\n"
     ]
    },
    {
     "name": "stdout",
     "output_type": "stream",
     "text": [
      "failed\n"
     ]
    },
    {
     "name": "stderr",
     "output_type": "stream",
     "text": [
      "2023-05-21 14:24:03,664 - INFO - RuntimeError: Intrinsic 0.054984633000000005. Time 0.123015873. Strike 0.945015367.\n"
     ]
    },
    {
     "name": "stdout",
     "output_type": "stream",
     "text": [
      "failed\n",
      "failed\n",
      "failed\n",
      "failed\n"
     ]
    },
    {
     "name": "stderr",
     "output_type": "stream",
     "text": [
      "2023-05-21 14:24:09,005 - INFO - RuntimeError: Intrinsic -0.0518431909999999. Time 0.015873016. Strike 1.051843191.\n"
     ]
    },
    {
     "name": "stdout",
     "output_type": "stream",
     "text": [
      "failed\n",
      "failed\n",
      "failed\n",
      "failed\n",
      "failed\n",
      "failed\n",
      "0.7629401807214553\n"
     ]
    },
    {
     "name": "stderr",
     "output_type": "stream",
     "text": [
      "2023-05-21 14:24:16,553 - INFO - RuntimeError: Intrinsic -0.009581633999999895. Time 0.924444444. Strike 1.009581634.\n"
     ]
    },
    {
     "name": "stdout",
     "output_type": "stream",
     "text": [
      "failed\n",
      "failed\n"
     ]
    },
    {
     "name": "stderr",
     "output_type": "stream",
     "text": [
      "2023-05-21 14:24:18,588 - INFO - RuntimeError: Intrinsic -0.0283645480000001. Time 0.091269841. Strike 1.028364548.\n"
     ]
    },
    {
     "name": "stdout",
     "output_type": "stream",
     "text": [
      "failed\n",
      "failed\n",
      "failed\n",
      "failed\n",
      "failed\n",
      "failed\n",
      "failed\n",
      "failed\n",
      "failed\n"
     ]
    },
    {
     "name": "stderr",
     "output_type": "stream",
     "text": [
      "2023-05-21 14:24:28,030 - INFO - RuntimeError: Intrinsic 0.08668080099999997. Time 0.055555556. Strike 0.913319199.\n"
     ]
    },
    {
     "name": "stdout",
     "output_type": "stream",
     "text": [
      "failed\n",
      "failed\n",
      "failed\n",
      "failed\n",
      "failed\n"
     ]
    },
    {
     "name": "stderr",
     "output_type": "stream",
     "text": [
      "2023-05-21 14:24:35,257 - INFO - RuntimeError: Intrinsic 0.05028890500000005. Time 0.031746032. Strike 0.949711095.\n"
     ]
    },
    {
     "name": "stdout",
     "output_type": "stream",
     "text": [
      "failed\n",
      "failed\n",
      "failed\n",
      "failed\n",
      "failed\n",
      "failed\n",
      "failed\n",
      "failed\n",
      "failed\n",
      "failed\n",
      "failed\n",
      "failed\n",
      "failed\n"
     ]
    },
    {
     "name": "stderr",
     "output_type": "stream",
     "text": [
      "2023-05-21 14:24:45,267 - INFO - RuntimeError: Intrinsic 0.049114973000000006. Time 0.202380952. Strike 0.950885027.\n"
     ]
    },
    {
     "name": "stdout",
     "output_type": "stream",
     "text": [
      "failed\n",
      "failed\n",
      "failed\n",
      "failed\n",
      "failed\n"
     ]
    },
    {
     "name": "stderr",
     "output_type": "stream",
     "text": [
      "2023-05-21 14:24:50,017 - INFO - RuntimeError: Intrinsic 0.10076798600000003. Time 0.388730159. Strike 0.899232014.\n"
     ]
    },
    {
     "name": "stdout",
     "output_type": "stream",
     "text": [
      "failed\n",
      "failed\n"
     ]
    },
    {
     "name": "stderr",
     "output_type": "stream",
     "text": [
      "2023-05-21 14:24:53,234 - INFO - RuntimeError: Intrinsic -0.04245173399999991. Time 0.396825397. Strike 1.042451734.\n"
     ]
    },
    {
     "name": "stdout",
     "output_type": "stream",
     "text": [
      "failed\n",
      "failed\n",
      "failed\n",
      "failed\n",
      "failed\n",
      "failed\n",
      "failed\n",
      "failed\n",
      "failed\n",
      "failed\n",
      "failed\n",
      "failed\n",
      "failed\n",
      "failed\n",
      "failed\n",
      "failed\n",
      "failed\n"
     ]
    },
    {
     "name": "stderr",
     "output_type": "stream",
     "text": [
      "2023-05-21 14:25:11,311 - INFO - RuntimeError: Intrinsic -0.13284450800000003. Time 0.976349206. Strike 1.132844508.\n"
     ]
    },
    {
     "name": "stdout",
     "output_type": "stream",
     "text": [
      "failed\n",
      "failed\n",
      "failed\n",
      "failed\n"
     ]
    },
    {
     "name": "stderr",
     "output_type": "stream",
     "text": [
      "2023-05-21 14:25:15,989 - INFO - RuntimeError: Intrinsic 0.13715988300000004. Time 0.472222222. Strike 0.862840117.\n"
     ]
    },
    {
     "name": "stdout",
     "output_type": "stream",
     "text": [
      "failed\n",
      "failed\n",
      "failed\n"
     ]
    },
    {
     "name": "stderr",
     "output_type": "stream",
     "text": [
      "2023-05-21 14:25:17,912 - INFO - RuntimeError: Intrinsic -0.0283645480000001. Time 0.01984127. Strike 1.028364548.\n"
     ]
    },
    {
     "name": "stdout",
     "output_type": "stream",
     "text": [
      "failed\n",
      "failed\n",
      "failed\n"
     ]
    },
    {
     "name": "stderr",
     "output_type": "stream",
     "text": [
      "2023-05-21 14:25:24,325 - INFO - RuntimeError: Intrinsic 0.008027348000000045. Time 0.051587302. Strike 0.991972652.\n",
      "2023-05-21 14:25:26,508 - INFO - RuntimeError: Intrinsic -0.00019017699999990256. Time 0.099206349. Strike 1.000190177.\n"
     ]
    },
    {
     "name": "stdout",
     "output_type": "stream",
     "text": [
      "failed\n",
      "failed\n",
      "failed\n",
      "failed\n",
      "failed\n"
     ]
    },
    {
     "name": "stderr",
     "output_type": "stream",
     "text": [
      "2023-05-21 14:25:30,135 - INFO - RuntimeError: Intrinsic -0.009581633999999895. Time 0.805555556. Strike 1.009581634.\n",
      "2023-05-21 14:25:31,330 - INFO - RuntimeError: Intrinsic 0.07728934399999998. Time 0.222222222. Strike 0.922710656.\n"
     ]
    },
    {
     "name": "stdout",
     "output_type": "stream",
     "text": [
      "failed\n",
      "failed\n",
      "failed\n"
     ]
    },
    {
     "name": "stderr",
     "output_type": "stream",
     "text": [
      "2023-05-21 14:25:33,802 - INFO - RuntimeError: Intrinsic 0.025636329999999985. Time 0.428571429. Strike 0.97436367.\n"
     ]
    },
    {
     "name": "stdout",
     "output_type": "stream",
     "text": [
      "failed\n"
     ]
    },
    {
     "name": "stderr",
     "output_type": "stream",
     "text": [
      "2023-05-21 14:25:36,036 - INFO - RuntimeError: Intrinsic 0.029158126000000006. Time 0.360952381. Strike 0.970841874.\n"
     ]
    },
    {
     "name": "stdout",
     "output_type": "stream",
     "text": [
      "failed\n",
      "failed\n",
      "failed\n",
      "failed\n",
      "failed\n",
      "failed\n",
      "failed\n",
      "failed\n",
      "failed\n",
      "failed\n",
      "failed\n",
      "failed\n",
      "failed\n",
      "failed\n",
      "failed\n",
      "failed\n",
      "failed\n"
     ]
    },
    {
     "name": "stderr",
     "output_type": "stream",
     "text": [
      "2023-05-21 14:25:52,119 - INFO - RuntimeError: Intrinsic 0.084332937. Time 0.111111111. Strike 0.915667063.\n"
     ]
    },
    {
     "name": "stdout",
     "output_type": "stream",
     "text": [
      "failed\n"
     ]
    },
    {
     "name": "stderr",
     "output_type": "stream",
     "text": [
      "2023-05-21 14:25:53,000 - INFO - RuntimeError: Intrinsic 0.04207137999999999. Time 0.035714286. Strike 0.95792862.\n"
     ]
    },
    {
     "name": "stdout",
     "output_type": "stream",
     "text": [
      "failed\n",
      "failed\n",
      "failed\n",
      "failed\n",
      "failed\n",
      "failed\n",
      "failed\n",
      "failed\n",
      "failed\n",
      "failed\n",
      "failed\n",
      "failed\n",
      "failed\n",
      "failed\n",
      "failed\n",
      "failed\n",
      "failed\n",
      "failed\n",
      "failed\n",
      "failed\n"
     ]
    },
    {
     "name": "stderr",
     "output_type": "stream",
     "text": [
      "2023-05-21 14:26:10,825 - INFO - RuntimeError: Intrinsic 0.06202822600000002. Time 0.087301587. Strike 0.937971774.\n"
     ]
    },
    {
     "name": "stdout",
     "output_type": "stream",
     "text": [
      "failed\n",
      "failed\n",
      "failed\n",
      "failed\n",
      "failed\n",
      "failed\n"
     ]
    },
    {
     "name": "stderr",
     "output_type": "stream",
     "text": [
      "2023-05-21 14:26:27,448 - INFO - RuntimeError: Intrinsic 0.13363808600000004. Time 0.46031746. Strike 0.866361914.\n"
     ]
    },
    {
     "name": "stdout",
     "output_type": "stream",
     "text": [
      "failed\n",
      "failed\n",
      "failed\n"
     ]
    },
    {
     "name": "stderr",
     "output_type": "stream",
     "text": [
      "2023-05-21 14:26:31,753 - INFO - RuntimeError: Intrinsic -0.041277801999999975. Time 0.01984127. Strike 1.041277802.\n"
     ]
    },
    {
     "name": "stdout",
     "output_type": "stream",
     "text": [
      "failed\n",
      "failed\n",
      "failed\n",
      "failed\n",
      "failed\n",
      "failed\n",
      "failed\n",
      "failed\n",
      "failed\n",
      "failed\n",
      "failed\n",
      "failed\n",
      "failed\n",
      "failed\n"
     ]
    },
    {
     "name": "stderr",
     "output_type": "stream",
     "text": [
      "2023-05-21 14:26:45,549 - INFO - RuntimeError: Intrinsic -0.050669258999999967. Time 0.483968254. Strike 1.050669259.\n"
     ]
    },
    {
     "name": "stdout",
     "output_type": "stream",
     "text": [
      "failed\n",
      "failed\n",
      "failed\n",
      "failed\n",
      "failed\n",
      "failed\n",
      "failed\n",
      "failed\n",
      "failed\n",
      "failed\n",
      "failed\n",
      "failed\n",
      "failed\n",
      "failed\n",
      "failed\n",
      "failed\n",
      "failed\n",
      "failed\n",
      "failed\n",
      "failed\n",
      "failed\n"
     ]
    },
    {
     "name": "stderr",
     "output_type": "stream",
     "text": [
      "2023-05-21 14:27:12,806 - INFO - RuntimeError: Intrinsic 0.04441924399999997. Time 0.027777778. Strike 0.955580756.\n"
     ]
    },
    {
     "name": "stdout",
     "output_type": "stream",
     "text": [
      "failed\n",
      "failed\n",
      "failed\n",
      "failed\n",
      "failed\n",
      "failed\n"
     ]
    },
    {
     "name": "stderr",
     "output_type": "stream",
     "text": [
      "2023-05-21 14:27:18,077 - INFO - RuntimeError: Intrinsic 0.12542056099999999. Time 0.23015873. Strike 0.874579439.\n"
     ]
    },
    {
     "name": "stdout",
     "output_type": "stream",
     "text": [
      "failed\n",
      "failed\n",
      "failed\n",
      "failed\n",
      "failed\n",
      "failed\n",
      "failed\n",
      "failed\n",
      "failed\n",
      "failed\n",
      "failed\n",
      "failed\n",
      "failed\n",
      "failed\n"
     ]
    },
    {
     "name": "stderr",
     "output_type": "stream",
     "text": [
      "2023-05-21 14:27:42,343 - INFO - RuntimeError: Intrinsic -0.0283645480000001. Time 0.400793651. Strike 1.028364548.\n",
      "2023-05-21 14:27:43,565 - INFO - RuntimeError: Intrinsic -0.0706261050000001. Time 0.345396825. Strike 1.070626105.\n"
     ]
    },
    {
     "name": "stdout",
     "output_type": "stream",
     "text": [
      "failed\n",
      "failed\n",
      "failed\n",
      "failed\n",
      "failed\n",
      "failed\n",
      "0.8106239420165463\n"
     ]
    },
    {
     "name": "stderr",
     "output_type": "stream",
     "text": [
      "2023-05-21 14:27:52,927 - INFO - RuntimeError: Intrinsic 0.02681026200000003. Time 0.023809524. Strike 0.973189738.\n"
     ]
    },
    {
     "name": "stdout",
     "output_type": "stream",
     "text": [
      "failed\n"
     ]
    },
    {
     "name": "stderr",
     "output_type": "stream",
     "text": [
      "2023-05-21 14:27:57,565 - INFO - RuntimeError: Intrinsic -0.003711972999999924. Time 0.873174603. Strike 1.003711973.\n"
     ]
    },
    {
     "name": "stdout",
     "output_type": "stream",
     "text": [
      "failed\n",
      "failed\n",
      "failed\n"
     ]
    },
    {
     "name": "stderr",
     "output_type": "stream",
     "text": [
      "2023-05-21 14:28:01,366 - INFO - RuntimeError: Intrinsic -0.06358251199999998. Time 0.670634921. Strike 1.063582512.\n"
     ]
    },
    {
     "name": "stdout",
     "output_type": "stream",
     "text": [
      "failed\n",
      "failed\n",
      "failed\n",
      "failed\n",
      "failed\n",
      "failed\n",
      "failed\n",
      "failed\n",
      "failed\n",
      "failed\n",
      "failed\n"
     ]
    },
    {
     "name": "stderr",
     "output_type": "stream",
     "text": [
      "2023-05-21 14:28:18,239 - INFO - RuntimeError: Intrinsic -0.10114833999999995. Time 0.055555556. Strike 1.10114834.\n"
     ]
    },
    {
     "name": "stdout",
     "output_type": "stream",
     "text": [
      "failed\n",
      "failed\n",
      "failed\n",
      "failed\n",
      "failed\n",
      "failed\n",
      "failed\n",
      "failed\n",
      "failed\n",
      "failed\n",
      "failed\n"
     ]
    },
    {
     "name": "stderr",
     "output_type": "stream",
     "text": [
      "2023-05-21 14:28:32,643 - INFO - RuntimeError: Intrinsic -0.038929937000000026. Time 0.007936508. Strike 1.038929937.\n"
     ]
    },
    {
     "name": "stdout",
     "output_type": "stream",
     "text": [
      "failed\n",
      "failed\n"
     ]
    },
    {
     "name": "stderr",
     "output_type": "stream",
     "text": [
      "2023-05-21 14:28:37,484 - INFO - RuntimeError: Intrinsic -0.1034962049999999. Time 0.400793651. Strike 1.103496205.\n"
     ]
    },
    {
     "name": "stdout",
     "output_type": "stream",
     "text": [
      "failed\n",
      "failed\n",
      "failed\n",
      "failed\n",
      "failed\n",
      "failed\n",
      "failed\n",
      "failed\n",
      "failed\n",
      "failed\n",
      "failed\n",
      "failed\n",
      "failed\n",
      "failed\n",
      "failed\n"
     ]
    },
    {
     "name": "stderr",
     "output_type": "stream",
     "text": [
      "2023-05-21 14:28:53,404 - INFO - RuntimeError: Intrinsic -0.041277801999999975. Time 0.03968254. Strike 1.041277802.\n"
     ]
    },
    {
     "name": "stdout",
     "output_type": "stream",
     "text": [
      "failed\n",
      "failed\n",
      "failed\n",
      "failed\n",
      "failed\n",
      "failed\n",
      "failed\n",
      "failed\n",
      "failed\n",
      "failed\n",
      "failed\n",
      "failed\n",
      "failed\n",
      "failed\n",
      "failed\n"
     ]
    },
    {
     "name": "stderr",
     "output_type": "stream",
     "text": [
      "2023-05-21 14:29:04,317 - INFO - RuntimeError: Intrinsic 0.10781157900000005. Time 1.003809524. Strike 0.892188421.\n"
     ]
    },
    {
     "name": "stdout",
     "output_type": "stream",
     "text": [
      "failed\n",
      "failed\n",
      "failed\n",
      "failed\n",
      "failed\n",
      "failed\n",
      "failed\n",
      "failed\n",
      "failed\n",
      "failed\n",
      "failed\n",
      "failed\n",
      "failed\n",
      "failed\n",
      "failed\n",
      "failed\n",
      "failed\n",
      "failed\n"
     ]
    },
    {
     "name": "stderr",
     "output_type": "stream",
     "text": [
      "2023-05-21 14:29:33,036 - INFO - RuntimeError: Intrinsic -0.0283645480000001. Time 0.166666667. Strike 1.028364548.\n"
     ]
    },
    {
     "name": "stdout",
     "output_type": "stream",
     "text": [
      "failed\n",
      "failed\n",
      "failed\n",
      "failed\n",
      "failed\n",
      "failed\n",
      "failed\n",
      "failed\n",
      "failed\n",
      "failed\n"
     ]
    },
    {
     "name": "stderr",
     "output_type": "stream",
     "text": [
      "2023-05-21 14:29:41,675 - INFO - RuntimeError: Intrinsic 0.04089744799999995. Time 0.404603175. Strike 0.959102552.\n"
     ]
    },
    {
     "name": "stdout",
     "output_type": "stream",
     "text": [
      "failed\n",
      "failed\n",
      "failed\n",
      "failed\n",
      "failed\n",
      "failed\n",
      "failed\n",
      "failed\n"
     ]
    },
    {
     "name": "stderr",
     "output_type": "stream",
     "text": [
      "2023-05-21 14:29:52,565 - INFO - RuntimeError: Intrinsic 0.12307269700000001. Time 0.321428571. Strike 0.876927303.\n"
     ]
    },
    {
     "name": "stdout",
     "output_type": "stream",
     "text": [
      "failed\n",
      "failed\n",
      "failed\n",
      "failed\n",
      "failed\n",
      "failed\n",
      "failed\n",
      "failed\n",
      "failed\n",
      "failed\n",
      "failed\n",
      "failed\n"
     ]
    },
    {
     "name": "stderr",
     "output_type": "stream",
     "text": [
      "2023-05-21 14:30:04,707 - INFO - RuntimeError: Intrinsic 0.07494147900000003. Time 0.099206349. Strike 0.925058521.\n"
     ]
    },
    {
     "name": "stdout",
     "output_type": "stream",
     "text": [
      "failed\n",
      "failed\n",
      "failed\n",
      "failed\n",
      "failed\n",
      "failed\n",
      "failed\n"
     ]
    },
    {
     "name": "stderr",
     "output_type": "stream",
     "text": [
      "2023-05-21 14:30:13,445 - INFO - RuntimeError: Intrinsic 0.148899204. Time 0.087301587. Strike 0.851100796.\n"
     ]
    },
    {
     "name": "stdout",
     "output_type": "stream",
     "text": [
      "failed\n",
      "failed\n",
      "failed\n"
     ]
    },
    {
     "name": "stderr",
     "output_type": "stream",
     "text": [
      "2023-05-21 14:30:18,934 - INFO - RuntimeError: Intrinsic -0.04010387000000004. Time 0.03968254. Strike 1.04010387.\n"
     ]
    },
    {
     "name": "stdout",
     "output_type": "stream",
     "text": [
      "failed\n",
      "failed\n",
      "failed\n",
      "failed\n"
     ]
    },
    {
     "name": "stderr",
     "output_type": "stream",
     "text": [
      "2023-05-21 14:30:23,436 - INFO - RuntimeError: Intrinsic 0.023288466000000008. Time 0.206349206. Strike 0.976711534.\n"
     ]
    },
    {
     "name": "stdout",
     "output_type": "stream",
     "text": [
      "failed\n",
      "failed\n",
      "failed\n",
      "failed\n",
      "failed\n",
      "failed\n",
      "failed\n",
      "failed\n",
      "failed\n",
      "failed\n",
      "failed\n",
      "failed\n",
      "failed\n",
      "failed\n",
      "failed\n",
      "failed\n",
      "failed\n"
     ]
    },
    {
     "name": "stderr",
     "output_type": "stream",
     "text": [
      "2023-05-21 14:30:36,305 - INFO - RuntimeError: Intrinsic 0.03502778699999998. Time 0.166666667. Strike 0.964972213.\n"
     ]
    },
    {
     "name": "stdout",
     "output_type": "stream",
     "text": [
      "failed\n",
      "failed\n",
      "failed\n",
      "failed\n",
      "failed\n"
     ]
    },
    {
     "name": "stderr",
     "output_type": "stream",
     "text": [
      "2023-05-21 14:30:39,435 - INFO - RuntimeError: Intrinsic 0.106637647. Time 0.123015873. Strike 0.893362353.\n"
     ]
    },
    {
     "name": "stdout",
     "output_type": "stream",
     "text": [
      "failed\n",
      "failed\n"
     ]
    },
    {
     "name": "stderr",
     "output_type": "stream",
     "text": [
      "2023-05-21 14:30:42,980 - INFO - RuntimeError: Intrinsic -0.03658207299999994. Time 0.099206349. Strike 1.036582073.\n"
     ]
    },
    {
     "name": "stdout",
     "output_type": "stream",
     "text": [
      "failed\n",
      "failed\n"
     ]
    },
    {
     "name": "stderr",
     "output_type": "stream",
     "text": [
      "2023-05-21 14:30:46,094 - INFO - RuntimeError: Intrinsic 0.12424662900000005. Time 0.055555556. Strike 0.875753371.\n"
     ]
    },
    {
     "name": "stdout",
     "output_type": "stream",
     "text": [
      "failed\n",
      "failed\n",
      "failed\n",
      "failed\n",
      "failed\n"
     ]
    },
    {
     "name": "stderr",
     "output_type": "stream",
     "text": [
      "2023-05-21 14:30:51,371 - INFO - RuntimeError: Intrinsic -0.002538040999999991. Time 0.150793651. Strike 1.002538041.\n"
     ]
    },
    {
     "name": "stdout",
     "output_type": "stream",
     "text": [
      "failed\n",
      "failed\n",
      "failed\n",
      "failed\n",
      "failed\n",
      "failed\n",
      "failed\n",
      "failed\n",
      "failed\n",
      "failed\n",
      "failed\n",
      "failed\n",
      "failed\n",
      "failed\n",
      "failed\n",
      "failed\n",
      "failed\n",
      "failed\n",
      "failed\n"
     ]
    },
    {
     "name": "stderr",
     "output_type": "stream",
     "text": [
      "2023-05-21 14:31:10,205 - INFO - RuntimeError: Intrinsic 0.004505552000000024. Time 0.015873016. Strike 0.995494448.\n"
     ]
    },
    {
     "name": "stdout",
     "output_type": "stream",
     "text": [
      "failed\n",
      "failed\n",
      "failed\n",
      "failed\n",
      "failed\n",
      "failed\n",
      "failed\n",
      "failed\n",
      "failed\n",
      "failed\n",
      "failed\n",
      "failed\n",
      "failed\n",
      "failed\n",
      "failed\n",
      "failed\n",
      "failed\n",
      "failed\n",
      "failed\n",
      "0.8583077033116372\n",
      "failed\n",
      "failed\n",
      "failed\n",
      "failed\n"
     ]
    },
    {
     "name": "stderr",
     "output_type": "stream",
     "text": [
      "2023-05-21 14:31:44,804 - INFO - RuntimeError: Intrinsic 0.07024575099999997. Time 0.142857143. Strike 0.929754249.\n"
     ]
    },
    {
     "name": "stdout",
     "output_type": "stream",
     "text": [
      "failed\n",
      "failed\n"
     ]
    },
    {
     "name": "stderr",
     "output_type": "stream",
     "text": [
      "2023-05-21 14:31:49,002 - INFO - RuntimeError: Intrinsic 0.12659449300000003. Time 0.337301587. Strike 0.873405507.\n"
     ]
    },
    {
     "name": "stdout",
     "output_type": "stream",
     "text": [
      "failed\n",
      "failed\n"
     ]
    },
    {
     "name": "stderr",
     "output_type": "stream",
     "text": [
      "2023-05-21 14:31:51,454 - INFO - RuntimeError: Intrinsic 0.08081114. Time 0.091269841. Strike 0.91918886.\n"
     ]
    },
    {
     "name": "stdout",
     "output_type": "stream",
     "text": [
      "failed\n",
      "failed\n",
      "failed\n",
      "failed\n",
      "failed\n",
      "failed\n",
      "failed\n",
      "failed\n",
      "failed\n",
      "failed\n",
      "failed\n",
      "failed\n",
      "failed\n",
      "failed\n",
      "failed\n",
      "failed\n",
      "failed\n",
      "failed\n",
      "failed\n",
      "failed\n",
      "failed\n",
      "failed\n"
     ]
    },
    {
     "name": "stderr",
     "output_type": "stream",
     "text": [
      "2023-05-21 14:32:07,360 - INFO - RuntimeError: Intrinsic 0.009201279999999978. Time 0.047619048. Strike 0.99079872.\n"
     ]
    },
    {
     "name": "stdout",
     "output_type": "stream",
     "text": [
      "failed\n"
     ]
    },
    {
     "name": "stderr",
     "output_type": "stream",
     "text": [
      "2023-05-21 14:32:10,445 - INFO - RuntimeError: Intrinsic 0.07376754699999999. Time 0.027777778. Strike 0.926232453.\n"
     ]
    },
    {
     "name": "stdout",
     "output_type": "stream",
     "text": [
      "failed\n"
     ]
    },
    {
     "name": "stderr",
     "output_type": "stream",
     "text": [
      "2023-05-21 14:32:12,886 - INFO - RuntimeError: Intrinsic -0.05771285200000009. Time 0.111111111. Strike 1.057712852.\n"
     ]
    },
    {
     "name": "stdout",
     "output_type": "stream",
     "text": [
      "failed\n",
      "failed\n",
      "failed\n",
      "failed\n",
      "failed\n",
      "failed\n",
      "failed\n",
      "failed\n",
      "failed\n",
      "failed\n",
      "failed\n",
      "failed\n",
      "failed\n",
      "failed\n",
      "failed\n",
      "failed\n",
      "failed\n",
      "failed\n",
      "failed\n",
      "failed\n",
      "failed\n",
      "failed\n",
      "failed\n",
      "failed\n",
      "failed\n",
      "failed\n",
      "failed\n",
      "failed\n"
     ]
    },
    {
     "name": "stderr",
     "output_type": "stream",
     "text": [
      "2023-05-21 14:32:34,328 - INFO - RuntimeError: Intrinsic 0.09372439399999999. Time 0.079365079. Strike 0.906275606.\n",
      "2023-05-21 14:32:36,594 - INFO - RuntimeError: Intrinsic 0.11955090099999999. Time 0.071428571. Strike 0.880449099.\n"
     ]
    },
    {
     "name": "stdout",
     "output_type": "stream",
     "text": [
      "failed\n",
      "failed\n",
      "failed\n",
      "failed\n",
      "failed\n",
      "failed\n",
      "failed\n",
      "failed\n"
     ]
    },
    {
     "name": "stderr",
     "output_type": "stream",
     "text": [
      "2023-05-21 14:32:43,802 - INFO - RuntimeError: Intrinsic -0.05419105499999999. Time 0.075396825. Strike 1.054191055.\n"
     ]
    },
    {
     "name": "stdout",
     "output_type": "stream",
     "text": [
      "failed\n",
      "failed\n",
      "failed\n"
     ]
    },
    {
     "name": "stderr",
     "output_type": "stream",
     "text": [
      "2023-05-21 14:32:46,669 - INFO - RuntimeError: Intrinsic -0.09175688299999996. Time 0.03968254. Strike 1.091756883.\n"
     ]
    },
    {
     "name": "stdout",
     "output_type": "stream",
     "text": [
      "failed\n",
      "failed\n",
      "failed\n"
     ]
    },
    {
     "name": "stderr",
     "output_type": "stream",
     "text": [
      "2023-05-21 14:32:48,749 - INFO - RuntimeError: Intrinsic -0.12697484700000006. Time 0.511904762. Strike 1.126974847.\n",
      "2023-05-21 14:32:51,450 - INFO - RuntimeError: Intrinsic -0.050669258999999967. Time 0.821587302. Strike 1.050669259.\n"
     ]
    },
    {
     "name": "stdout",
     "output_type": "stream",
     "text": [
      "failed\n",
      "failed\n",
      "failed\n",
      "failed\n",
      "failed\n",
      "failed\n",
      "failed\n",
      "failed\n",
      "failed\n",
      "failed\n",
      "failed\n",
      "failed\n",
      "failed\n",
      "failed\n",
      "failed\n",
      "failed\n",
      "failed\n",
      "failed\n",
      "failed\n",
      "failed\n",
      "failed\n",
      "failed\n",
      "failed\n",
      "failed\n",
      "failed\n",
      "failed\n",
      "failed\n",
      "failed\n",
      "failed\n",
      "failed\n",
      "failed\n",
      "failed\n",
      "failed\n",
      "failed\n",
      "failed\n",
      "failed\n",
      "failed\n"
     ]
    },
    {
     "name": "stderr",
     "output_type": "stream",
     "text": [
      "2023-05-21 14:33:11,831 - INFO - RuntimeError: Intrinsic 0.08198507200000005. Time 0.015873016. Strike 0.918014928.\n"
     ]
    },
    {
     "name": "stdout",
     "output_type": "stream",
     "text": [
      "failed\n",
      "failed\n",
      "failed\n"
     ]
    },
    {
     "name": "stderr",
     "output_type": "stream",
     "text": [
      "2023-05-21 14:33:13,625 - INFO - RuntimeError: Intrinsic 0.09489832600000003. Time 0.146825397. Strike 0.905101674.\n"
     ]
    },
    {
     "name": "stdout",
     "output_type": "stream",
     "text": [
      "failed\n",
      "failed\n",
      "failed\n",
      "failed\n",
      "failed\n",
      "failed\n",
      "failed\n",
      "failed\n",
      "failed\n",
      "failed\n",
      "failed\n",
      "failed\n"
     ]
    },
    {
     "name": "stderr",
     "output_type": "stream",
     "text": [
      "2023-05-21 14:33:26,282 - INFO - RuntimeError: Intrinsic -0.041277801999999975. Time 0.007936508. Strike 1.041277802.\n"
     ]
    },
    {
     "name": "stdout",
     "output_type": "stream",
     "text": [
      "failed\n",
      "failed\n",
      "failed\n",
      "failed\n",
      "failed\n",
      "failed\n",
      "failed\n",
      "failed\n",
      "failed\n",
      "failed\n",
      "failed\n",
      "failed\n",
      "failed\n"
     ]
    },
    {
     "name": "stderr",
     "output_type": "stream",
     "text": [
      "2023-05-21 14:33:36,705 - INFO - RuntimeError: Intrinsic -0.08588722300000007. Time 0.198412698. Strike 1.085887223.\n"
     ]
    },
    {
     "name": "stdout",
     "output_type": "stream",
     "text": [
      "failed\n",
      "failed\n",
      "failed\n",
      "failed\n",
      "failed\n"
     ]
    },
    {
     "name": "stderr",
     "output_type": "stream",
     "text": [
      "2023-05-21 14:33:39,954 - INFO - RuntimeError: Intrinsic 0.027984193999999962. Time 0.083333333. Strike 0.972015806.\n"
     ]
    },
    {
     "name": "stdout",
     "output_type": "stream",
     "text": [
      "failed\n",
      "failed\n",
      "failed\n",
      "failed\n",
      "failed\n",
      "failed\n",
      "failed\n",
      "failed\n",
      "failed\n",
      "failed\n",
      "failed\n",
      "failed\n",
      "failed\n",
      "failed\n",
      "failed\n",
      "failed\n",
      "failed\n",
      "failed\n",
      "failed\n",
      "failed\n",
      "failed\n",
      "failed\n"
     ]
    },
    {
     "name": "stderr",
     "output_type": "stream",
     "text": [
      "2023-05-21 14:34:04,254 - INFO - RuntimeError: Intrinsic 0.024462398000000052. Time 0.051587302. Strike 0.975537602.\n"
     ]
    },
    {
     "name": "stdout",
     "output_type": "stream",
     "text": [
      "failed\n",
      "failed\n",
      "failed\n",
      "failed\n",
      "failed\n"
     ]
    },
    {
     "name": "stderr",
     "output_type": "stream",
     "text": [
      "2023-05-21 14:34:07,238 - INFO - RuntimeError: Intrinsic 0.019766669000000014. Time 0.023809524. Strike 0.980233331.\n"
     ]
    },
    {
     "name": "stdout",
     "output_type": "stream",
     "text": [
      "failed\n",
      "failed\n",
      "failed\n",
      "failed\n",
      "failed\n",
      "failed\n",
      "failed\n",
      "failed\n",
      "failed\n",
      "failed\n",
      "failed\n",
      "failed\n",
      "failed\n",
      "failed\n",
      "failed\n",
      "failed\n",
      "failed\n",
      "failed\n",
      "failed\n",
      "failed\n",
      "failed\n",
      "failed\n",
      "failed\n",
      "failed\n"
     ]
    },
    {
     "name": "stderr",
     "output_type": "stream",
     "text": [
      "2023-05-21 14:34:35,171 - INFO - RuntimeError: Intrinsic 0.01859273699999997. Time 0.432698413. Strike 0.981407263.\n"
     ]
    },
    {
     "name": "stdout",
     "output_type": "stream",
     "text": [
      "failed\n",
      "failed\n",
      "failed\n",
      "failed\n",
      "failed\n",
      "failed\n",
      "failed\n",
      "failed\n",
      "failed\n",
      "failed\n"
     ]
    },
    {
     "name": "stderr",
     "output_type": "stream",
     "text": [
      "2023-05-21 14:34:43,923 - INFO - RuntimeError: Intrinsic 0.13833381499999997. Time 0.083333333. Strike 0.861666185.\n"
     ]
    },
    {
     "name": "stdout",
     "output_type": "stream",
     "text": [
      "failed\n"
     ]
    },
    {
     "name": "stderr",
     "output_type": "stream",
     "text": [
      "2023-05-21 14:34:45,205 - INFO - RuntimeError: Intrinsic 0.049114973000000006. Time 0.559365079. Strike 0.950885027.\n",
      "2023-05-21 14:34:46,405 - INFO - RuntimeError: Intrinsic 0.14068167899999995. Time 0.170634921. Strike 0.859318321.\n",
      "2023-05-21 14:34:46,820 - INFO - RuntimeError: Intrinsic -0.12697484700000006. Time 0.05952381. Strike 1.126974847.\n"
     ]
    },
    {
     "name": "stdout",
     "output_type": "stream",
     "text": [
      "failed\n",
      "failed\n"
     ]
    },
    {
     "name": "stderr",
     "output_type": "stream",
     "text": [
      "2023-05-21 14:34:51,286 - INFO - RuntimeError: Intrinsic -0.09762654399999993. Time 0.05952381. Strike 1.097626544.\n"
     ]
    },
    {
     "name": "stdout",
     "output_type": "stream",
     "text": [
      "failed\n",
      "failed\n",
      "failed\n",
      "failed\n",
      "failed\n",
      "failed\n",
      "failed\n",
      "failed\n",
      "failed\n",
      "failed\n",
      "failed\n",
      "failed\n",
      "failed\n",
      "failed\n"
     ]
    },
    {
     "name": "stderr",
     "output_type": "stream",
     "text": [
      "2023-05-21 14:35:05,044 - INFO - RuntimeError: Intrinsic 0.09137652900000004. Time 0.587142857. Strike 0.908623471.\n"
     ]
    },
    {
     "name": "stdout",
     "output_type": "stream",
     "text": [
      "failed\n"
     ]
    },
    {
     "name": "stderr",
     "output_type": "stream",
     "text": [
      "2023-05-21 14:35:06,949 - INFO - RuntimeError: Intrinsic -0.021320954999999975. Time 0.983968254. Strike 1.021320955.\n"
     ]
    },
    {
     "name": "stdout",
     "output_type": "stream",
     "text": [
      "failed\n",
      "failed\n",
      "failed\n",
      "failed\n",
      "failed\n",
      "failed\n",
      "failed\n",
      "failed\n"
     ]
    },
    {
     "name": "stderr",
     "output_type": "stream",
     "text": [
      "2023-05-21 14:35:13,306 - INFO - RuntimeError: Intrinsic 0.09489832600000003. Time 0.297619048. Strike 0.905101674.\n"
     ]
    },
    {
     "name": "stdout",
     "output_type": "stream",
     "text": [
      "failed\n",
      "0.9059914646067282\n",
      "failed\n",
      "failed\n",
      "failed\n",
      "failed\n",
      "failed\n",
      "failed\n",
      "failed\n",
      "failed\n",
      "failed\n",
      "failed\n",
      "failed\n",
      "failed\n",
      "failed\n",
      "failed\n",
      "failed\n",
      "failed\n",
      "failed\n",
      "failed\n",
      "failed\n",
      "failed\n",
      "failed\n",
      "failed\n",
      "failed\n",
      "failed\n",
      "failed\n",
      "failed\n",
      "failed\n",
      "failed\n",
      "failed\n",
      "failed\n",
      "failed\n",
      "failed\n",
      "failed\n",
      "failed\n",
      "failed\n",
      "failed\n",
      "failed\n",
      "failed\n",
      "failed\n",
      "failed\n",
      "failed\n",
      "failed\n",
      "failed\n",
      "failed\n",
      "failed\n"
     ]
    },
    {
     "name": "stderr",
     "output_type": "stream",
     "text": [
      "2023-05-21 14:35:57,026 - INFO - RuntimeError: Intrinsic 0.06320215799999995. Time 0.53952381. Strike 0.936797842.\n",
      "2023-05-21 14:35:59,585 - INFO - RuntimeError: Intrinsic 0.11485517199999995. Time 0.031746032. Strike 0.885144828.\n"
     ]
    },
    {
     "name": "stdout",
     "output_type": "stream",
     "text": [
      "failed\n",
      "failed\n",
      "failed\n",
      "failed\n",
      "failed\n",
      "failed\n",
      "failed\n",
      "failed\n",
      "failed\n",
      "failed\n",
      "failed\n",
      "failed\n",
      "failed\n",
      "failed\n",
      "failed\n",
      "failed\n",
      "failed\n",
      "failed\n",
      "failed\n",
      "failed\n",
      "failed\n",
      "failed\n",
      "failed\n",
      "failed\n",
      "failed\n",
      "failed\n"
     ]
    },
    {
     "name": "stderr",
     "output_type": "stream",
     "text": [
      "2023-05-21 14:36:18,761 - INFO - RuntimeError: Intrinsic 0.060854293999999975. Time 0.55952381. Strike 0.939145706.\n"
     ]
    },
    {
     "name": "stdout",
     "output_type": "stream",
     "text": [
      "failed\n",
      "failed\n",
      "failed\n",
      "failed\n"
     ]
    },
    {
     "name": "stderr",
     "output_type": "stream",
     "text": [
      "2023-05-21 14:36:20,794 - INFO - RuntimeError: Intrinsic 0.12307269700000001. Time 0.079365079. Strike 0.876927303.\n"
     ]
    },
    {
     "name": "stdout",
     "output_type": "stream",
     "text": [
      "failed\n",
      "failed\n",
      "failed\n",
      "failed\n",
      "failed\n",
      "failed\n",
      "failed\n",
      "failed\n",
      "failed\n"
     ]
    },
    {
     "name": "stderr",
     "output_type": "stream",
     "text": [
      "2023-05-21 14:36:31,204 - INFO - RuntimeError: Intrinsic 0.084332937. Time 0.214285714. Strike 0.915667063.\n"
     ]
    },
    {
     "name": "stdout",
     "output_type": "stream",
     "text": [
      "failed\n",
      "failed\n",
      "failed\n"
     ]
    },
    {
     "name": "stderr",
     "output_type": "stream",
     "text": [
      "2023-05-21 14:36:34,821 - INFO - RuntimeError: Intrinsic 0.009201279999999978. Time 0.103174603. Strike 0.99079872.\n"
     ]
    },
    {
     "name": "stdout",
     "output_type": "stream",
     "text": [
      "failed\n",
      "failed\n"
     ]
    },
    {
     "name": "stderr",
     "output_type": "stream",
     "text": [
      "2023-05-21 14:36:35,290 - INFO - RuntimeError: Intrinsic 0.010375212000000023. Time 0.007936508. Strike 0.989624788.\n"
     ]
    },
    {
     "name": "stdout",
     "output_type": "stream",
     "text": [
      "failed\n",
      "failed\n",
      "failed\n"
     ]
    },
    {
     "name": "stderr",
     "output_type": "stream",
     "text": [
      "2023-05-21 14:36:38,355 - INFO - RuntimeError: Intrinsic -0.00488590599999994. Time 0.369206349. Strike 1.004885906.\n"
     ]
    },
    {
     "name": "stdout",
     "output_type": "stream",
     "text": [
      "failed\n",
      "failed\n",
      "failed\n",
      "failed\n",
      "failed\n"
     ]
    },
    {
     "name": "stderr",
     "output_type": "stream",
     "text": [
      "2023-05-21 14:36:43,641 - INFO - RuntimeError: Intrinsic 0.05968036200000004. Time 0.111111111. Strike 0.940319638.\n"
     ]
    },
    {
     "name": "stdout",
     "output_type": "stream",
     "text": [
      "failed\n",
      "failed\n"
     ]
    },
    {
     "name": "stderr",
     "output_type": "stream",
     "text": [
      "2023-05-21 14:36:45,701 - INFO - RuntimeError: Intrinsic -0.129322712. Time 0.674603175. Strike 1.129322712.\n"
     ]
    },
    {
     "name": "stdout",
     "output_type": "stream",
     "text": [
      "failed\n",
      "failed\n",
      "failed\n",
      "failed\n",
      "failed\n",
      "failed\n",
      "failed\n",
      "failed\n",
      "failed\n",
      "failed\n",
      "failed\n",
      "failed\n",
      "failed\n"
     ]
    },
    {
     "name": "stderr",
     "output_type": "stream",
     "text": [
      "2023-05-21 14:37:04,255 - INFO - RuntimeError: Intrinsic -0.04832139400000002. Time 0.003968254. Strike 1.048321394.\n"
     ]
    },
    {
     "name": "stdout",
     "output_type": "stream",
     "text": [
      "failed\n",
      "failed\n",
      "failed\n",
      "failed\n",
      "failed\n",
      "failed\n",
      "failed\n",
      "failed\n",
      "failed\n",
      "failed\n"
     ]
    },
    {
     "name": "stderr",
     "output_type": "stream",
     "text": [
      "2023-05-21 14:37:13,742 - INFO - RuntimeError: Intrinsic -0.027190615999999945. Time 0.535873016. Strike 1.027190616.\n"
     ]
    },
    {
     "name": "stdout",
     "output_type": "stream",
     "text": [
      "failed\n",
      "failed\n",
      "failed\n",
      "failed\n",
      "failed\n",
      "failed\n",
      "failed\n",
      "failed\n",
      "failed\n",
      "failed\n",
      "failed\n",
      "failed\n",
      "failed\n",
      "failed\n",
      "failed\n",
      "failed\n",
      "failed\n",
      "failed\n",
      "failed\n"
     ]
    },
    {
     "name": "stderr",
     "output_type": "stream",
     "text": [
      "2023-05-21 14:37:35,506 - INFO - RuntimeError: Intrinsic 0.054984633000000005. Time 0.079365079. Strike 0.945015367.\n"
     ]
    },
    {
     "name": "stdout",
     "output_type": "stream",
     "text": [
      "failed\n",
      "failed\n",
      "failed\n",
      "failed\n"
     ]
    },
    {
     "name": "stderr",
     "output_type": "stream",
     "text": [
      "2023-05-21 14:37:40,522 - INFO - RuntimeError: Intrinsic 0.06320215799999995. Time 0.46047619. Strike 0.936797842.\n"
     ]
    },
    {
     "name": "stdout",
     "output_type": "stream",
     "text": [
      "failed\n"
     ]
    },
    {
     "name": "stderr",
     "output_type": "stream",
     "text": [
      "2023-05-21 14:37:41,041 - INFO - RuntimeError: Intrinsic 0.038549583. Time 0.361269841. Strike 0.961450417.\n"
     ]
    },
    {
     "name": "stdout",
     "output_type": "stream",
     "text": [
      "failed\n"
     ]
    },
    {
     "name": "stderr",
     "output_type": "stream",
     "text": [
      "2023-05-21 14:37:41,777 - INFO - RuntimeError: Intrinsic -0.12697484700000006. Time 0.444444444. Strike 1.126974847.\n"
     ]
    },
    {
     "name": "stdout",
     "output_type": "stream",
     "text": [
      "failed\n",
      "failed\n",
      "failed\n",
      "failed\n",
      "failed\n",
      "failed\n",
      "failed\n",
      "failed\n"
     ]
    },
    {
     "name": "stderr",
     "output_type": "stream",
     "text": [
      "2023-05-21 14:37:53,848 - INFO - RuntimeError: Intrinsic 0.04207137999999999. Time 0.011904762. Strike 0.95792862.\n"
     ]
    },
    {
     "name": "stdout",
     "output_type": "stream",
     "text": [
      "failed\n",
      "failed\n",
      "failed\n",
      "failed\n",
      "failed\n"
     ]
    },
    {
     "name": "stderr",
     "output_type": "stream",
     "text": [
      "2023-05-21 14:37:59,502 - INFO - RuntimeError: Intrinsic 0.023288466000000008. Time 0.075396825. Strike 0.976711534.\n"
     ]
    },
    {
     "name": "stdout",
     "output_type": "stream",
     "text": [
      "failed\n",
      "failed\n",
      "failed\n"
     ]
    },
    {
     "name": "stderr",
     "output_type": "stream",
     "text": [
      "2023-05-21 14:38:05,125 - INFO - RuntimeError: Intrinsic -0.138714169. Time 0.444285714. Strike 1.138714169.\n"
     ]
    },
    {
     "name": "stdout",
     "output_type": "stream",
     "text": [
      "failed\n",
      "failed\n",
      "failed\n",
      "failed\n",
      "failed\n",
      "failed\n"
     ]
    },
    {
     "name": "stderr",
     "output_type": "stream",
     "text": [
      "2023-05-21 14:38:11,482 - INFO - RuntimeError: Intrinsic -0.01662522700000002. Time 0.05952381. Strike 1.016625227.\n",
      "2023-05-21 14:38:11,813 - INFO - RuntimeError: Intrinsic 0.116029104. Time 0.23015873. Strike 0.883970896.\n"
     ]
    },
    {
     "name": "stdout",
     "output_type": "stream",
     "text": [
      "failed\n",
      "failed\n",
      "failed\n",
      "failed\n",
      "failed\n"
     ]
    },
    {
     "name": "stderr",
     "output_type": "stream",
     "text": [
      "2023-05-21 14:38:21,475 - INFO - RuntimeError: Intrinsic -0.056538919000000076. Time 0.376984127. Strike 1.056538919.\n"
     ]
    },
    {
     "name": "stdout",
     "output_type": "stream",
     "text": [
      "failed\n",
      "failed\n",
      "failed\n",
      "failed\n",
      "failed\n",
      "failed\n",
      "failed\n",
      "failed\n",
      "failed\n",
      "failed\n",
      "failed\n",
      "failed\n"
     ]
    },
    {
     "name": "stderr",
     "output_type": "stream",
     "text": [
      "2023-05-21 14:38:33,310 - INFO - RuntimeError: Intrinsic 0.07494147900000003. Time 0.357142857. Strike 0.925058521.\n",
      "2023-05-21 14:38:33,847 - INFO - RuntimeError: Intrinsic -0.006059838000000095. Time 0.099206349. Strike 1.006059838.\n"
     ]
    },
    {
     "name": "stdout",
     "output_type": "stream",
     "text": [
      "failed\n",
      "failed\n"
     ]
    },
    {
     "name": "stderr",
     "output_type": "stream",
     "text": [
      "2023-05-21 14:38:36,130 - INFO - RuntimeError: Intrinsic -0.07884362999999994. Time 0.186507937. Strike 1.07884363.\n"
     ]
    },
    {
     "name": "stdout",
     "output_type": "stream",
     "text": [
      "failed\n",
      "failed\n",
      "failed\n"
     ]
    },
    {
     "name": "stderr",
     "output_type": "stream",
     "text": [
      "2023-05-21 14:38:39,477 - INFO - RuntimeError: Intrinsic 0.05615856500000005. Time 0.051587302. Strike 0.943841435.\n"
     ]
    },
    {
     "name": "stdout",
     "output_type": "stream",
     "text": [
      "failed\n",
      "failed\n",
      "failed\n"
     ]
    },
    {
     "name": "stderr",
     "output_type": "stream",
     "text": [
      "2023-05-21 14:38:44,819 - INFO - RuntimeError: Intrinsic 0.005679483999999957. Time 0.142857143. Strike 0.994320516.\n",
      "2023-05-21 14:38:46,951 - INFO - RuntimeError: Intrinsic -0.035408141000000004. Time 0.015873016. Strike 1.035408141.\n"
     ]
    },
    {
     "name": "stdout",
     "output_type": "stream",
     "text": [
      "0.9536752259018192\n",
      "failed\n",
      "failed\n",
      "failed\n",
      "failed\n",
      "failed\n",
      "failed\n",
      "failed\n",
      "failed\n",
      "failed\n",
      "failed\n",
      "failed\n",
      "failed\n",
      "failed\n",
      "failed\n",
      "failed\n",
      "failed\n",
      "failed\n"
     ]
    },
    {
     "name": "stderr",
     "output_type": "stream",
     "text": [
      "2023-05-21 14:39:17,048 - INFO - RuntimeError: Intrinsic 0.046767107999999946. Time 0.023809524. Strike 0.953232892.\n",
      "2023-05-21 14:39:17,533 - INFO - RuntimeError: Intrinsic 0.009201279999999978. Time 0.047619048. Strike 0.99079872.\n"
     ]
    },
    {
     "name": "stdout",
     "output_type": "stream",
     "text": [
      "failed\n",
      "failed\n",
      "failed\n",
      "failed\n",
      "failed\n",
      "failed\n",
      "failed\n",
      "failed\n",
      "failed\n"
     ]
    },
    {
     "name": "stderr",
     "output_type": "stream",
     "text": [
      "2023-05-21 14:39:26,688 - INFO - RuntimeError: Intrinsic 0.08198507200000005. Time 0.003968254. Strike 0.918014928.\n"
     ]
    },
    {
     "name": "stdout",
     "output_type": "stream",
     "text": [
      "failed\n",
      "failed\n",
      "failed\n",
      "failed\n",
      "failed\n",
      "failed\n",
      "failed\n"
     ]
    },
    {
     "name": "stderr",
     "output_type": "stream",
     "text": [
      "2023-05-21 14:39:32,793 - INFO - RuntimeError: Intrinsic 0.14302954300000004. Time 0.055555556. Strike 0.856970457.\n"
     ]
    },
    {
     "name": "stdout",
     "output_type": "stream",
     "text": [
      "failed\n",
      "failed\n"
     ]
    },
    {
     "name": "stderr",
     "output_type": "stream",
     "text": [
      "2023-05-21 14:39:33,940 - INFO - RuntimeError: Intrinsic 0.14772527199999996. Time 0.206349206. Strike 0.852274728.\n"
     ]
    },
    {
     "name": "stdout",
     "output_type": "stream",
     "text": [
      "failed\n",
      "failed\n",
      "failed\n",
      "failed\n",
      "failed\n",
      "failed\n"
     ]
    },
    {
     "name": "stderr",
     "output_type": "stream",
     "text": [
      "2023-05-21 14:39:44,973 - INFO - RuntimeError: Intrinsic -0.002538040999999991. Time 0.142857143. Strike 1.002538041.\n",
      "2023-05-21 14:39:46,705 - INFO - RuntimeError: Intrinsic 0.0021576869999999637. Time 0.047619048. Strike 0.997842313.\n"
     ]
    },
    {
     "name": "stdout",
     "output_type": "stream",
     "text": [
      "failed\n",
      "failed\n",
      "failed\n",
      "failed\n",
      "failed\n",
      "failed\n",
      "failed\n"
     ]
    },
    {
     "name": "stderr",
     "output_type": "stream",
     "text": [
      "2023-05-21 14:39:51,843 - INFO - RuntimeError: Intrinsic 0.060854293999999975. Time 0.619206349. Strike 0.939145706.\n"
     ]
    },
    {
     "name": "stdout",
     "output_type": "stream",
     "text": [
      "failed\n",
      "failed\n",
      "failed\n",
      "failed\n",
      "failed\n",
      "failed\n",
      "failed\n",
      "failed\n",
      "failed\n",
      "failed\n",
      "failed\n",
      "failed\n",
      "failed\n",
      "failed\n",
      "failed\n",
      "failed\n",
      "failed\n",
      "failed\n",
      "failed\n"
     ]
    },
    {
     "name": "stderr",
     "output_type": "stream",
     "text": [
      "2023-05-21 14:40:10,380 - INFO - RuntimeError: Intrinsic 0.08550686900000004. Time 0.015873016. Strike 0.914493131.\n"
     ]
    },
    {
     "name": "stdout",
     "output_type": "stream",
     "text": [
      "failed\n",
      "failed\n",
      "failed\n",
      "failed\n"
     ]
    },
    {
     "name": "stderr",
     "output_type": "stream",
     "text": [
      "2023-05-21 14:40:13,435 - INFO - RuntimeError: Intrinsic 0.049114973000000006. Time 0.452539683. Strike 0.950885027.\n"
     ]
    },
    {
     "name": "stdout",
     "output_type": "stream",
     "text": [
      "failed\n",
      "failed\n",
      "failed\n",
      "failed\n",
      "failed\n",
      "failed\n",
      "failed\n",
      "failed\n",
      "failed\n",
      "failed\n",
      "failed\n",
      "failed\n",
      "failed\n",
      "failed\n",
      "failed\n",
      "failed\n",
      "failed\n",
      "failed\n",
      "failed\n",
      "failed\n",
      "failed\n"
     ]
    },
    {
     "name": "stderr",
     "output_type": "stream",
     "text": [
      "2023-05-21 14:40:40,555 - INFO - RuntimeError: Intrinsic -0.07766969800000001. Time 0.083333333. Strike 1.077669698.\n"
     ]
    },
    {
     "name": "stdout",
     "output_type": "stream",
     "text": [
      "failed\n",
      "failed\n",
      "failed\n",
      "failed\n",
      "failed\n",
      "failed\n",
      "failed\n",
      "failed\n"
     ]
    },
    {
     "name": "stderr",
     "output_type": "stream",
     "text": [
      "2023-05-21 14:40:49,836 - INFO - RuntimeError: Intrinsic 0.051462836999999984. Time 0.666507937. Strike 0.948537163.\n"
     ]
    },
    {
     "name": "stdout",
     "output_type": "stream",
     "text": [
      "failed\n",
      "failed\n",
      "failed\n"
     ]
    },
    {
     "name": "stderr",
     "output_type": "stream",
     "text": [
      "2023-05-21 14:40:51,670 - INFO - RuntimeError: Intrinsic 0.13129022199999996. Time 0.353174603. Strike 0.868709778.\n",
      "2023-05-21 14:40:52,893 - INFO - RuntimeError: Intrinsic 0.090202597. Time 0.166666667. Strike 0.909797403.\n"
     ]
    },
    {
     "name": "stdout",
     "output_type": "stream",
     "text": [
      "failed\n",
      "failed\n",
      "failed\n",
      "failed\n",
      "failed\n",
      "failed\n",
      "failed\n"
     ]
    },
    {
     "name": "stderr",
     "output_type": "stream",
     "text": [
      "2023-05-21 14:40:58,039 - INFO - RuntimeError: Intrinsic -0.06710430900000008. Time 0.03968254. Strike 1.067104309.\n"
     ]
    },
    {
     "name": "stdout",
     "output_type": "stream",
     "text": [
      "failed\n",
      "failed\n",
      "failed\n",
      "failed\n",
      "failed\n",
      "failed\n",
      "failed\n",
      "failed\n"
     ]
    },
    {
     "name": "stderr",
     "output_type": "stream",
     "text": [
      "2023-05-21 14:41:05,213 - INFO - RuntimeError: Intrinsic 0.03033205800000005. Time 0.678412698. Strike 0.969667942.\n"
     ]
    },
    {
     "name": "stdout",
     "output_type": "stream",
     "text": [
      "failed\n",
      "failed\n"
     ]
    },
    {
     "name": "stderr",
     "output_type": "stream",
     "text": [
      "2023-05-21 14:41:07,799 - INFO - RuntimeError: Intrinsic 0.04089744799999995. Time 0.055555556. Strike 0.959102552.\n"
     ]
    },
    {
     "name": "stdout",
     "output_type": "stream",
     "text": [
      "failed\n",
      "failed\n",
      "failed\n",
      "failed\n",
      "failed\n",
      "failed\n",
      "failed\n",
      "failed\n",
      "failed\n",
      "failed\n",
      "failed\n",
      "failed\n",
      "failed\n"
     ]
    },
    {
     "name": "stderr",
     "output_type": "stream",
     "text": [
      "2023-05-21 14:41:17,541 - INFO - RuntimeError: Intrinsic 0.032679923. Time 0.67047619. Strike 0.967320077.\n"
     ]
    },
    {
     "name": "stdout",
     "output_type": "stream",
     "text": [
      "failed\n"
     ]
    },
    {
     "name": "stderr",
     "output_type": "stream",
     "text": [
      "2023-05-21 14:41:19,253 - INFO - RuntimeError: Intrinsic 0.03033205800000005. Time 0.043650794. Strike 0.969667942.\n"
     ]
    },
    {
     "name": "stdout",
     "output_type": "stream",
     "text": [
      "failed\n",
      "failed\n"
     ]
    },
    {
     "name": "stderr",
     "output_type": "stream",
     "text": [
      "2023-05-21 14:41:22,173 - INFO - RuntimeError: Intrinsic 0.05850643. Time 0.01984127. Strike 0.94149357.\n"
     ]
    },
    {
     "name": "stdout",
     "output_type": "stream",
     "text": [
      "failed\n",
      "failed\n",
      "failed\n",
      "failed\n",
      "failed\n",
      "failed\n"
     ]
    },
    {
     "name": "stderr",
     "output_type": "stream",
     "text": [
      "2023-05-21 14:41:32,266 - INFO - RuntimeError: Intrinsic 0.037375650999999954. Time 0.146825397. Strike 0.962624349.\n"
     ]
    },
    {
     "name": "stdout",
     "output_type": "stream",
     "text": [
      "failed\n",
      "failed\n",
      "failed\n",
      "failed\n",
      "failed\n",
      "failed\n",
      "failed\n"
     ]
    },
    {
     "name": "stderr",
     "output_type": "stream",
     "text": [
      "2023-05-21 14:41:37,132 - INFO - RuntimeError: Intrinsic -0.015451295000000087. Time 0.071428571. Strike 1.015451295.\n"
     ]
    },
    {
     "name": "stdout",
     "output_type": "stream",
     "text": [
      "failed\n",
      "failed\n",
      "failed\n",
      "failed\n"
     ]
    },
    {
     "name": "stderr",
     "output_type": "stream",
     "text": [
      "2023-05-21 14:41:45,618 - INFO - RuntimeError: Intrinsic 0.060854293999999975. Time 0.031746032. Strike 0.939145706.\n"
     ]
    },
    {
     "name": "stdout",
     "output_type": "stream",
     "text": [
      "failed\n",
      "failed\n",
      "failed\n",
      "failed\n"
     ]
    },
    {
     "name": "stderr",
     "output_type": "stream",
     "text": [
      "2023-05-21 14:41:47,820 - INFO - RuntimeError: Intrinsic 0.11015944300000002. Time 0.091269841. Strike 0.889840557.\n",
      "2023-05-21 14:41:49,751 - INFO - RuntimeError: Intrinsic -0.05536498699999992. Time 0.361269841. Strike 1.055364987.\n"
     ]
    },
    {
     "name": "stdout",
     "output_type": "stream",
     "text": [
      "failed\n",
      "failed\n",
      "failed\n",
      "failed\n",
      "failed\n",
      "failed\n",
      "failed\n",
      "failed\n"
     ]
    },
    {
     "name": "stderr",
     "output_type": "stream",
     "text": [
      "2023-05-21 14:41:59,556 - INFO - RuntimeError: Intrinsic 0.05263676900000003. Time 0.035714286. Strike 0.947363231.\n"
     ]
    },
    {
     "name": "stdout",
     "output_type": "stream",
     "text": [
      "failed\n",
      "failed\n",
      "failed\n",
      "failed\n"
     ]
    },
    {
     "name": "stderr",
     "output_type": "stream",
     "text": [
      "2023-05-21 14:42:03,912 - INFO - RuntimeError: Intrinsic -0.05536498699999992. Time 0.25. Strike 1.055364987.\n"
     ]
    },
    {
     "name": "stdout",
     "output_type": "stream",
     "text": [
      "failed\n",
      "failed\n",
      "failed\n",
      "failed\n",
      "failed\n",
      "failed\n",
      "failed\n"
     ]
    },
    {
     "name": "stderr",
     "output_type": "stream",
     "text": [
      "2023-05-21 14:42:11,618 - INFO - RuntimeError: Intrinsic 0.07024575099999997. Time 0.476190476. Strike 0.929754249.\n"
     ]
    },
    {
     "name": "stdout",
     "output_type": "stream",
     "text": [
      "failed\n",
      "failed\n",
      "failed\n",
      "failed\n",
      "failed\n",
      "failed\n",
      "failed\n",
      "failed\n",
      "failed\n",
      "failed\n"
     ]
    },
    {
     "name": "stderr",
     "output_type": "stream",
     "text": [
      "2023-05-21 14:42:24,500 - INFO - RuntimeError: Intrinsic 0.07494147900000003. Time 0.345238095. Strike 0.925058521.\n"
     ]
    },
    {
     "name": "stdout",
     "output_type": "stream",
     "text": [
      "failed\n",
      "failed\n",
      "failed\n",
      "failed\n"
     ]
    },
    {
     "name": "stderr",
     "output_type": "stream",
     "text": [
      "2023-05-21 14:42:27,485 - INFO - RuntimeError: Intrinsic 0.013897009000000016. Time 0.05952381. Strike 0.986102991.\n"
     ]
    },
    {
     "name": "stdout",
     "output_type": "stream",
     "text": [
      "failed\n",
      "failed\n",
      "failed\n"
     ]
    },
    {
     "name": "stderr",
     "output_type": "stream",
     "text": [
      "2023-05-21 14:42:30,354 - INFO - RuntimeError: Intrinsic -0.06006071599999996. Time 0.516031746. Strike 1.060060716.\n"
     ]
    },
    {
     "name": "stdout",
     "output_type": "stream",
     "text": [
      "failed\n",
      "failed\n"
     ]
    }
   ],
   "source": [
    "for i in range(n_samples):\n",
    "    if i%50000 == 0:\n",
    "        print(i/n_samples)\n",
    "    try:\n",
    "        iv = heston_pricer(data_nn['lambda'].iloc[i], data_nn['vbar'].iloc[i], data_nn['eta'].iloc[i], data_nn['rho'].iloc[i], data_nn['v0'].iloc[i], data_nn['rfr'].iloc[i], 0,  data_nn['Time to Maturity (years)'].iloc[i], S0, data_nn['Moneyness'].iloc[i])[1]\n",
    "    except:\n",
    "        print(\"failed\")\n",
    "        iv = np.nan\n",
    "    data_nn['iv'].iloc[i] = iv"
   ]
  },
  {
   "cell_type": "code",
   "execution_count": 65,
   "metadata": {},
   "outputs": [
    {
     "ename": "KeyboardInterrupt",
     "evalue": "",
     "output_type": "error",
     "traceback": [
      "\u001b[1;31m---------------------------------------------------------------------------\u001b[0m",
      "\u001b[1;31mKeyboardInterrupt\u001b[0m                         Traceback (most recent call last)",
      "Cell \u001b[1;32mIn[65], line 2\u001b[0m\n\u001b[0;32m      1\u001b[0m \u001b[39m#use Quantlib Heston pricing to get fast implied vol for all combinations\u001b[39;00m\n\u001b[1;32m----> 2\u001b[0m data_nn[\u001b[39m'\u001b[39m\u001b[39miv\u001b[39m\u001b[39m'\u001b[39m] \u001b[39m=\u001b[39m data_nn\u001b[39m.\u001b[39;49mapply(\u001b[39mlambda\u001b[39;49;00m row: heston_pricer(row[\u001b[39m'\u001b[39;49m\u001b[39mlambda\u001b[39;49m\u001b[39m'\u001b[39;49m], row[\u001b[39m'\u001b[39;49m\u001b[39mvbar\u001b[39;49m\u001b[39m'\u001b[39;49m], row[\u001b[39m'\u001b[39;49m\u001b[39meta\u001b[39;49m\u001b[39m'\u001b[39;49m], \n\u001b[0;32m      3\u001b[0m                                                         row[\u001b[39m'\u001b[39;49m\u001b[39mrho\u001b[39;49m\u001b[39m'\u001b[39;49m], row[\u001b[39m'\u001b[39;49m\u001b[39mv0\u001b[39;49m\u001b[39m'\u001b[39;49m], row[\u001b[39m'\u001b[39;49m\u001b[39mrfr\u001b[39;49m\u001b[39m'\u001b[39;49m], q, \n\u001b[0;32m      4\u001b[0m                                                         row[\u001b[39m'\u001b[39;49m\u001b[39mTime to Maturity (years)\u001b[39;49m\u001b[39m'\u001b[39;49m], S0, row[\u001b[39m'\u001b[39;49m\u001b[39mMoneyness\u001b[39;49m\u001b[39m'\u001b[39;49m])[\u001b[39m1\u001b[39;49m], axis\u001b[39m=\u001b[39;49m\u001b[39m1\u001b[39;49m)\n",
      "File \u001b[1;32mc:\\Users\\caspa\\AppData\\Local\\Programs\\Python\\Python311\\Lib\\site-packages\\pandas\\core\\frame.py:9568\u001b[0m, in \u001b[0;36mDataFrame.apply\u001b[1;34m(self, func, axis, raw, result_type, args, **kwargs)\u001b[0m\n\u001b[0;32m   9557\u001b[0m \u001b[39mfrom\u001b[39;00m \u001b[39mpandas\u001b[39;00m\u001b[39m.\u001b[39;00m\u001b[39mcore\u001b[39;00m\u001b[39m.\u001b[39;00m\u001b[39mapply\u001b[39;00m \u001b[39mimport\u001b[39;00m frame_apply\n\u001b[0;32m   9559\u001b[0m op \u001b[39m=\u001b[39m frame_apply(\n\u001b[0;32m   9560\u001b[0m     \u001b[39mself\u001b[39m,\n\u001b[0;32m   9561\u001b[0m     func\u001b[39m=\u001b[39mfunc,\n\u001b[1;32m   (...)\u001b[0m\n\u001b[0;32m   9566\u001b[0m     kwargs\u001b[39m=\u001b[39mkwargs,\n\u001b[0;32m   9567\u001b[0m )\n\u001b[1;32m-> 9568\u001b[0m \u001b[39mreturn\u001b[39;00m op\u001b[39m.\u001b[39;49mapply()\u001b[39m.\u001b[39m__finalize__(\u001b[39mself\u001b[39m, method\u001b[39m=\u001b[39m\u001b[39m\"\u001b[39m\u001b[39mapply\u001b[39m\u001b[39m\"\u001b[39m)\n",
      "File \u001b[1;32mc:\\Users\\caspa\\AppData\\Local\\Programs\\Python\\Python311\\Lib\\site-packages\\pandas\\core\\apply.py:764\u001b[0m, in \u001b[0;36mFrameApply.apply\u001b[1;34m(self)\u001b[0m\n\u001b[0;32m    761\u001b[0m \u001b[39melif\u001b[39;00m \u001b[39mself\u001b[39m\u001b[39m.\u001b[39mraw:\n\u001b[0;32m    762\u001b[0m     \u001b[39mreturn\u001b[39;00m \u001b[39mself\u001b[39m\u001b[39m.\u001b[39mapply_raw()\n\u001b[1;32m--> 764\u001b[0m \u001b[39mreturn\u001b[39;00m \u001b[39mself\u001b[39;49m\u001b[39m.\u001b[39;49mapply_standard()\n",
      "File \u001b[1;32mc:\\Users\\caspa\\AppData\\Local\\Programs\\Python\\Python311\\Lib\\site-packages\\pandas\\core\\apply.py:891\u001b[0m, in \u001b[0;36mFrameApply.apply_standard\u001b[1;34m(self)\u001b[0m\n\u001b[0;32m    890\u001b[0m \u001b[39mdef\u001b[39;00m \u001b[39mapply_standard\u001b[39m(\u001b[39mself\u001b[39m):\n\u001b[1;32m--> 891\u001b[0m     results, res_index \u001b[39m=\u001b[39m \u001b[39mself\u001b[39;49m\u001b[39m.\u001b[39;49mapply_series_generator()\n\u001b[0;32m    893\u001b[0m     \u001b[39m# wrap results\u001b[39;00m\n\u001b[0;32m    894\u001b[0m     \u001b[39mreturn\u001b[39;00m \u001b[39mself\u001b[39m\u001b[39m.\u001b[39mwrap_results(results, res_index)\n",
      "File \u001b[1;32mc:\\Users\\caspa\\AppData\\Local\\Programs\\Python\\Python311\\Lib\\site-packages\\pandas\\core\\apply.py:907\u001b[0m, in \u001b[0;36mFrameApply.apply_series_generator\u001b[1;34m(self)\u001b[0m\n\u001b[0;32m    904\u001b[0m \u001b[39mwith\u001b[39;00m option_context(\u001b[39m\"\u001b[39m\u001b[39mmode.chained_assignment\u001b[39m\u001b[39m\"\u001b[39m, \u001b[39mNone\u001b[39;00m):\n\u001b[0;32m    905\u001b[0m     \u001b[39mfor\u001b[39;00m i, v \u001b[39min\u001b[39;00m \u001b[39menumerate\u001b[39m(series_gen):\n\u001b[0;32m    906\u001b[0m         \u001b[39m# ignore SettingWithCopy here in case the user mutates\u001b[39;00m\n\u001b[1;32m--> 907\u001b[0m         results[i] \u001b[39m=\u001b[39m \u001b[39mself\u001b[39;49m\u001b[39m.\u001b[39;49mf(v)\n\u001b[0;32m    908\u001b[0m         \u001b[39mif\u001b[39;00m \u001b[39misinstance\u001b[39m(results[i], ABCSeries):\n\u001b[0;32m    909\u001b[0m             \u001b[39m# If we have a view on v, we need to make a copy because\u001b[39;00m\n\u001b[0;32m    910\u001b[0m             \u001b[39m#  series_generator will swap out the underlying data\u001b[39;00m\n\u001b[0;32m    911\u001b[0m             results[i] \u001b[39m=\u001b[39m results[i]\u001b[39m.\u001b[39mcopy(deep\u001b[39m=\u001b[39m\u001b[39mFalse\u001b[39;00m)\n",
      "Cell \u001b[1;32mIn[65], line 2\u001b[0m, in \u001b[0;36m<lambda>\u001b[1;34m(row)\u001b[0m\n\u001b[0;32m      1\u001b[0m \u001b[39m#use Quantlib Heston pricing to get fast implied vol for all combinations\u001b[39;00m\n\u001b[1;32m----> 2\u001b[0m data_nn[\u001b[39m'\u001b[39m\u001b[39miv\u001b[39m\u001b[39m'\u001b[39m] \u001b[39m=\u001b[39m data_nn\u001b[39m.\u001b[39mapply(\u001b[39mlambda\u001b[39;00m row: heston_pricer(row[\u001b[39m'\u001b[39;49m\u001b[39mlambda\u001b[39;49m\u001b[39m'\u001b[39;49m], row[\u001b[39m'\u001b[39;49m\u001b[39mvbar\u001b[39;49m\u001b[39m'\u001b[39;49m], row[\u001b[39m'\u001b[39;49m\u001b[39meta\u001b[39;49m\u001b[39m'\u001b[39;49m], \n\u001b[0;32m      3\u001b[0m                                                         row[\u001b[39m'\u001b[39;49m\u001b[39mrho\u001b[39;49m\u001b[39m'\u001b[39;49m], row[\u001b[39m'\u001b[39;49m\u001b[39mv0\u001b[39;49m\u001b[39m'\u001b[39;49m], row[\u001b[39m'\u001b[39;49m\u001b[39mrfr\u001b[39;49m\u001b[39m'\u001b[39;49m], q, \n\u001b[0;32m      4\u001b[0m                                                         row[\u001b[39m'\u001b[39;49m\u001b[39mTime to Maturity (years)\u001b[39;49m\u001b[39m'\u001b[39;49m], S0, row[\u001b[39m'\u001b[39;49m\u001b[39mMoneyness\u001b[39;49m\u001b[39m'\u001b[39;49m])[\u001b[39m1\u001b[39m], axis\u001b[39m=\u001b[39m\u001b[39m1\u001b[39m)\n",
      "File \u001b[1;32mc:\\Users\\caspa\\OneDrive\\Dokumente\\UNI\\THESIS\\code\\my\\utils.py:58\u001b[0m, in \u001b[0;36mheston_pricer\u001b[1;34m(lambd, vbar, eta, rho, v0, r, q, tau, S0, K)\u001b[0m\n\u001b[0;32m     56\u001b[0m         logging\u001b[39m.\u001b[39mdebug(\u001b[39m\"\u001b[39m\u001b[39mNumStabProblem: Price \u001b[39m\u001b[39m{}\u001b[39;00m\u001b[39m. Intrinsic \u001b[39m\u001b[39m{}\u001b[39;00m\u001b[39m. Time \u001b[39m\u001b[39m{}\u001b[39;00m\u001b[39m. Strike \u001b[39m\u001b[39m{}\u001b[39;00m\u001b[39m.\u001b[39m\u001b[39m\"\u001b[39m\u001b[39m.\u001b[39mformat(price, S0\u001b[39m-\u001b[39mK, tau, K))\n\u001b[0;32m     57\u001b[0m     \u001b[39melse\u001b[39;00m:\n\u001b[1;32m---> 58\u001b[0m         logging\u001b[39m.\u001b[39mdebug(\u001b[39m\"\u001b[39;49m\u001b[39mSuccess: Price \u001b[39;49m\u001b[39m{}\u001b[39;49;00m\u001b[39m > intrinsic \u001b[39;49m\u001b[39m{}\u001b[39;49;00m\u001b[39m\"\u001b[39;49m\u001b[39m.\u001b[39;49mformat(price, S0\u001b[39m-\u001b[39;49mK))\n\u001b[0;32m     59\u001b[0m         iv \u001b[39m=\u001b[39m implied_volatility(price, S0, K, tau, r, \u001b[39m'\u001b[39m\u001b[39mc\u001b[39m\u001b[39m'\u001b[39m)\n\u001b[0;32m     60\u001b[0m \u001b[39mexcept\u001b[39;00m \u001b[39mRuntimeError\u001b[39;00m:\n",
      "\u001b[1;31mKeyboardInterrupt\u001b[0m: "
     ]
    }
   ],
   "source": [
    "#use Quantlib Heston pricing to get fast implied vol for all combinations\n",
    "data_nn['iv'] = data_nn.apply(lambda row: heston_pricer(row['lambda'], row['vbar'], row['eta'], \n",
    "                                                        row['rho'], row['v0'], row['rfr'], q, \n",
    "                                                        row['Time to Maturity (years)'], S0, row['Moneyness'])[1], axis=1)"
   ]
  },
  {
   "cell_type": "code",
   "execution_count": 17,
   "metadata": {},
   "outputs": [
    {
     "data": {
      "text/plain": [
       "(1048575, 9)"
      ]
     },
     "execution_count": 17,
     "metadata": {},
     "output_type": "execute_result"
    }
   ],
   "source": [
    "data_nn.shape"
   ]
  },
  {
   "cell_type": "code",
   "execution_count": 18,
   "metadata": {},
   "outputs": [],
   "source": [
    "#some evaluations might fail, remove them\n",
    "data_nn.dropna(inplace=True)"
   ]
  },
  {
   "cell_type": "code",
   "execution_count": 19,
   "metadata": {},
   "outputs": [
    {
     "data": {
      "text/plain": [
       "(1043945, 9)"
      ]
     },
     "execution_count": 19,
     "metadata": {},
     "output_type": "execute_result"
    }
   ],
   "source": [
    "data_nn.shape"
   ]
  },
  {
   "cell_type": "code",
   "execution_count": 21,
   "metadata": {},
   "outputs": [],
   "source": [
    "#save data\n",
    "data_nn.to_csv(\"heston_data_training_with_rfr.csv\")"
   ]
  }
 ],
 "metadata": {
  "kernelspec": {
   "display_name": "Python 3",
   "language": "python",
   "name": "python3"
  },
  "language_info": {
   "codemirror_mode": {
    "name": "ipython",
    "version": 3
   },
   "file_extension": ".py",
   "mimetype": "text/x-python",
   "name": "python",
   "nbconvert_exporter": "python",
   "pygments_lexer": "ipython3",
   "version": "3.11.1"
  },
  "orig_nbformat": 4
 },
 "nbformat": 4,
 "nbformat_minor": 2
}
